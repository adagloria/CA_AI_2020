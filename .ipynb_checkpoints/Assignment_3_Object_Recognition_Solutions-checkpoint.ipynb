{
 "cells": [
  {
   "cell_type": "markdown",
   "metadata": {},
   "source": [
    "\n",
    "# Assignment 3: Object Recognition & Modeling\n",
    "_____________"
   ]
  },
  {
   "cell_type": "markdown",
   "metadata": {},
   "source": [
    "## Mechanics & Notes (Important)\n",
    "______________________________________________\n",
    "\n",
    "1. Wherever you are required to produce code, you should use **code cells and comments (for clarity)**. Use **markdown cells to report results and explain your answers** only. Note: everything should fit within this notebook file, this should be the only file submitted.\n",
    "\n",
    "\n",
    "2. The .csv files that you will be using are located at `./data` (the `data` directory is adjacent to this file).\n",
    "\n",
    "\n",
    "3. **Keep your answers brief and concise**. Most written questions can be answered with 2-3 lines of explanation. \n",
    "\n",
    "\n",
    "4. Fill out this notebook, save (rename) it as ***`Assignment_4_Feature_Engineering_PCA_Clustering_PovilasPazera.ipynb`*** (use your name), and **submit the coursework by e-mailing the file to `pazerap@gmail.com`.** \n",
    "\n",
    "\n",
    "5. The **deadline for the coursework is in 2 weeks, July 29th.** I will not mark and/or give feedback for any delayed solutions, so make sure to submit it before this data even if it has parts missing."
   ]
  },
  {
   "cell_type": "markdown",
   "metadata": {},
   "source": [
    "## Marking Breakdown\n",
    "___________________________\n",
    "- **70-100% (A)** results/answer correct plus extra achievement at understanding or analysis of results. Clear explanations, evidence of creative or deeper thought will contribute to a higher grade.\n",
    "\n",
    "\n",
    "- **60-69%  (B)** results/answer correct or nearly correct and well explained.\n",
    "\n",
    "\n",
    "- **50-59%  (C)** results/answer in right direction but significant errors.\n",
    "\n",
    "\n",
    "- **40-49%  (D)** some evidence that the student has gained some understanding, but not answered the questions\n",
    "properly.\n",
    "\n",
    "\n",
    "- **0-39%   (E)** serious error or slack work."
   ]
  },
  {
   "cell_type": "markdown",
   "metadata": {},
   "source": [
    "## Imports\n",
    "______________________\n",
    "In this assignment you are asked to import all the packages and modules you will need. Include all required imports and execute the cell below."
   ]
  },
  {
   "cell_type": "code",
   "execution_count": 5,
   "metadata": {},
   "outputs": [],
   "source": [
    "import os\n",
    "import numpy as np \n",
    "import pandas as pd\n",
    "import matplotlib.pyplot as plt\n",
    "import seaborn as sns\n",
    "from sklearn.dummy import DummyClassifier\n",
    "from sklearn.linear_model import LogisticRegression, LogisticRegressionCV, SGDClassifier\n",
    "from sklearn import preprocessing\n",
    "from sklearn.model_selection import KFold, cross_val_predict, cross_val_score\n",
    "from sklearn import metrics\n",
    "from sklearn.metrics import accuracy_score, log_loss, confusion_matrix\n",
    "from sklearn.ensemble import RandomForestClassifier, VotingClassifier\n",
    "from sklearn.calibration import CalibratedClassifierCV\n",
    "from sklearn.svm import LinearSVC, SVC\n",
    "from sklearn.neighbors import KNeighborsClassifier\n",
    "import matplotlib.patches as mpatches\n",
    "import itertools\n",
    "%matplotlib inline"
   ]
  },
  {
   "cell_type": "markdown",
   "metadata": {},
   "source": [
    "## Dataset\n",
    "_________________\n",
    "In this assignment our goal is to recognize objects in images of realistic scenes. There are 19 different classes of object e.g. person, dog, cat, car, etc. The dataset derives from several thousands photographs harvested from the web. Each object of a relevant class has been manually annotated with a bounding box. Images can contain none, one or multiple objects of each class. We have prepared a [website](http://www.inf.ed.ac.uk/teaching/courses/iaml/2014/assts/asst3/images.html) where you can view the images.\n",
    "\n",
    "We are going to detect whether images contain a person or not - a binary classification problem. To save you time and to make the problem manageable with limited computational resources, we have preprocessed the dataset. We will use the [Bag of Visual Words](https://en.wikipedia.org/wiki/Bag-of-words_model_in_computer_vision) representation. Each column of the dataset (which is not an lable), refers to a 'visual word'. Each image is represented by a 500 dimensional vector that contains the normalized count for each of 500 different visual words present in the respective image (a similar representation is used for the spambase dataset, just for real words). See the Appendix at the bottom of the notebook for more information. The image data is thus a $N \\times 500$ dimensional matrix where `N` is the number of images.\n",
    "\n",
    "The full dataset has 520 attributes (dimensions). The first attribute (`imgID`) contains the image ID which allows you to associate a data point with an actual image. The next 500 attributes (`dim1`, ..., `dim500`) are a normalized count vector for each visual word. The last 19 attributes (`is_class`) are the labels - 1 means the class is present in the image. In most of the experiments (unless explicitly noted otherwise) you will only need the `is_person` attribute and the 500 dimensional feature vector. **Do not use the additional class indicator attributes as features** unless explicitly told to do so. \n",
    "\n",
    "In Part A we provide you with a training (`train_images partA.csv`) and a validation (`valid_images partA .csv`) dataset. In Part B we provide three data sets: a training set (`train_images partB.csv`), a validation set (`valid_images partB.csv`), and a test set (`test_images partB.csv`). The training and validation set contain valid labels. In the test set the labels are missing. The files are available from the GitHub repository. \n",
    "\n",
    "**Important**: *Throughout the assignment you will be given various versions of the dataset that are relevant\n",
    "to a particular question. Please be careful to use the correct version of the dataset when instructed to do so.\n",
    "If you use the wrong version of the dataset by mistake no marks will be awarded.*"
   ]
  },
  {
   "cell_type": "markdown",
   "metadata": {},
   "source": [
    "## 1. Exploration of the dataset [70%]\n",
    "_______________________"
   ]
  },
  {
   "cell_type": "markdown",
   "metadata": {},
   "source": [
    "### ========== Question 1.1 --- [1 mark] ==========\n",
    "Create two Pandas DataFrame objects called `train_A` and `valid_A` by loading the datasets `train_images_partA.csv` and `valid_images_partA.csv`. Display the number of data points and attributes in each of the two datasets."
   ]
  },
  {
   "cell_type": "code",
   "execution_count": 17,
   "metadata": {},
   "outputs": [
    {
     "name": "stdout",
     "output_type": "stream",
     "text": [
      "Train A number of instances: 2093, number of attributes: 520\n",
      "Valid A number of instances: 1113, number of attributes: 520\n"
     ]
    }
   ],
   "source": [
    "data_path_train = os.path.join(os.getcwd(), 'datasets', 'train_images_partA.csv')\n",
    "data_path_valid = os.path.join(os.getcwd(), 'datasets', 'valid_images_partA.csv')\n",
    "train_A = pd.read_csv(data_path_train, delimiter = ',')\n",
    "valid_A = pd.read_csv(data_path_valid, delimiter = ',')\n",
    "print('Train A number of instances: {}, number of attributes: {}'.format(train_A.shape[0], train_A.shape[1]))\n",
    "print('Valid A number of instances: {}, number of attributes: {}'.format(valid_A.shape[0], valid_A.shape[1]))"
   ]
  },
  {
   "cell_type": "markdown",
   "metadata": {},
   "source": [
    "### ========== Question 1.2 --- [1 mark] ==========\n",
    "Display and inspect the first 10 instances in the training dataset."
   ]
  },
  {
   "cell_type": "code",
   "execution_count": 18,
   "metadata": {},
   "outputs": [
    {
     "data": {
      "text/html": [
       "<div>\n",
       "<style>\n",
       "    .dataframe thead tr:only-child th {\n",
       "        text-align: right;\n",
       "    }\n",
       "\n",
       "    .dataframe thead th {\n",
       "        text-align: left;\n",
       "    }\n",
       "\n",
       "    .dataframe tbody tr th {\n",
       "        vertical-align: top;\n",
       "    }\n",
       "</style>\n",
       "<table border=\"1\" class=\"dataframe\">\n",
       "  <thead>\n",
       "    <tr style=\"text-align: right;\">\n",
       "      <th></th>\n",
       "      <th>imgId</th>\n",
       "      <th>dim1</th>\n",
       "      <th>dim2</th>\n",
       "      <th>dim3</th>\n",
       "      <th>dim4</th>\n",
       "      <th>dim5</th>\n",
       "      <th>dim6</th>\n",
       "      <th>dim7</th>\n",
       "      <th>dim8</th>\n",
       "      <th>dim9</th>\n",
       "      <th>...</th>\n",
       "      <th>is_cow</th>\n",
       "      <th>is_diningtable</th>\n",
       "      <th>is_dog</th>\n",
       "      <th>is_horse</th>\n",
       "      <th>is_motorbike</th>\n",
       "      <th>is_person</th>\n",
       "      <th>is_pottedplant</th>\n",
       "      <th>is_sheep</th>\n",
       "      <th>is_sofa</th>\n",
       "      <th>is_tvmonitor</th>\n",
       "    </tr>\n",
       "  </thead>\n",
       "  <tbody>\n",
       "    <tr>\n",
       "      <th>0</th>\n",
       "      <td>2008_000008</td>\n",
       "      <td>0.002232</td>\n",
       "      <td>0.000558</td>\n",
       "      <td>0.002790</td>\n",
       "      <td>0.000837</td>\n",
       "      <td>0.001674</td>\n",
       "      <td>0.001953</td>\n",
       "      <td>0.001395</td>\n",
       "      <td>0.002232</td>\n",
       "      <td>0.003627</td>\n",
       "      <td>...</td>\n",
       "      <td>0</td>\n",
       "      <td>0</td>\n",
       "      <td>0</td>\n",
       "      <td>1</td>\n",
       "      <td>0</td>\n",
       "      <td>1</td>\n",
       "      <td>0</td>\n",
       "      <td>0</td>\n",
       "      <td>0</td>\n",
       "      <td>0</td>\n",
       "    </tr>\n",
       "    <tr>\n",
       "      <th>1</th>\n",
       "      <td>2008_000015</td>\n",
       "      <td>0.001563</td>\n",
       "      <td>0.000391</td>\n",
       "      <td>0.007422</td>\n",
       "      <td>0.003516</td>\n",
       "      <td>0.003906</td>\n",
       "      <td>0.005078</td>\n",
       "      <td>0.001953</td>\n",
       "      <td>0.002344</td>\n",
       "      <td>0.001953</td>\n",
       "      <td>...</td>\n",
       "      <td>0</td>\n",
       "      <td>0</td>\n",
       "      <td>0</td>\n",
       "      <td>0</td>\n",
       "      <td>0</td>\n",
       "      <td>0</td>\n",
       "      <td>0</td>\n",
       "      <td>0</td>\n",
       "      <td>0</td>\n",
       "      <td>0</td>\n",
       "    </tr>\n",
       "    <tr>\n",
       "      <th>2</th>\n",
       "      <td>2008_000019</td>\n",
       "      <td>0.000521</td>\n",
       "      <td>0.000000</td>\n",
       "      <td>0.000000</td>\n",
       "      <td>0.001042</td>\n",
       "      <td>0.001563</td>\n",
       "      <td>0.005729</td>\n",
       "      <td>0.000521</td>\n",
       "      <td>0.002083</td>\n",
       "      <td>0.003646</td>\n",
       "      <td>...</td>\n",
       "      <td>0</td>\n",
       "      <td>0</td>\n",
       "      <td>1</td>\n",
       "      <td>0</td>\n",
       "      <td>0</td>\n",
       "      <td>0</td>\n",
       "      <td>0</td>\n",
       "      <td>0</td>\n",
       "      <td>0</td>\n",
       "      <td>0</td>\n",
       "    </tr>\n",
       "    <tr>\n",
       "      <th>3</th>\n",
       "      <td>2008_000023</td>\n",
       "      <td>0.002976</td>\n",
       "      <td>0.002232</td>\n",
       "      <td>0.004464</td>\n",
       "      <td>0.000372</td>\n",
       "      <td>0.000372</td>\n",
       "      <td>0.002232</td>\n",
       "      <td>0.000000</td>\n",
       "      <td>0.003720</td>\n",
       "      <td>0.000000</td>\n",
       "      <td>...</td>\n",
       "      <td>0</td>\n",
       "      <td>0</td>\n",
       "      <td>0</td>\n",
       "      <td>0</td>\n",
       "      <td>0</td>\n",
       "      <td>1</td>\n",
       "      <td>0</td>\n",
       "      <td>0</td>\n",
       "      <td>0</td>\n",
       "      <td>1</td>\n",
       "    </tr>\n",
       "    <tr>\n",
       "      <th>4</th>\n",
       "      <td>2008_000028</td>\n",
       "      <td>0.001359</td>\n",
       "      <td>0.000340</td>\n",
       "      <td>0.001359</td>\n",
       "      <td>0.000340</td>\n",
       "      <td>0.001359</td>\n",
       "      <td>0.002038</td>\n",
       "      <td>0.002378</td>\n",
       "      <td>0.000000</td>\n",
       "      <td>0.003397</td>\n",
       "      <td>...</td>\n",
       "      <td>0</td>\n",
       "      <td>0</td>\n",
       "      <td>0</td>\n",
       "      <td>0</td>\n",
       "      <td>0</td>\n",
       "      <td>0</td>\n",
       "      <td>0</td>\n",
       "      <td>0</td>\n",
       "      <td>0</td>\n",
       "      <td>0</td>\n",
       "    </tr>\n",
       "    <tr>\n",
       "      <th>5</th>\n",
       "      <td>2008_000033</td>\n",
       "      <td>0.000000</td>\n",
       "      <td>0.006324</td>\n",
       "      <td>0.000372</td>\n",
       "      <td>0.000372</td>\n",
       "      <td>0.000372</td>\n",
       "      <td>0.000372</td>\n",
       "      <td>0.000744</td>\n",
       "      <td>0.008185</td>\n",
       "      <td>0.000372</td>\n",
       "      <td>...</td>\n",
       "      <td>0</td>\n",
       "      <td>0</td>\n",
       "      <td>0</td>\n",
       "      <td>0</td>\n",
       "      <td>0</td>\n",
       "      <td>0</td>\n",
       "      <td>0</td>\n",
       "      <td>0</td>\n",
       "      <td>0</td>\n",
       "      <td>0</td>\n",
       "    </tr>\n",
       "    <tr>\n",
       "      <th>6</th>\n",
       "      <td>2008_000036</td>\n",
       "      <td>0.000340</td>\n",
       "      <td>0.000000</td>\n",
       "      <td>0.004416</td>\n",
       "      <td>0.000340</td>\n",
       "      <td>0.000679</td>\n",
       "      <td>0.006114</td>\n",
       "      <td>0.001359</td>\n",
       "      <td>0.002717</td>\n",
       "      <td>0.003057</td>\n",
       "      <td>...</td>\n",
       "      <td>0</td>\n",
       "      <td>0</td>\n",
       "      <td>0</td>\n",
       "      <td>0</td>\n",
       "      <td>0</td>\n",
       "      <td>1</td>\n",
       "      <td>0</td>\n",
       "      <td>0</td>\n",
       "      <td>0</td>\n",
       "      <td>0</td>\n",
       "    </tr>\n",
       "    <tr>\n",
       "      <th>7</th>\n",
       "      <td>2008_000037</td>\n",
       "      <td>0.000837</td>\n",
       "      <td>0.002232</td>\n",
       "      <td>0.000279</td>\n",
       "      <td>0.000279</td>\n",
       "      <td>0.000837</td>\n",
       "      <td>0.000000</td>\n",
       "      <td>0.000279</td>\n",
       "      <td>0.006696</td>\n",
       "      <td>0.000000</td>\n",
       "      <td>...</td>\n",
       "      <td>0</td>\n",
       "      <td>0</td>\n",
       "      <td>0</td>\n",
       "      <td>0</td>\n",
       "      <td>0</td>\n",
       "      <td>0</td>\n",
       "      <td>0</td>\n",
       "      <td>0</td>\n",
       "      <td>0</td>\n",
       "      <td>0</td>\n",
       "    </tr>\n",
       "    <tr>\n",
       "      <th>8</th>\n",
       "      <td>2008_000041</td>\n",
       "      <td>0.002378</td>\n",
       "      <td>0.001359</td>\n",
       "      <td>0.004755</td>\n",
       "      <td>0.001019</td>\n",
       "      <td>0.003736</td>\n",
       "      <td>0.001359</td>\n",
       "      <td>0.001019</td>\n",
       "      <td>0.004076</td>\n",
       "      <td>0.003397</td>\n",
       "      <td>...</td>\n",
       "      <td>0</td>\n",
       "      <td>1</td>\n",
       "      <td>0</td>\n",
       "      <td>0</td>\n",
       "      <td>0</td>\n",
       "      <td>1</td>\n",
       "      <td>0</td>\n",
       "      <td>0</td>\n",
       "      <td>0</td>\n",
       "      <td>0</td>\n",
       "    </tr>\n",
       "    <tr>\n",
       "      <th>9</th>\n",
       "      <td>2008_000045</td>\n",
       "      <td>0.001019</td>\n",
       "      <td>0.000340</td>\n",
       "      <td>0.006454</td>\n",
       "      <td>0.001698</td>\n",
       "      <td>0.001359</td>\n",
       "      <td>0.003736</td>\n",
       "      <td>0.000000</td>\n",
       "      <td>0.004076</td>\n",
       "      <td>0.000000</td>\n",
       "      <td>...</td>\n",
       "      <td>0</td>\n",
       "      <td>0</td>\n",
       "      <td>0</td>\n",
       "      <td>0</td>\n",
       "      <td>0</td>\n",
       "      <td>0</td>\n",
       "      <td>0</td>\n",
       "      <td>0</td>\n",
       "      <td>0</td>\n",
       "      <td>0</td>\n",
       "    </tr>\n",
       "  </tbody>\n",
       "</table>\n",
       "<p>10 rows × 520 columns</p>\n",
       "</div>"
      ],
      "text/plain": [
       "         imgId      dim1      dim2      dim3      dim4      dim5      dim6  \\\n",
       "0  2008_000008  0.002232  0.000558  0.002790  0.000837  0.001674  0.001953   \n",
       "1  2008_000015  0.001563  0.000391  0.007422  0.003516  0.003906  0.005078   \n",
       "2  2008_000019  0.000521  0.000000  0.000000  0.001042  0.001563  0.005729   \n",
       "3  2008_000023  0.002976  0.002232  0.004464  0.000372  0.000372  0.002232   \n",
       "4  2008_000028  0.001359  0.000340  0.001359  0.000340  0.001359  0.002038   \n",
       "5  2008_000033  0.000000  0.006324  0.000372  0.000372  0.000372  0.000372   \n",
       "6  2008_000036  0.000340  0.000000  0.004416  0.000340  0.000679  0.006114   \n",
       "7  2008_000037  0.000837  0.002232  0.000279  0.000279  0.000837  0.000000   \n",
       "8  2008_000041  0.002378  0.001359  0.004755  0.001019  0.003736  0.001359   \n",
       "9  2008_000045  0.001019  0.000340  0.006454  0.001698  0.001359  0.003736   \n",
       "\n",
       "       dim7      dim8      dim9      ...       is_cow  is_diningtable  is_dog  \\\n",
       "0  0.001395  0.002232  0.003627      ...            0               0       0   \n",
       "1  0.001953  0.002344  0.001953      ...            0               0       0   \n",
       "2  0.000521  0.002083  0.003646      ...            0               0       1   \n",
       "3  0.000000  0.003720  0.000000      ...            0               0       0   \n",
       "4  0.002378  0.000000  0.003397      ...            0               0       0   \n",
       "5  0.000744  0.008185  0.000372      ...            0               0       0   \n",
       "6  0.001359  0.002717  0.003057      ...            0               0       0   \n",
       "7  0.000279  0.006696  0.000000      ...            0               0       0   \n",
       "8  0.001019  0.004076  0.003397      ...            0               1       0   \n",
       "9  0.000000  0.004076  0.000000      ...            0               0       0   \n",
       "\n",
       "   is_horse  is_motorbike  is_person  is_pottedplant  is_sheep  is_sofa  \\\n",
       "0         1             0          1               0         0        0   \n",
       "1         0             0          0               0         0        0   \n",
       "2         0             0          0               0         0        0   \n",
       "3         0             0          1               0         0        0   \n",
       "4         0             0          0               0         0        0   \n",
       "5         0             0          0               0         0        0   \n",
       "6         0             0          1               0         0        0   \n",
       "7         0             0          0               0         0        0   \n",
       "8         0             0          1               0         0        0   \n",
       "9         0             0          0               0         0        0   \n",
       "\n",
       "   is_tvmonitor  \n",
       "0             0  \n",
       "1             0  \n",
       "2             0  \n",
       "3             1  \n",
       "4             0  \n",
       "5             0  \n",
       "6             0  \n",
       "7             0  \n",
       "8             0  \n",
       "9             0  \n",
       "\n",
       "[10 rows x 520 columns]"
      ]
     },
     "execution_count": 18,
     "metadata": {},
     "output_type": "execute_result"
    }
   ],
   "source": [
    "train_A.head(10)"
   ]
  },
  {
   "cell_type": "markdown",
   "metadata": {},
   "source": [
    "### ========== Question 1.3 --- [1 mark] ==========\n",
    "Select the attributes (i.e. input features) for training our classifiers. These should be the visual word normalised counts `dim1, dim2, ..., dim500`. Create a list of the **names** of the attributes of interest. "
   ]
  },
  {
   "cell_type": "code",
   "execution_count": 19,
   "metadata": {
    "collapsed": true
   },
   "outputs": [],
   "source": [
    "attribute_names = list(train_A)[1:501]"
   ]
  },
  {
   "cell_type": "markdown",
   "metadata": {},
   "source": [
    "### ========== Question 1.4 --- [1 mark] ==========\n",
    "By using the list from Question 1.3 now create 4 numpy arrays `X_tr`, `X_val`, `y_tr` and `y_val` in which to store the training features, validation features, training targets, and validation targets, respectively. Your target vectors should correspond to the `is_person` attribute of the training and validation sets. Display the dimensionalities (i.e shapes) of the 4 arrays. "
   ]
  },
  {
   "cell_type": "code",
   "execution_count": 20,
   "metadata": {},
   "outputs": [
    {
     "name": "stdout",
     "output_type": "stream",
     "text": [
      "The dimensionality of the X_tr  is: (2093, 500)\n",
      "The dimensionality of the y_tr  is: (2093,)\n",
      "The dimensionality of the X_val is: (1113, 500)\n",
      "The dimensionality of the y_val is: (1113,)\n"
     ]
    }
   ],
   "source": [
    "X_tr = train_A[attribute_names]\n",
    "X_val = valid_A[attribute_names]\n",
    "y_tr = train_A['is_person']\n",
    "y_val = valid_A['is_person']\n",
    "\n",
    "print (\"The dimensionality of the X_tr  is: {}\".format(X_tr.shape))\n",
    "print (\"The dimensionality of the y_tr  is: {}\".format(y_tr.shape))\n",
    "print (\"The dimensionality of the X_val is: {}\".format(X_val.shape))\n",
    "print (\"The dimensionality of the y_val is: {}\".format(y_val.shape))"
   ]
  },
  {
   "cell_type": "markdown",
   "metadata": {},
   "source": [
    "### ========== Question 1.5 --- [2 marks] ==========\n",
    "Create a [countplots](https://seaborn.github.io/generated/seaborn.countplot.html?highlight=countplot#seaborn.countplot) for the training and validation targets. Create a single figure, and put the two plots inside the single figure. Label axes appropriately and add a title to your plot. Use descriptive `xticklabels` instead of the default numeric ones."
   ]
  },
  {
   "cell_type": "code",
   "execution_count": 21,
   "metadata": {},
   "outputs": [
    {
     "data": {
      "image/png": "[encoded data removed]",
      "text/plain": [
       "<matplotlib.figure.Figure at 0x7fa2de983ed0>"
      ]
     },
     "metadata": {},
     "output_type": "display_data"
    }
   ],
   "source": [
    "# Shows all plots in one figure\n",
    "fig, ax =plt.subplots(1,2, sharey = True)\n",
    "sns.countplot(y_tr, ax=ax[0])\n",
    "sns.countplot(y_val, ax=ax[1])\n",
    "\n",
    "labels = [item.get_text() for item in ax[0].get_xticklabels()]\n",
    "labels[0] = 'Non-person'\n",
    "labels[1] = 'Person'\n",
    "ax[0].set_xticklabels(labels)\n",
    "\n",
    "labels = [item.get_text() for item in ax[1].get_xticklabels()]\n",
    "labels[0] = 'Non-person'\n",
    "labels[1] = 'Person'\n",
    "ax[1].set_xticklabels(labels)\n",
    "                      \n",
    "ax[0].title.set_text('Train targets')\n",
    "ax[1].title.set_text('Valid targets')"
   ]
  },
  {
   "cell_type": "markdown",
   "metadata": {},
   "source": [
    "### ========== Question 1.6 --- [1 mark] ==========\n",
    "We want to make a baseline classification accuracy to beat. Pick a baseline \"dummy\" classifier, describe in a sentence why you chose it, and report the accuracy it achieves on the validation set?"
   ]
  },
  {
   "cell_type": "markdown",
   "metadata": {},
   "source": [
    "*Since there are more 'non-person' datapoints in both training and validation sets (the classes are not balanced, or not equally distributed), I chose Dummy classifier that always predicts the class that is more frequent (in this case, 'non-person').*"
   ]
  },
  {
   "cell_type": "code",
   "execution_count": 31,
   "metadata": {},
   "outputs": [
    {
     "name": "stdout",
     "output_type": "stream",
     "text": [
      "Dummy classifiers accuracy on the validation set: 0.527\n"
     ]
    }
   ],
   "source": [
    "dummy = DummyClassifier(strategy='most_frequent').fit(X_tr, y_tr)\n",
    "print (\"Dummy classifiers accuracy on the validation set: {:.3f}\".format(dummy.score(X_val, y_val)))"
   ]
  },
  {
   "cell_type": "markdown",
   "metadata": {},
   "source": [
    "### ========== Question 1.7 --- [3 marks] ==========\n",
    "Train a [`LogisticRegression`](http://scikit-learn.org/0.17/modules/generated/sklearn.linear_model.LogisticRegression.html) classifier using default settings, except for the `solver` parameter which you should set to `lbfgs`. Report the classification accuracy score on the training and validation sets and compare with the baseline. Comment on the results with 1-2 sentences. You may include any additional plot(s) if you wish to justify your explanation."
   ]
  },
  {
   "cell_type": "markdown",
   "metadata": {},
   "source": [
    "#### Confusion Matrix"
   ]
  },
  {
   "cell_type": "code",
   "execution_count": null,
   "metadata": {},
   "outputs": [],
   "source": [
    "def plot_confusion_matrix(conf_m, classes=None, title='Confusion matrix'):\n",
    "    if classes is not None: sns.heatmap(conf_m, xticklabels=classes, yticklabels=classes, vmin=0., vmax=1., annot=True)\n",
    "    else: sns.heatmap(cm, vmin=0., vmax=1.)\n",
    "    plt.title(title)\n",
    "    plt.ylabel('True label')\n",
    "    plt.xlabel('Predicted label')"
   ]
  },
  {
   "cell_type": "code",
   "execution_count": 23,
   "metadata": {},
   "outputs": [
    {
     "name": "stdout",
     "output_type": "stream",
     "text": [
      "Classification accuracy on training set: 0.551\n",
      "Classification accuracy on validation set: 0.527\n"
     ]
    },
    {
     "data": {
      "image/png": "[encoded data removed]",
      "text/plain": [
       "<matplotlib.figure.Figure at 0x7fa2de983210>"
      ]
     },
     "metadata": {},
     "output_type": "display_data"
    }
   ],
   "source": [
    "regressor = LogisticRegression(solver='lbfgs').fit(X_tr, y_tr)\n",
    "print('Classification accuracy on training set: {:.3f}'.format(regressor.score(X_tr, y_tr)))\n",
    "print('Classification accuracy on validation set: {:.3f}'.format(regressor.score(X_val, y_val)))\n",
    "\n",
    "predictions = regressor.predict(X_val)\n",
    "confused = confusion_matrix(y_val, predictions)\n",
    "normalized = confused/confused.sum(axis=1)[:, np.newaxis]\n",
    "   \n",
    "classes = ['non-person', 'person']\n",
    "plot_confusion_matrix(normalized, classes=classes, title='Confusion matrix')"
   ]
  },
  {
   "cell_type": "markdown",
   "metadata": {},
   "source": [
    "*Linear Regression performed just as bad as the dummy classifier, because the data was not linearly separable. The decision boundary of such classifier thus went around the data points, putting all of them to the same side. Consequently, all the datapoints were given the same label, which was the more frequent one (non-person). See confunsion matrix for more info (check the confusion matrix).*"
   ]
  },
  {
   "cell_type": "markdown",
   "metadata": {},
   "source": [
    "### ========== Question 1.8 --- [1 mark] ==========\n",
    "Display the means and standard deviations of the first 5 features in the training set. *Hint: you want to compute the means and standard deviations across the columns of your arrays. Make sure you make appropriate use of the `axis` parameter.*"
   ]
  },
  {
   "cell_type": "code",
   "execution_count": 25,
   "metadata": {},
   "outputs": [
    {
     "name": "stdout",
     "output_type": "stream",
     "text": [
      "\n",
      "The means of the first 5 features in the training set: \n",
      "dim1    0.001751\n",
      "dim2    0.000756\n",
      "dim3    0.004317\n",
      "dim4    0.001853\n",
      "dim5    0.002272\n",
      "dtype: float64\n",
      "\n",
      "The standard deviations of the first 5 features in the training set: \n",
      "dim1    0.001193\n",
      "dim2    0.001406\n",
      "dim3    0.003693\n",
      "dim4    0.001340\n",
      "dim5    0.001598\n",
      "dtype: float64\n",
      "\n",
      "The means of the first 5 features in the validation set: \n",
      "dim1    0.001744\n",
      "dim2    0.000702\n",
      "dim3    0.004720\n",
      "dim4    0.001978\n",
      "dim5    0.002321\n",
      "dtype: float64\n",
      "\n",
      "The standard deviations of the first 5 features in the validation set: \n",
      "dim1    0.001209\n",
      "dim2    0.001364\n",
      "dim3    0.003876\n",
      "dim4    0.001417\n",
      "dim5    0.001558\n",
      "dtype: float64\n"
     ]
    }
   ],
   "source": [
    "print (\"\\nThe means of the first 5 features in the training set: \")\n",
    "print (X_tr.mean(axis=0)[0:5])\n",
    "print (\"\\nThe standard deviations of the first 5 features in the training set: \")\n",
    "print (X_tr.std(axis=0)[0:5])\n",
    "print (\"\\nThe means of the first 5 features in the validation set: \")\n",
    "print (X_val.mean(axis=0)[0:5])\n",
    "print (\"\\nThe standard deviations of the first 5 features in the validation set: \")\n",
    "print (X_val.std(axis=0)[0:5])"
   ]
  },
  {
   "cell_type": "markdown",
   "metadata": {},
   "source": [
    "### ========== Question 1.9 --- [3 marks] ==========\n",
    "Feature standardisation is a pre-processing technique used to transform data so that they have zero mean and unit standard deviation. For many algorithms, this is a very important step for training models (both regression and classification). Read about [feature standardisation](http://scikit-learn.org/0.17/modules/preprocessing.html) and make sure you understand what kind of transformation this method applies to the data.\n",
    "\n",
    "`Scikit-learn` offers a [class](http://scikit-learn.org/0.17/modules/generated/sklearn.preprocessing.StandardScaler.html) for feature standardisation. Instansiate a StandardScaler object and fit it using the **training features**. Use this fitted object to transform both your training and validation features to have a standard scale. \n",
    "\n",
    "Once your training and validation input data have been transformed, display the means and standard deviations of the first 5 attributes for **both** the training and validation sets. Are the results as you expected? Explain your answer in 2-3 sentences. Why didn't we use the validation set to standardise the data?\n",
    "\n",
    "**IMPORTANT: You should use the transformed data for the rest of this part.**"
   ]
  },
  {
   "cell_type": "code",
   "execution_count": 28,
   "metadata": {},
   "outputs": [
    {
     "name": "stdout",
     "output_type": "stream",
     "text": [
      "The means of the first 5 features in the training set: \n",
      "[ -8.48713253e-18   0.00000000e+00   2.71588241e-17  -6.78970603e-18\n",
      "   0.00000000e+00]\n",
      "\n",
      "The standard deviations of the first 5 features in the training set: \n",
      "[ 1.  1.  1.  1.  1.]\n",
      "\n",
      "The means of the first 5 features in the validation set: \n",
      "[-0.00550612 -0.0382933   0.10915098  0.09369314  0.03057844]\n",
      "\n",
      "The standard deviations of the first 5 features in the validation set: \n",
      "[ 1.01310886  0.96981949  1.0492285   1.05684479  0.97471336]\n"
     ]
    }
   ],
   "source": [
    "scaler = preprocessing.StandardScaler().fit(X_tr)\n",
    "X_tr = scaler.transform(X_tr)\n",
    "X_val = scaler.transform(X_val)\n",
    "\n",
    "print (\"The means of the first 5 features in the training set: \")\n",
    "print (X_tr.mean(axis=0)[0:5])\n",
    "print (\"\\nThe standard deviations of the first 5 features in the training set: \")\n",
    "print (X_tr.std(axis=0)[0:5])\n",
    "print (\"\\nThe means of the first 5 features in the validation set: \")\n",
    "print (X_val.mean(axis=0)[0:5])\n",
    "print (\"\\nThe standard deviations of the first 5 features in the validation set: \")\n",
    "print (X_val.std(axis=0)[0:5])"
   ]
  },
  {
   "cell_type": "markdown",
   "metadata": {},
   "source": [
    "*The results are more or less as expected. After standardization, the mean of the training set features becomes extremely close to zero, and the standard deviations all equal to 1. The validation set means and standard deviations slightly vary, and are not of perfect values. That is due to transform applied to a different set of data that the transformer was fit on. Essentially, to get the same results using transformation, the data would have to be identical.*"
   ]
  },
  {
   "cell_type": "markdown",
   "metadata": {},
   "source": [
    "### ========== Question 1.10 --- [3 marks] ==========\n",
    "By using the transformed input data, train a new `LogisticRegression` classifier. Again, set the `solver` parameter to `lbfgs` and use default settings for the other parameters. Report the classification accuracy on both the training and validation sets.\n",
    "\n",
    "Comment on how your model compares to the baseline classifier from Question 1.6? You may use additional plot(s) to support your explanation."
   ]
  },
  {
   "cell_type": "code",
   "execution_count": 32,
   "metadata": {},
   "outputs": [
    {
     "name": "stdout",
     "output_type": "stream",
     "text": [
      "Classification accuracy on training set: 0.811\n",
      "Classification accuracy on validation set: 0.643\n"
     ]
    },
    {
     "data": {
      "image/png": "[encoded data removed]",
      "text/plain": [
       "<matplotlib.figure.Figure at 0x7fa2dd5b8e90>"
      ]
     },
     "metadata": {},
     "output_type": "display_data"
    }
   ],
   "source": [
    "regressor = LogisticRegression(solver='lbfgs').fit(X_tr, y_tr)\n",
    "print('Classification accuracy on training set: {:.3f}'.format(regressor.score(X_tr, y_tr)))\n",
    "print('Classification accuracy on validation set: {:.3f}'.format(regressor.score(X_val, y_val)))\n",
    "\n",
    "predictions = regressor.predict(X_val)\n",
    "confused = confusion_matrix(y_val, predictions)\n",
    "normalized = confused/confused.sum(axis=1)[:, np.newaxis]\n",
    "\n",
    "classes = ['non-person', 'person']\n",
    "plot_confusion_matrix(normalized, classes=classes, title='Confusion matrix')"
   ]
  },
  {
   "cell_type": "markdown",
   "metadata": {},
   "source": [
    "*The model performed much better (validation accuracy equal to 0.643) than the dummy classifier (0.527). The confusion matrix also shows that the regressor modeled a specific decision boundary which allowed not to simply choose the more frequent label, but actually take into account the features that were observed.*"
   ]
  },
  {
   "cell_type": "markdown",
   "metadata": {},
   "source": [
    "### ========== Question 1.11 --- [1 mark] ==========\n",
    "So far we have used default settings for training the logistic regression classifier. Now, we want to use [K-fold cross-validation](http://scikit-learn.org/0.17/modules/generated/sklearn.cross_validation.KFold.html) to optimise the regularisation parameter `C`. The regularisation parameter controls the degree to which we wish to penalise large magnitudes in the weight vector. This can help us prevent overfitting but, if set too high, could lead us to underfit too.\n",
    "\n",
    "Create a 3-fold cross-validation object. Set the `shuffle` parameter to `True` and the `random_state` to `0`. By using the cross-validation iterator, display the number of test samples for each fold."
   ]
  },
  {
   "cell_type": "code",
   "execution_count": 33,
   "metadata": {},
   "outputs": [
    {
     "name": "stdout",
     "output_type": "stream",
     "text": [
      "Fold number: 1\n",
      " Number of training samples: 1395\n",
      " Number of validation samples: 698\n",
      "\n",
      "Fold number: 2\n",
      " Number of training samples: 1395\n",
      " Number of validation samples: 698\n",
      "\n",
      "Fold number: 3\n",
      " Number of training samples: 1396\n",
      " Number of validation samples: 697\n",
      "\n"
     ]
    }
   ],
   "source": [
    "kf = KFold(n_splits=3, shuffle=True, random_state=0)\n",
    "counter = 0\n",
    "for train, test in kf.split(X_tr):\n",
    "    counter += 1\n",
    "    print (\"Fold number: {}\\n Number of training samples: {}\\n Number of validation samples: {}\\n\".format(counter, train.shape[0], test.shape[0]))"
   ]
  },
  {
   "cell_type": "markdown",
   "metadata": {},
   "source": [
    "### ========== Question 1.12 --- [2 marks] ========== \n",
    "Using the cross-validation iterator from the previous question, perform a search for the best value for `C`. \n",
    "\n",
    "We are going to loop over each CV fold, and each value of `C`. The values of `C` to search should be 20 equally-spaced values **in log space** ranging from `1e-5` to `1e5` *(hint: look at the `logspace()` function in numpy)*. \n",
    "\n",
    "Create a 2-dimensional array and, for each cross-validation fold and parameter setting pair, compute and store the classification accuracy score e.g. store the score of fold 0 with parameter setting 1 at score_array[0,1]. As previously, set the `solver` parameter to `lbfgs` and use default settings for the other parameters (except for `C` obviously!).\n",
    "\n",
    "*(hint: you could use two loops in your code; one iterating over CV folds and another one iterating over the values for `C`)*. "
   ]
  },
  {
   "cell_type": "code",
   "execution_count": 35,
   "metadata": {},
   "outputs": [
    {
     "name": "stdout",
     "output_type": "stream",
     "text": [
      "\n",
      "Mean classification accuracies on the validation set for different c_values: \n",
      "Accuracy: 0.573, C value 1e-05\n",
      "Accuracy: 0.601, C value 3.35981828628e-05\n",
      "Accuracy: 0.647, C value 0.000112883789168\n",
      "Accuracy: 0.663, C value 0.000379269019073\n",
      "Accuracy: 0.673, C value 0.0012742749857\n",
      "Accuracy: 0.685, C value 0.00428133239872\n",
      "Accuracy: 0.680, C value 0.0143844988829\n",
      "Accuracy: 0.669, C value 0.0483293023857\n",
      "Accuracy: 0.634, C value 0.162377673919\n",
      "Accuracy: 0.629, C value 0.545559478117\n",
      "Accuracy: 0.622, C value 1.83298071083\n",
      "Accuracy: 0.621, C value 6.15848211066\n",
      "Accuracy: 0.624, C value 20.6913808111\n",
      "Accuracy: 0.622, C value 69.5192796178\n",
      "Accuracy: 0.621, C value 233.572146909\n",
      "Accuracy: 0.624, C value 784.759970351\n",
      "Accuracy: 0.628, C value 2636.65089873\n",
      "Accuracy: 0.625, C value 8858.6679041\n",
      "Accuracy: 0.625, C value 29763.5144163\n",
      "Accuracy: 0.628, C value 100000.0\n",
      "\n",
      "The 2D array of per-fold classification accuracies for all c values: \n",
      "[[ 0.66576819  0.67385445  0.66846361  0.68463612  0.69811321  0.70350404\n",
      "   0.69541779  0.67924528  0.63072776  0.61725067  0.60107817  0.59838275\n",
      "   0.59568733  0.59838275  0.59568733  0.606469    0.60916442  0.60377358\n",
      "   0.606469    0.61185984]\n",
      " [ 0.47169811  0.48787062  0.60107817  0.65229111  0.65768194  0.66307278\n",
      "   0.67924528  0.67924528  0.65498652  0.64690027  0.64690027  0.64420485\n",
      "   0.65498652  0.65229111  0.65229111  0.65229111  0.65498652  0.65498652\n",
      "   0.65498652  0.65768194]\n",
      " [ 0.58221024  0.64150943  0.67115903  0.65229111  0.66307278  0.68733154\n",
      "   0.66576819  0.64959569  0.61725067  0.62264151  0.61725067  0.61994609\n",
      "   0.62264151  0.61455526  0.61455526  0.61455526  0.61994609  0.61725067\n",
      "   0.61455526  0.61455526]]\n"
     ]
    }
   ],
   "source": [
    "c_values = np.logspace(-5, 5, 20)\n",
    "score_array = []\n",
    "results = []\n",
    "print (\"\\nMean classification accuracies on the validation set for different c_values: \")\n",
    "for c in c_values:\n",
    "    model = LogisticRegression(solver='lbfgs', C=c)\n",
    "    scores = cross_val_score(model, X_val, y_val, cv=kf)\n",
    "    print('Accuracy: {:.3f}, C value {}'.format(scores.mean(), c))\n",
    "    results.append(scores.mean())\n",
    "    score_array.append(scores)\n",
    "    \n",
    "print (\"\\nThe 2D array of per-fold classification accuracies for all c values: \")\n",
    "print (np.array(score_array).T)"
   ]
  },
  {
   "cell_type": "markdown",
   "metadata": {},
   "source": [
    "### ========== Question 1.13 --- [1 mark] ========== \n",
    "Plot the mean classification performance (across CV folds) of the logistic regression classifier against the regularisation parameter `C` by using the range from Question 1.12. Use a logarithmic scale for the x-axis and label both axes appropriately. "
   ]
  },
  {
   "cell_type": "code",
   "execution_count": 38,
   "metadata": {},
   "outputs": [
    {
     "name": "stdout",
     "output_type": "stream",
     "text": [
      "\n"
     ]
    },
    {
     "data": {
      "image/png": "[encoded data removed]",
      "text/plain": [
       "<matplotlib.figure.Figure at 0x7fa2dd2a5750>"
      ]
     },
     "metadata": {},
     "output_type": "display_data"
    }
   ],
   "source": [
    "plt.xscale('log')\n",
    "plt.scatter(c_values, results, c='g', alpha=0.5)\n",
    "plt.title(\"Cross-validated accuracies vs. C values\")\n",
    "plt.ylabel('Validation set accuracy')\n",
    "plt.xlabel('C value')\n",
    "print()"
   ]
  },
  {
   "cell_type": "markdown",
   "metadata": {},
   "source": [
    "### ========== Question 1.14 --- [2 marks] ==========\n",
    "Display the optimal value for the regularisation parameter `C` determined by the search results from Question 1.12. Similarly to Question 1.13, consider the mean classifiation accuracy across CV folds. By using the optimal value (i.e. the one that yields the highest average classification accuracy) train a new `LogisticRegression` classifier and report the classification accuracy on the validation set. *(Hint: Do not pick the optimal value \"by hand\", instead use an appropriate numpy function).*"
   ]
  },
  {
   "cell_type": "code",
   "execution_count": 39,
   "metadata": {},
   "outputs": [
    {
     "name": "stdout",
     "output_type": "stream",
     "text": [
      "The optimal value for C: 0.00428133239872\n",
      "Classification accuracy on validation set using optimal c: 0.696\n"
     ]
    }
   ],
   "source": [
    "optimal_c = c_values[np.array(results).argmax()]\n",
    "print (\"The optimal value for C: {}\".format(optimal_c))\n",
    "regressor = LogisticRegression(solver='lbfgs', C=optimal_c).fit(X_tr, y_tr)\n",
    "print('Classification accuracy on validation set using optimal c: {:.3f}'.format(regressor.score(X_val, y_val)))"
   ]
  },
  {
   "cell_type": "markdown",
   "metadata": {},
   "source": [
    "### ========== Question 1.15 --- [1 mark] ========== \n",
    "Scikit-learn offers a [`LogisticRegressionCV`](http://scikit-learn.org/0.17/modules/generated/sklearn.linear_model.LogisticRegressionCV.html) module which implements Logistic Regression with builtin cross-validation to find out the optimal `C` parameter. You can specify the range for the `C` parameter, as well as the cross-validation method you want to use with the `Cs` and `cv` parameters, respectively. Use the `C` range you set up in Question 1.12 and the 3-fold cross-validation iterator from Question 1.11. Once again, train the models by using the `lbfgs` optimisation method and display the optimal value for the parameter `C`. Finally, display the classification accuracy on the validation set. Check your results are consistent with those from Question 1.14!"
   ]
  },
  {
   "cell_type": "code",
   "execution_count": 40,
   "metadata": {},
   "outputs": [
    {
     "name": "stdout",
     "output_type": "stream",
     "text": [
      "The optimal value for C: 0.00428133239872\n",
      "Classification accuracy on validation set using optimal c: 0.696\n"
     ]
    }
   ],
   "source": [
    "regressor = LogisticRegressionCV(solver='lbfgs', Cs=c_values, cv=kf).fit(X_tr, y_tr)\n",
    "print(\"The optimal value for C: {}\".format(regressor.C_[0]))\n",
    "print('Classification accuracy on validation set using optimal c: {:.3f}'.format(regressor.score(X_val, y_val)))"
   ]
  },
  {
   "cell_type": "markdown",
   "metadata": {},
   "source": [
    "### ========== Question 1.16 --- [1 mark] ==========\n",
    "Now, we want to validate the importance of various features for classification. For this purpose, we will use a [`RandomForestClassifier`](http://scikit-learn.org/0.17/modules/generated/sklearn.ensemble.RandomForestClassifier.html) (you might want to refer to Lab_3 if you are unsure how we can estimate feature importances with decision tree and random forest models).\n",
    "\n",
    "Initialise a random forest classifier and fit the model by using training data only and 500 trees (i.e. `n_estimators`). Set the `RandomState` equal to 42 to ensure reproducible results. Report the accuracy score on both the training and validation sets."
   ]
  },
  {
   "cell_type": "code",
   "execution_count": 41,
   "metadata": {},
   "outputs": [
    {
     "name": "stdout",
     "output_type": "stream",
     "text": [
      "Classification accuracy on training set: 1.000\n",
      "Classification accuracy on validation set: 0.698\n"
     ]
    }
   ],
   "source": [
    "rf = RandomForestClassifier(n_estimators=500, criterion='entropy', random_state=42)\n",
    "rf.fit(X_tr, y_tr)\n",
    "print('Classification accuracy on training set: {:.3f}'.format(rf.score(X_tr, y_tr)))\n",
    "print('Classification accuracy on validation set: {:.3f}'.format(rf.score(X_val, y_val)))"
   ]
  },
  {
   "cell_type": "markdown",
   "metadata": {},
   "source": [
    "### ========== Question 1.17 --- [2 marks] ==========\n",
    "Comment on the results above. Do you find the discrepancy between training and validation accuracies surprising?"
   ]
  },
  {
   "cell_type": "markdown",
   "metadata": {},
   "source": [
    "*The accuracies on the training and validation sets were found to be very different (100%, and 69.8%, respectively). That was not surprising, as the Random Forest classifier can in theory fit to the data perfectly when using not-pruned decision trees (expanding in such way that all the classifications end up being correct). However, that leads to model overfitting the training data, consequently making the model unable to generalize and perform well on unseen validation data that has different features.*"
   ]
  },
  {
   "cell_type": "markdown",
   "metadata": {},
   "source": [
    "### ========== Question 1.18 --- [2 marks] ==========\n",
    "By using the random forest model from the previous question order the features by descending importance and display the names of the 50 most important features."
   ]
  },
  {
   "cell_type": "code",
   "execution_count": 42,
   "metadata": {},
   "outputs": [
    {
     "name": "stdout",
     "output_type": "stream",
     "text": [
      "50 Most important Random Forest features: \n",
      "Top 1, Importance: 0.00658584, feature: dim21\n",
      "Top 2, Importance: 0.00637550, feature: dim51\n",
      "Top 3, Importance: 0.00595973, feature: dim360\n",
      "Top 4, Importance: 0.00576408, feature: dim76\n",
      "Top 5, Importance: 0.00576388, feature: dim479\n",
      "Top 6, Importance: 0.00527506, feature: dim4\n",
      "Top 7, Importance: 0.00522958, feature: dim263\n",
      "Top 8, Importance: 0.00489587, feature: dim283\n",
      "Top 9, Importance: 0.00462161, feature: dim461\n",
      "Top 10, Importance: 0.00460727, feature: dim343\n",
      "Top 11, Importance: 0.00453984, feature: dim222\n",
      "Top 12, Importance: 0.00437543, feature: dim330\n",
      "Top 13, Importance: 0.00436356, feature: dim217\n",
      "Top 14, Importance: 0.00434825, feature: dim254\n",
      "Top 15, Importance: 0.00409889, feature: dim348\n",
      "Top 16, Importance: 0.00404609, feature: dim74\n",
      "Top 17, Importance: 0.00398248, feature: dim398\n",
      "Top 18, Importance: 0.00394830, feature: dim485\n",
      "Top 19, Importance: 0.00374087, feature: dim274\n",
      "Top 20, Importance: 0.00371426, feature: dim356\n",
      "Top 21, Importance: 0.00364067, feature: dim423\n",
      "Top 22, Importance: 0.00363880, feature: dim134\n",
      "Top 23, Importance: 0.00351405, feature: dim214\n",
      "Top 24, Importance: 0.00347182, feature: dim90\n",
      "Top 25, Importance: 0.00346089, feature: dim17\n",
      "Top 26, Importance: 0.00340379, feature: dim347\n",
      "Top 27, Importance: 0.00334729, feature: dim48\n",
      "Top 28, Importance: 0.00333848, feature: dim326\n",
      "Top 29, Importance: 0.00329635, feature: dim322\n",
      "Top 30, Importance: 0.00327506, feature: dim206\n",
      "Top 31, Importance: 0.00325937, feature: dim329\n",
      "Top 32, Importance: 0.00325789, feature: dim35\n",
      "Top 33, Importance: 0.00325778, feature: dim427\n",
      "Top 34, Importance: 0.00325015, feature: dim500\n",
      "Top 35, Importance: 0.00323493, feature: dim312\n",
      "Top 36, Importance: 0.00322733, feature: dim288\n",
      "Top 37, Importance: 0.00321041, feature: dim73\n",
      "Top 38, Importance: 0.00319223, feature: dim92\n",
      "Top 39, Importance: 0.00318144, feature: dim442\n",
      "Top 40, Importance: 0.00309744, feature: dim315\n",
      "Top 41, Importance: 0.00309511, feature: dim54\n",
      "Top 42, Importance: 0.00306650, feature: dim483\n",
      "Top 43, Importance: 0.00305610, feature: dim25\n",
      "Top 44, Importance: 0.00300881, feature: dim289\n",
      "Top 45, Importance: 0.00299900, feature: dim96\n",
      "Top 46, Importance: 0.00296497, feature: dim299\n",
      "Top 47, Importance: 0.00289637, feature: dim271\n",
      "Top 48, Importance: 0.00289029, feature: dim160\n",
      "Top 49, Importance: 0.00286188, feature: dim197\n",
      "Top 50, Importance: 0.00284164, feature: dim188\n"
     ]
    },
    {
     "data": {
      "text/plain": [
       "<matplotlib.text.Text at 0x7fa2dd29ddd0>"
      ]
     },
     "execution_count": 42,
     "metadata": {},
     "output_type": "execute_result"
    },
    {
     "data": {
      "image/png": "[encoded data removed]",
      "text/plain": [
       "<matplotlib.figure.Figure at 0x7fa2de930ad0>"
      ]
     },
     "metadata": {},
     "output_type": "display_data"
    }
   ],
   "source": [
    "importances = rf.feature_importances_\n",
    "top50_idx = (-importances).argsort()[:50]\n",
    "top50_names = (np.array(attribute_names)[top50_idx])\n",
    "top50_values = importances[top50_idx]\n",
    "\n",
    "print (\"50 Most important Random Forest features: \")\n",
    "for i in range(len(top50_names)):\n",
    "    print('Top {}, Importance: {:.8f}, feature: {}'.format(i+1, top50_values[i], top50_names[i]))\n",
    "\n",
    "fig, ax = plt.subplots(1, figsize=(16,6))\n",
    "xx = np.arange(len(top50_names))\n",
    "ax.bar(xx, (top50_values))\n",
    "ax.set_xticks(xx+0.5)\n",
    "ax.set_xticklabels(np.array(attribute_names)[top50_idx], rotation='vertical')\n",
    "ax.set_title('Random forest top 50 features, max depth=10')"
   ]
  },
  {
   "cell_type": "markdown",
   "metadata": {},
   "source": [
    "### ========== Question 1.19 --- [3 marks] ==========\n",
    "Next, we would like to test the performance of support vector machines. Train three support vector classifiers with the following kernels: linear, radial basis function, and polynomial. Report the classification accuracy of each of the three classifiers on both the training and validation sets."
   ]
  },
  {
   "cell_type": "code",
   "execution_count": 49,
   "metadata": {},
   "outputs": [
    {
     "name": "stdout",
     "output_type": "stream",
     "text": [
      "Linear SVC classification accuracy on training set: 0.842\n",
      "Linear SVC classification accuracy on validation set: 0.639\n",
      "RBF SVC classification accuracy on training set: 0.911\n",
      "RBF SVC classification accuracy on validation set: 0.730\n",
      "Poly SVC classification accuracy on training set: 0.940\n",
      "Poly SVC classification accuracy on validation set: 0.686\n"
     ]
    }
   ],
   "source": [
    "svc_linear = SVC(kernel=\"linear\").fit(X_tr, y_tr)\n",
    "print('Linear SVC classification accuracy on training set: {:.3f}'.format(svc_linear.score(X_tr, y_tr)))\n",
    "print('Linear SVC classification accuracy on validation set: {:.3f}'.format(svc_linear.score(X_val, y_val)))\n",
    "\n",
    "svc_rbf = SVC(kernel='rbf').fit(X_tr, y_tr)\n",
    "print('RBF SVC classification accuracy on training set: {:.3f}'.format(svc_rbf.score(X_tr, y_tr)))\n",
    "print('RBF SVC classification accuracy on validation set: {:.3f}'.format(svc_rbf.score(X_val, y_val)))\n",
    "\n",
    "svc_poly = SVC(kernel='poly', degree=2).fit(X_tr, y_tr)\n",
    "print('Poly SVC classification accuracy on training set: {:.3f}'.format(svc_poly.score(X_tr, y_tr)))\n",
    "print('Poly SVC classification accuracy on validation set: {:.3f}'.format(svc_poly.score(X_val, y_val)))"
   ]
  },
  {
   "cell_type": "markdown",
   "metadata": {},
   "source": [
    "### ========== Question 1.20 --- [3 marks] ==========\n",
    "At this point, we would like to get an idea of what kind of decision boundaries we can get with the three types of SVM kernels we introduced in the previous question. For visualisation, however, we can only make use of 2D input data. For this purpose, we select to use the 21st and 76th columns of our training features (*hint: remember that Python uses 0-based indexing*). \n",
    "\n",
    "Execute the cell below to define a useful function which we will be using to plot the decision boundaries *(it is also not a bad idea to try to understand what this functions does)*. \n",
    "\n",
    "Then train three distinct SVM classifiers by using the 2D input data mentioned above and default parameters:\n",
    "* a linear SVC\n",
    "* an RBF SVC \n",
    "* a polynomial SVC\n",
    "\n",
    "Finally, create a list containing the three classifiers you have just trained. Use this list as an input to the provided function along with the used training features and observe the outcome. You can use the additional `title` parameter to set the titles in the subplots. Comment on the shape of the boundaries and what this means for classification accuracy in 1-2 sentences.\n",
    "\n",
    "*(Acknowledgement: this Question has been heavily based on [this example](http://scikit-learn.org/0.17/auto_examples/svm/plot_iris.html) from scikit-learn's documentation.)*"
   ]
  },
  {
   "cell_type": "code",
   "execution_count": 50,
   "metadata": {
    "collapsed": true
   },
   "outputs": [],
   "source": [
    "def show_svc_decision_boundaries(clfs, X, title=None):\n",
    "    \"\"\"Plots decision boundaries for classifiers with 2D inputs.\n",
    "    \n",
    "    Parameters\n",
    "    ----------\n",
    "    clf : list\n",
    "        Classifiers for which decision boundaries will be displayed.\n",
    "    X : array\n",
    "        Input features used to train the classifiers.\n",
    "    title : list, optional\n",
    "        Titles for classifiers.\n",
    "    \n",
    "    \"\"\"\n",
    "    \n",
    "    assert X.shape[1] == 2 # Input should be 2D\n",
    "    if title is not None:\n",
    "        assert len(clfs) == len(title)\n",
    "    \n",
    "    h = .04 # step size in the mesh\n",
    "    x_min, x_max = X[:, 0].min() - 1, X[:, 0].max() + 1\n",
    "    y_min, y_max = X[:, 1].min() - 1, X[:, 1].max() + 1\n",
    "    xx, yy = np.meshgrid(np.arange(x_min, x_max, h),\n",
    "                         np.arange(y_min, y_max, h))\n",
    "    plt.figure(figsize=(15,5))\n",
    "    for i, clf in enumerate(clfs):\n",
    "        plt.subplot(1, len(clfs), i + 1)\n",
    "        plt.subplots_adjust(wspace=0.4, hspace=0.4)\n",
    "        Z = clf.predict(np.c_[xx.ravel(), yy.ravel()])\n",
    "        Z = Z.reshape(xx.shape)\n",
    "        plt.contourf(xx, yy, Z, cmap=plt.cm.Paired, alpha=0.8)\n",
    "        # Training points\n",
    "        plt.scatter(X[:, 0], X[:, 1], c=y_tr, cmap=plt.cm.Paired)\n",
    "        plt.xlabel('Feature 1')\n",
    "        plt.ylabel('Feature 2')\n",
    "        plt.xlim(xx.min(), xx.max())\n",
    "        plt.ylim(yy.min(), yy.max())\n",
    "        plt.xticks(())\n",
    "        plt.yticks(())\n",
    "        if title is not None:\n",
    "            plt.title(title[i])"
   ]
  },
  {
   "cell_type": "code",
   "execution_count": 51,
   "metadata": {},
   "outputs": [
    {
     "data": {
      "image/png": "[encoded data removed]",
      "text/plain": [
       "<matplotlib.figure.Figure at 0x7fa2dd1e4d50>"
      ]
     },
     "metadata": {},
     "output_type": "display_data"
    }
   ],
   "source": [
    "X = X_tr[:,[20,75]]\n",
    "svc_linear = LinearSVC().fit(X, y_tr)\n",
    "svc_rbf = SVC(kernel='rbf').fit(X, y_tr)\n",
    "svc_poly = SVC(kernel='poly', degree=2).fit(X, y_tr)\n",
    "classifiers = [svc_linear, svc_rbf, svc_poly]\n",
    "t = ['Linear', 'Rbf', 'Poly']\n",
    "show_svc_decision_boundaries(classifiers, X, title = t)"
   ]
  },
  {
   "cell_type": "markdown",
   "metadata": {},
   "source": [
    "*The linear model has a linear decision model, resulting in a poor accuracy on data which is hard to separate linearly, while the other models have boundaries that are much more flexible, making it easier to fit and classify the data better. That is due to use of polynomial functions (polynomial SVC) and normal curves (RBF SVC) to define the hyper-plane that separates the datapoints into parts that correspond to classes. In this case, the Gaussian RBF approach resulted in the best validation accuracy, as it was able to model non-linear relationships in the data best.*"
   ]
  },
  {
   "cell_type": "markdown",
   "metadata": {},
   "source": [
    "### ========== Question 1.21 --- [5 marks] ==========\n",
    "So far we have used default parameters for training the SVM classifiers. Now we want to tune the parameters by using cross-validation. \n",
    "\n",
    "By using the `K-fold` iterator from Question 1.11 and training data only, estimate the classification accuracy of an SVM classifier with RBF kernel, while you vary the penalty parameter `C` in a logarithmic range `np.logspace(-2, 3, 10)`. Set the kernel coefficient parameter `gamma` to `auto` for this question. \n",
    "\n",
    "Plot the mean cross-validated classification accuracy against the regularisation parameter `C` by using a log-scale for the x-axis. Display the highest obtained mean accuracy score and the value of `C` which yielded it. Label axes appropriately. \n",
    "\n",
    "Finally, train a classifier by using the optimal value for this parameter (without using cross-validation at this stage) and report the classification accuracy on the training and validation sets. "
   ]
  },
  {
   "cell_type": "code",
   "execution_count": 52,
   "metadata": {},
   "outputs": [
    {
     "name": "stdout",
     "output_type": "stream",
     "text": [
      "\n",
      "Mean classification accuracies on the validation set for different c_values: \n",
      "Accuracy: 0.55088, C value 0.01\n",
      "Accuracy: 0.55900, C value 0.035938136638\n",
      "Accuracy: 0.68514, C value 0.129154966501\n",
      "Accuracy: 0.71237, C value 0.464158883361\n",
      "Accuracy: 0.71523, C value 1.6681005372\n",
      "Accuracy: 0.70185, C value 5.99484250319\n",
      "Accuracy: 0.70185, C value 21.5443469003\n",
      "Accuracy: 0.70185, C value 77.4263682681\n",
      "Accuracy: 0.70185, C value 278.255940221\n",
      "Accuracy: 0.70185, C value 1000.0\n",
      "\n",
      "The optimal value for C: 1.6681005372\n",
      "Classification accuracy on validation set using optimal c: 0.712\n"
     ]
    },
    {
     "data": {
      "image/png": "[encoded data removed]",
      "text/plain": [
       "<matplotlib.figure.Figure at 0x7fa2de579d90>"
      ]
     },
     "metadata": {},
     "output_type": "display_data"
    }
   ],
   "source": [
    "c_values = np.logspace(-2, 3, 10)\n",
    "results = []\n",
    "print (\"\\nMean classification accuracies on the validation set for different c_values: \")\n",
    "for c in c_values:\n",
    "    model = SVC(kernel='rbf', gamma='auto', C=c)\n",
    "    scores = cross_val_score(model, X_tr, y_tr, cv=kf)\n",
    "    print('Accuracy: {:.5f}, C value {}'.format(scores.mean(), c))\n",
    "    results.append(scores.mean())\n",
    "\n",
    "plt.xscale('log')\n",
    "plt.scatter(c_values, results, c='g', alpha=0.5)\n",
    "plt.title(\"Cross-validated accuracies vs. C values\")\n",
    "plt.ylabel('Validation set accuracy')\n",
    "plt.xlabel('C value')\n",
    "print()\n",
    "\n",
    "optimal_c = c_values[np.array(results).argmax()]\n",
    "print (\"The optimal value for C: {}\".format(optimal_c))\n",
    "optimalSVC = SVC(kernel='rbf', gamma='auto', C=c).fit(X_tr, y_tr)\n",
    "print('Classification accuracy on validation set using optimal c: {:.3f}'.format(optimalSVC.score(X_val, y_val)))"
   ]
  },
  {
   "cell_type": "markdown",
   "metadata": {},
   "source": [
    "### ========== Question 1.22 --- [5 marks] ==========\n",
    "Now we turn to the kernel coefficient `gamma` parameter. By using the same procedure as in the previous question, estimate the classification accuracy of an SVM classifier with RBF kernel while you vary the `gamma` parameter in a logarithmic range `logspace(-5, 0, 10)`. Fix the penalty parameter `C=1.0`.\n",
    "\n",
    "Plot the mean cross-validated classification accuracy against the parameter `gamma` by using a log-scale for the x-axis. Display the highest obtained mean accuracy score and the value of `gamma` which yielded it.  Label axes appropriately.\n",
    "\n",
    "Finally, train a classifier by using the optimal value for this parameter (without using cross-validation at this stage) and report the classification accuracy on the training and validation sets. "
   ]
  },
  {
   "cell_type": "code",
   "execution_count": 53,
   "metadata": {},
   "outputs": [
    {
     "name": "stdout",
     "output_type": "stream",
     "text": [
      "\n",
      "Mean classification accuracies on the validation set for different gammas: \n",
      "Accuracy: 0.55136, gamma 1e-05\n",
      "Accuracy: 0.65504, gamma 3.5938136638e-05\n",
      "Accuracy: 0.67987, gamma 0.000129154966501\n",
      "Accuracy: 0.71045, gamma 0.000464158883361\n",
      "Accuracy: 0.71619, gamma 0.0016681005372\n",
      "Accuracy: 0.70567, gamma 0.00599484250319\n",
      "Accuracy: 0.55088, gamma 0.0215443469003\n",
      "Accuracy: 0.55088, gamma 0.0774263682681\n",
      "Accuracy: 0.55088, gamma 0.278255940221\n",
      "Accuracy: 0.55088, gamma 1.0\n",
      "\n",
      "The optimal value for gamma: 0.0016681005372\n",
      "Classification accuracy on validation set using optimal gamma: 0.727\n"
     ]
    },
    {
     "data": {
      "image/png": "[encoded data removed]",
      "text/plain": [
       "<matplotlib.figure.Figure at 0x7fa2de5e7990>"
      ]
     },
     "metadata": {},
     "output_type": "display_data"
    }
   ],
   "source": [
    "gammas = np.logspace(-5, 0, 10)\n",
    "results = []\n",
    "print (\"\\nMean classification accuracies on the validation set for different gammas: \")\n",
    "for gamma in gammas:\n",
    "    model = SVC(kernel='rbf', gamma=gamma, C=1.0)\n",
    "    scores = cross_val_score(model, X_tr, y_tr, cv=kf)\n",
    "    print('Accuracy: {:.5f}, gamma {}'.format(scores.mean(), gamma))\n",
    "    results.append(scores.mean())\n",
    "\n",
    "plt.xscale('log')\n",
    "plt.scatter(gammas, results, c='g', alpha=0.5)\n",
    "plt.title(\"Cross-validated accuracies vs. gammas\")\n",
    "plt.ylabel('Validation set accuracy')\n",
    "plt.xlabel('C value')\n",
    "print()\n",
    "\n",
    "optimal_gamma = gammas[np.array(results).argmax()]\n",
    "print (\"The optimal value for gamma: {}\".format(optimal_gamma))\n",
    "gammaSVC = SVC(kernel='rbf', gamma=optimal_gamma, C=1.0).fit(X_tr, y_tr)\n",
    "print('Classification accuracy on validation set using optimal gamma: {:.3f}'.format(gammaSVC.score(X_val, y_val)))"
   ]
  },
  {
   "cell_type": "markdown",
   "metadata": {},
   "source": [
    "### ========== Question 1.23 --- [7 marks] ==========\n",
    "Now we wish to tune both the `C` and `gamma` parameters simultaneously. To save computational time, we will now constrain the parameter search space. Define a `4 X 4` grid for the two parameters, as follows:\n",
    "* `C`: `np.logspace(-2, 1, 4)`\n",
    "* `gamma`: `np.logspace(-4, -1, 4)`\n",
    "\n",
    "Estimate the mean cross-validated classification accuracy by using training data only and all possible configurations for the two parameters. \n",
    "\n",
    "Use a [heatmap](https://seaborn.github.io/generated/seaborn.heatmap.html?highlight=heatmap#seaborn.heatmap) to visualise the mean cross-validated classification accuracy for all `C`-`gamma` pairs. Label axes appropriately and display the values for `C` and `gamma` for the best performing configuration. \n",
    "\n",
    "Finally, by using the optimal configuration, train a classifier (without using cross-validation) and report the classification accuracy on the training and validation sets."
   ]
  },
  {
   "cell_type": "code",
   "execution_count": 25,
   "metadata": {},
   "outputs": [
    {
     "name": "stdout",
     "output_type": "stream",
     "text": [
      "\n",
      "Mean classification accuracies on the validation set for different Cs and gammas: \n",
      "C_value 0.01, gamma: 0.0001, Accuracy: 0.5509\n",
      "C_value 0.01, gamma: 0.0010, Accuracy: 0.5509\n",
      "C_value 0.01, gamma: 0.0100, Accuracy: 0.5509\n",
      "C_value 0.01, gamma: 0.1000, Accuracy: 0.5509\n",
      "C_value 0.10, gamma: 0.0001, Accuracy: 0.5509\n",
      "C_value 0.10, gamma: 0.0010, Accuracy: 0.6832\n",
      "C_value 0.10, gamma: 0.0100, Accuracy: 0.5509\n",
      "C_value 0.10, gamma: 0.1000, Accuracy: 0.5509\n",
      "C_value 1.00, gamma: 0.0001, Accuracy: 0.6813\n",
      "C_value 1.00, gamma: 0.0010, Accuracy: 0.7124\n",
      "C_value 1.00, gamma: 0.0100, Accuracy: 0.6460\n",
      "C_value 1.00, gamma: 0.1000, Accuracy: 0.5509\n",
      "C_value 10.00, gamma: 0.0001, Accuracy: 0.7100\n",
      "C_value 10.00, gamma: 0.0010, Accuracy: 0.6909\n",
      "C_value 10.00, gamma: 0.0100, Accuracy: 0.6636\n",
      "C_value 10.00, gamma: 0.1000, Accuracy: 0.5509\n",
      "The optimal values for C and gamma are: 1.0 and 0.001\n",
      "Classification accuracy on validation set using optimal values for C and gamma: 0.721\n"
     ]
    },
    {
     "data": {
      "image/png": "[encoded data removed]",
      "text/plain": [
       "<matplotlib.figure.Figure at 0x7f41e23b8390>"
      ]
     },
     "metadata": {},
     "output_type": "display_data"
    }
   ],
   "source": [
    "C = np.logspace(-2, 1, 4)\n",
    "gamma = np.logspace(-4, -1, 4)\n",
    "used_cs = []\n",
    "used_gammas = []\n",
    "results = []\n",
    "print (\"\\nMean classification accuracies on the validation set for different Cs and gammas: \")\n",
    "\n",
    "for c_value in C:\n",
    "    for g in gamma:\n",
    "        model = SVC(kernel='rbf', gamma=g, C=c_value)\n",
    "        scores = cross_val_score(model, X_tr, y_tr, cv=kf)\n",
    "        print('C_value {:.2f}, gamma: {:.4f}, Accuracy: {:.4f}'.format(c_value, g, scores.mean()))\n",
    "        results.append(scores.mean())\n",
    "        used_cs.append(c_value)\n",
    "        used_gammas.append(g)\n",
    "\n",
    "max_ind = np.array(results).argmax()\n",
    "opt_c = used_cs[max_ind]\n",
    "opt_g = used_gammas[max_ind]\n",
    "print (\"The optimal values for C and gamma are: {} and {}\".format(opt_c, opt_g))\n",
    "finalSVC = SVC(kernel='rbf', C=opt_c, gamma=opt_g).fit(X_tr, y_tr)\n",
    "print('Classification accuracy on validation set using optimal values for C and gamma: {:.3f}'.format(finalSVC.score(X_val, y_val)))\n",
    "\n",
    "heatmap_data = pd.DataFrame(\n",
    "    {'C': np.array(used_cs),'Gamma': np.array(used_gammas), 'Accuracy': np.array(results)}).pivot(\"C\", \"Gamma\", \"Accuracy\")\n",
    "plt.show(sns.heatmap(heatmap_data, cmap=\"YlGnBu\"))"
   ]
  },
  {
   "cell_type": "markdown",
   "metadata": {},
   "source": [
    "### ========== Question 1.24 --- [3 marks] ==========\n",
    "Is the classification accuracy on the validation set higher than in previous questions (1.22-1.23)? If not, can you explain why? Can you think of a way of further improving the performance of the classifier? You don't need to implement your suggestion at this stage. Would there be any associated problems with your suggested approach? "
   ]
  },
  {
   "cell_type": "markdown",
   "metadata": {},
   "source": [
    "*The classification accuracy (0.721) is slightly higher than in the question 1.21 (0.712), but lower than in 1.22 (0.727). The reason why this model performed worse is the smaller amount of considered C and gamma values (not configurations), which resulted in optimal configuration choice worse than choosing among more parameter options (8) for each value consecutively. To put it simply, considering only 4 values for each parameter meant that the actual optimal ones were missed out somewhere in between. To further improve the performance of this classifier, one could try out more configurations of parameters, but the problem associated with that is computational inefficiency. Increasing the amount of parameter values chosen would increase the amount of configurations to consider exponentially. E.g., checking 4 values for C and gamma is equal to 16 configurations, but checking 8 would require to run 64.*"
   ]
  },
  {
   "cell_type": "markdown",
   "metadata": {},
   "source": [
    "### ========== Question 1.25 --- [5 marks] ==========\n",
    "Now we want to evaluate the performance of an SVM classifier with polynomial kernel. Once again, we will tune the `degree` parameter by using cross-validation (similarly to what we did in Questions 1.21 and 1.22).\n",
    "\n",
    "By using the `K-fold` iterator from Question 1.11 and training data only, estimate the classification accuracy of polynomial SVM classifier, while you vary the `degree` parameter in the range `np.arange(1,8)`. \n",
    "\n",
    "Plot the mean cross-validated classification accuracy against the polynomial degree. Display the highest obtained mean accuracy score and the value of the `degree` parameter which yielded it. Label axes appropriately. \n",
    "\n",
    "Finally, train a classifier by using the optimal value for this parameter (without using cross-validation at this stage) and report the classification accuracy on the training and validation sets. "
   ]
  },
  {
   "cell_type": "code",
   "execution_count": 26,
   "metadata": {},
   "outputs": [
    {
     "name": "stdout",
     "output_type": "stream",
     "text": [
      "\n",
      "Mean classification accuracies on the validation set using different degree polynomial SVMs: \n",
      "Degree: 1, Accuracy: 0.7028\n",
      "Degree: 2, Accuracy: 0.6651\n",
      "Degree: 3, Accuracy: 0.6842\n",
      "Degree: 4, Accuracy: 0.6278\n",
      "Degree: 5, Accuracy: 0.6053\n",
      "Degree: 6, Accuracy: 0.5743\n",
      "Degree: 7, Accuracy: 0.5614\n",
      "\n",
      "The optimal degree: 1\n",
      "Classification accuracy on trainig set using optimal degree: 0.727\n"
     ]
    },
    {
     "data": {
      "image/png": "[encoded data removed]",
      "text/plain": [
       "<matplotlib.figure.Figure at 0x7f41e3a66610>"
      ]
     },
     "metadata": {},
     "output_type": "display_data"
    }
   ],
   "source": [
    "degree = np.arange(1, 8)\n",
    "results = []\n",
    "print (\"\\nMean classification accuracies on the validation set using different degree polynomial SVMs: \")\n",
    "\n",
    "for d in degree:\n",
    "    model = SVC(kernel='poly', degree=d)\n",
    "    scores = cross_val_score(model, X_tr, y_tr, cv=kf)\n",
    "    print('Degree: {}, Accuracy: {:.4f}'.format(d, scores.mean()))\n",
    "    results.append(scores.mean())\n",
    "\n",
    "plt.scatter(degree, results, c='g', alpha=0.5)\n",
    "#plt.title(\"Cross-validated accuracies vs. gammas\")\n",
    "print()\n",
    "\n",
    "optimal_degree = degree[np.array(results).argmax()]\n",
    "print (\"The optimal degree: {}\".format(optimal_degree))\n",
    "degreeSVC = SVC(kernel='poly', degree=optimal_degree).fit(X_tr, y_tr)\n",
    "print('Classification accuracy on trainig set using optimal degree: {:.3f}'.format(gammaSVC.score(X_val, y_val)))"
   ]
  },
  {
   "cell_type": "markdown",
   "metadata": {},
   "source": [
    "### ========== Question 1.26 --- [4 marks] ==========\n",
    "\n",
    "You might have noticted that so far, we have used cross-validation for optimising the various tuning parameters (e.g. regularisation parameter in logistic regression, SVM kernel parameters) rather than hold-out validation, although we did have access to a validation set. Why do you think this is a good/bad idea? Give one advantage and one disadvantage of the two different approaches. Which one would you trust more in practice?"
   ]
  },
  {
   "cell_type": "markdown",
   "metadata": {},
   "source": [
    "*Good idea behind using cross-validation for parameter tuning is that it evaluates the model performace across the entire training set multiple times using different folds/subsets of the data. Consequently, it is less prone to variation in data, and is better at generalizing. That allows to make a more stable and reliable choice for optimal parameters (ideally, they should be optimal for the unseen testing data as well). The main con of such technique is its high computational cost, becouse the model has to be trained many times. Also, the data used for training and validating is not entirely independent, as it both comes from the training set. Hold-out validation, on the other hand, uses entirely independent validation set for evaluation of the model. It is also much more efficient, as it needs to train only a single model. However, because it uses only a single set of training data, it is much more prone to variance, implying that the best-performing model might not necessarily adapt to unseen data. This is the main reason why I would trust Cross-validation more in practice.*"
   ]
  },
  {
   "cell_type": "markdown",
   "metadata": {},
   "source": [
    "### ========== Question 1.27 --- [6 marks] ==========\n",
    "\n",
    "Reload the full training and validation data that contain all indicator variables for all object categories. Remove the `imgId` attribute but keep all of the class indicator variables in the dataset this time. Your training features should include all attributes except `is_person` which should be your target variable. \n",
    "\n",
    "Once again, use a [StandardScaler](http://scikit-learn.org/0.17/modules/generated/sklearn.preprocessing.StandardScaler.html) to standardise your training and validation features. Then train a Random Forest Classifier by using the entropy `criterion`, 500 `n_estimators`, and also set the `random_state` to 31. Report the classification accuracy on the training and validation sets.\n",
    "\n",
    "Similarly to what we did in Question 1.18, order the features by decreasing importance and display the 50 most important features. \n",
    "\n",
    "Finally, answer the following questions:\n",
    "* What do you notice by looking at the list of the best 50 features?\n",
    "* How does the performance differ with respect to the case when the additional class indicator variables are not present (Question 1.16)? Relate your observations to the observed feature ranking.\n",
    "* Would it be easy to make use of the results in practice? Briey explain your reasoning.\n",
    "\n",
    "*(Hint: you might want to look at some of the [images](http://www.inf.ed.ac.uk/teaching/courses/iaml/2014/assts/asst3/images.html) to justify your explanations.)*"
   ]
  },
  {
   "cell_type": "code",
   "execution_count": 27,
   "metadata": {},
   "outputs": [
    {
     "name": "stdout",
     "output_type": "stream",
     "text": [
      "Classification accuracy on training set: 1.000\n",
      "Classification accuracy on validation set: 0.712\n",
      "50 Most important Random Forest features: \n",
      "Top 1, Importance: 0.00937866, feature: is_cat\n",
      "Top 2, Importance: 0.00873091, feature: is_bird\n",
      "Top 3, Importance: 0.00803027, feature: dim21\n",
      "Top 4, Importance: 0.00592459, feature: dim51\n",
      "Top 5, Importance: 0.00546327, feature: dim360\n",
      "Top 6, Importance: 0.00532546, feature: dim4\n",
      "Top 7, Importance: 0.00527111, feature: dim76\n",
      "Top 8, Importance: 0.00525429, feature: dim398\n",
      "Top 9, Importance: 0.00498252, feature: dim283\n",
      "Top 10, Importance: 0.00494177, feature: dim479\n",
      "Top 11, Importance: 0.00473384, feature: dim263\n",
      "Top 12, Importance: 0.00460919, feature: dim343\n",
      "Top 13, Importance: 0.00443329, feature: dim423\n",
      "Top 14, Importance: 0.00424469, feature: dim485\n",
      "Top 15, Importance: 0.00418858, feature: dim254\n",
      "Top 16, Importance: 0.00415750, feature: dim461\n",
      "Top 17, Importance: 0.00413438, feature: dim222\n",
      "Top 18, Importance: 0.00391389, feature: dim356\n",
      "Top 19, Importance: 0.00386034, feature: dim74\n",
      "Top 20, Importance: 0.00385037, feature: dim288\n",
      "Top 21, Importance: 0.00379159, feature: dim214\n",
      "Top 22, Importance: 0.00378110, feature: dim348\n",
      "Top 23, Importance: 0.00371255, feature: dim330\n",
      "Top 24, Importance: 0.00368343, feature: dim217\n",
      "Top 25, Importance: 0.00363277, feature: dim483\n",
      "Top 26, Importance: 0.00362589, feature: dim90\n",
      "Top 27, Importance: 0.00359703, feature: dim274\n",
      "Top 28, Importance: 0.00353310, feature: dim347\n",
      "Top 29, Importance: 0.00344761, feature: dim17\n",
      "Top 30, Importance: 0.00337739, feature: dim427\n",
      "Top 31, Importance: 0.00330582, feature: dim35\n",
      "Top 32, Importance: 0.00329836, feature: dim326\n",
      "Top 33, Importance: 0.00326671, feature: dim73\n",
      "Top 34, Importance: 0.00319331, feature: dim312\n",
      "Top 35, Importance: 0.00316041, feature: dim48\n",
      "Top 36, Importance: 0.00315516, feature: dim25\n",
      "Top 37, Importance: 0.00314609, feature: dim315\n",
      "Top 38, Importance: 0.00312842, feature: dim322\n",
      "Top 39, Importance: 0.00310114, feature: dim329\n",
      "Top 40, Importance: 0.00308522, feature: dim500\n",
      "Top 41, Importance: 0.00303441, feature: dim134\n",
      "Top 42, Importance: 0.00301656, feature: dim206\n",
      "Top 43, Importance: 0.00299790, feature: is_aeroplane\n",
      "Top 44, Importance: 0.00296790, feature: dim96\n",
      "Top 45, Importance: 0.00296498, feature: dim353\n",
      "Top 46, Importance: 0.00295200, feature: dim442\n",
      "Top 47, Importance: 0.00294290, feature: dim77\n",
      "Top 48, Importance: 0.00292726, feature: dim440\n",
      "Top 49, Importance: 0.00291036, feature: dim171\n",
      "Top 50, Importance: 0.00287703, feature: dim154\n"
     ]
    },
    {
     "data": {
      "text/plain": [
       "<matplotlib.text.Text at 0x7f41e2aa59d0>"
      ]
     },
     "execution_count": 27,
     "metadata": {},
     "output_type": "execute_result"
    },
    {
     "data": {
      "image/png": "[encoded data removed]",
      "text/plain": [
       "<matplotlib.figure.Figure at 0x7f41e2ab1350>"
      ]
     },
     "metadata": {},
     "output_type": "display_data"
    }
   ],
   "source": [
    "train_A = pd.read_csv(data_path_train, delimiter = ',').drop('imgId', axis = 1)\n",
    "valid_A = pd.read_csv(data_path_valid, delimiter = ',').drop('imgId', axis = 1)\n",
    "X_tr = train_A.drop('is_person', axis = 1)\n",
    "X_val = valid_A.drop('is_person', axis = 1)\n",
    "y_tr = train_A['is_person']\n",
    "y_val = valid_A['is_person']\n",
    "attribute_names = list(X_tr)\n",
    "scaler = preprocessing.StandardScaler().fit(X_tr)\n",
    "X_tr = scaler.transform(X_tr)\n",
    "X_val = scaler.transform(X_val)\n",
    "\n",
    "rf = RandomForestClassifier(n_estimators=500, criterion='entropy', random_state=31)\n",
    "rf.fit(X_tr, y_tr)\n",
    "print('Classification accuracy on training set: {:.3f}'.format(rf.score(X_tr, y_tr)))\n",
    "print('Classification accuracy on validation set: {:.3f}'.format(rf.score(X_val, y_val)))\n",
    "\n",
    "importances = rf.feature_importances_\n",
    "top50_idx = (-importances).argsort()[:50]\n",
    "top50_names = (np.array(attribute_names)[top50_idx])\n",
    "top50_values = importances[top50_idx]\n",
    "\n",
    "print (\"50 Most important Random Forest features: \")\n",
    "for i in range(len(top50_names)):\n",
    "    print('Top {}, Importance: {:.8f}, feature: {}'.format(i+1, top50_values[i], top50_names[i]))\n",
    "\n",
    "fig, ax = plt.subplots(1, figsize=(16,6))\n",
    "xx = np.arange(len(top50_names))\n",
    "ax.bar(xx, (top50_values))\n",
    "ax.set_xticks(xx+0.5)\n",
    "ax.set_xticklabels(np.array(attribute_names)[top50_idx], rotation='vertical')\n",
    "ax.set_title('Random forest top 50 features, max depth=10')"
   ]
  },
  {
   "cell_type": "markdown",
   "metadata": {},
   "source": [
    "*It can be observed that 3 of the category indicator variables (is_cat, is_bird, is_aeroplane) made it to the top 50 features for non-person/person classification. In comparison to the classifier that did not use class variables (accuracy on validation set equal to 0.698), this one performed slightly better (reaching accuracy of 0.712). Overall, the features that were in top 20 took similar positions in the list, with a few swaps between some of the features. Importantly, they also went down by at least 2 places, as the new class labels 'is_cat' and 'is_bird' took the top first and second positions, respectively. After top 20, the distribution of the remaing features in coparison to the list observed in 1.16 varies a lot, and one new class variable is_aeroplane is near the end of top 50.*\n",
    "\n",
    "*Despite a better overall accuracy in the present scenario, it was decided that addition of these new features is not that good idea. By observing the images in the dataset, it was found that images having cat, bird, or aeroplane labels msot often had pictures with only the label objects in it an no people, meaning that such label is a good predictor for non-human classes, but only for our data which has no images such as cat with a person. In reality, cat can often be seen with a human, meaning that the model would generalize poorly and fail on such examples.*"
   ]
  },
  {
   "cell_type": "markdown",
   "metadata": {},
   "source": [
    "## Mini challenge [30%]"
   ]
  },
  {
   "cell_type": "markdown",
   "metadata": {},
   "source": [
    "*Important: You are allowed to write up to a maximum of 600 words in this part of the assignment. The thoroughness of the exploration and the quality of the resulting discussion is just as important as the final classification performance of your chosen method(s) and credit will be divided accordingly.*"
   ]
  },
  {
   "cell_type": "markdown",
   "metadata": {},
   "source": [
    "In this final part of the assignment we will have a mini object-recognition challenge. Using the data provided you are asked to find the best classiffier for the person/no person classification task. You can apply any preprocessing steps to the data that you think fit and employ any classifier you like (with the provison that you can explain what the classifier is/preprocessing steps are doing). You can also employ any lessons learnt during the course, either from previous Assignments, the Labs or the lecture material to try and squeeze out as much performance as you possibly can. The only restriction is that all steps must be performed in `Python` by using the `numpy`, `pandas` and `sklearn` packages. You can also make use of `matplotlib` and `seaborn` for visualisation. "
   ]
  },
  {
   "cell_type": "markdown",
   "metadata": {},
   "source": [
    "**Important:** The classification performance metric that we will use for this part is the *cross-entropy* or *logarithmic loss* (see Lab 4). You should familiarise yourself with the metric by reading the `sklearn` [user guide](http://scikit-learn.org/0.17/modules/model_evaluation.html#log-loss) and [documentation](http://scikit-learn.org/0.17/modules/generated/sklearn.metrics.log_loss.html#sklearn.metrics.log_loss). To estimate this metric you will need to evaluate probability outputs, as opposed to discrete predictions which we have used so far to compute classification accuracies. Most models in `sklearn` implement a `predict_proba()` method which returns the probabilities for each class. For instance, if your test set consists of `N` datapoints and there are `K` classes, the method will return a `N` x `K` matrix."
   ]
  },
  {
   "cell_type": "markdown",
   "metadata": {},
   "source": [
    "We provide you with three new data sets: a training set (`train_images_partB.csv`), a validation set (`valid_images_partB.csv`), and a test set (`test_images_partB.csv`). You must use the former two for training and evaluating your models (as you see fit). Once you have chosen your favourite model (and pre-processing steps) you should apply it to the test set (for which no labels are provided). Estimate the posterior proabilities for the data points in the test set and submit your results as part of your answer. Your results will be evaluated in terms of the logarithmic loss metric. You also need to submit a brief description of the approaches you considered, your suggested final approach, and a short explanation of why you chose it. The thoroughness of the exploration and the quality of the resulting discussion is just as important as the final score of your chosen method(s) and credit will be divided accordingly.\n",
    "\n",
    "*Hint: Feature engineering, feature combination, model combination and model parameter optimization can significantly improve performance.*"
   ]
  },
  {
   "cell_type": "markdown",
   "metadata": {},
   "source": [
    "**How to submit your results**: Store the estimated probabilities for the data points in the test set in a 2D numpy array. Then execute the provided cell at the end of this notebook which uses a provided `save_predictions` function to export your results into a `.txt` file (the function will return an error if the provided array has not the right shape). The `.txt` file will be saved where your notebook lives. Submit this file along with your notebook as detailed at the top of this file."
   ]
  },
  {
   "cell_type": "code",
   "execution_count": 3,
   "metadata": {},
   "outputs": [
    {
     "name": "stderr",
     "output_type": "stream",
     "text": [
      "/home/ondes/miniconda3/envs/iaml/lib/python2.7/site-packages/sklearn/cross_validation.py:41: DeprecationWarning: This module was deprecated in version 0.18 in favor of the model_selection module into which all the refactored classes and functions are moved. Also note that the interface of the new CV iterators are different from that of this module. This module will be removed in 0.20.\n",
      "  \"This module will be removed in 0.20.\", DeprecationWarning)\n",
      "/home/ondes/miniconda3/envs/iaml/lib/python2.7/site-packages/sklearn/grid_search.py:42: DeprecationWarning: This module was deprecated in version 0.18 in favor of the model_selection module into which all the refactored classes and functions are moved. This module will be removed in 0.20.\n",
      "  DeprecationWarning)\n"
     ]
    }
   ],
   "source": [
    "from __future__ import print_function, division\n",
    "import os\n",
    "import numpy as np \n",
    "import pandas as pd\n",
    "import matplotlib.pyplot as plt\n",
    "import seaborn as sns\n",
    "from sklearn.dummy import DummyClassifier\n",
    "from sklearn.linear_model import LogisticRegression, LogisticRegressionCV\n",
    "from sklearn import preprocessing\n",
    "from sklearn.model_selection import KFold, cross_val_predict, cross_val_score\n",
    "from sklearn import metrics, cross_validation\n",
    "from sklearn.metrics import accuracy_score, log_loss\n",
    "from sklearn.ensemble import RandomForestClassifier, VotingClassifier\n",
    "from sklearn.svm import LinearSVC, SVC\n",
    "from sklearn.grid_search import GridSearchCV\n",
    "from sklearn.naive_bayes import GaussianNB, BernoulliNB, MultinomialNB\n",
    "from sklearn.neighbors import KNeighborsClassifier\n",
    "import matplotlib.patches as mpatches\n",
    "import itertools\n",
    "%matplotlib inline"
   ]
  },
  {
   "cell_type": "markdown",
   "metadata": {},
   "source": [
    "*In order to find the best classiffier for the person/no person classification task, it was decided to try out 5 different algorithms: Logistic Regression (LR), Random Forest (RF), Support Vector Machine (SVC), k-Nearest Neighbours (kNN), and Stochastic Gradient Descent (SGD). The choices were based on the previous experiments using a similar database, though 2 extra classifiers were also considered (SGD, kNN) to make the search more extensive.* \n",
    "\n",
    "*1. First of all, the datasets (training, validation, testing) were equalized to contain the same amount of attributes (500), and the first classification was performed using noted classifiers with settings as in the first part of the assignment (e.g., LR solver = 'lbfgs', and RF criterion = 'entropy'). For SVC, only 'rbf' kernel was considered, since it showed the best performance then (other settings by default). The new addition, SGD, by default fits a linear support vector machine (similar to SVC linear kernel), but using learning, where the gradient of the loss is estimated for each sample and the model updated along the way. The kNN was tried since it differs from all approaches (does not construct a general model, but stores the training data instances and classifies unseen data points using a majority vote of nearest neighbors at each point (representatives of each class around). A dummy classifier that predicts the most frequent label was also included despite not being appropriate when using logarithmic loss as classification metric. \n",
    "All of the models performed significantly better than the dummy, with smallest cross-entropies observed for LR (0.67952) and SVC (0.69298). The worst performance was observed for kNN and SGD models, with significantly higher cross-entropies (1.70057, 0.80533, respectively).*\n",
    "\n",
    "*2. The poor performance of most models was assumed to be conditioned by non-normal distributions of feature values and outliers, both of which most of the models are sensitive to. It was decided to remove the outliers, and standardize the data to make it somewhat normally distributed. The outlier removal was carried out by removing training set data point (documents) that had feature values more than than 3 standard deviations away from the mean. Then, the features were standardized to approximate a zero mean and 1 unit variance Gaussians using a standard scaler (fit to the training dataset after outlier removal, and used to transform the features of training, validation, and testing sets). Finally, the indexes of columns (features) having all values all the values equal to 0 (same across all data points, thus, unhelpful) were found, and used to remove the features that have no discriminative properties.Surprisingly, the average performance of the models was greatly impaired, though SVC benefited a lot from the procedure, bringing the best logarithmic loss observed to 0.54171. I assumed that the worse overall performance of the models might have been due to untuned parameters, so the next step was to tune them for every model.*\n",
    "\n",
    "*3.1. For LR, the only tuned parameter was C, representing the inverse regularization strength of the model. Smaller values of C should result in stronger regularization, which should also result in smaller validation set logarithmic losses. 500 different C values were considered in the logspace between -4 and 0 to find the optimal C value. LogisticRegressionCV using cross validation with 3 folds on the training set was used to guide the choice. After the optimal C was found, the LR using it was tested on the validation set, showing huge performance improvement (logarithmic loss dropped to 0.5794).*\n",
    "\n",
    "*3.2. Random forest parameter tuning was performed in a sequential manner to make the search over parameters more feasible. Firstly, a grid search over the number of features that are considered when looking for the best split (22 to 250) and number of trees in the forest (350 to 950) was carried out (see the code for details), using 3-fold cross-validation on the training set. The optimal values were found to be 85 and 800 (respectively), using which the model's logarithmic loss on the validation set dropped to 0.5797. To improve RF regularization, the search over maximum depth of the tree parameter was performed after (5 to 29). Models with varying depth were fit to the training set and evaluated on the validation set, the best one chosen (depth 15, logarithmic loss 0.5777). Fully trained RF was then further improved by setting the 'class_weights' parameter to 'balanced', which uses the target values to adjust weights accordingly to class frequencies (logarithmic loss 0.5761). To make the output of RF possible to interpret as a confidence level, it was important to calibrate it. The calibration was the last step of RF parameter tuning, carried out using cross-validation with 3 folds, and sigmoid method. That resulted in a further logarithmic loss drop (0.5695).*\n",
    "\n",
    "*3.3. CV was tuned in terms of various C value and gamma parameters. A grid search over 20 Cs in the logspace range between -2 and 2, and 20 gammas in the logspace range between -4 and 1 was performed using 3-fold cross-validation and the training data, resulting in optimal values of C and gamma (~1.2743, ~0.0021, respectively). SVC with optimal values achieved logarithmic loss on the validation set equal to 0.5416. Calibrating the classifier as done with RF further improved the model, resulting in logarithmic loss of 0.5395).* \n",
    "\n",
    "*3.4. kNN was tuned in terms of the amount of neighbors are considered when making the classification (ranging from 5 to 69). The performances were evaluated by fitting models with varying amount of neighbours to the training set, and calculating the logarithmic loss on the validation set. The lowest logarithmic loss was achieved when using 36 neighbours, equal to 5.940. Calibration of the classifier (as done before), allowed the model to perform similarly well to LR and other classifiers, with logarithmic loss of 0.5771.*\n",
    "\n",
    "*3.5. Finally, the SGD was tuned in terms of alpha (constant related to model regularization) and max iterations over the training set. 250 different alphas were looked upon in varying ranges (check the code for more info), allowing to find the optimal one (0.2144), resulting in a logarithmic loss on the validation set equal to 0.5822. Changing the amount of maximum iterations over the training set (from 1 to 49) using optimal alpha allowed to find the optimal amount of max iterations (7), resulting in an even lower loss (0.5776). Both of the searches were performed by fitting models on the training data and testing using validation set.*\n",
    "\n",
    "*4.1. Ultimately, a soft voting technique was used to combine models and find the best-performing ensemble for the task. All possible combinations were fit to the training set and evaluated in terms of logarithmic loss on the validation set (check the code for more info). Quite suprisingle, a single SVC model outperformed all the possible combinations, making model combining unnecessary. The final validation logarithmic loss is thus 0.5395, and the tuned rbf SVC was used for test data classification.*"
   ]
  },
  {
   "cell_type": "code",
   "execution_count": 42,
   "metadata": {},
   "outputs": [
    {
     "name": "stdout",
     "output_type": "stream",
     "text": [
      "The original dataset: \n",
      "Train instances: 2113, attributes: 520\n",
      "Valid instances: 1113, attributes: 520\n",
      "Test  instances: 1114, attributes: 501\n",
      "\n",
      "Preparing the datasets...\n",
      "Train instances: 2113, attributes: 500\n",
      "Valid instances: 1113, attributes: 500\n",
      "Test  instances: 1114, attributes: 500\n"
     ]
    }
   ],
   "source": [
    "#############################################################################################################\n",
    "# Loading the data\n",
    "#############################################################################################################\n",
    "data_path_train = os.path.join(os.getcwd(), 'datasets', 'train_images_partB.csv')\n",
    "data_path_valid = os.path.join(os.getcwd(), 'datasets', 'valid_images_partB.csv')\n",
    "data_path_test = os.path.join(os.getcwd(), 'datasets', 'test_images_partB.csv')\n",
    "train = pd.read_csv(data_path_train, delimiter = ',')\n",
    "valid = pd.read_csv(data_path_valid, delimiter = ',')\n",
    "test = pd.read_csv(data_path_test, delimiter = ',')\n",
    "print('The original dataset: ')\n",
    "print('Train instances: {}, attributes: {}'.format(train.shape[0], train.shape[1]))\n",
    "print('Valid instances: {}, attributes: {}'.format(valid.shape[0], valid.shape[1]))\n",
    "print('Test  instances: {}, attributes: {}'.format(test.shape[0], test.shape[1]))\n",
    "\n",
    "attributes = list(train)[1:501]\n",
    "X_train = train[attributes]\n",
    "X_valid = valid[attributes]\n",
    "X_test = test[attributes]\n",
    "y_train = train['is_person']\n",
    "y_valid = valid['is_person']\n",
    "y_test = test['is_person']\n",
    "print('\\nPreparing the datasets...')\n",
    "print('Train instances: {}, attributes: {}'.format(X_train.shape[0], X_train.shape[1]))\n",
    "print('Valid instances: {}, attributes: {}'.format(X_valid.shape[0], X_valid.shape[1]))\n",
    "print('Test  instances: {}, attributes: {}'.format(X_test.shape[0], X_test.shape[1]))"
   ]
  },
  {
   "cell_type": "code",
   "execution_count": 43,
   "metadata": {},
   "outputs": [
    {
     "name": "stdout",
     "output_type": "stream",
     "text": [
      "Logarithmic losses (no parameter-tuning): \n",
      "Dummy: 16.35394\n",
      "LR   : 0.67952\n",
      "RF   : 0.76144\n",
      "SVC  : 0.69298\n",
      "kNN  : 1.70057\n",
      "SGD  : 0.80533\n",
      "\n",
      "Removing outliers and standardizing training data...\n",
      "Original size: 2113\n",
      "Size without outliers: 2093\n",
      "(1113, 495)\n",
      "(1113, 495)\n",
      "(1113, 495)\n",
      "Dummy: 16.35394\n",
      "LR   : 0.83540\n",
      "RF   : 0.81868\n",
      "SVC  : 0.54171\n",
      "kNN  : 1.54602\n",
      "SGD  : 11.64825\n"
     ]
    }
   ],
   "source": [
    "#############################################################################################################\n",
    "# 1. Simple classifiers (Logistic Regression, Random Forest, Support Vector Machine, k-Nearest Neighbour)\n",
    "#############################################################################################################\n",
    "print ('Logarithmic losses (no parameter-tuning): ')\n",
    "dummy = DummyClassifier(strategy='most_frequent')\n",
    "lr = LogisticRegression(solver='lbfgs', random_state=0)\n",
    "rf = RandomForestClassifier(criterion='entropy', random_state=0)\n",
    "svc = SVC(kernel='rbf', probability=True, random_state=0)\n",
    "knn = KNeighborsClassifier()\n",
    "sgd = SGDClassifier(loss=\"log\", random_state=0)\n",
    "models = [dummy, lr, rf, svc, knn, sgd]\n",
    "model_names = ['Dummy', 'LR   ', 'RF   ', 'SVC  ', 'kNN  ', 'SGD  ']\n",
    "idx = 0\n",
    "for model in models:\n",
    "    model.fit(X_train, y_train)\n",
    "    predictions = model.predict_proba(X_valid)\n",
    "    logarithmic_loss = log_loss(y_valid, predictions)\n",
    "    print (\"{}: {:.5f}\".format(model_names[idx], logarithmic_loss))\n",
    "    idx += 1\n",
    "\n",
    "#############################################################################################################\n",
    "# 2. Data preprocessing (feature engineering)\n",
    "#############################################################################################################\n",
    "    \n",
    "# 2.1. Removing outliers\n",
    "#############################################################################################################\n",
    "print (\"\\nRemoving outliers and standardizing training data...\")\n",
    "print (\"Original size: {}\".format(X_train.shape[0]))\n",
    "attributes.append('is_person')\n",
    "copy = train.copy(deep=True)[attributes]\n",
    "# Lambda expression to filter outliers that are more than 3 std away from the mean: \n",
    "filtering = lambda x: np.abs(x-x.mean())/x.std() < 3\n",
    "# Choose rows without any outliers (where filtering function gives True for all entries).\n",
    "cleaned = copy[copy.apply(filtering).all(axis=1)]\n",
    "X_train = cleaned.drop('is_person', axis = 1)\n",
    "y_train = cleaned['is_person']\n",
    "print (\"Size without outliers: {}\".format(X_train.shape[0]))\n",
    "\n",
    "# 2.2. Standardizing\n",
    "#############################################################################################################\n",
    "scaler = preprocessing.StandardScaler().fit(X_train)\n",
    "X_train = scaler.transform(X_train)\n",
    "X_valid = scaler.transform(X_valid)\n",
    "X_test = scaler.transform(X_test)\n",
    "\n",
    "# 2.3. Insignificant feature removal\n",
    "#############################################################################################################\n",
    "zero_columns = np.where(~X_train.any(axis=0))[0]\n",
    "X_train = np.delete(X_train, zero_columns, 1)\n",
    "X_valid = np.delete(X_valid, zero_columns, 1)\n",
    "X_test = np.delete(X_test, zero_columns, 1)\n",
    "\n",
    "# 2.4. Feature engineering results\n",
    "#############################################################################################################\n",
    "idx = 0\n",
    "for model in models:\n",
    "    model.fit(X_train, y_train)\n",
    "    predictions = model.predict_proba(X_valid)\n",
    "    logarithmic_loss = log_loss(y_valid, predictions)\n",
    "    print (\"{}: {:.5f}\".format(model_names[idx], logarithmic_loss))\n",
    "    idx += 1"
   ]
  },
  {
   "cell_type": "code",
   "execution_count": 44,
   "metadata": {},
   "outputs": [
    {
     "name": "stdout",
     "output_type": "stream",
     "text": [
      "The optimal value for C: 0.00188169442497\n",
      "The logarithmic loss: 0.5794\n"
     ]
    }
   ],
   "source": [
    "#############################################################################################################\n",
    "# 3.1. Logistic Regression (parameter tuning)\n",
    "#############################################################################################################\n",
    "c_values = np.logspace(-4, 0, 500)\n",
    "lr = LogisticRegressionCV(solver='lbfgs', Cs=c_values, cv=3, random_state=0).fit(X_train, y_train)\n",
    "optimal_C = lr.C_[0]\n",
    "print(\"The optimal value for C: {}\".format(optimal_C))\n",
    "\n",
    "lr = LogisticRegression(solver='lbfgs', C=optimal_C, random_state=0).fit(X_train, y_train)\n",
    "predictions = lr.predict_proba(X_valid)\n",
    "logarithmic_loss = log_loss(y_valid, predictions)\n",
    "print('The logarithmic loss: {:.4}'.format(logarithmic_loss))"
   ]
  },
  {
   "cell_type": "code",
   "execution_count": 79,
   "metadata": {},
   "outputs": [
    {
     "name": "stdout",
     "output_type": "stream",
     "text": [
      "{'max_features': 85, 'n_estimators': 800}\n"
     ]
    }
   ],
   "source": [
    "#############################################################################################################\n",
    "# 3.2. RandomForest (parameter tuning)\n",
    "#############################################################################################################\n",
    "rf = RandomForestClassifier(n_jobs=-1, oob_score = True, random_state=0) \n",
    "param_grid = {\n",
    "           \"max_features\": [22, 40, 60, 85, 110, 140, 170, 210, 250],\n",
    "           \"n_estimators\" : [350, 500, 650, 800, 950]}\n",
    "\n",
    "CV_rfc = GridSearchCV(estimator=rf, param_grid=param_grid, cv=3)\n",
    "CV_rfc.fit(X_train, y_train)\n",
    "print (CV_rfc.best_params_)"
   ]
  },
  {
   "cell_type": "code",
   "execution_count": 12,
   "metadata": {},
   "outputs": [
    {
     "name": "stdout",
     "output_type": "stream",
     "text": [
      "Logarithmic loss: 0.57970\n"
     ]
    }
   ],
   "source": [
    "# Random forest test with tuned n_estimators and max_features.\n",
    "rf = RandomForestClassifier(n_estimators=800, criterion='entropy', random_state=0, max_features = 85).fit(X_train, y_train)\n",
    "predictions = rf.predict_proba(X_valid)\n",
    "logarithmic_loss = log_loss(y_valid, predictions)\n",
    "print('Logarithmic loss: {:.5f}'.format(logarithmic_loss))"
   ]
  },
  {
   "cell_type": "code",
   "execution_count": 190,
   "metadata": {},
   "outputs": [
    {
     "name": "stdout",
     "output_type": "stream",
     "text": [
      "Depth: 5, Logarithmic loss: 0.59962\n",
      "Depth: 6, Logarithmic loss: 0.59291\n",
      "Depth: 7, Logarithmic loss: 0.58730\n",
      "Depth: 8, Logarithmic loss: 0.58257\n",
      "Depth: 9, Logarithmic loss: 0.58367\n",
      "Depth: 10, Logarithmic loss: 0.57905\n",
      "Depth: 11, Logarithmic loss: 0.57979\n",
      "Depth: 12, Logarithmic loss: 0.57914\n",
      "Depth: 13, Logarithmic loss: 0.58066\n",
      "Depth: 14, Logarithmic loss: 0.57956\n",
      "Depth: 15, Logarithmic loss: 0.57880\n",
      "Depth: 16, Logarithmic loss: 0.57963\n",
      "Depth: 17, Logarithmic loss: 0.57981\n",
      "Depth: 18, Logarithmic loss: 0.57980\n",
      "Depth: 19, Logarithmic loss: 0.58012\n",
      "Depth: 20, Logarithmic loss: 0.57973\n",
      "Depth: 21, Logarithmic loss: 0.57958\n",
      "Depth: 22, Logarithmic loss: 0.57976\n",
      "Depth: 23, Logarithmic loss: 0.57973\n",
      "Depth: 24, Logarithmic loss: 0.57972\n",
      "Depth: 25, Logarithmic loss: 0.57973\n",
      "Depth: 26, Logarithmic loss: 0.57970\n",
      "Depth: 27, Logarithmic loss: 0.57970\n",
      "Depth: 28, Logarithmic loss: 0.57970\n",
      "Depth: 29, Logarithmic loss: 0.57970\n",
      "15\n"
     ]
    }
   ],
   "source": [
    "# Looking for the optimal maximum depth of the classifier in order to choose one that generalizes best.\n",
    "max_depth = np.arange(5, 30, 1)\n",
    "logarithmic_losses = []\n",
    "for depth in max_depth:\n",
    "    rf = RandomForestClassifier(n_estimators=800, criterion='entropy', random_state=0, max_features = 85, max_depth = depth).fit(X_train, y_train)\n",
    "    predictions = rf.predict_proba(X_valid)\n",
    "    logarithmic_loss = log_loss(y_valid, predictions)\n",
    "    print('Depth: {}, Logarithmic loss: {:.5f}'.format(depth, logarithmic_loss))\n",
    "    logarithmic_losses.append(logarithmic_loss)\n",
    "\n",
    "max_ind = np.array(logarithmic_losses).argmin()\n",
    "optimal_depth = max_depth[max_ind]\n",
    "print (optimal_depth)"
   ]
  },
  {
   "cell_type": "code",
   "execution_count": 47,
   "metadata": {},
   "outputs": [
    {
     "name": "stdout",
     "output_type": "stream",
     "text": [
      "Logarithmic loss: 0.57766\n"
     ]
    }
   ],
   "source": [
    "# RF with tuned n_estimators, max_features, max_depth.\n",
    "rf = RandomForestClassifier(n_estimators=800, criterion='entropy', random_state=0, max_features = 85, max_depth = 15).fit(X_train, y_train)\n",
    "predictions = rf.predict_proba(X_valid)\n",
    "logarithmic_loss = log_loss(y_valid, predictions)\n",
    "print('Logarithmic loss: {:.5f}'.format(logarithmic_loss))"
   ]
  },
  {
   "cell_type": "code",
   "execution_count": 48,
   "metadata": {},
   "outputs": [
    {
     "name": "stdout",
     "output_type": "stream",
     "text": [
      "Logarithmic loss: 0.57607\n"
     ]
    }
   ],
   "source": [
    "# Fully-tuned RF with balanced class weights.\n",
    "rf = RandomForestClassifier(n_estimators=800, criterion='entropy', random_state=0, max_features = 85, max_depth = 15, class_weight='balanced').fit(X_train, y_train)\n",
    "predictions = rf.predict_proba(X_valid)\n",
    "logarithmic_loss = log_loss(y_valid, predictions)\n",
    "print('Logarithmic loss: {:.5f}'.format(logarithmic_loss))"
   ]
  },
  {
   "cell_type": "code",
   "execution_count": 49,
   "metadata": {},
   "outputs": [
    {
     "name": "stdout",
     "output_type": "stream",
     "text": [
      "The logarithmic loss: 0.56946\n"
     ]
    }
   ],
   "source": [
    "# RF calibration\n",
    "rf = CalibratedClassifierCV(base_estimator=rf, method='sigmoid', cv=3).fit(X_train, y_train)\n",
    "predictions = rf.predict_proba(X_valid)\n",
    "logarithmic_loss = log_loss(y_valid, predictions)\n",
    "print('The logarithmic loss: {:.5}'.format(logarithmic_loss))"
   ]
  },
  {
   "cell_type": "code",
   "execution_count": 80,
   "metadata": {},
   "outputs": [
    {
     "name": "stdout",
     "output_type": "stream",
     "text": [
      "{'C': 1.2742749857031335, 'gamma': 0.0020691380811147901}\n"
     ]
    }
   ],
   "source": [
    "#############################################################################################################\n",
    "# 3.3. SVC (parameter tuning)\n",
    "#############################################################################################################\n",
    "# Looking for optimal C and gamma parameters of the SVC. \n",
    "Cs = np.logspace(-2, 2, 20)\n",
    "gammas = np.logspace(-4, 1, 20)\n",
    "param_grid = {'C': Cs, 'gamma' : gammas}\n",
    "grid_search = GridSearchCV(SVC(kernel='rbf'), param_grid, cv=3).fit(X_train, y_train)\n",
    "print (grid_search.best_params_)"
   ]
  },
  {
   "cell_type": "code",
   "execution_count": 50,
   "metadata": {},
   "outputs": [
    {
     "name": "stdout",
     "output_type": "stream",
     "text": [
      "The logarithmic loss: 0.54156\n"
     ]
    }
   ],
   "source": [
    "# Evaluating SVC with optimal C and gamma parameters on the validation set.\n",
    "svc = SVC(kernel='rbf', C=1.2742749857031335, gamma=0.0020691380811147901, probability=True).fit(X_train, y_train)\n",
    "predictions = svc.predict_proba(X_valid)\n",
    "logarithmic_loss = log_loss(y_valid, predictions)\n",
    "print('The logarithmic loss: {:.5}'.format(logarithmic_loss))"
   ]
  },
  {
   "cell_type": "code",
   "execution_count": 51,
   "metadata": {},
   "outputs": [
    {
     "name": "stdout",
     "output_type": "stream",
     "text": [
      "The logarithmic loss: 0.53952\n"
     ]
    }
   ],
   "source": [
    "# SVC calibration.\n",
    "from sklearn.calibration import CalibratedClassifierCV\n",
    "svc = CalibratedClassifierCV(base_estimator=svc, method='isotonic', cv=3).fit(X_train, y_train)\n",
    "predictions = svc.predict_proba(X_valid)\n",
    "logarithmic_loss = log_loss(y_valid, predictions)\n",
    "print('The logarithmic loss: {:.5}'.format(logarithmic_loss))"
   ]
  },
  {
   "cell_type": "code",
   "execution_count": 230,
   "metadata": {},
   "outputs": [
    {
     "name": "stdout",
     "output_type": "stream",
     "text": [
      "Amount of neighbours (n): 5, logarithmic loss: 1.546\n",
      "Amount of neighbours (n): 6, logarithmic loss: 1.3032\n",
      "Amount of neighbours (n): 7, logarithmic loss: 0.97608\n",
      "Amount of neighbours (n): 8, logarithmic loss: 0.7765\n",
      "Amount of neighbours (n): 9, logarithmic loss: 0.6925\n",
      "Amount of neighbours (n): 10, logarithmic loss: 0.66381\n",
      "Amount of neighbours (n): 11, logarithmic loss: 0.63076\n",
      "Amount of neighbours (n): 12, logarithmic loss: 0.62481\n",
      "Amount of neighbours (n): 13, logarithmic loss: 0.62603\n",
      "Amount of neighbours (n): 14, logarithmic loss: 0.62382\n",
      "Amount of neighbours (n): 15, logarithmic loss: 0.62521\n",
      "Amount of neighbours (n): 16, logarithmic loss: 0.62438\n",
      "Amount of neighbours (n): 17, logarithmic loss: 0.6262\n",
      "Amount of neighbours (n): 18, logarithmic loss: 0.62706\n",
      "Amount of neighbours (n): 19, logarithmic loss: 0.62439\n",
      "Amount of neighbours (n): 20, logarithmic loss: 0.62433\n",
      "Amount of neighbours (n): 21, logarithmic loss: 0.62615\n",
      "Amount of neighbours (n): 22, logarithmic loss: 0.62493\n",
      "Amount of neighbours (n): 23, logarithmic loss: 0.59716\n",
      "Amount of neighbours (n): 24, logarithmic loss: 0.59904\n",
      "Amount of neighbours (n): 25, logarithmic loss: 0.59819\n",
      "Amount of neighbours (n): 26, logarithmic loss: 0.59892\n",
      "Amount of neighbours (n): 27, logarithmic loss: 0.59829\n",
      "Amount of neighbours (n): 28, logarithmic loss: 0.5979\n",
      "Amount of neighbours (n): 29, logarithmic loss: 0.59763\n",
      "Amount of neighbours (n): 30, logarithmic loss: 0.59753\n",
      "Amount of neighbours (n): 31, logarithmic loss: 0.59765\n",
      "Amount of neighbours (n): 32, logarithmic loss: 0.59728\n",
      "Amount of neighbours (n): 33, logarithmic loss: 0.59518\n",
      "Amount of neighbours (n): 34, logarithmic loss: 0.59574\n",
      "Amount of neighbours (n): 35, logarithmic loss: 0.59417\n",
      "Amount of neighbours (n): 36, logarithmic loss: 0.59395\n",
      "Amount of neighbours (n): 37, logarithmic loss: 0.59456\n",
      "Amount of neighbours (n): 38, logarithmic loss: 0.59427\n",
      "Amount of neighbours (n): 39, logarithmic loss: 0.59408\n",
      "Amount of neighbours (n): 40, logarithmic loss: 0.59533\n",
      "Amount of neighbours (n): 41, logarithmic loss: 0.59567\n",
      "Amount of neighbours (n): 42, logarithmic loss: 0.59664\n",
      "Amount of neighbours (n): 43, logarithmic loss: 0.59738\n",
      "Amount of neighbours (n): 44, logarithmic loss: 0.59726\n",
      "Amount of neighbours (n): 45, logarithmic loss: 0.59816\n",
      "Amount of neighbours (n): 46, logarithmic loss: 0.59798\n",
      "Amount of neighbours (n): 47, logarithmic loss: 0.59725\n",
      "Amount of neighbours (n): 48, logarithmic loss: 0.59723\n",
      "Amount of neighbours (n): 49, logarithmic loss: 0.59646\n",
      "Amount of neighbours (n): 50, logarithmic loss: 0.59656\n",
      "Amount of neighbours (n): 51, logarithmic loss: 0.59725\n",
      "Amount of neighbours (n): 52, logarithmic loss: 0.59808\n",
      "Amount of neighbours (n): 53, logarithmic loss: 0.59855\n",
      "Amount of neighbours (n): 54, logarithmic loss: 0.59845\n",
      "Amount of neighbours (n): 55, logarithmic loss: 0.59932\n",
      "Amount of neighbours (n): 56, logarithmic loss: 0.59871\n",
      "Amount of neighbours (n): 57, logarithmic loss: 0.59862\n",
      "Amount of neighbours (n): 58, logarithmic loss: 0.59852\n",
      "Amount of neighbours (n): 59, logarithmic loss: 0.59834\n",
      "Amount of neighbours (n): 60, logarithmic loss: 0.59864\n",
      "Amount of neighbours (n): 61, logarithmic loss: 0.59811\n",
      "Amount of neighbours (n): 62, logarithmic loss: 0.59766\n",
      "Amount of neighbours (n): 63, logarithmic loss: 0.59769\n",
      "Amount of neighbours (n): 64, logarithmic loss: 0.59762\n",
      "Amount of neighbours (n): 65, logarithmic loss: 0.5974\n",
      "Amount of neighbours (n): 66, logarithmic loss: 0.59762\n",
      "Amount of neighbours (n): 67, logarithmic loss: 0.59744\n",
      "Amount of neighbours (n): 68, logarithmic loss: 0.5977\n",
      "Amount of neighbours (n): 69, logarithmic loss: 0.59807\n",
      "Optimal amount of neighbours found: 36\n",
      "\n",
      "The logarithmic loss: 0.59395\n"
     ]
    }
   ],
   "source": [
    "#############################################################################################################\n",
    "# 4. kNN (parameter tuning)\n",
    "#############################################################################################################\n",
    "n_neighbors = np.arange(5, 70, 1)\n",
    "log_losses = []\n",
    "for n in n_neighbors:\n",
    "    clf = KNeighborsClassifier(n_neighbors=n).fit(X_train, y_train)\n",
    "    predictions = clf.predict_proba(X_valid)\n",
    "    logarithmic_loss = log_loss(y_valid, predictions)\n",
    "    log_losses.append(logarithmic_loss)\n",
    "    print('Amount of neighbours (n): {}, logarithmic loss: {:.5}'.format(n, logarithmic_loss))\n",
    "\n",
    "max_ind = np.array(log_losses).argmin()\n",
    "optimal_n = n_neighbors[max_ind]\n",
    "print (\"Optimal amount of neighbours found: {}\\n\".format(optimal_n))\n",
    "    \n",
    "# Evaluating knn with optimal amount of neighbours.\n",
    "knn = KNeighborsClassifier(n_neighbors = optimal_n).fit(X_train, y_train)\n",
    "predictions = knn.predict_proba(X_valid)\n",
    "logarithmic_loss = log_loss(y_valid, predictions)\n",
    "print('The logarithmic loss: {:.5}'.format(logarithmic_loss))"
   ]
  },
  {
   "cell_type": "code",
   "execution_count": 53,
   "metadata": {},
   "outputs": [
    {
     "name": "stdout",
     "output_type": "stream",
     "text": [
      "The logarithmic loss: 0.59395\n"
     ]
    }
   ],
   "source": [
    "# Evaluating knn with optimal amount of neighbours.\n",
    "knn = KNeighborsClassifier(n_neighbors = 36).fit(X_train, y_train)\n",
    "predictions = knn.predict_proba(X_valid)\n",
    "logarithmic_loss = log_loss(y_valid, predictions)\n",
    "print('The logarithmic loss: {:.5}'.format(logarithmic_loss))"
   ]
  },
  {
   "cell_type": "code",
   "execution_count": 54,
   "metadata": {},
   "outputs": [
    {
     "name": "stdout",
     "output_type": "stream",
     "text": [
      "The logarithmic loss: 0.57712\n"
     ]
    }
   ],
   "source": [
    "knn = CalibratedClassifierCV(base_estimator=knn, method='isotonic', cv=3).fit(X_train, y_train)\n",
    "predictions = knn.predict_proba(X_valid)\n",
    "logarithmic_loss = log_loss(y_valid, predictions)\n",
    "print('The logarithmic loss: {:.5}'.format(logarithmic_loss))"
   ]
  },
  {
   "cell_type": "code",
   "execution_count": 55,
   "metadata": {},
   "outputs": [
    {
     "name": "stdout",
     "output_type": "stream",
     "text": [
      "alpha: 1e-05, logarithmic loss: 12.107\n",
      "alpha: 1.2649e-05, logarithmic loss: 12.599\n",
      "alpha: 1.5999e-05, logarithmic loss: 12.739\n",
      "alpha: 2.0236e-05, logarithmic loss: 12.519\n",
      "alpha: 2.5595e-05, logarithmic loss: 12.023\n",
      "alpha: 3.2375e-05, logarithmic loss: 11.255\n",
      "alpha: 4.0949e-05, logarithmic loss: 11.762\n",
      "alpha: 5.1795e-05, logarithmic loss: 12.364\n",
      "alpha: 6.5513e-05, logarithmic loss: 11.82\n",
      "alpha: 8.2864e-05, logarithmic loss: 11.641\n",
      "alpha: 0.00010481, logarithmic loss: 12.115\n",
      "alpha: 0.00013257, logarithmic loss: 11.31\n",
      "alpha: 0.00016768, logarithmic loss: 11.867\n",
      "alpha: 0.0002121, logarithmic loss: 10.754\n",
      "alpha: 0.00026827, logarithmic loss: 10.644\n",
      "alpha: 0.00033932, logarithmic loss: 10.223\n",
      "alpha: 0.00042919, logarithmic loss: 9.8151\n",
      "alpha: 0.00054287, logarithmic loss: 9.3417\n",
      "alpha: 0.00068665, logarithmic loss: 8.7381\n",
      "alpha: 0.00086851, logarithmic loss: 8.2979\n",
      "alpha: 0.0010985, logarithmic loss: 7.4014\n",
      "alpha: 0.0013895, logarithmic loss: 6.1582\n",
      "alpha: 0.0017575, logarithmic loss: 5.4269\n",
      "alpha: 0.002223, logarithmic loss: 4.2092\n",
      "alpha: 0.0028118, logarithmic loss: 3.4472\n",
      "alpha: 0.0035565, logarithmic loss: 2.8985\n",
      "alpha: 0.0044984, logarithmic loss: 2.3037\n",
      "alpha: 0.0056899, logarithmic loss: 1.7579\n",
      "alpha: 0.0071969, logarithmic loss: 1.4402\n",
      "alpha: 0.009103, logarithmic loss: 1.1842\n",
      "alpha: 0.011514, logarithmic loss: 1.0212\n",
      "alpha: 0.014563, logarithmic loss: 0.8943\n",
      "alpha: 0.018421, logarithmic loss: 0.80442\n",
      "alpha: 0.0233, logarithmic loss: 0.73916\n",
      "alpha: 0.029471, logarithmic loss: 0.6935\n",
      "alpha: 0.037276, logarithmic loss: 0.65961\n",
      "alpha: 0.047149, logarithmic loss: 0.63469\n",
      "alpha: 0.059636, logarithmic loss: 0.61624\n",
      "alpha: 0.075431, logarithmic loss: 0.60318\n",
      "alpha: 0.09541, logarithmic loss: 0.59421\n",
      "alpha: 0.12068, logarithmic loss: 0.58782\n",
      "alpha: 0.15264, logarithmic loss: 0.5841\n",
      "alpha: 0.19307, logarithmic loss: 0.5824\n",
      "alpha: 0.24421, logarithmic loss: 0.58245\n",
      "alpha: 0.30888, logarithmic loss: 0.58392\n",
      "alpha: 0.39069, logarithmic loss: 0.5864\n",
      "alpha: 0.49417, logarithmic loss: 0.58954\n",
      "alpha: 0.62506, logarithmic loss: 0.59311\n",
      "alpha: 0.7906, logarithmic loss: 0.59704\n",
      "alpha: 1.0, logarithmic loss: 0.60165\n",
      "Optimal alpha found by wide search: 0.193069772888\n",
      "\n",
      "alpha: 0.096535, logarithmic loss: 0.59384\n",
      "alpha: 0.09799, logarithmic loss: 0.59336\n",
      "alpha: 0.099445, logarithmic loss: 0.5929\n",
      "alpha: 0.1009, logarithmic loss: 0.59244\n",
      "alpha: 0.10236, logarithmic loss: 0.592\n",
      "alpha: 0.10381, logarithmic loss: 0.59158\n",
      "alpha: 0.10527, logarithmic loss: 0.59117\n",
      "alpha: 0.10672, logarithmic loss: 0.59077\n",
      "alpha: 0.10818, logarithmic loss: 0.59039\n",
      "alpha: 0.10963, logarithmic loss: 0.59004\n",
      "alpha: 0.11109, logarithmic loss: 0.5897\n",
      "alpha: 0.11254, logarithmic loss: 0.58938\n",
      "alpha: 0.114, logarithmic loss: 0.58908\n",
      "alpha: 0.11545, logarithmic loss: 0.58878\n",
      "alpha: 0.11691, logarithmic loss: 0.5885\n",
      "alpha: 0.11836, logarithmic loss: 0.58823\n",
      "alpha: 0.11982, logarithmic loss: 0.58797\n",
      "alpha: 0.12127, logarithmic loss: 0.58772\n",
      "alpha: 0.12273, logarithmic loss: 0.58748\n",
      "alpha: 0.12419, logarithmic loss: 0.58724\n",
      "alpha: 0.12564, logarithmic loss: 0.58702\n",
      "alpha: 0.1271, logarithmic loss: 0.5868\n",
      "alpha: 0.12855, logarithmic loss: 0.5866\n",
      "alpha: 0.13001, logarithmic loss: 0.5864\n",
      "alpha: 0.13146, logarithmic loss: 0.5862\n",
      "alpha: 0.13292, logarithmic loss: 0.58602\n",
      "alpha: 0.13437, logarithmic loss: 0.58584\n",
      "alpha: 0.13583, logarithmic loss: 0.58567\n",
      "alpha: 0.13728, logarithmic loss: 0.5855\n",
      "alpha: 0.13874, logarithmic loss: 0.58534\n",
      "alpha: 0.14019, logarithmic loss: 0.58519\n",
      "alpha: 0.14165, logarithmic loss: 0.58504\n",
      "alpha: 0.1431, logarithmic loss: 0.5849\n",
      "alpha: 0.14456, logarithmic loss: 0.58477\n",
      "alpha: 0.14602, logarithmic loss: 0.58464\n",
      "alpha: 0.14747, logarithmic loss: 0.58451\n",
      "alpha: 0.14893, logarithmic loss: 0.58439\n",
      "alpha: 0.15038, logarithmic loss: 0.58427\n",
      "alpha: 0.15184, logarithmic loss: 0.58416\n",
      "alpha: 0.15329, logarithmic loss: 0.58406\n",
      "alpha: 0.15475, logarithmic loss: 0.58395\n",
      "alpha: 0.1562, logarithmic loss: 0.58385\n",
      "alpha: 0.15766, logarithmic loss: 0.58376\n",
      "alpha: 0.15911, logarithmic loss: 0.58367\n",
      "alpha: 0.16057, logarithmic loss: 0.58358\n",
      "alpha: 0.16202, logarithmic loss: 0.58349\n",
      "alpha: 0.16348, logarithmic loss: 0.58341\n",
      "alpha: 0.16493, logarithmic loss: 0.58334\n",
      "alpha: 0.16639, logarithmic loss: 0.58326\n",
      "alpha: 0.16784, logarithmic loss: 0.58319\n",
      "alpha: 0.1693, logarithmic loss: 0.58312\n",
      "alpha: 0.17076, logarithmic loss: 0.58306\n",
      "alpha: 0.17221, logarithmic loss: 0.583\n",
      "alpha: 0.17367, logarithmic loss: 0.58294\n",
      "alpha: 0.17512, logarithmic loss: 0.58288\n",
      "alpha: 0.17658, logarithmic loss: 0.58283\n",
      "alpha: 0.17803, logarithmic loss: 0.58278\n",
      "alpha: 0.17949, logarithmic loss: 0.58273\n",
      "alpha: 0.18094, logarithmic loss: 0.58268\n",
      "alpha: 0.1824, logarithmic loss: 0.58264\n",
      "alpha: 0.18385, logarithmic loss: 0.5826\n",
      "alpha: 0.18531, logarithmic loss: 0.58256\n",
      "alpha: 0.18676, logarithmic loss: 0.58253\n",
      "alpha: 0.18822, logarithmic loss: 0.58249\n",
      "alpha: 0.18967, logarithmic loss: 0.58246\n",
      "alpha: 0.19113, logarithmic loss: 0.58243\n",
      "alpha: 0.19258, logarithmic loss: 0.58241\n",
      "alpha: 0.19404, logarithmic loss: 0.58238\n",
      "alpha: 0.1955, logarithmic loss: 0.58236\n",
      "alpha: 0.19695, logarithmic loss: 0.58234\n",
      "alpha: 0.19841, logarithmic loss: 0.58232\n",
      "alpha: 0.19986, logarithmic loss: 0.5823\n",
      "alpha: 0.20132, logarithmic loss: 0.58229\n",
      "alpha: 0.20277, logarithmic loss: 0.58227\n",
      "alpha: 0.20423, logarithmic loss: 0.58226\n",
      "alpha: 0.20568, logarithmic loss: 0.58225\n",
      "alpha: 0.20714, logarithmic loss: 0.58224\n",
      "alpha: 0.20859, logarithmic loss: 0.58224\n",
      "alpha: 0.21005, logarithmic loss: 0.58223\n",
      "alpha: 0.2115, logarithmic loss: 0.58223\n",
      "alpha: 0.21296, logarithmic loss: 0.58222\n",
      "alpha: 0.21441, logarithmic loss: 0.58222\n",
      "alpha: 0.21587, logarithmic loss: 0.58222\n",
      "alpha: 0.21732, logarithmic loss: 0.58223\n",
      "alpha: 0.21878, logarithmic loss: 0.58223\n",
      "alpha: 0.22024, logarithmic loss: 0.58223\n",
      "alpha: 0.22169, logarithmic loss: 0.58224\n",
      "alpha: 0.22315, logarithmic loss: 0.58224\n",
      "alpha: 0.2246, logarithmic loss: 0.58225\n",
      "alpha: 0.22606, logarithmic loss: 0.58226\n",
      "alpha: 0.22751, logarithmic loss: 0.58227\n",
      "alpha: 0.22897, logarithmic loss: 0.58228\n",
      "alpha: 0.23042, logarithmic loss: 0.58229\n",
      "alpha: 0.23188, logarithmic loss: 0.58231\n",
      "alpha: 0.23333, logarithmic loss: 0.58232\n",
      "alpha: 0.23479, logarithmic loss: 0.58234\n",
      "alpha: 0.23624, logarithmic loss: 0.58235\n",
      "alpha: 0.2377, logarithmic loss: 0.58237\n",
      "alpha: 0.23915, logarithmic loss: 0.58239\n",
      "alpha: 0.24061, logarithmic loss: 0.5824\n",
      "alpha: 0.24206, logarithmic loss: 0.58242\n",
      "alpha: 0.24352, logarithmic loss: 0.58244\n",
      "alpha: 0.24498, logarithmic loss: 0.58246\n",
      "alpha: 0.24643, logarithmic loss: 0.58249\n",
      "alpha: 0.24789, logarithmic loss: 0.58251\n",
      "alpha: 0.24934, logarithmic loss: 0.58253\n",
      "alpha: 0.2508, logarithmic loss: 0.58256\n",
      "alpha: 0.25225, logarithmic loss: 0.58258\n",
      "alpha: 0.25371, logarithmic loss: 0.58261\n",
      "alpha: 0.25516, logarithmic loss: 0.58263\n",
      "alpha: 0.25662, logarithmic loss: 0.58266\n",
      "alpha: 0.25807, logarithmic loss: 0.58269\n",
      "alpha: 0.25953, logarithmic loss: 0.58271\n",
      "alpha: 0.26098, logarithmic loss: 0.58274\n",
      "alpha: 0.26244, logarithmic loss: 0.58277\n",
      "alpha: 0.26389, logarithmic loss: 0.5828\n",
      "alpha: 0.26535, logarithmic loss: 0.58283\n",
      "alpha: 0.2668, logarithmic loss: 0.58286\n",
      "alpha: 0.26826, logarithmic loss: 0.58289\n",
      "alpha: 0.26972, logarithmic loss: 0.58293\n",
      "alpha: 0.27117, logarithmic loss: 0.58296\n",
      "alpha: 0.27263, logarithmic loss: 0.58299\n",
      "alpha: 0.27408, logarithmic loss: 0.58302\n",
      "alpha: 0.27554, logarithmic loss: 0.58306\n",
      "alpha: 0.27699, logarithmic loss: 0.58309\n",
      "alpha: 0.27845, logarithmic loss: 0.58313\n",
      "alpha: 0.2799, logarithmic loss: 0.58316\n",
      "alpha: 0.28136, logarithmic loss: 0.5832\n",
      "alpha: 0.28281, logarithmic loss: 0.58323\n",
      "alpha: 0.28427, logarithmic loss: 0.58327\n",
      "alpha: 0.28572, logarithmic loss: 0.5833\n",
      "alpha: 0.28718, logarithmic loss: 0.58334\n",
      "alpha: 0.28863, logarithmic loss: 0.58338\n",
      "alpha: 0.29009, logarithmic loss: 0.58341\n",
      "alpha: 0.29155, logarithmic loss: 0.58345\n",
      "alpha: 0.293, logarithmic loss: 0.58349\n",
      "alpha: 0.29446, logarithmic loss: 0.58353\n",
      "alpha: 0.29591, logarithmic loss: 0.58357\n",
      "alpha: 0.29737, logarithmic loss: 0.58361\n",
      "alpha: 0.29882, logarithmic loss: 0.58365\n",
      "alpha: 0.30028, logarithmic loss: 0.58368\n",
      "alpha: 0.30173, logarithmic loss: 0.58372\n",
      "alpha: 0.30319, logarithmic loss: 0.58376\n",
      "alpha: 0.30464, logarithmic loss: 0.5838\n",
      "alpha: 0.3061, logarithmic loss: 0.58384\n",
      "alpha: 0.30755, logarithmic loss: 0.58389\n"
     ]
    },
    {
     "name": "stdout",
     "output_type": "stream",
     "text": [
      "alpha: 0.30901, logarithmic loss: 0.58393\n",
      "alpha: 0.31046, logarithmic loss: 0.58397\n",
      "alpha: 0.31192, logarithmic loss: 0.58401\n",
      "alpha: 0.31337, logarithmic loss: 0.58405\n",
      "alpha: 0.31483, logarithmic loss: 0.58409\n",
      "alpha: 0.31629, logarithmic loss: 0.58413\n",
      "alpha: 0.31774, logarithmic loss: 0.58417\n",
      "alpha: 0.3192, logarithmic loss: 0.58422\n",
      "alpha: 0.32065, logarithmic loss: 0.58426\n",
      "alpha: 0.32211, logarithmic loss: 0.5843\n",
      "alpha: 0.32356, logarithmic loss: 0.58434\n",
      "alpha: 0.32502, logarithmic loss: 0.58439\n",
      "alpha: 0.32647, logarithmic loss: 0.58443\n",
      "alpha: 0.32793, logarithmic loss: 0.58447\n",
      "alpha: 0.32938, logarithmic loss: 0.58451\n",
      "alpha: 0.33084, logarithmic loss: 0.58456\n",
      "alpha: 0.33229, logarithmic loss: 0.5846\n",
      "alpha: 0.33375, logarithmic loss: 0.58464\n",
      "alpha: 0.3352, logarithmic loss: 0.58469\n",
      "alpha: 0.33666, logarithmic loss: 0.58473\n",
      "alpha: 0.33811, logarithmic loss: 0.58478\n",
      "alpha: 0.33957, logarithmic loss: 0.58482\n",
      "alpha: 0.34103, logarithmic loss: 0.58486\n",
      "alpha: 0.34248, logarithmic loss: 0.58491\n",
      "alpha: 0.34394, logarithmic loss: 0.58495\n",
      "alpha: 0.34539, logarithmic loss: 0.585\n",
      "alpha: 0.34685, logarithmic loss: 0.58504\n",
      "alpha: 0.3483, logarithmic loss: 0.58508\n",
      "alpha: 0.34976, logarithmic loss: 0.58513\n",
      "alpha: 0.35121, logarithmic loss: 0.58517\n",
      "alpha: 0.35267, logarithmic loss: 0.58522\n",
      "alpha: 0.35412, logarithmic loss: 0.58526\n",
      "alpha: 0.35558, logarithmic loss: 0.58531\n",
      "alpha: 0.35703, logarithmic loss: 0.58535\n",
      "alpha: 0.35849, logarithmic loss: 0.5854\n",
      "alpha: 0.35994, logarithmic loss: 0.58544\n",
      "alpha: 0.3614, logarithmic loss: 0.58549\n",
      "alpha: 0.36285, logarithmic loss: 0.58553\n",
      "alpha: 0.36431, logarithmic loss: 0.58558\n",
      "alpha: 0.36577, logarithmic loss: 0.58562\n",
      "alpha: 0.36722, logarithmic loss: 0.58567\n",
      "alpha: 0.36868, logarithmic loss: 0.58571\n",
      "alpha: 0.37013, logarithmic loss: 0.58576\n",
      "alpha: 0.37159, logarithmic loss: 0.5858\n",
      "alpha: 0.37304, logarithmic loss: 0.58585\n",
      "alpha: 0.3745, logarithmic loss: 0.58589\n",
      "alpha: 0.37595, logarithmic loss: 0.58594\n",
      "alpha: 0.37741, logarithmic loss: 0.58598\n",
      "alpha: 0.37886, logarithmic loss: 0.58603\n",
      "alpha: 0.38032, logarithmic loss: 0.58607\n",
      "alpha: 0.38177, logarithmic loss: 0.58612\n",
      "alpha: 0.38323, logarithmic loss: 0.58616\n",
      "alpha: 0.38468, logarithmic loss: 0.58621\n",
      "alpha: 0.38614, logarithmic loss: 0.58625\n",
      "Optimal alpha found by the narrow search: 0.214414169891\n",
      "\n",
      "Alpha-optimized SDG logarithmic loss: 0.58222\n"
     ]
    }
   ],
   "source": [
    "#############################################################################################################\n",
    "# 5. SDG classifier (parameter tuning)\n",
    "#############################################################################################################\n",
    "wide_alpha = np.logspace(-5, 0, 50)\n",
    "log_losses = []\n",
    "for a in wide_alpha:\n",
    "    clf = SGDClassifier(loss=\"log\", alpha = a, random_state=0).fit(X_train, y_train)\n",
    "    predictions = clf.predict_proba(X_valid)\n",
    "    logarithmic_loss = log_loss(y_valid, predictions)\n",
    "    log_losses.append(logarithmic_loss)\n",
    "    print('alpha: {:.5}, logarithmic loss: {:.5}'.format(a, logarithmic_loss))\n",
    "\n",
    "max_ind = np.array(log_losses).argmin()\n",
    "optimal_alpha = wide_alpha[max_ind]\n",
    "print (\"Optimal alpha found by wide search: {}\\n\".format(optimal_alpha))\n",
    "\n",
    "narrow_alpha = np.linspace(optimal_alpha/2, optimal_alpha*2, num=200)\n",
    "log_losses = []\n",
    "for a in narrow_alpha:\n",
    "    clf = SGDClassifier(loss=\"log\", alpha = a, random_state=0).fit(X_train, y_train)\n",
    "    predictions = clf.predict_proba(X_valid)\n",
    "    logarithmic_loss = log_loss(y_valid, predictions)\n",
    "    log_losses.append(logarithmic_loss)\n",
    "    print('alpha: {:.5}, logarithmic loss: {:.5}'.format(a, logarithmic_loss))\n",
    "\n",
    "max_ind = np.array(log_losses).argmin()\n",
    "optimal_alpha = narrow_alpha[max_ind]\n",
    "print (\"Optimal alpha found by the narrow search: {}\\n\".format(optimal_alpha))\n",
    "\n",
    "sgd = SGDClassifier(loss=\"log\", alpha = optimal_alpha, random_state=0).fit(X_train, y_train)\n",
    "predictions = sgd.predict_proba(X_valid)\n",
    "logarithmic_loss = log_loss(y_valid, predictions)\n",
    "print('Alpha-optimized SDG logarithmic loss: {:.5}'.format(logarithmic_loss))"
   ]
  },
  {
   "cell_type": "code",
   "execution_count": 56,
   "metadata": {},
   "outputs": [
    {
     "name": "stdout",
     "output_type": "stream",
     "text": [
      "Maximum iterations: 1, logarithmic loss: 0.63768\n",
      "Maximum iterations: 2, logarithmic loss: 0.59656\n",
      "Maximum iterations: 3, logarithmic loss: 0.58523\n",
      "Maximum iterations: 4, logarithmic loss: 0.58523\n",
      "Maximum iterations: 5, logarithmic loss: 0.58222\n",
      "Maximum iterations: 6, logarithmic loss: 0.58116\n",
      "Maximum iterations: 7, logarithmic loss: 0.57877\n",
      "Maximum iterations: 8, logarithmic loss: 0.58043\n",
      "Maximum iterations: 9, logarithmic loss: 0.58113\n",
      "Maximum iterations: 10, logarithmic loss: 0.57888\n",
      "Maximum iterations: 11, logarithmic loss: 0.5804\n",
      "Maximum iterations: 12, logarithmic loss: 0.58122\n",
      "Maximum iterations: 13, logarithmic loss: 0.58162\n",
      "Maximum iterations: 14, logarithmic loss: 0.58098\n",
      "Maximum iterations: 15, logarithmic loss: 0.58042\n",
      "Maximum iterations: 16, logarithmic loss: 0.58174\n",
      "Maximum iterations: 17, logarithmic loss: 0.58002\n",
      "Maximum iterations: 18, logarithmic loss: 0.57961\n",
      "Maximum iterations: 19, logarithmic loss: 0.58006\n",
      "Maximum iterations: 20, logarithmic loss: 0.58025\n",
      "Maximum iterations: 21, logarithmic loss: 0.58004\n",
      "Maximum iterations: 22, logarithmic loss: 0.58045\n",
      "Maximum iterations: 23, logarithmic loss: 0.58037\n",
      "Maximum iterations: 24, logarithmic loss: 0.57929\n",
      "Maximum iterations: 25, logarithmic loss: 0.57912\n",
      "Maximum iterations: 26, logarithmic loss: 0.57989\n",
      "Maximum iterations: 27, logarithmic loss: 0.58035\n",
      "Maximum iterations: 28, logarithmic loss: 0.58003\n",
      "Maximum iterations: 29, logarithmic loss: 0.58018\n",
      "Maximum iterations: 30, logarithmic loss: 0.57984\n",
      "Maximum iterations: 31, logarithmic loss: 0.58001\n",
      "Maximum iterations: 32, logarithmic loss: 0.57925\n",
      "Maximum iterations: 33, logarithmic loss: 0.57932\n",
      "Maximum iterations: 34, logarithmic loss: 0.57991\n",
      "Maximum iterations: 35, logarithmic loss: 0.57964\n",
      "Maximum iterations: 36, logarithmic loss: 0.57964\n",
      "Maximum iterations: 37, logarithmic loss: 0.57982\n",
      "Maximum iterations: 38, logarithmic loss: 0.57972\n",
      "Maximum iterations: 39, logarithmic loss: 0.57957\n",
      "Maximum iterations: 40, logarithmic loss: 0.57971\n",
      "Maximum iterations: 41, logarithmic loss: 0.5795\n",
      "Maximum iterations: 42, logarithmic loss: 0.57957\n",
      "Maximum iterations: 43, logarithmic loss: 0.57934\n",
      "Maximum iterations: 44, logarithmic loss: 0.57967\n",
      "Maximum iterations: 45, logarithmic loss: 0.57952\n",
      "Maximum iterations: 46, logarithmic loss: 0.57977\n",
      "Maximum iterations: 47, logarithmic loss: 0.57964\n",
      "Maximum iterations: 48, logarithmic loss: 0.5797\n",
      "Maximum iterations: 49, logarithmic loss: 0.57981\n",
      "Optimal amount of maximum iterations for the SDG classifier: 7\n",
      "\n",
      "Fully optimized SDG logarithmic loss: 0.5776\n"
     ]
    }
   ],
   "source": [
    "max_iterations = np.arange(1, 50, 1)\n",
    "log_losses = []\n",
    "for iterations in max_iterations:\n",
    "    clf = SGDClassifier(loss=\"log\", alpha = optimal_alpha, random_state=0, max_iter=iterations).fit(X_train, y_train)\n",
    "    predictions = clf.predict_proba(X_valid)\n",
    "    logarithmic_loss = log_loss(y_valid, predictions)\n",
    "    log_losses.append(logarithmic_loss)\n",
    "    print('Maximum iterations: {}, logarithmic loss: {:.5}'.format(iterations, logarithmic_loss))\n",
    "\n",
    "max_ind = np.array(log_losses).argmin()\n",
    "optimal_iter = max_iterations[max_ind]\n",
    "print (\"Optimal amount of maximum iterations for the SDG classifier: {}\\n\".format(optimal_iter))\n",
    "\n",
    "sgd = SGDClassifier(loss=\"log\", alpha = optimal_alpha, random_state=0, max_iter=optimal_iter, class_weight ='balanced').fit(X_train, y_train)\n",
    "predictions = sgd.predict_proba(X_valid)\n",
    "logarithmic_loss = log_loss(y_valid, predictions)\n",
    "print('Fully optimized SDG logarithmic loss: {:.5}'.format(logarithmic_loss))"
   ]
  },
  {
   "cell_type": "code",
   "execution_count": 57,
   "metadata": {},
   "outputs": [
    {
     "name": "stdout",
     "output_type": "stream",
     "text": [
      "Considering combinations of 1 models: \n",
      "The logarithmic loss: 0.57939\n",
      "The logarithmic loss: 0.56946\n",
      "The logarithmic loss: 0.53952\n",
      "The logarithmic loss: 0.57712\n",
      "The logarithmic loss: 0.5776\n",
      "Considering combinations of 2 models: \n",
      "The logarithmic loss: 0.56694\n",
      "The logarithmic loss: 0.55286\n",
      "The logarithmic loss: 0.5687\n",
      "The logarithmic loss: 0.57752\n",
      "The logarithmic loss: 0.54805\n",
      "The logarithmic loss: 0.56761\n",
      "The logarithmic loss: 0.56379\n",
      "The logarithmic loss: 0.55039\n",
      "The logarithmic loss: 0.55068\n",
      "The logarithmic loss: 0.56559\n",
      "Considering combinations of 3 models: \n",
      "The logarithmic loss: 0.55386\n",
      "The logarithmic loss: 0.56535\n",
      "The logarithmic loss: 0.56717\n",
      "The logarithmic loss: 0.55477\n",
      "The logarithmic loss: 0.55834\n",
      "The logarithmic loss: 0.56794\n",
      "The logarithmic loss: 0.55322\n",
      "The logarithmic loss: 0.55176\n",
      "The logarithmic loss: 0.56279\n",
      "The logarithmic loss: 0.55266\n",
      "Considering combinations of 4 models: \n",
      "The logarithmic loss: 0.55568\n",
      "The logarithmic loss: 0.55673\n",
      "The logarithmic loss: 0.56458\n",
      "The logarithmic loss: 0.55718\n",
      "The logarithmic loss: 0.55385\n",
      "Considering combinations of 5 models: \n",
      "The logarithmic loss: 0.55691\n",
      "Optimal combination of models is: \n",
      "('svc', CalibratedClassifierCV(base_estimator=SVC(C=1.2742749857, cache_size=200, class_weight=None, coef0=0.0,\n",
      "  decision_function_shape='ovr', degree=3, gamma=0.00206913808111,\n",
      "  kernel='rbf', max_iter=-1, probability=True, random_state=None,\n",
      "  shrinking=True, tol=0.001, verbose=False),\n",
      "            cv=3, method='isotonic'))\n",
      "Logarithmic loss achieved by the best model ensemble: 0.53952\n"
     ]
    }
   ],
   "source": [
    "#############################################################################################################\n",
    "# 4.1. Combination of classifiers.\n",
    "#############################################################################################################\n",
    "estimators = [('lr', lr), ('rf', rf), ('svc', svc), ('knn', knn), ('sgd', sgd)]\n",
    "single = itertools.combinations(estimators, 1)\n",
    "double = itertools.combinations(estimators, 2)\n",
    "triple = itertools.combinations(estimators, 3)\n",
    "quadra = itertools.combinations(estimators, 4)\n",
    "penta = itertools.combinations(estimators, 5)\n",
    "\n",
    "n_models = 0\n",
    "sizes = [single, double, triple, quadra, penta]\n",
    "used_combinations = []\n",
    "losses = []\n",
    "for size in sizes:\n",
    "    n_models += 1\n",
    "    print (\"Considering combinations of {} models: \".format(n_models))\n",
    "    for combination in size:\n",
    "        combined = VotingClassifier(estimators=combination, voting='soft').fit(X_train, y_train)\n",
    "        predictions = combined.predict_proba(X_valid)\n",
    "        logarithmic_loss = log_loss(y_valid, predictions)\n",
    "        print('The logarithmic loss: {:.5}'.format(logarithmic_loss))\n",
    "        used_combinations.append(combination)\n",
    "        losses.append(logarithmic_loss)\n",
    "\n",
    "min_idx = np.array(losses).argmin()\n",
    "optimal_comb = used_combinations[min_idx]\n",
    "print (\"Optimal combination of models is: \")\n",
    "for model in optimal_comb: print (model)\n",
    "    \n",
    "clf = VotingClassifier(estimators=optimal_comb, voting='soft').fit(X_train, y_train)\n",
    "predictions = clf.predict_proba(X_valid)\n",
    "logarithmic_loss = log_loss(y_valid, predictions)\n",
    "print('Logarithmic loss achieved by the best model ensemble: {:.5}'.format(logarithmic_loss))"
   ]
  },
  {
   "cell_type": "code",
   "execution_count": 58,
   "metadata": {
    "collapsed": true
   },
   "outputs": [],
   "source": [
    "# Execute this cell to export your results\n",
    "from numpy import savetxt\n",
    "def save_predictions(pred_proba):\n",
    "    if pred_proba.shape != (1114,2):\n",
    "        raise ValueError('Predicted probabilities array is not the right shape.')\n",
    "    \n",
    "    savetxt('assignment_3_predictions.txt', pred_proba)\n",
    "\n",
    "# You need to replace \"test_images_partB_pred_proba\"\n",
    "# with the name of the array which contains the probability \n",
    "# estimates for the data in the test set.\n",
    "predictions = clf.predict_proba(X_test)\n",
    "save_predictions(predictions) "
   ]
  },
  {
   "cell_type": "markdown",
   "metadata": {
    "collapsed": true
   },
   "source": [
    "# Appendix"
   ]
  },
  {
   "cell_type": "markdown",
   "metadata": {},
   "source": [
    "## More information about visual words"
   ]
  },
  {
   "cell_type": "markdown",
   "metadata": {},
   "source": [
    "Visual words are based on [Scale-invariant feature transforms (SIFT)](https://en.wikipedia.org/wiki/Scale-invariant_feature_transform). SIFT features are essentially local orientation histograms and capture the properties of small image regions. They possess attractive invariance properties which make them well suited for our task (you can read more about SIFT features in [D.Lowe, IJCV 60(2):91- 110, 2004](http://link.springer.com/article/10.1023/B:VISI.0000029664.99615.94), but the details don't matter for the purpose of this assignment). Each SIFT feature is a 128 dimensional vector. From each image many SIFT features are extracted, typically > 2500 per image (features are extracted at regular intervals using a 15 pixel grid and at 4 different scales). To obtain visual words a representative subset of all extracted SIFT features from all images is chosen and clustered with k-means using 500 centres (such use of the k-means algorithm will be discussed in detail during the lecture). These 500 cluster centres form our visual words. The representation of a single image is obtained by first assigning each SIFT feature extracted from the image to the appropriate cluster (i.e. we determine the visual word corresponding to each feature by picking the closest cluster centre). We then count the number of features from that image assigned to each cluster (i.e. we determine how often each visual word is present in the image). This results in a 500 dimensional count vector for each image (one dimension for each visual word). The normalized version of this count vector gives the final representation of the image (normalized means that we divide the count vector by the total number of visual words in the image, i.e. the normalized counts sum to 1 for each image)"
   ]
  }
 ],
 "metadata": {
  "anaconda-cloud": {},
  "kernelspec": {
   "display_name": "Python 3",
   "language": "python",
   "name": "python3"
  },
  "language_info": {
   "codemirror_mode": {
    "name": "ipython",
    "version": 3
   },
   "file_extension": ".py",
   "mimetype": "text/x-python",
   "name": "python",
   "nbconvert_exporter": "python",
   "pygments_lexer": "ipython3",
   "version": "3.7.2"
  }
 },
 "nbformat": 4,
 "nbformat_minor": 1
}
