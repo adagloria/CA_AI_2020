{
 "cells": [
  {
   "cell_type": "code",
   "execution_count": 6,
   "metadata": {},
   "outputs": [
    {
     "name": "stdout",
     "output_type": "stream",
     "text": [
      "The autotime extension is already loaded. To reload it, use:\n",
      "  %reload_ext autotime\n",
      "time: 1.2 ms\n"
     ]
    }
   ],
   "source": [
    "import autotime\n",
    "%load_ext autotime"
   ]
  },
  {
   "cell_type": "code",
   "execution_count": 16,
   "metadata": {},
   "outputs": [
    {
     "name": "stdout",
     "output_type": "stream",
     "text": [
      "time: 574 µs\n"
     ]
    },
    {
     "name": "stderr",
     "output_type": "stream",
     "text": [
      "UsageError: %%time is a cell magic, but the cell body is empty. Did you mean the line magic %time (single %)?\n"
     ]
    }
   ],
   "source": [
    "%%time"
   ]
  },
  {
   "cell_type": "markdown",
   "metadata": {
    "heading_collapsed": true
   },
   "source": [
    "__________\n",
    "# Python Review Exercises\n",
    "__________"
   ]
  },
  {
   "cell_type": "markdown",
   "metadata": {},
   "source": [
    "### 01. E-mail Domain\n",
    "Create a function that grabs the e-mail website domain from a string:\n",
    "\n",
    "    ________@_________.com\n",
    "    \n",
    "E.g.:\n",
    "\n",
    "    get_domain_from_email('povilas@omnisend.com')\n",
    "    \n",
    "    'omnisend.com'"
   ]
  },
  {
   "cell_type": "code",
   "execution_count": 22,
   "metadata": {},
   "outputs": [
    {
     "name": "stdout",
     "output_type": "stream",
     "text": [
      "povilasomnisend.com is not an email\n",
      "time: 2.61 ms\n"
     ]
    }
   ],
   "source": [
    "def get_domain_from_email(email: str) -> str: \n",
    "    if('@' not in email):\n",
    "        print(f'{email} is not an email')\n",
    "    else:\n",
    "        return email[email.index('@')+1:]\n",
    "\n",
    "get_domain_from_email('povilas@omnisend.com')\n",
    "get_domain_from_email('povilasomnisend.com')"
   ]
  },
  {
   "cell_type": "code",
   "execution_count": 21,
   "metadata": {},
   "outputs": [
    {
     "data": {
      "text/plain": [
       "'povilasomnisend.com'"
      ]
     },
     "execution_count": 21,
     "metadata": {},
     "output_type": "execute_result"
    },
    {
     "name": "stdout",
     "output_type": "stream",
     "text": [
      "time: 3.71 ms\n"
     ]
    }
   ],
   "source": [
    "def get_domain_from_email(email: str) -> str: \n",
    "        return email[email.find('@')+1:]\n",
    "        \n",
    "get_domain_from_email('povilas@omnisend.com')\n",
    "get_domain_from_email('povilasomnisend.com')"
   ]
  },
  {
   "cell_type": "code",
   "execution_count": 19,
   "metadata": {},
   "outputs": [
    {
     "ename": "IndexError",
     "evalue": "list index out of range",
     "output_type": "error",
     "traceback": [
      "\u001b[0;31m---------------------------------------------------------------------------\u001b[0m",
      "\u001b[0;31mIndexError\u001b[0m                                Traceback (most recent call last)",
      "\u001b[0;32m<ipython-input-19-9e11628e57f1>\u001b[0m in \u001b[0;36m<module>\u001b[0;34m\u001b[0m\n\u001b[1;32m      2\u001b[0m     \u001b[0;32mreturn\u001b[0m \u001b[0memail\u001b[0m\u001b[0;34m.\u001b[0m\u001b[0msplit\u001b[0m\u001b[0;34m(\u001b[0m\u001b[0;34m\"@\"\u001b[0m\u001b[0;34m)\u001b[0m\u001b[0;34m[\u001b[0m\u001b[0;36m1\u001b[0m\u001b[0;34m]\u001b[0m\u001b[0;34m\u001b[0m\u001b[0;34m\u001b[0m\u001b[0m\n\u001b[1;32m      3\u001b[0m \u001b[0;34m\u001b[0m\u001b[0m\n\u001b[0;32m----> 4\u001b[0;31m \u001b[0mget_domain_from_email\u001b[0m\u001b[0;34m(\u001b[0m\u001b[0;34m'povilasomnisend.com'\u001b[0m\u001b[0;34m)\u001b[0m\u001b[0;34m\u001b[0m\u001b[0;34m\u001b[0m\u001b[0m\n\u001b[0m",
      "\u001b[0;32m<ipython-input-19-9e11628e57f1>\u001b[0m in \u001b[0;36mget_domain_from_email\u001b[0;34m(email)\u001b[0m\n\u001b[1;32m      1\u001b[0m \u001b[0;32mdef\u001b[0m \u001b[0mget_domain_from_email\u001b[0m\u001b[0;34m(\u001b[0m\u001b[0memail\u001b[0m\u001b[0;34m)\u001b[0m\u001b[0;34m:\u001b[0m\u001b[0;34m\u001b[0m\u001b[0;34m\u001b[0m\u001b[0m\n\u001b[0;32m----> 2\u001b[0;31m     \u001b[0;32mreturn\u001b[0m \u001b[0memail\u001b[0m\u001b[0;34m.\u001b[0m\u001b[0msplit\u001b[0m\u001b[0;34m(\u001b[0m\u001b[0;34m\"@\"\u001b[0m\u001b[0;34m)\u001b[0m\u001b[0;34m[\u001b[0m\u001b[0;36m1\u001b[0m\u001b[0;34m]\u001b[0m\u001b[0;34m\u001b[0m\u001b[0;34m\u001b[0m\u001b[0m\n\u001b[0m\u001b[1;32m      3\u001b[0m \u001b[0;34m\u001b[0m\u001b[0m\n\u001b[1;32m      4\u001b[0m \u001b[0mget_domain_from_email\u001b[0m\u001b[0;34m(\u001b[0m\u001b[0;34m'povilasomnisend.com'\u001b[0m\u001b[0;34m)\u001b[0m\u001b[0;34m\u001b[0m\u001b[0;34m\u001b[0m\u001b[0m\n",
      "\u001b[0;31mIndexError\u001b[0m: list index out of range"
     ]
    },
    {
     "name": "stdout",
     "output_type": "stream",
     "text": [
      "time: 82.1 ms\n"
     ]
    }
   ],
   "source": [
    "def get_domain_from_email(email: str) -> str: \n",
    "    return email.split(\"@\")[1]\n",
    "\n",
    "get_domain_from_email('povilas@omnisend.com')\n",
    "get_domain_from_email('povilasomnisend.com')"
   ]
  },
  {
   "cell_type": "code",
   "execution_count": 23,
   "metadata": {},
   "outputs": [
    {
     "data": {
      "text/plain": [
       "'omnisend.com'"
      ]
     },
     "execution_count": 23,
     "metadata": {},
     "output_type": "execute_result"
    },
    {
     "name": "stdout",
     "output_type": "stream",
     "text": [
      "time: 3.1 ms\n"
     ]
    }
   ],
   "source": [
    "x = lambda email: email.split(\"@\")[1]\n",
    "x('povilas@omnisend.com')"
   ]
  },
  {
   "cell_type": "code",
   "execution_count": 26,
   "metadata": {},
   "outputs": [
    {
     "data": {
      "text/plain": [
       "['omnisend.com', 'gmail.com']"
      ]
     },
     "execution_count": 26,
     "metadata": {},
     "output_type": "execute_result"
    },
    {
     "name": "stdout",
     "output_type": "stream",
     "text": [
      "time: 8.66 ms\n"
     ]
    }
   ],
   "source": [
    "email_s = \"povilas@omnisend.com, povilas@gmail.com\"\n",
    "\n",
    "def get_domains(string_of_emails):\n",
    "    email_list = [element.strip() for element in string_of_emails.split(',')]\n",
    "    domain_list = [get_domain_from_email(email) for email in email_list]\n",
    "    return domain_list\n",
    "\n",
    "get_domains(email_s)"
   ]
  },
  {
   "cell_type": "code",
   "execution_count": 28,
   "metadata": {},
   "outputs": [
    {
     "name": "stdout",
     "output_type": "stream",
     "text": [
      "e-mail domain is: dot.com\n",
      "time: 2.06 ms\n"
     ]
    }
   ],
   "source": [
    "import re\n",
    "def get_domain2(email: str) -> str:\n",
    "    domain = re.findall('(?<=@).+', email)[0]\n",
    "    return print(f'e-mail domain is: {domain}')\n",
    "\n",
    "get_domain2('email@dot.com')"
   ]
  },
  {
   "cell_type": "markdown",
   "metadata": {},
   "source": [
    "### 02. Word finder\n",
    "You get this function documentation and have to write the function signature and body:\n",
    "\n",
    "    def find_word_in_string():\n",
    "\n",
    "        \"\"\"\n",
    "        Finds a word in string depending on conditions\n",
    "\n",
    "        Arguments:\n",
    "            string {str} -- the target string in which to search for the word\n",
    "            word {str} -- the target word\n",
    "\n",
    "        Keyword Arguments:\n",
    "            strict {bool} -- false if the word can be a part of another word (default: {False})\n",
    "            ignore_capitalization {bool} -- true if  (default: {True})\n",
    "\n",
    "        Returns:\n",
    "            bool -- is the word in the target string\n",
    "\n",
    "        Examples:\n",
    "        >>> find_word_in_string('I am here', 'here')\n",
    "        True\n",
    "        >>> find_word_in_string('I am here', 'i')\n",
    "        True\n",
    "        >>> find_word_in_string('I am here', 'i', ignore_capitalization=False)\n",
    "        False\n",
    "        >>> find_word_in_string('I am here', 'ere')\n",
    "        True\n",
    "        >>> find_word_in_string('I am here', 'ere', strict=True)\n",
    "        False\n",
    "        \"\"\"\n",
    "        pass"
   ]
  },
  {
   "cell_type": "code",
   "execution_count": 30,
   "metadata": {
    "hidden": true
   },
   "outputs": [
    {
     "name": "stdout",
     "output_type": "stream",
     "text": [
      "time: 1.84 ms\n"
     ]
    }
   ],
   "source": [
    "def find_word_in_string(string: str, word: str, strict=False, ignore_capitalization=True) -> bool:\n",
    "    \"\"\"\n",
    "    Finds a word in string depending on conditions\n",
    "\n",
    "    Arguments:\n",
    "        string {str} -- the target string in which to search for the word\n",
    "        word {str} -- the target word\n",
    "\n",
    "    Keyword Arguments:\n",
    "        strict {bool} -- false if the word can be a part of another word (default: {False})\n",
    "        ignore_capitalization {bool} -- true if  (default: {True})\n",
    "\n",
    "    Returns:\n",
    "        bool -- is the word in the target string\n",
    "        \n",
    "    Examples:\n",
    "        >>> find_word_in_string('I am here', 'here')\n",
    "        True\n",
    "        >>> find_word_in_string('I am here', 'i')\n",
    "        True\n",
    "        >>> find_word_in_string('I am here', 'i', ignore_capitalization=False)\n",
    "        False\n",
    "        >>> find_word_in_string('I am here', 'ere')\n",
    "        True\n",
    "        >>> find_word_in_string('I am here', 'ere', strict=True)\n",
    "        False\n",
    "    \"\"\"\n",
    "    if ignore_capitalization:\n",
    "        string = string.lower()\n",
    "        word = word.lower()\n",
    "    \n",
    "    if strict:\n",
    "        return word in string.split()\n",
    "    \n",
    "    return word in string"
   ]
  },
  {
   "cell_type": "code",
   "execution_count": 31,
   "metadata": {},
   "outputs": [
    {
     "data": {
      "text/plain": [
       "False"
      ]
     },
     "execution_count": 31,
     "metadata": {},
     "output_type": "execute_result"
    },
    {
     "name": "stdout",
     "output_type": "stream",
     "text": [
      "time: 3.66 ms\n"
     ]
    }
   ],
   "source": [
    "find_word_in_string('I am here', 'i')\n",
    "find_word_in_string('I am here', 'here')\n",
    "find_word_in_string('I am here', 'i', ignore_capitalization=False)\n",
    "find_word_in_string('I am here', 'ere')\n",
    "find_word_in_string('I am here', 'ere', strict=True)"
   ]
  },
  {
   "cell_type": "markdown",
   "metadata": {},
   "source": [
    "### 03. Name Checker\n",
    "For the purpose of the present exercise, assume the following:\n",
    "\n",
    "    initials = 1 character\n",
    "    words = 2+ characters (no dots allowed)\n",
    "\n",
    "A valid name is a name written in one of the following ways:\n",
    "\n",
    "    H. Wells\n",
    "    H. G. Wells\n",
    "    John G. Wells\n",
    "    John George Wells\n",
    "\n",
    "The following names are invalid:\n",
    "\n",
    "    John or Wells (single names not allowed)\n",
    "    H Wells or H. G Wells (initials must end with dot)\n",
    "    h. Wells or H. wells or h. g. Wells (incorrect capitalization)\n",
    "    H. George Wells (middle name expanded, while first still left as initial)\n",
    "    H. G. W. (last name is not a word)\n",
    "    Herb. G. W. (dot only allowed after initial, not word)\n",
    "\n",
    "Rules\n",
    "\n",
    "    Both initials and words must be capitalized.\n",
    "    Initials must end with a dot.\n",
    "    A name must be either 2 or 3 words long (depending on whether a middle name exists).\n",
    "    If the name is 3 words long, you can expand the first and middle name or expand the first name only. You cannot keep the first name as an initial and expand the middle name only.\n",
    "    The last name must be a word (not an initial).\n",
    "\n",
    "Your task is to write a function `check_name(name_string)` that determines whether a name is valid or not. Return `True` if the name is valid, `False` otherwise.\n",
    "\n",
    "Examples\n",
    "\n",
    "    valid_name(\"H. Wells\") ➞ True\n",
    "\n",
    "    valid_name(\"H. G. Wells\") ➞ True\n",
    "\n",
    "    valid_name(\"Herbert G. Wells\") ➞ True\n",
    "\n",
    "    valid_name(\"Herbert\") ➞ False\n",
    "    *Must be 2 or 3 words*\n",
    "\n",
    "    valid_name(\"h. Wells\") ➞ False\n",
    "    *Incorrect capitalization*\n",
    "\n",
    "    valid_name(\"H Wells\") ➞ False\n",
    "    *Missing dot after initial*\n",
    "\n",
    "    valid_name(\"H. George Wells\") ➞ False\n",
    "    *Cannot have: initial first name + word middle name*\n",
    "\n",
    "    valid_name(\"H. George W.\") ➞ False\n",
    "    *Last name cannot be initial*"
   ]
  },
  {
   "cell_type": "code",
   "execution_count": 39,
   "metadata": {},
   "outputs": [
    {
     "name": "stdout",
     "output_type": "stream",
     "text": [
      "time: 2.85 ms\n"
     ]
    }
   ],
   "source": [
    "def valid_name(names:str) -> bool:\n",
    "    \n",
    "    sep_words = [item for item in names.split()]\n",
    "\n",
    "    if(len(sep_words) < 2 or len(sep_words) > 3):\n",
    "        print('*Must be 2 or 3 words*')\n",
    "        return False\n",
    "    \n",
    "    if(any(word[:1].islower() for word in sep_words)):\n",
    "        print(\"*Incorrect capitalization*\")\n",
    "        return False\n",
    "    \n",
    "    if(len(sep_words[-1]) < 2):\n",
    "        print('*Last name must be 2 or more characters*')\n",
    "        return False\n",
    "    \n",
    "    if(any(len(word) == 1 for word in sep_words[:-1])):\n",
    "        print('*Missing dot after initial*')\n",
    "        return False\n",
    "   \n",
    "    if(len(sep_words) == 3 and '.' in sep_words[0] and '.' not in sep_words[1]):\n",
    "        print(\"*Cannot have: initial first name + word middle name*\")\n",
    "        return False\n",
    "    \n",
    "    if('.' in sep_words[-1]):\n",
    "        print('*Last name cannot be initial*')\n",
    "        return False\n",
    "    \n",
    "    return True"
   ]
  },
  {
   "cell_type": "code",
   "execution_count": 67,
   "metadata": {},
   "outputs": [
    {
     "name": "stdout",
     "output_type": "stream",
     "text": [
      "CPU times: user 17 µs, sys: 0 ns, total: 17 µs\n",
      "Wall time: 22.2 µs\n"
     ]
    },
    {
     "data": {
      "text/plain": [
       "True"
      ]
     },
     "execution_count": 67,
     "metadata": {},
     "output_type": "execute_result"
    },
    {
     "name": "stdout",
     "output_type": "stream",
     "text": [
      "time: 3.92 ms\n"
     ]
    }
   ],
   "source": [
    "%%time\n",
    "valid_name(\"H. Wells\")"
   ]
  },
  {
   "cell_type": "code",
   "execution_count": 66,
   "metadata": {},
   "outputs": [
    {
     "name": "stdout",
     "output_type": "stream",
     "text": [
      "CPU times: user 19 µs, sys: 1e+03 ns, total: 20 µs\n",
      "Wall time: 24.3 µs\n"
     ]
    },
    {
     "data": {
      "text/plain": [
       "True"
      ]
     },
     "execution_count": 66,
     "metadata": {},
     "output_type": "execute_result"
    },
    {
     "name": "stdout",
     "output_type": "stream",
     "text": [
      "time: 8.81 ms\n"
     ]
    }
   ],
   "source": [
    "%%time\n",
    "check_name(\"H. Wells\")"
   ]
  },
  {
   "cell_type": "code",
   "execution_count": 58,
   "metadata": {},
   "outputs": [
    {
     "data": {
      "text/plain": [
       "True"
      ]
     },
     "execution_count": 58,
     "metadata": {},
     "output_type": "execute_result"
    },
    {
     "name": "stdout",
     "output_type": "stream",
     "text": [
      "time: 7.74 ms\n"
     ]
    }
   ],
   "source": [
    "import re\n",
    "\n",
    "def check_name(name_string):\n",
    "    \n",
    "    option_a = '^[A-Z]\\. [A-Z][a-z]+$'                 # H. Wells\n",
    "    option_b = '^[A-Z]\\. [A-Z]\\. [A-Z][a-z]+$'         # H. G. Wells\n",
    "    option_c = '^[A-Z][a-z]+ [A-Z]\\. [A-Z][a-z]+$'     # John G. Wells\n",
    "    option_d = '^[A-Z][a-z]+ [A-Z][a-z]+ [A-Z][a-z]+$' # John George Wells\n",
    "\n",
    "    return bool(re.search(option_a + '|' + option_b + '|' + option_c + '|' + option_d, name_string))\n",
    "\n",
    "check_name('H. Wells')"
   ]
  },
  {
   "cell_type": "code",
   "execution_count": 64,
   "metadata": {},
   "outputs": [
    {
     "name": "stdout",
     "output_type": "stream",
     "text": [
      "CPU times: user 15 µs, sys: 0 ns, total: 15 µs\n",
      "Wall time: 18.1 µs\n"
     ]
    },
    {
     "data": {
      "text/plain": [
       "True"
      ]
     },
     "execution_count": 64,
     "metadata": {},
     "output_type": "execute_result"
    },
    {
     "name": "stdout",
     "output_type": "stream",
     "text": [
      "time: 3.79 ms\n"
     ]
    }
   ],
   "source": [
    "%%time\n",
    "check_name(\"H. Wells\")"
   ]
  },
  {
   "cell_type": "markdown",
   "metadata": {},
   "source": [
    "### 04. Name Fixer\n",
    "Adjust the `check_name(name_string)` function so that it would re-format the in-valid names instead of simply returning `False`."
   ]
  },
  {
   "cell_type": "code",
   "execution_count": null,
   "metadata": {},
   "outputs": [],
   "source": [
    "def check_name(name_string):\n",
    "    full_name = name_string.split()\n",
    "    if len(full_name) < 2 or len(full_name) > 3:\n",
    "        print(\"Name must be 2 or 3 words\")\n",
    "        return False\n",
    "    else:\n",
    "        for name in full_name:\n",
    "            if '.' in name and len(name) > 2:\n",
    "                print(\"dot only allowed after initial, not word\")\n",
    "                print(\"Fixing the issue...\")\n",
    "                name = name[0] + '.'\n",
    "                print(f\"Fixed name is: {name}\")\n",
    "                #return False\n",
    "            if len(name) < 2:\n",
    "                print(f\"{name} is missing dot after initial\")\n",
    "                print(\"Fixing the issue...\")\n",
    "                name = name + '.'\n",
    "                print(f\"Fixed name is: {name}\")\n",
    "                #return False\n",
    "            else:\n",
    "                if not name[0].isupper():\n",
    "                    print(f\"{name} is incorrectly capitalized\")\n",
    "                    print(\"Fixing the issue...\")\n",
    "                    name = name.capitalize()\n",
    "                    print(f\"Fixed name is: {name}\")\n",
    "                    #return False\n",
    "        if len(full_name) == 3:\n",
    "            if '.' in full_name[-1]:\n",
    "                print(\"Last name cannot be initial\")\n",
    "                print(f\"Kindly input the full last name and not an initial like {full_name[-1]}\")\n",
    "                return False\n",
    "            elif '.' in full_name[0] and '.' not in full_name[1]:\n",
    "                print(\"Cannot have: initial first name + word middle name\")\n",
    "                print(\"Fixing the issue...\")\n",
    "                full_name[1] = full_name[1][0] + '.'\n",
    "                print(f\"Fixed name is: {full_name[1]}\")\n",
    "                #return False \n",
    "    return True"
   ]
  },
  {
   "cell_type": "code",
   "execution_count": null,
   "metadata": {},
   "outputs": [],
   "source": [
    "import re\n",
    "\n",
    "#GOOD\n",
    "#name_string= 'H. Wells'\n",
    "#name_string= 'H. G. Wells'\n",
    "#name_string= 'John G. Wells'\n",
    "#name_string= 'John George Wells'\n",
    "\n",
    "#BAD\n",
    "#name_string= 'John'\n",
    "#name_string = 'H Wells'\n",
    "#name_string= 'H. G Wells'\n",
    "#name_string= 'h. Wells'\n",
    "#name_string= 'H. wells'\n",
    "name_string= 'h. g. Wells'\n",
    "#name_string= 'H. George Wells'\n",
    "#name_string= 'H. G. W.'\n",
    "#name_string= 'Herb. G. W.'\n",
    "    \n",
    "def fix_name(name_string):\n",
    "    \n",
    "    if check_name(name_string):\n",
    "        print('Vardas teisingas. Pakeisti nereikia')\n",
    "        return name_string\n",
    "        \n",
    "    elif re.match('^[a-zA-Z]+$', name_string):\n",
    "        print('Turime tik vardą. Neaišku į ką pakeisti')\n",
    "    \n",
    "    elif not re.findall('[a-zA-Z][a-zA-Z]', name_string):\n",
    "        print('Turime tik inicialus. Nežinome vardo.')     \n",
    "        \n",
    "    else:\n",
    "        name_string = re.sub('\\\\b[A-Za-z]{1} ', lambda mo: mo.group(0).strip().upper() + '. ', name_string) # No . \n",
    "        name_string = re.sub('\\\\b[a-z]{1}\\.', lambda mo: mo.group(0).upper(), name_string)                  # lower initial\n",
    "        name_string = re.sub('\\\\b[a-z]', lambda mo: mo.group(0).upper(), name_string)                       # lower name\n",
    "        name_string = re.sub('(?<= ).+(?= )', lambda mo: mo.group(0)[0] + '.', name_string)                 # middle name expanded while first initial\n",
    "        name_string = re.sub('^[a-zA-Z][a-zA-Z]+\\..+', lambda mo: mo.group(0).split()[1] + ' ' + mo.group(0).split()[2] + ' ' + mo.group(0).split()[0].replace('.',''), name_string) # Name at the start and with a dot\n",
    "    \n",
    "        return name_string\n",
    "    \n",
    "    \n",
    "fix_name(name_string)"
   ]
  }
 ],
 "metadata": {
  "kernelspec": {
   "display_name": "Python 3",
   "language": "python",
   "name": "python3"
  },
  "language_info": {
   "codemirror_mode": {
    "name": "ipython",
    "version": 3
   },
   "file_extension": ".py",
   "mimetype": "text/x-python",
   "name": "python",
   "nbconvert_exporter": "python",
   "pygments_lexer": "ipython3",
   "version": "3.7.2"
  }
 },
 "nbformat": 4,
 "nbformat_minor": 2
}
