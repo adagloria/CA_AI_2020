{
 "cells": [
  {
   "cell_type": "markdown",
   "metadata": {},
   "source": [
    "____________\n",
    "# Build an API in Python (with Flask & RapidAPI)\n",
    "____________\n",
    "This notebook present all the steps that should be carried out in order to create an API using Python with Flask & RapidAPI. Most of the content was adopted from [this amazing tutorial](https://rapidapi.com/blog/how-to-build-an-api-in-python/), this is just a summarized interactive version of it. \n",
    "\n",
    "If this seems not enough, you may find another 20 tutorials [here](https://rapidapi.com/blog/20-tutorials-on-how-to-create-your-own-api-sorted-by-programming-language/).\n",
    "\n",
    "`Note` For more information about what an API is, check [this RapidAPI explanation](https://rapidapi.com/blog/api-glossary/api/)\n",
    "____________\n",
    "## `Requirements`\n",
    "To create this API, we will use Python and:\n",
    "- Python 3 (obviously)\n",
    "- [Flask](https://palletsprojects.com/p/flask/) – a simple and easy-to-use framework for creating web applications. \n",
    "- [Flask-RESTful](https://flask-restful.readthedocs.io/en/latest/) - an extension for Flask which enables rapid development of REST API with minimal setup. \n",
    "\n",
    "To install these packages, activate your preferred conda environment, and these lines within the terminal (you may also install these packages via `pip` if you don't use `conda`, just google `pip install package_name`):\n",
    "\n",
    "    conda install -c anaconda flask \n",
    "    conda install -c conda-forge flask-restful \n",
    "____________\n",
    "## Before we begin...\n",
    "We will develop a `RESTful API` that implements the basic CRUD functionality.\n",
    "____________\n",
    "### [*REST*](https://en.wikipedia.org/wiki/Representational_state_transfer)\n",
    "REST API is an API that uses [HTTP requests](https://rapidapi.com/blog/api-glossary/http-request-methods/) for communication. It must follow these constraints:\n",
    "- ***Client-server architecture*** – the client handles the user interface, and the server handles the backend and data storage. Client and server are independent, and each of them can be replaced separately.\n",
    "- ***Stateless*** – no data from the client is stored on the server-side. The session state is stored on the client-side.\n",
    "- ***Cacheable*** – clients can cache server responses to improve performance.\n",
    "\n",
    "### [*CRUD*](https://en.wikipedia.org/wiki/Create,_read,_update_and_delete)\n",
    "A programming concept that identifies 4 basic actions (create, read, update, and delete) that can be performed on the data. In the REST API, `Types of Requests` or `Request Methods` are responsible for these actions:\n",
    "\n",
    "- [`POST`](https://rapidapi.com/blog/api-glossary/post/): Create action. Adds new data to the server. Using this type of request, we can, for example, add a new post to a blog.\n",
    "- [`GET`](https://rapidapi.com/blog/api-glossary/get/): Read action. Retrieve information. This is the most common type of request. Using it we can, for example, get a list of blog posts.\n",
    "- `PUT`: Update action. Changes existing information. For example, using this type of request, it would be possible to change the text of the existing article.\n",
    "- `DELETE`: Delete action. Deletes existing information, such as a blog post, that we are no longer interested in.\n",
    "____________"
   ]
  },
  {
   "cell_type": "markdown",
   "metadata": {},
   "source": [
    "# API Building\n",
    "Let’s start with importing the required modules and setting up the `Flask` application:"
   ]
  },
  {
   "cell_type": "code",
   "execution_count": 6,
   "metadata": {},
   "outputs": [],
   "source": [
    "from flask import Flask\n",
    "from flask_restful import Api, Resource, reqparse\n",
    "import random\n",
    "\n",
    "app = Flask(__name__)\n",
    "api = Api(app)"
   ]
  },
  {
   "cell_type": "markdown",
   "metadata": {},
   "source": [
    "- `Flask`, `Api` and `Resource` are the classes that we will need to work with.\n",
    "- `Regparse` is Flask-RESTful request parsing interface. \n",
    "- `random` module will be used to display a random customer.\n",
    "\n",
    "Now, let's create a dataset of users that we will use for our recommendations. "
   ]
  },
  {
   "cell_type": "code",
   "execution_count": 8,
   "metadata": {},
   "outputs": [],
   "source": [
    "users = [\n",
    "    {\n",
    "        \"id\": 0,\n",
    "        \"author\": \"Kevin Kelly\",\n",
    "        \"user\": \"The business plans of the next 10,000 startups are easy to forecast: \" +\n",
    "                 \"Take X and add AI.\" \n",
    "    },\n",
    "    {\n",
    "        \"id\": 1,\n",
    "        \"author\": \"Stephen Hawking\",\n",
    "        \"user\": \"The development of full artificial intelligence could \" +\n",
    "                 \"spell the end of the human race…. \" +\n",
    "                 \"It would take off on its own, and re-design \" +\n",
    "                 \"itself at an ever increasing rate. \" +\n",
    "                 \"Humans, who are limited by slow biological evolution, \" + \n",
    "                 \"couldn't compete, and would be superseded.\"\n",
    "    },\n",
    "    {\n",
    "        \"id\": 2,\n",
    "        \"author\": \"Claude Shannon\",\n",
    "        \"user\": \"I visualize a time when we will be to robots what \" +\n",
    "                 \"dogs are to humans, \" + \n",
    "                 \"and I’m rooting for the machines.\"\n",
    "    }\n",
    "]"
   ]
  },
  {
   "cell_type": "markdown",
   "metadata": {},
   "source": [
    "Now, let's create the `User` resource class, which will determine the operation endpoints of our API. Inside the class, we will define the four CRUD methods: "
   ]
  },
  {
   "cell_type": "code",
   "execution_count": 13,
   "metadata": {},
   "outputs": [],
   "source": [
    "class User(Resource):\n",
    "\n",
    "    \n",
    "    def get(self, id=0):\n",
    "        \"\"\"\n",
    "        Return a user based on the given id. \n",
    "        -- If such user does not exist, return a 404 Status Code. \n",
    "        -- If no `id` given, return a user randomly.\n",
    "        \"\"\"\n",
    "        if id == 0:\n",
    "            return random.choice(users), 200\n",
    "\n",
    "        for user in users:\n",
    "            if(user[\"id\"] == id):\n",
    "                return user, 200\n",
    "            \n",
    "        return \"User not found\", 404\n",
    "    \n",
    "    \n",
    "    def post(self, id):\n",
    "        \"\"\"\n",
    "        Takes a new user `id` as the input, and parses the parameters that will\n",
    "        go to the body of the request (e.g., name or products) using `regparse`.\n",
    "        Finally, store this user in the database.\n",
    "            \n",
    "            If a user with given `id` exists, return a 400 Status Code.\n",
    "            \n",
    "            If a user with given `id` has not yet been created, do it and returns \n",
    "            this new record along with a 201 Status Code.\n",
    "            \n",
    "        \"\"\"\n",
    "        parser = reqparse.RequestParser()\n",
    "        parser.add_argument(\"author\")\n",
    "        parser.add_argument(\"user\")\n",
    "        params = parser.parse_args()\n",
    "\n",
    "        for user in users:\n",
    "            if(id == user[\"id\"]):\n",
    "                return f\"user with id {id} already exists\", 400\n",
    "\n",
    "        user = {\n",
    "          \"id\": int(id),\n",
    "          \"author\": params[\"author\"],\n",
    "          \"user\": params[\"user\"]\n",
    "        }\n",
    "\n",
    "        users.append(user)\n",
    "        return user, 201\n",
    "    \n",
    "    \n",
    "    def put(self, id):\n",
    "        \"\"\"\n",
    "        Takes an `id` as input and parses the user parameters using `regparse`.\n",
    "       \n",
    "            If a user with the specified id exists, update with the parsed parameters and \n",
    "            return along with a 200 Status Code.\n",
    "           \n",
    "            If there is no user with the specified `id` yet, create a new record and return\n",
    "            it along with a 201 Status Code.\n",
    "        \"\"\"\n",
    "        parser = reqparse.RequestParser()\n",
    "        parser.add_argument(\"author\")\n",
    "        parser.add_argument(\"user\")\n",
    "        params = parser.parse_args()\n",
    "        for user in users:\n",
    "            if(id == user[\"id\"]):\n",
    "                user[\"author\"] = params[\"author\"]\n",
    "                user[\"user\"] = params[\"user\"]\n",
    "                return user, 200\n",
    "\n",
    "        user = {\n",
    "          \"id\": id,\n",
    "          \"author\": params[\"author\"],\n",
    "          \"user\": params[\"user\"]\n",
    "        }\n",
    "\n",
    "        users.append(user)\n",
    "        return user, 201\n",
    "    \n",
    "    \n",
    "def delete(self, id):\n",
    "    \"\"\"\n",
    "    Take a user `id` as input and updates the database via global \n",
    "    scope using list comprehension.\n",
    "    \"\"\"\n",
    "    global users\n",
    "    users = [u for u in users if u[\"id\"] != id]\n",
    "    return f\"user with id {id} is deleted.\", 200"
   ]
  },
  {
   "cell_type": "markdown",
   "metadata": {},
   "source": [
    "`Note` The methods returns a HTTP Status Code 200 to each response if the request is successful, 404 if the record is not found.\n",
    "\n",
    "Now that we have created all the methods in our `User` resource, all we need to do is to add a resource to our `API`, specify its routes, and run our Flask application:"
   ]
  },
  {
   "cell_type": "code",
   "execution_count": 15,
   "metadata": {},
   "outputs": [],
   "source": [
    "api.add_resource(User, \"/ai-quotes\", \"/ai-quotes/\", \"/ai-quotes/<int:id>\")\n",
    "\n",
    "if __name__ == '__main__':\n",
    "    app.run(debug=True)"
   ]
  },
  {
   "cell_type": "markdown",
   "metadata": {},
   "source": [
    "Now we can save our code in an `app.py` file and run it in the console with the command:\n",
    "\n",
    "    python3 app.py"
   ]
  },
  {
   "cell_type": "markdown",
   "metadata": {},
   "source": [
    "# Testing the API"
   ]
  },
  {
   "cell_type": "markdown",
   "metadata": {},
   "source": [
    "Now that we’ve created our API, let’s test it!\n",
    "\n",
    "We can test our API service using the curl console utility or `Insomnia` REST client:\n",
    "\n",
    "<img src=\"insomnia.png\">"
   ]
  },
  {
   "cell_type": "code",
   "execution_count": null,
   "metadata": {},
   "outputs": [],
   "source": []
  }
 ],
 "metadata": {
  "kernelspec": {
   "display_name": "Python 3",
   "language": "python",
   "name": "python3"
  },
  "language_info": {
   "codemirror_mode": {
    "name": "ipython",
    "version": 3
   },
   "file_extension": ".py",
   "mimetype": "text/x-python",
   "name": "python",
   "nbconvert_exporter": "python",
   "pygments_lexer": "ipython3",
   "version": "3.7.2"
  }
 },
 "nbformat": 4,
 "nbformat_minor": 2
}
