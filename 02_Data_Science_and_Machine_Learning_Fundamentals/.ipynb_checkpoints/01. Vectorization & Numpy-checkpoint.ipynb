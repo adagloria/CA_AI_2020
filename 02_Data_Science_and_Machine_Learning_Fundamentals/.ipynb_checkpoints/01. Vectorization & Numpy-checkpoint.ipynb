{
 "cells": [
  {
   "cell_type": "markdown",
   "metadata": {},
   "source": [
    "____________\n",
    "# Introduction to Scientific Computing with Python\n",
    "____________\n",
    "# 01. Vectorization & `Numpy`\n",
    "____________\n",
    "**`N.B.`** The lab material was taken from the UoE's INF1CG course."
   ]
  },
  {
   "cell_type": "markdown",
   "metadata": {},
   "source": [
    "In this lab we will learn how we can improve the speed of computations using [NumPy](http://www.numpy.org/) - a Python package for numeric computation that offers optimized vectorized data routines.\n",
    "\n",
    "Vectorization refers to the process of rewriting an iterative program (a program that has loops) in such a way that no loops remain. Instead of sequentially performing computations, such a vectorized program performs subsets of operations at once (for trivial tasks all operations might be applied at once). \n",
    "\n",
    "Applying vectorization is a very important and useful concept in all of data-science and machine learning, since formulating problems in a vectorized form can lead to large speed improvements.\n",
    "\n",
    "Before getting into the details of how to perform computations using NumPy, let's see *how much faster* a vectorized version can be.\n",
    "\n",
    "## Why Vectorize?\n",
    "Let's assume that we have a large number of data stored in ```long_list``` and we want to calculate the sum of all elements in it."
   ]
  },
  {
   "cell_type": "code",
   "execution_count": null,
   "metadata": {},
   "outputs": [],
   "source": [
    "long_list = list(range(500000))"
   ]
  },
  {
   "cell_type": "markdown",
   "metadata": {},
   "source": [
    "We have seen last week that we can easily **loop through** a Python data structure (in this case a list) using loops.\n",
    "If we want to calculate the sum of all elements in the list we simply store the partial sum while we iterate through the list, like so:"
   ]
  },
  {
   "cell_type": "code",
   "execution_count": null,
   "metadata": {},
   "outputs": [],
   "source": [
    "partial_sum = 0\n",
    "\n",
    "for number in [1,2,3,4,5]:\n",
    "    partial_sum = partial_sum + number \n",
    "    #this sort of operation is performed all the time so there exists a shorthand\n",
    "    #if you want you can also write partial_sum += number\n",
    "\n",
    "partial_sum"
   ]
  },
  {
   "cell_type": "markdown",
   "metadata": {},
   "source": [
    "And since this sort of operation might be useful in the future we might want to make it a function:"
   ]
  },
  {
   "cell_type": "code",
   "execution_count": null,
   "metadata": {},
   "outputs": [],
   "source": [
    "def my_list_sum(list_of_numbers):\n",
    "    partial_sum = 0\n",
    "    for number in list_of_numbers:\n",
    "        partial_sum += number\n",
    "    return partial_sum\n",
    "\n",
    "my_list_sum([1,2,3,4,5])"
   ]
  },
  {
   "cell_type": "code",
   "execution_count": null,
   "metadata": {},
   "outputs": [],
   "source": [
    "my_list_sum(long_list)"
   ]
  },
  {
   "cell_type": "markdown",
   "metadata": {},
   "source": [
    "This approach is very simple and easy to understand and computing it didn't really take *that long*. Still, if we want to compare implementations we need to calculate how long it took. For that, we can use an IPython [magic command](http://ipython.readthedocs.io/en/stable/interactive/magics.html) \n",
    "\n",
    "```\n",
    "%%timeit\n",
    "```\n",
    "\n",
    "``timeit`` calculates the average time it takes to execute a Python expression for a number of runs (and takes care of a number of issues that make estimating processing time tedious). We can use the magic command in a cell like so:"
   ]
  },
  {
   "cell_type": "code",
   "execution_count": null,
   "metadata": {},
   "outputs": [],
   "source": [
    "%%timeit\n",
    "my_list_sum(long_list)"
   ]
  },
  {
   "cell_type": "markdown",
   "metadata": {},
   "source": [
    "So as we've said before, it didn't really take long for this list - on a (rather slow) laptop around 31 [milliseconds](https://en.wikipedia.org/wiki/Millisecond).\n",
    "\n",
    "Summing is a very common operation and of course there exists a build-in operator for summing in Python - we can sum elements of a list using Python's own ``sum()`` implementation.\n",
    "Let's check how long it takes us to sum the elements using Python's own implementation:"
   ]
  },
  {
   "cell_type": "code",
   "execution_count": null,
   "metadata": {},
   "outputs": [],
   "source": [
    "%%timeit\n",
    "sum(long_list)"
   ]
  },
  {
   "cell_type": "markdown",
   "metadata": {},
   "source": [
    "On the same laptop our self-made loop takes roughly 5 times longer (your results might vary but the Python version should be considerably faster).\n",
    "\n",
    "#### Why are built-ins faster?\n",
    "\n",
    "When we write loops, the code is executed as Python code, i.e. the Python interpreter has to translate the Python code into bytecode instructions. The native Python operations (like ```sum, len```) are all written as optimized code and thus do not need the same amount of translation and overhead as non-native Python code.\n",
    "\n",
    "If there exist a build-in function for the command you want to use (and you do not have very good reasons to do otherwise) use the build-in function, as:\n",
    "\n",
    "- Less typing and thinking means less errors in your code.\n",
    "- Native implementations should give you better performance.\n",
    "\n",
    "### Arrays\n",
    "\n",
    "Remember how Python lists could contain different *types* of items?\n",
    "\n",
    "If we know what type all objects in our collection are, it makes sense to explicitly state the type. Then the Python interpreter can take advantage of the type declaration, which results in faster computations.\n",
    "**Arrays** are part of the Python Standard Library and provide a collection that is very similar to lists, but specifies the type of contained objects (and thus restricts all contents to be of that type).\n",
    "\n",
    "We can import the array data structure from the array library with:"
   ]
  },
  {
   "cell_type": "code",
   "execution_count": null,
   "metadata": {},
   "outputs": [],
   "source": [
    "from array import array"
   ]
  },
  {
   "cell_type": "markdown",
   "metadata": {},
   "source": [
    "To create an array data structure need to specify the type that *all* items in the array will have (in this case I pick the type double, *'d'*), and as second argument the collection of elements that are contained in the array:"
   ]
  },
  {
   "cell_type": "code",
   "execution_count": null,
   "metadata": {},
   "outputs": [],
   "source": [
    "pythonArray = array('d', long_list)"
   ]
  },
  {
   "cell_type": "markdown",
   "metadata": {},
   "source": [
    "Notice that we cannot declare arrays with items of different types!"
   ]
  },
  {
   "cell_type": "code",
   "execution_count": null,
   "metadata": {},
   "outputs": [],
   "source": [
    "array('d', [1,\"this does not work\"])"
   ]
  },
  {
   "cell_type": "markdown",
   "metadata": {},
   "source": [
    "Let's see if adding an array instead of a list improves performance:"
   ]
  },
  {
   "cell_type": "code",
   "execution_count": null,
   "metadata": {},
   "outputs": [],
   "source": [
    "%%timeit\n",
    "sum(pythonArray)"
   ]
  },
  {
   "cell_type": "markdown",
   "metadata": {},
   "source": [
    "On the same laptop we didn't get any speed-up compared to the native sum operation! Why is that?\n",
    "The reason is that Python's native ``sum()`` does operate upon lists. The Python interpreter has to translate our array into a list to perform the operation and therefore we do not get any speedups (in fact we should be slightly slower).\n",
    "\n",
    "As you can see at the [array documentation](https://docs.python.org/3/library/array.html), the number of operations defined on the Python array implementation is very restricted - and all operations that *are implemented* (like ```reverse``` or ```count```) are already heavily optimized for Python lists.\n",
    "\n",
    "This was a bit underwhelming, but let's give it one last chance - in the form of NumPy's implementation of arrays and the *additional support for vectorized functions*.\n",
    "\n",
    "# NumPy \n",
    "\n",
    "NumPy is not part of the Python Standard Library, but we installed it in the last lab and if everything was setup correctly (remember starting your conda environment) you can import it using:"
   ]
  },
  {
   "cell_type": "code",
   "execution_count": null,
   "metadata": {},
   "outputs": [],
   "source": [
    "import numpy"
   ]
  },
  {
   "cell_type": "markdown",
   "metadata": {},
   "source": [
    "Before going into more detail on what NumPy is and what the advantages of using it are, let's check how fast the NumPy sum of our list is."
   ]
  },
  {
   "cell_type": "code",
   "execution_count": null,
   "metadata": {},
   "outputs": [],
   "source": [
    "numpyArray = numpy.array(long_list) #we will discuss NumPy array creation in the next section\n",
    "\n",
    "numpy.sum(numpyArray) #notice that this is NumPys sum implementation"
   ]
  },
  {
   "cell_type": "code",
   "execution_count": null,
   "metadata": {},
   "outputs": [],
   "source": [
    "%%timeit\n",
    "numpy.sum(numpyArray)"
   ]
  },
  {
   "cell_type": "markdown",
   "metadata": {},
   "source": [
    "As you can see this is *way faster* than our fastest implementation, and this difference in speed will only increase with the size of our data (If you don't believe it, try a larger range for our long_list).\n",
    "\n",
    "Why is NumPy so much faster than the Python array? The *NumPy ndarray object is of fixed size* and *all elements are the same datatype* as the Python array. In addition to the array data structure, *Numpy operations are performed as optimized code* on the array data structure.\n",
    "\n",
    "As you will see in this and the forthcoming labs, changing your iterative (loopy) programs to operate on arrays and use vectorized functions in NumPy can drastically improve performance. Additionally, using Numpy can often result in very short code (and that can make it more readable).\n",
    "\n",
    "At its core NumPy only provides two main features:\n",
    "- The [ndarray data sructure](https://docs.scipy.org/doc/numpy/reference/generated/numpy.ndarray.html), an *n dimensional array*\n",
    "- [ufuncs](https://docs.scipy.org/doc/numpy/reference/ufuncs.html),  universal functions performed on ndarrays. \n"
   ]
  },
  {
   "cell_type": "markdown",
   "metadata": {},
   "source": [
    "Let's start by having a look at how we can create different forms of arrays in NumPy. \n",
    "\n",
    "A NumPy ``ndarray`` is a N-dimensional array, which serves as a container for large arrays of data of the same type. Each ndarray has a **shape** and a **data type** ``dtype``.\n",
    "\n",
    "## Creating NumPy arrays\n",
    "\n",
    "The easiest way to create an array is to use the NumPy array function. The array functions accepts any sequence-like object (lists, other arrays, etc.) and produces a new NumPy array containing the data."
   ]
  },
  {
   "cell_type": "code",
   "execution_count": null,
   "metadata": {},
   "outputs": [],
   "source": [
    "numberArray = numpy.array([1,2,3])\n",
    "numberArray"
   ]
  },
  {
   "cell_type": "code",
   "execution_count": null,
   "metadata": {},
   "outputs": [],
   "source": [
    "charArray = numpy.array(['a', 'b', 'c'])\n",
    "charArray"
   ]
  },
  {
   "cell_type": "code",
   "execution_count": null,
   "metadata": {},
   "outputs": [],
   "source": [
    "floatArray = numpy.array([1, 2, 3.0])\n",
    "floatArray"
   ]
  },
  {
   "cell_type": "code",
   "execution_count": null,
   "metadata": {},
   "outputs": [],
   "source": [
    "boolArray = numpy.array([True, False])\n",
    "boolArray"
   ]
  },
  {
   "cell_type": "markdown",
   "metadata": {},
   "source": [
    "For Python arrays we had to declare the type of the contained elements - here we didn't do any of this, but NumPy has set the type by **inferring the optimal data type when you create an array**.\n",
    "\n",
    "We can access the data type of a NumPy array with:"
   ]
  },
  {
   "cell_type": "code",
   "execution_count": null,
   "metadata": {},
   "outputs": [],
   "source": [
    "boolArray.dtype"
   ]
  },
  {
   "cell_type": "code",
   "execution_count": null,
   "metadata": {},
   "outputs": [],
   "source": [
    "charArray.dtype"
   ]
  },
  {
   "cell_type": "code",
   "execution_count": null,
   "metadata": {},
   "outputs": [],
   "source": [
    "numberArray.dtype"
   ]
  },
  {
   "cell_type": "code",
   "execution_count": null,
   "metadata": {},
   "outputs": [],
   "source": [
    "floatArray.dtype"
   ]
  },
  {
   "cell_type": "markdown",
   "metadata": {},
   "source": [
    "Notice that this tells you the **type of the contained data**!  If you ask for the type of object ```boolArray``` we instead get ```numpy.ndarray```."
   ]
  },
  {
   "cell_type": "code",
   "execution_count": null,
   "metadata": {},
   "outputs": [],
   "source": [
    "type(boolArray)"
   ]
  },
  {
   "cell_type": "markdown",
   "metadata": {},
   "source": [
    "We can also include an optional argument to explicitly specify the data type, like so:"
   ]
  },
  {
   "cell_type": "code",
   "execution_count": null,
   "metadata": {},
   "outputs": [],
   "source": [
    "numpy.array([1,2,3],dtype='int8')"
   ]
  },
  {
   "cell_type": "code",
   "execution_count": null,
   "metadata": {},
   "outputs": [],
   "source": [
    "numpy.array([1,2,3],dtype='uint8')"
   ]
  },
  {
   "cell_type": "markdown",
   "metadata": {},
   "source": [
    "<div class=\"alert alert-info\" role=\"alert\">\n",
    "<h1>Exercises</h1>\n",
    "\n",
    "<ol>\n",
    "\n",
    "\n",
    "<li>\n",
    "Assume you have a large database of user behavior on a video-streaming platform. You want to store different information about the movies in your database in an array. Since your database is very big, the data type in which you store this data will make a big difference in how much space you have to allocate for it on your server. Have a look at the table of different [NumPy types](https://docs.scipy.org/doc/numpy/user/basics.types.html) and think about which data type you would pick for the following data:\n",
    "\n",
    "<ul style=\"list-style-type: none;\">\n",
    "   <li><input type=\"checkbox\"> The number of videos watched by each user.</li>\n",
    "    <li><input type=\"checkbox\"> The average rating of a each movie (ratings from 0 to 10).</li>\n",
    "    <li><input type=\"checkbox\"> The size of each movie (in MB, in GB?).</li>\n",
    "    <li><input type=\"checkbox\"> If a user has watched a specific movie.</li>\n",
    "    <li><input type=\"checkbox\"> The title of the movie that the user has watched.</li>\n",
    "    <li><input type=\"checkbox\"> The first letter of the title.</li>\n",
    "</ul>\n",
    "\n",
    "</li>\n",
    "<li>\n",
    "Check what happens if you declare the following NumPy arrays and explain how NumPy handles these arrays (inspecting the resulting array and using the table on [NumPy types](https://docs.scipy.org/doc/numpy/user/basics.types.html).\n",
    "\n",
    "<ul style=\"list-style-type: none;\">\n",
    "   <li><input type=\"checkbox\"> numpy.array([-1,2,3],dtype='uint8')</li>\n",
    "   <li><input type=\"checkbox\"> numpy.array([50,80,250,256])</li>\n",
    "    <li><input type=\"checkbox\"> numpy.array([50,80,250,256],dtype='float64')</li>\n",
    "    <li><input type=\"checkbox\"> numpy.array([50,80,250,256],dtype='uint8')</li>\n",
    "</ul>\n",
    "</li>\n",
    "</ol>\n",
    "\n",
    "</div>"
   ]
  },
  {
   "cell_type": "code",
   "execution_count": null,
   "metadata": {},
   "outputs": [],
   "source": []
  },
  {
   "cell_type": "markdown",
   "metadata": {},
   "source": [
    "### 2 Dimensional Arrays\n",
    "\n",
    "We can create a 2-dimensional array  by passing a each row as a a sequence-like object (for example a list). If we want to create a 3x3 array:"
   ]
  },
  {
   "cell_type": "code",
   "execution_count": null,
   "metadata": {},
   "outputs": [],
   "source": [
    " numpy.array([[1,2,3],[4,5,6],[7,8,9]])"
   ]
  },
  {
   "cell_type": "markdown",
   "metadata": {},
   "source": [
    "If instead we want a 2x3 array (2 rows and 3 columns):"
   ]
  },
  {
   "cell_type": "code",
   "execution_count": null,
   "metadata": {},
   "outputs": [],
   "source": [
    "numpy.array([[1,2,3],[4,5,6]])"
   ]
  },
  {
   "cell_type": "markdown",
   "metadata": {},
   "source": [
    "## Shapes and Size of Arrays\n",
    "\n",
    "One of the most basic property of an array we might be interested in is its *shape*. The NumPy function ``numpy.shape`` returns the shape of an array as a tuple of integers. Each number in the tuple denotes the length of the corresponding array dimension. Let's see an example:"
   ]
  },
  {
   "cell_type": "code",
   "execution_count": null,
   "metadata": {},
   "outputs": [],
   "source": [
    "A = numpy.array([1,2,3,4,5,6,7,8,9,10])\n",
    "A.shape"
   ]
  },
  {
   "cell_type": "markdown",
   "metadata": {},
   "source": [
    "The array A has length 10 in the first dimension (rows) and no other dimensions."
   ]
  },
  {
   "cell_type": "code",
   "execution_count": null,
   "metadata": {},
   "outputs": [],
   "source": [
    "B = numpy.array([[1,2,3],[4,5,6]])\n",
    "B.shape"
   ]
  },
  {
   "cell_type": "markdown",
   "metadata": {},
   "source": [
    "The array B has length 2 in the first dimension (rows) and length 3 in the second dimension (columns).\n",
    "\n",
    "If instead, we want to know the total number of elements in the array we use ```size```:"
   ]
  },
  {
   "cell_type": "code",
   "execution_count": null,
   "metadata": {},
   "outputs": [],
   "source": [
    "A.size"
   ]
  },
  {
   "cell_type": "code",
   "execution_count": null,
   "metadata": {},
   "outputs": [],
   "source": [
    "B.size"
   ]
  },
  {
   "cell_type": "markdown",
   "metadata": {},
   "source": [
    "In addition to numpy.array, there are several other functions for creating commonly used arrays:"
   ]
  },
  {
   "cell_type": "code",
   "execution_count": null,
   "metadata": {},
   "outputs": [],
   "source": [
    "zeroArray = numpy.zeros(2)\n",
    "zeroArray"
   ]
  },
  {
   "cell_type": "code",
   "execution_count": null,
   "metadata": {},
   "outputs": [],
   "source": [
    "oneArray = numpy.ones(10)\n",
    "oneArray"
   ]
  },
  {
   "cell_type": "code",
   "execution_count": null,
   "metadata": {},
   "outputs": [],
   "source": [
    "sevenArray = numpy.full(12, 7.0)\n",
    "sevenArray"
   ]
  },
  {
   "cell_type": "code",
   "execution_count": null,
   "metadata": {},
   "outputs": [],
   "source": [
    "identityMatrix = numpy.eye(3)\n",
    "identityMatrix"
   ]
  },
  {
   "cell_type": "markdown",
   "metadata": {},
   "source": [
    "<div class=\"alert alert-info\" role=\"alert\">\n",
    "<h1>Exercises</h1>\n",
    "<ol>\n",
    "<li>\n",
    "<ul style=\"list-style-type: none;\">\n",
    "   <li><input type=\"checkbox\"> Create a (3,3) array of ones.</li>\n",
    "    <li><input type=\"checkbox\"> Create a (7,2) array of zeros.</li>\n",
    "    <li><input type=\"checkbox\"> Why can't you create a (3,2) identity matrix?</li>\n",
    "    <li><input type=\"checkbox\"> Create an 1D-array of 25 numbers [0..25] (check numpy.arange).</li>\n",
    "    <li><input type=\"checkbox\"> Create an 1D-array of 25 evenly spaced numbers between 0,100 (check numpy.linspace).</li>\n",
    "    <li><input type=\"checkbox\"> What is the difference between arange and linspace?</li>\n",
    "    <li><input type=\"checkbox\"> What does numpy.logspace do?</li>\n",
    "    <li><input type=\"checkbox\"> Create a (0:5,0:5) meshgrid (numpy.mgrid).</li>\n",
    "    <li><input type=\"checkbox\"> Create a (5,5) array of all zeros apart from the diagonal, which is [0,1,2,3,4,5].</li>\n",
    "    <li><input type=\"checkbox\"> Create a (3,3) array of random values, uniformly distributed between [0,1] (numpy.random).</li>\n",
    "    \n",
    "</ul>\n",
    "</li>\n",
    "</ol>\n",
    "</div>"
   ]
  },
  {
   "cell_type": "code",
   "execution_count": null,
   "metadata": {},
   "outputs": [],
   "source": []
  },
  {
   "cell_type": "markdown",
   "metadata": {},
   "source": [
    "## Indexing and Slicing\n",
    "\n",
    "Accessing arrays is very similar to accessing Python lists:\n"
   ]
  },
  {
   "cell_type": "code",
   "execution_count": null,
   "metadata": {},
   "outputs": [],
   "source": [
    "testArray = numpy.arange(25)\n",
    "testArray"
   ]
  },
  {
   "cell_type": "code",
   "execution_count": null,
   "metadata": {},
   "outputs": [],
   "source": [
    "testArray[0]"
   ]
  },
  {
   "cell_type": "code",
   "execution_count": null,
   "metadata": {},
   "outputs": [],
   "source": [
    "testArray[-1]"
   ]
  },
  {
   "cell_type": "markdown",
   "metadata": {},
   "source": [
    "### Higher dimensional arrays\n",
    "\n",
    "Higher dimensional arrays consist of an array of one-dimensional arrays, i.e. providing a single index will return the n-th element in the first dimension (which is an array for non 1D-arrays)."
   ]
  },
  {
   "cell_type": "code",
   "execution_count": null,
   "metadata": {},
   "outputs": [],
   "source": [
    "testArray2 = numpy.random.rand(3,3)\n",
    "testArray2"
   ]
  },
  {
   "cell_type": "code",
   "execution_count": null,
   "metadata": {},
   "outputs": [],
   "source": [
    "testArray2[0]"
   ]
  },
  {
   "cell_type": "markdown",
   "metadata": {},
   "source": [
    "We can index individual elements in a 2D-array by recursively indexing those 1D-arrays.\n",
    "\n",
    "For example, if we want the first row and the second column of our array:\n"
   ]
  },
  {
   "cell_type": "code",
   "execution_count": null,
   "metadata": {},
   "outputs": [],
   "source": [
    "testArray2[0][1]"
   ]
  },
  {
   "cell_type": "markdown",
   "metadata": {},
   "source": [
    "There is another way to access elements of multidimensional arrays in NumPy:"
   ]
  },
  {
   "cell_type": "code",
   "execution_count": null,
   "metadata": {},
   "outputs": [],
   "source": [
    "testArray2[1,1]"
   ]
  },
  {
   "cell_type": "markdown",
   "metadata": {},
   "source": [
    "<div class=\"alert alert-warning\" role=\"alert\">\n",
    "<h1>Warning</h1>\n",
    "Accessing the index directly with `Array[row, column]` is more efficient then the nested access, `Array[row][column]`. In the nested case the intermediate array `Array[row]` is created and only then accessed, whereas `Array[row, column]` does not create this intermediate result.\n",
    "</div>"
   ]
  },
  {
   "cell_type": "markdown",
   "metadata": {},
   "source": [
    "## Slicing\n",
    "\n",
    "As for Python lists, NumPy provides **slicing** access for arrays. The we access elements with slicing specifying a start, end and an optional step-size:"
   ]
  },
  {
   "cell_type": "code",
   "execution_count": null,
   "metadata": {},
   "outputs": [],
   "source": [
    "testArray[3:5]"
   ]
  },
  {
   "cell_type": "markdown",
   "metadata": {},
   "source": [
    "Notice that the start is *inclusive* and the end is *exclusive* (**from start until end**). If we specify a step-size we can skip elements. \n",
    "\n",
    "If we want every third element from the first to the last element in our array:"
   ]
  },
  {
   "cell_type": "code",
   "execution_count": null,
   "metadata": {},
   "outputs": [],
   "source": [
    "testArray[0:-1:3]"
   ]
  },
  {
   "cell_type": "markdown",
   "metadata": {},
   "source": [
    "We slice multidimensional arrays by specifying the slicing ranges for each dimension separated by a comma, like so:"
   ]
  },
  {
   "cell_type": "code",
   "execution_count": null,
   "metadata": {},
   "outputs": [],
   "source": [
    "testArray2 = numpy.array([[1,2,3],[4,5,6],[7,8,9]])\n",
    "testArray2"
   ]
  },
  {
   "cell_type": "code",
   "execution_count": null,
   "metadata": {},
   "outputs": [],
   "source": [
    "testArray2[0:2,0:-1]"
   ]
  },
  {
   "cell_type": "code",
   "execution_count": null,
   "metadata": {},
   "outputs": [],
   "source": [
    "testArray2[0:2,0:-1:2]"
   ]
  },
  {
   "cell_type": "markdown",
   "metadata": {},
   "source": [
    "<div class=\"alert alert-info\" role=\"alert\">\n",
    "<h1>Exercises</h1>\n",
    "\n",
    "<ol>\n",
    "<li>\n",
    "Slicing is a very important concept for array access. Have a look at the documentation on [Basic Slicing and Indexing](https://docs.scipy.org/doc/numpy/reference/arrays.indexing.html) to find out what the following slices do on an array A:\n",
    "\n",
    "<ul style=\"list-style-type: none;\">\n",
    "   <li><input type=\"checkbox\">  A is 1D: A[-3:3:-1]</li>\n",
    "   <li><input type=\"checkbox\">  A is 1D: A[3:]</li>\n",
    "   <li><input type=\"checkbox\">  A is 2D: A[1:]</li>\n",
    "   <li><input type=\"checkbox\">  A is 1D: A[:]</li>\n",
    "   <li><input type=\"checkbox\">  A is 2D: A[:]</li>\n",
    "   <li><input type=\"checkbox\">  A is 1D: A[::2]</li>\n",
    "   <li><input type=\"checkbox\">  A is 2D: A[::2]</li>\n",
    "   <li><input type=\"checkbox\">  A is 2D: A[::2,::2]</li>\n",
    "    \n",
    "</ul>\n",
    "</li>\n",
    "</ol>\n",
    "</div>"
   ]
  },
  {
   "cell_type": "code",
   "execution_count": null,
   "metadata": {},
   "outputs": [],
   "source": []
  },
  {
   "cell_type": "markdown",
   "metadata": {},
   "source": [
    "<div class=\"alert alert-warning\" role=\"alert\">\n",
    "<h1>Warning</h1>\n",
    "\n",
    "Slicing a lists creates a new object (see Lab2), but **slicing an array creates a reference to the original (sub-) array** (in NumPy called a [view](https://docs.scipy.org/doc/numpy/reference/generated/numpy.ndarray.view.html)).\n",
    "\n",
    "\n",
    "This might lead to some confusion, but we can use this to our advantage for modifying arrays efficiently. By selecting a view on our original data and passing it around we can modify the original data by modifying the view (this is beyond this introduction, but if you are curious have a look at the documentation for an [example](https://docs.scipy.org/doc/numpy/reference/generated/numpy.ndarray.view.html).\n",
    "</div>"
   ]
  },
  {
   "cell_type": "markdown",
   "metadata": {},
   "source": [
    "## Boolean Indexing\n",
    "\n",
    "With boolean indexing we can select a subset of our array based on a logical condition. For example:"
   ]
  },
  {
   "cell_type": "code",
   "execution_count": null,
   "metadata": {},
   "outputs": [],
   "source": [
    "A = numpy.arange(55)\n",
    "A > 2"
   ]
  },
  {
   "cell_type": "markdown",
   "metadata": {},
   "source": [
    "As you can see NumPy applies the logical condition (greater than 2) to each element in the array. This works equally for multidimensional arrays:"
   ]
  },
  {
   "cell_type": "code",
   "execution_count": null,
   "metadata": {},
   "outputs": [],
   "source": [
    "A = numpy.array([numpy.arange(25),numpy.arange(25)])\n",
    "A > 2"
   ]
  },
  {
   "cell_type": "markdown",
   "metadata": {},
   "source": [
    "We can use the array of type boolean to index subsets of our array like so:\n"
   ]
  },
  {
   "cell_type": "code",
   "execution_count": null,
   "metadata": {},
   "outputs": [],
   "source": [
    "A = numpy.arange(50)\n",
    "A[A<5]"
   ]
  },
  {
   "cell_type": "markdown",
   "metadata": {},
   "source": [
    "Which is equivalent to:"
   ]
  },
  {
   "cell_type": "code",
   "execution_count": null,
   "metadata": {},
   "outputs": [],
   "source": [
    "boolIdx = (A<5)\n",
    "A[boolIdx]"
   ]
  },
  {
   "cell_type": "markdown",
   "metadata": {},
   "source": [
    "# Computing with Arrays\n",
    "\n",
    "We have seen how we can create arrays in NumPy and how we can access individual elements, or larger element collections from NumPy arrays. To finish this lab, we will have a quick look at the possibilities that NumPy provides us to perform optimized computations on arrays. \n",
    "\n",
    "As the central data structure in NumPy is the array, the computations upon these n-dimensional arrays belong to the field of [Linear Algebra](https://en.wikipedia.org/wiki/Linear_algebra), and NumPy provides implementations for most common operations, e.g. matrix multiplication, decompositions, determinants, etc.."
   ]
  },
  {
   "cell_type": "markdown",
   "metadata": {},
   "source": [
    "## Scalars\n",
    "\n",
    "Let's start by performing arithmetic operations on arrays with <a href=\"https://en.wikipedia.org/wiki/Scalar_(mathematics)\">scalars</a>. We can add a scalar to a vector exactly as you would expect:"
   ]
  },
  {
   "cell_type": "code",
   "execution_count": null,
   "metadata": {},
   "outputs": [],
   "source": [
    "A = numpy.ones(4)\n",
    "A"
   ]
  },
  {
   "cell_type": "code",
   "execution_count": null,
   "metadata": {},
   "outputs": [],
   "source": [
    "A + 0.5"
   ]
  },
  {
   "cell_type": "code",
   "execution_count": null,
   "metadata": {},
   "outputs": [],
   "source": [
    "B = numpy.ones([2,2])\n",
    "B - 0.3"
   ]
  },
  {
   "cell_type": "markdown",
   "metadata": {},
   "source": [
    "Equally, we can also subtract, divide, multiply  or exponentiate scalars:"
   ]
  },
  {
   "cell_type": "code",
   "execution_count": null,
   "metadata": {},
   "outputs": [],
   "source": [
    "A - 0.001 #or A - 1e-3 "
   ]
  },
  {
   "cell_type": "code",
   "execution_count": null,
   "metadata": {},
   "outputs": [],
   "source": [
    "A /3"
   ]
  },
  {
   "cell_type": "code",
   "execution_count": null,
   "metadata": {},
   "outputs": [],
   "source": [
    "2.5 * A"
   ]
  },
  {
   "cell_type": "code",
   "execution_count": null,
   "metadata": {},
   "outputs": [],
   "source": [
    "3 ** numpy.arange(15)"
   ]
  },
  {
   "cell_type": "markdown",
   "metadata": {},
   "source": [
    "## Arithmetic Operations with two Arrays\n",
    "If instead of a scalar we add,subtract, multiply or divide another array, the operation is performed element-wise:"
   ]
  },
  {
   "cell_type": "code",
   "execution_count": null,
   "metadata": {},
   "outputs": [],
   "source": [
    "A = numpy.arange(5)\n",
    "A"
   ]
  },
  {
   "cell_type": "code",
   "execution_count": null,
   "metadata": {},
   "outputs": [],
   "source": [
    "B = numpy.arange(5,10)\n",
    "B"
   ]
  },
  {
   "cell_type": "markdown",
   "metadata": {},
   "source": [
    "We can either use the NumPy function ``add(A,B)``, or the operator overloading ``A+B``."
   ]
  },
  {
   "cell_type": "code",
   "execution_count": null,
   "metadata": {},
   "outputs": [],
   "source": [
    "numpy.add(A,B)"
   ]
  },
  {
   "cell_type": "code",
   "execution_count": null,
   "metadata": {},
   "outputs": [],
   "source": [
    "A + B"
   ]
  },
  {
   "cell_type": "markdown",
   "metadata": {},
   "source": [
    "Both return the element-wise addition of the arrays."
   ]
  },
  {
   "cell_type": "code",
   "execution_count": null,
   "metadata": {},
   "outputs": [],
   "source": [
    "R = numpy.random.rand(2,2)\n",
    "R"
   ]
  },
  {
   "cell_type": "code",
   "execution_count": null,
   "metadata": {},
   "outputs": [],
   "source": [
    "O = numpy.ones([2,2])\n",
    "O"
   ]
  },
  {
   "cell_type": "code",
   "execution_count": null,
   "metadata": {},
   "outputs": [],
   "source": [
    "R + O"
   ]
  },
  {
   "cell_type": "markdown",
   "metadata": {},
   "source": [
    "Multiplication, subtraction and division are implemented accordingly:"
   ]
  },
  {
   "cell_type": "code",
   "execution_count": null,
   "metadata": {},
   "outputs": [],
   "source": [
    "A - B"
   ]
  },
  {
   "cell_type": "code",
   "execution_count": null,
   "metadata": {},
   "outputs": [],
   "source": [
    "numpy.subtract(A,B)"
   ]
  },
  {
   "cell_type": "code",
   "execution_count": null,
   "metadata": {},
   "outputs": [],
   "source": [
    "A / B"
   ]
  },
  {
   "cell_type": "code",
   "execution_count": null,
   "metadata": {},
   "outputs": [],
   "source": [
    "numpy.divide(A,B)"
   ]
  },
  {
   "cell_type": "code",
   "execution_count": null,
   "metadata": {},
   "outputs": [],
   "source": [
    "numpy.multiply(A,B)"
   ]
  },
  {
   "cell_type": "code",
   "execution_count": null,
   "metadata": {},
   "outputs": [],
   "source": [
    "A * B"
   ]
  },
  {
   "cell_type": "markdown",
   "metadata": {},
   "source": [
    "<div class=\"alert alert-warning\" role=\"alert\">\n",
    "<h1>Warning</h1>\n",
    "Unlike some other languages (like MATLAB), multiplying two two-dimensional arrays with * is an element-wise product in NumPy instead of a matrix dot product.\n",
    "<br/>\n",
    "<br/>\n",
    "\n",
    "<em>Array multiplication is not matrix multiplication!</em>\n",
    "\n",
    "</div>"
   ]
  },
  {
   "cell_type": "markdown",
   "metadata": {},
   "source": [
    "## Matrix Multiplication:\n",
    "\n",
    "If we want to perform [matrix multiplication](https://en.wikipedia.org/wiki/Matrix_multiplication) we can use ```numpy.dot(A,B)```:"
   ]
  },
  {
   "cell_type": "code",
   "execution_count": null,
   "metadata": {},
   "outputs": [],
   "source": [
    "A"
   ]
  },
  {
   "cell_type": "code",
   "execution_count": null,
   "metadata": {},
   "outputs": [],
   "source": [
    "B"
   ]
  },
  {
   "cell_type": "code",
   "execution_count": null,
   "metadata": {},
   "outputs": [],
   "source": [
    "numpy.dot(A,B)"
   ]
  },
  {
   "cell_type": "markdown",
   "metadata": {},
   "source": [
    "<div class=\"alert alert-info\" role=\"alert\">\n",
    "<h1>Exercises</h1>\n",
    "\n",
    "<ol>\n",
    "<li>\n",
    "Find the NumPy implementation for the following operations and apply them on our arrays A and/or B:\n",
    "\n",
    "<ul style=\"list-style-type: none;\">\n",
    "   <li><input type=\"checkbox\">  Calculate the remainder of two arrays.</li>\n",
    "   <li><input type=\"checkbox\">  Calculate the Cosine of an array.</li>\n",
    "   <li><input type=\"checkbox\">  Calculate the natural exponential of an array.</li>\n",
    "   <li><input type=\"checkbox\">  [Array Transposition](https://en.wikipedia.org/wiki/Transpose)</li>\n",
    "   <li><input type=\"checkbox\">  [Inner Product](https://en.wikipedia.org/wiki/Matrix_multiplication#The_inner_and_outer_products)</li>\n",
    "   <li><input type=\"checkbox\">  What is the difference between numpy.inner and numpy.dot?</li>\n",
    "   <li><input type=\"checkbox\">  [Inverse Matrix](https://en.wikipedia.org/wiki/Invertible_matrix)</li>\n",
    "   <li><input type=\"checkbox\">  [Determinant of a Matrix](https://en.wikipedia.org/wiki/Determinant)</li>\n",
    "   <li><input type=\"checkbox\">  Calculate the mean of an array.</li>\n",
    "   <li><input type=\"checkbox\">  Calculate the standard deviation of an array.</li>\n",
    "</ul>\n",
    "</li>\n",
    "</ol>\n",
    "</div>\n",
    "\n"
   ]
  },
  {
   "cell_type": "code",
   "execution_count": null,
   "metadata": {},
   "outputs": [],
   "source": []
  },
  {
   "cell_type": "markdown",
   "metadata": {},
   "source": [
    "# References\n",
    "\n",
    "NumPy offers many more operations as optimized computations on multidimensional arrays and is a fundamental tool for anyone interested in doing scientific computing in Python.\n",
    "\n",
    "If you want to deepen your understanding of NumPy, here are some good starting points:\n",
    "\n",
    "- [The SciPy NumPy tutorial](http://www.scipy-lectures.org/intro/numpy/index.html)\n",
    "- [100 Exercises with solutions in Numpy](http://www.labri.fr/perso/nrougier/teaching/numpy.100/)\n",
    "- [A Tutorial on Numpy implementing the game of life and complex chemical systems](http://www.labri.fr/perso/nrougier/teaching/numpy/numpy.html)\n",
    "\n",
    "For a visual introduction to Linear Algebra:\n",
    "- [Essence of Linear Algebra](https://www.youtube.com/watch?v=kjBOesZCoqc)"
   ]
  }
 ],
 "metadata": {
  "anaconda-cloud": {},
  "kernelspec": {
   "display_name": "Python 3",
   "language": "python",
   "name": "python3"
  },
  "language_info": {
   "codemirror_mode": {
    "name": "ipython",
    "version": 3
   },
   "file_extension": ".py",
   "mimetype": "text/x-python",
   "name": "python",
   "nbconvert_exporter": "python",
   "pygments_lexer": "ipython3",
   "version": "3.6.7"
  }
 },
 "nbformat": 4,
 "nbformat_minor": 2
}
