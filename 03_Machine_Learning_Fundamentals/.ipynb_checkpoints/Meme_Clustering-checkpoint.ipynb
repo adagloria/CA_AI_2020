{
 "cells": [
  {
   "cell_type": "markdown",
   "metadata": {},
   "source": [
    "Saw that meme (see below) and could not resist mocking this a bit.\n",
    "\n",
    "You will need a few additional libs to learn all that \"rocket science\" that they promised you will learn:\n",
    "- `opencv`\n",
    "- `fastai`"
   ]
  },
  {
   "cell_type": "code",
   "execution_count": null,
   "metadata": {},
   "outputs": [],
   "source": [
    "import cv2\n",
    "import numpy as np\n",
    "import matplotlib.pyplot as plt\n",
    "import pandas as pd\n",
    "%matplotlib inline"
   ]
  },
  {
   "cell_type": "code",
   "execution_count": null,
   "metadata": {},
   "outputs": [],
   "source": [
    "img = cv2.imread('meme.jpg')\n",
    "img = cv2.resize(img, (640, 640))\n",
    "# img = cv2.medianBlur(img, 3)\n",
    "# img = cv2.GaussianBlur(img, (3, 3), 1)\n",
    "img_H, img_W, channels = img.shape\n",
    "img.shape"
   ]
  },
  {
   "cell_type": "code",
   "execution_count": null,
   "metadata": {},
   "outputs": [],
   "source": [
    "plt.figure(figsize=(10,10))\n",
    "plt.imshow(img, interpolation='nearest')\n",
    "plt.title('Meme')\n",
    "plt.show()"
   ]
  },
  {
   "cell_type": "code",
   "execution_count": null,
   "metadata": {},
   "outputs": [],
   "source": [
    "windows = []\n",
    "plt.figure(1, figsize=(10, 10))\n",
    "tmp = img # for drawing a rectangle\n",
    "step = 32\n",
    "(window_W, window_H) = (32, 32) # window size\n",
    "for x in range(0, img_W - window_W + step, step):\n",
    "    for y in range(0, img_H - window_H + step, step):\n",
    "        window = img[x:x + window_W, y:y + window_H, :]\n",
    "        windows.append(window)\n",
    "        cv2.rectangle(tmp, (x, y), (x + window_W, y + window_H), (255, 0, 0), 2) # draw rectangle on image\n",
    "        plt.imshow(np.array(tmp).astype('uint8'))\n",
    "plt.show()"
   ]
  },
  {
   "cell_type": "code",
   "execution_count": null,
   "metadata": {},
   "outputs": [],
   "source": [
    "def get_img_features(img):\n",
    "    r, g, b = cv2.split(img)\n",
    "    r_stats = np.array(pd.Series(r.flatten()).describe())\n",
    "    g_stats = np.array(pd.Series(g.flatten()).describe())\n",
    "    b_stats = np.array(pd.Series(b.flatten()).describe())\n",
    "    gray = cv2.cvtColor(window, cv2.COLOR_BGR2GRAY)\n",
    "    blurred1 = cv2.GaussianBlur(gray, (3, 3), 1).flatten()\n",
    "    blurred2 = cv2.GaussianBlur(gray, (7, 7), 1).flatten()\n",
    "    flipped_h1 = cv2.flip(blurred1, 0).flatten()\n",
    "    flipped_h2 = cv2.flip(blurred2, 0).flatten()\n",
    "    flipped_v1 = cv2.flip(blurred1, 1).flatten()\n",
    "    flipped_v2 = cv2.flip(blurred2, 1).flatten()\n",
    "    return np.concatenate((r_stats, g_stats, b_stats, blurred1, blurred2, flipped_h1, flipped_h2, flipped_v1, flipped_v2))"
   ]
  },
  {
   "cell_type": "code",
   "execution_count": null,
   "metadata": {},
   "outputs": [],
   "source": [
    "result = [get_img_features(window) for window in windows]"
   ]
  },
  {
   "cell_type": "code",
   "execution_count": null,
   "metadata": {},
   "outputs": [],
   "source": [
    "window_df = pd.DataFrame(result)\n",
    "window_df"
   ]
  },
  {
   "cell_type": "code",
   "execution_count": null,
   "metadata": {},
   "outputs": [],
   "source": [
    "from sklearn import preprocessing\n",
    "x = window_df.values\n",
    "min_max_scaler = preprocessing.StandardScaler()\n",
    "x_scaled = min_max_scaler.fit_transform(x)\n",
    "df = pd.DataFrame(x_scaled)\n",
    "df"
   ]
  },
  {
   "cell_type": "code",
   "execution_count": null,
   "metadata": {
    "scrolled": true
   },
   "outputs": [],
   "source": [
    "from sklearn.decomposition import PCA\n",
    "pca = PCA(n_components=2)\n",
    "X_2d = pca.fit_transform(df)\n",
    "X_2d"
   ]
  },
  {
   "cell_type": "code",
   "execution_count": null,
   "metadata": {},
   "outputs": [],
   "source": [
    "data = pd.DataFrame(X_2d, columns=['fst', 'snd'])\n",
    "plt.figure(figsize=(12,8))\n",
    "plt.scatter(data['fst'], data['snd'], alpha=.5)\n",
    "plt.title('Data in PCA space')\n",
    "plt.xlabel('PC1')\n",
    "plt.ylabel('PC2')\n",
    "top_plot = plt.gca()\n",
    "plt.show()"
   ]
  },
  {
   "cell_type": "code",
   "execution_count": null,
   "metadata": {},
   "outputs": [],
   "source": [
    "from sklearn.cluster import KMeans\n",
    "import matplotlib.lines as mlines\n",
    "import matplotlib.pyplot as plt\n",
    "import matplotlib"
   ]
  },
  {
   "cell_type": "code",
   "execution_count": null,
   "metadata": {},
   "outputs": [],
   "source": [
    "pca = PCA(n_components=10)\n",
    "test = pca.fit_transform(df)\n",
    "\n",
    "max_n = 10\n",
    "plt.figure(figsize=(10, 8))\n",
    "wcss = []\n",
    "for i in range(1, max_n):\n",
    "    kmeans = KMeans(n_clusters = i, init = 'k-means++', random_state = 42)\n",
    "    kmeans.fit(test)\n",
    "    wcss.append(kmeans.inertia_)\n",
    "plt.plot(range(1, max_n), wcss)\n",
    "plt.title('The Elbow Method (Original)')\n",
    "plt.xlabel('Number of clusters')\n",
    "plt.ylabel('WCSS')\n",
    "plt.show()"
   ]
  },
  {
   "cell_type": "code",
   "execution_count": null,
   "metadata": {},
   "outputs": [],
   "source": [
    "nc = 3\n",
    "kmeans = KMeans(n_clusters=nc, random_state=42)  \n",
    "kmeans.fit(test)\n",
    "\n",
    "colours = matplotlib.rcParams['axes.prop_cycle'].by_key()['color']\n",
    "cluster_ids = list(np.arange(nc))\n",
    "cluster_names = [f'Cluster {cluster_id}' for cluster_id in cluster_ids]\n",
    "labels = kmeans.labels_\n",
    "centers = kmeans.cluster_centers_\n",
    "\n",
    "plt.figure(figsize=(12,8))\n",
    "for color, c_id, c_name in zip(colours, cluster_ids, cluster_names):\n",
    "    plt.scatter(X_2d[labels == c_id, 0], X_2d[labels == c_id, 1], color=color, alpha=.3, lw=1, label=c_name)\n",
    "    \n",
    "plt.scatter(centers[:, 0], centers[:, 1], c='black', s=200, alpha=0.5)\n",
    "plt.axis('equal')\n",
    "plt.legend(loc='center left', scatterpoints=3, bbox_to_anchor=[1.01, 0.5])\n",
    "plt.title('Labelled data in PCA space')\n",
    "plt.xlabel('PC1')\n",
    "plt.ylabel('PC2')\n",
    "top_plot = plt.gca()\n",
    "plt.show()"
   ]
  },
  {
   "cell_type": "code",
   "execution_count": null,
   "metadata": {
    "scrolled": true
   },
   "outputs": [],
   "source": [
    "labels"
   ]
  },
  {
   "cell_type": "code",
   "execution_count": null,
   "metadata": {},
   "outputs": [],
   "source": [
    "RED = (255, 0, 0)\n",
    "GREEN = (0, 255, 0)\n",
    "BLUE = (0, 0, 255)\n",
    "\n",
    "plt.figure(1, figsize=(10, 10))\n",
    "tmp = np.zeros(img.shape, np.uint8) # for drawing a rectangle\n",
    "step = 32\n",
    "(window_W, window_H) = (32, 32) # window size\n",
    "counter = 0\n",
    "for x in range(0, img_W - window_W + step, step):\n",
    "    for y in range(0, img_H - window_H + step, step):\n",
    "        \n",
    "        window = img[x:x + window_W, y:y + window_H, :]\n",
    "        \n",
    "        label = labels[counter]\n",
    "        \n",
    "        # Blue rectangle\n",
    "        if label == 0:           \n",
    "            cv2.rectangle(tmp, (x, y), (x + window_W, y + window_H), BLUE, -1) \n",
    "            \n",
    "        # Blue rectangle\n",
    "        if label == 1:           \n",
    "            cv2.rectangle(tmp, (x, y), (x + window_W, y + window_H), GREEN, -1)\n",
    "        \n",
    "        # RED rectangle\n",
    "        if label == 2:           \n",
    "            cv2.rectangle(tmp, (x, y), (x + window_W, y + window_H), RED, -1)\n",
    "            \n",
    "        counter += 1\n",
    "            \n",
    "out = cv2.addWeighted(img, 0.75, tmp, 0.25, 1)\n",
    "plt.imshow(out)\n",
    "plt.show()"
   ]
  },
  {
   "cell_type": "markdown",
   "metadata": {},
   "source": [
    "Cleaner option:"
   ]
  },
  {
   "cell_type": "code",
   "execution_count": null,
   "metadata": {},
   "outputs": [],
   "source": [
    "import matplotlib.pyplot as plt\n",
    "from mpl_toolkits.mplot3d import Axes3D\n",
    "\n",
    "img = cv2.imread('meme2.png')\n",
    "img = cv2.resize(img, (640, 640))\n",
    "img = cv2.cvtColor(img, cv2.COLOR_BGR2RGB)\n",
    "\n",
    "r, g, b = cv2.split(img)\n",
    "r = r.flatten()\n",
    "g = g.flatten()\n",
    "b = b.flatten()\n",
    "fig = plt.figure()\n",
    "ax = Axes3D(fig)\n",
    "ax.scatter(r, g, b)\n",
    "plt.show()"
   ]
  },
  {
   "cell_type": "code",
   "execution_count": null,
   "metadata": {},
   "outputs": [],
   "source": [
    "vectorized = img.reshape((-1,3))\n",
    "vectorized = np.float32(vectorized)"
   ]
  },
  {
   "cell_type": "code",
   "execution_count": null,
   "metadata": {},
   "outputs": [],
   "source": [
    "vectorized.shape"
   ]
  },
  {
   "cell_type": "code",
   "execution_count": null,
   "metadata": {},
   "outputs": [],
   "source": [
    "criteria = (cv2.TERM_CRITERIA_EPS + cv2.TERM_CRITERIA_MAX_ITER, 10, 1.0)"
   ]
  },
  {
   "cell_type": "code",
   "execution_count": null,
   "metadata": {},
   "outputs": [],
   "source": [
    "K = 4\n",
    "attempts = 10\n",
    "ret, label, center = cv2.kmeans(vectorized, K, None,criteria,attempts,cv2.KMEANS_PP_CENTERS)"
   ]
  },
  {
   "cell_type": "code",
   "execution_count": null,
   "metadata": {},
   "outputs": [],
   "source": [
    "center = np.uint8(center)"
   ]
  },
  {
   "cell_type": "code",
   "execution_count": null,
   "metadata": {},
   "outputs": [],
   "source": [
    "res = center[label.flatten()]\n",
    "result_image = res.reshape((img.shape))"
   ]
  },
  {
   "cell_type": "code",
   "execution_count": null,
   "metadata": {},
   "outputs": [],
   "source": [
    "result_image.shape"
   ]
  },
  {
   "cell_type": "code",
   "execution_count": null,
   "metadata": {},
   "outputs": [],
   "source": [
    "plt.figure(figsize=(20,20))\n",
    "plt.subplot(1,2,1)\n",
    "plt.imshow(img)\n",
    "plt.title('Original Image')\n",
    "plt.xticks([])\n",
    "plt.yticks([])\n",
    "plt.subplot(1,2,2)\n",
    "plt.imshow(result_image)\n",
    "plt.title('Segmented Image when K = %i' % K)\n",
    "plt.xticks([])\n",
    "plt.yticks([])\n",
    "plt.show()"
   ]
  },
  {
   "cell_type": "code",
   "execution_count": null,
   "metadata": {},
   "outputs": [],
   "source": []
  }
 ],
 "metadata": {
  "kernelspec": {
   "display_name": "Python 3",
   "language": "python",
   "name": "python3"
  },
  "language_info": {
   "codemirror_mode": {
    "name": "ipython",
    "version": 3
   },
   "file_extension": ".py",
   "mimetype": "text/x-python",
   "name": "python",
   "nbconvert_exporter": "python",
   "pygments_lexer": "ipython3",
   "version": "3.7.2"
  }
 },
 "nbformat": 4,
 "nbformat_minor": 2
}
