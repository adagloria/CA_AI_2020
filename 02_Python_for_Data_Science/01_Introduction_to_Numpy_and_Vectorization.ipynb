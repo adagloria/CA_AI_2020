{
 "cells": [
  {
   "cell_type": "markdown",
   "metadata": {},
   "source": [
    "_______________\n",
    "# 01. Introduction to NumPy & Vectorization\n",
    "_______________\n",
    "Now, since we got familiar with **Python**, it's about the time to make some proper use of it **for scientific computing**. In the following lab we will learn how to improve the speed of computations using [`NumPy`](http://www.numpy.org/) - a Python package for numeric computation that offers optimized vectorized data routines.\n",
    "\n",
    "* __Read the text__ and have a go with the cells and the objects created by them\n",
    "* __Attempt Exercises at the bottom of the notebook__\n",
    "_______________\n",
    "**`Note`** Basic knowledge of `python` is assumed for this part of the course, so make sure you went through and understood the material that was presented earlier. Here are some additional links in case you want to hear it from someone else once again, or in case you need a follow-up after going through this notebook: \n",
    "\n",
    "- [`Introduction to Jupyter notebooks`](http://bebi103.caltech.edu/2015/tutorials/t0b_intro_to_jupyter_notebooks.html)\n",
    "\n",
    "- [`Introduction to Python for scientific computing`](http://bebi103.caltech.edu/2015/tutorials/t1a_intro_to_python.html)\n",
    "\n",
    "- [`Python/Numpy tutorial`](http://cs231n.github.io/python-numpy-tutorial/#python)"
   ]
  },
  {
   "cell_type": "markdown",
   "metadata": {},
   "source": [
    "_______________\n",
    "## `Data Science Stack`\n",
    "Apart from `NumPy`, we will also cover many additional libraries used for data science in Python, so you may start getting to know the better:\n",
    "\n",
    "* [`numpy`](http://www.numpy.org/): scientific computing by using array objects\n",
    "\n",
    "\n",
    "* [`pandas`](http://pandas.pydata.org/): data structures and data analysis tools\n",
    "\n",
    "\n",
    "* [`matplotlib`](http://matplotlib.org/): plotting library (similar to MATLAB's plot interface)\n",
    "\n",
    "\n",
    "* [`scikit-learn`](http://scikit-learn.org/stable/) machine learning library implementing many learning algorithms and useful tools.\n",
    "\n",
    "\n",
    "* [`seaborn`](https://seaborn.github.io/index.html): data visualisation library which works on top of matplotlib\n",
    "\n",
    "\n",
    "* [`scipy`](https://www.scipy.org/) a library based on NumPy that extends its functionality - in case you need any functions related to linear algebra, differential calculus, and signal processing."
   ]
  },
  {
   "cell_type": "markdown",
   "metadata": {},
   "source": [
    "______________\n",
    "## `Morning/Evening Reads`\n",
    "A list of links that are worth to follow and look through when you are having a cup of coffee in the morning or are trying to make yourself fall asleep (just joking, there's quite a lot of interesting content about AI, ML, DS, and etc., both *technical* and not).\n",
    "- [`Towards Data Science`](https://towardsdatascience.com/) - articles & blog posts on data science (very broadly speaking). Often conceptual and/or ideological, but very often contains nice code starters. \n",
    "- [`KDNuggets`](https://www.kdnuggets.com/news/index.html) - an online platform on business analytics, big data, data mining, and data science. I find it more technical than TDS.\n",
    "- [`Kaggle`](https://www.kaggle.com/) - a platform for machine learning competitions (you may win some prizes here, who knows). If you're really into code/solution digging (not blog post quality documentation though). "
   ]
  },
  {
   "cell_type": "markdown",
   "metadata": {},
   "source": [
    "_______________\n",
    "### `Imports`\n",
    "As per usual, we start by importing the packages that we will be using later. It's generally a good practice to do so at the top of a file. \n",
    "\n",
    "    If you have troubles importing any of these packages, make sure they are properly installed (`README` within the root of this repository)."
   ]
  },
  {
   "cell_type": "code",
   "execution_count": 120,
   "metadata": {},
   "outputs": [
    {
     "ename": "ModuleNotFoundError",
     "evalue": "No module named 'autotime'",
     "output_type": "error",
     "traceback": [
      "\u001b[0;31m---------------------------------------------------------------------------\u001b[0m",
      "\u001b[0;31mModuleNotFoundError\u001b[0m                       Traceback (most recent call last)",
      "\u001b[0;32m<ipython-input-120-d7a663b289bb>\u001b[0m in \u001b[0;36m<module>\u001b[0;34m\u001b[0m\n\u001b[1;32m      2\u001b[0m \u001b[0;32mimport\u001b[0m \u001b[0msys\u001b[0m\u001b[0;34m\u001b[0m\u001b[0;34m\u001b[0m\u001b[0m\n\u001b[1;32m      3\u001b[0m \u001b[0;32mimport\u001b[0m \u001b[0mnumpy\u001b[0m \u001b[0;32mas\u001b[0m \u001b[0mnp\u001b[0m\u001b[0;34m\u001b[0m\u001b[0;34m\u001b[0m\u001b[0m\n\u001b[0;32m----> 4\u001b[0;31m \u001b[0;32mimport\u001b[0m \u001b[0mautotime\u001b[0m\u001b[0;34m\u001b[0m\u001b[0;34m\u001b[0m\u001b[0m\n\u001b[0m\u001b[1;32m      5\u001b[0m \u001b[0mget_ipython\u001b[0m\u001b[0;34m(\u001b[0m\u001b[0;34m)\u001b[0m\u001b[0;34m.\u001b[0m\u001b[0mrun_line_magic\u001b[0m\u001b[0;34m(\u001b[0m\u001b[0;34m'load_ext'\u001b[0m\u001b[0;34m,\u001b[0m \u001b[0;34m'autotime'\u001b[0m\u001b[0;34m)\u001b[0m\u001b[0;34m\u001b[0m\u001b[0;34m\u001b[0m\u001b[0m\n",
      "\u001b[0;31mModuleNotFoundError\u001b[0m: No module named 'autotime'"
     ]
    }
   ],
   "source": [
    "import os\n",
    "import sys\n",
    "import numpy as np\n",
    "import autotime\n",
    "%load_ext autotime"
   ]
  },
  {
   "cell_type": "markdown",
   "metadata": {},
   "source": [
    "# ============ Numpy  ============\n",
    "[Numpy](http://www.numpy.org) is a powerful scientific computing library that provides numerous methods for working with n-dimensional arrays, which you will find highly useful in data science & machine learning. The following `Numpy` introduction is largely based on this [tutorial](http://cs231n.github.io/python-numpy-tutorial/#numpy), though some of the explanations were also borrowed from the [INF1CG](https://www.learn.ed.ac.uk/webapps/blackboard/content/listContent.jsp?course_id=_72370_1&content_id=_4289282_1) course labs (UoE).\n",
    "\n",
    "## Why Vectorize?\n",
    "`Vectorization` refers to the process of rewriting an iterative program (a program that has loops) in such a way that no loops remain. Instead of sequentially performing computations, a vectorized program performs subsets of operations at once (for trivial tasks all operations might be applied at once). \n",
    "\n",
    "    Vectorization is a very important and useful concept in data-science and machine learning, as problem formulation in a vectorized form can lead to extremelly large speed improvements.\n",
    "\n",
    "Before getting into the details of how to perform computations using `NumPy`, let's see *how much faster* a vectorized operation can be. Assume that you have a large number of data stored in ```long_list``` and you want to calculate the sum of all elements in it:"
   ]
  },
  {
   "cell_type": "code",
   "execution_count": null,
   "metadata": {},
   "outputs": [],
   "source": [
    "long_list = list(range(5000000))"
   ]
  },
  {
   "cell_type": "markdown",
   "metadata": {},
   "source": [
    "We have seen previously that it is possible to simply **loop through** a Python data structure in order to get the sum of the list elements. We only have to store the partial sum while we iterate through the list:"
   ]
  },
  {
   "cell_type": "code",
   "execution_count": null,
   "metadata": {},
   "outputs": [],
   "source": [
    "partial_sum = 0\n",
    "\n",
    "for number in [1,2,3,4,5]:\n",
    "    partial_sum = partial_sum + number \n",
    "    #this sort of operation is performed all the time so there exists a shorthand\n",
    "    #if you want you can also write partial_sum += number\n",
    "\n",
    "partial_sum"
   ]
  },
  {
   "cell_type": "markdown",
   "metadata": {},
   "source": [
    "And since this sort of operation might be useful in the future we might want to make it a function:"
   ]
  },
  {
   "cell_type": "code",
   "execution_count": null,
   "metadata": {},
   "outputs": [],
   "source": [
    "def my_list_sum(list_of_numbers):\n",
    "    partial_sum = 0\n",
    "    for number in list_of_numbers:\n",
    "        partial_sum += number\n",
    "    return partial_sum\n",
    "\n",
    "my_list_sum([1,2,3,4,5])"
   ]
  },
  {
   "cell_type": "code",
   "execution_count": null,
   "metadata": {},
   "outputs": [],
   "source": [
    "my_list_sum(long_list)"
   ]
  },
  {
   "cell_type": "markdown",
   "metadata": {},
   "source": [
    "This approach is very simple and easy to understand and computing it didn't really take *that long*. Still, if we want to compare implementations we need to calculate how long it took. For that, we can use an IPython [magic command](http://ipython.readthedocs.io/en/stable/interactive/magics.html) \n",
    "\n",
    "```\n",
    "%%timeit\n",
    "```\n",
    "\n",
    "``timeit`` calculates the average time it takes to execute a Python expression for a number of runs (and takes care of a number of issues that make estimating processing time tedious). We can use the magic command in a cell like so:"
   ]
  },
  {
   "cell_type": "code",
   "execution_count": null,
   "metadata": {},
   "outputs": [],
   "source": [
    "%%timeit\n",
    "my_list_sum(long_list)"
   ]
  },
  {
   "cell_type": "markdown",
   "metadata": {},
   "source": [
    "So as we've said before, it didn't really take long for this list - on a (rather slow) laptop around 31 [milliseconds](https://en.wikipedia.org/wiki/Millisecond).\n",
    "\n",
    "Summing is a very common operation and of course there exists a build-in operator for summing in Python - we can sum elements of a list using Python's own ``sum()`` implementation.\n",
    "Let's check how long it takes us to sum the elements using Python's own implementation:"
   ]
  },
  {
   "cell_type": "code",
   "execution_count": null,
   "metadata": {},
   "outputs": [],
   "source": [
    "%%timeit\n",
    "sum(long_list)"
   ]
  },
  {
   "cell_type": "markdown",
   "metadata": {},
   "source": [
    "On the same laptop our self-made loop takes roughly 5 times longer (your results might vary but the Python version should be considerably faster).\n",
    "\n",
    "#### Why are built-ins faster?\n",
    "\n",
    "When we write loops, the code is executed as Python code, i.e. the Python interpreter has to translate the Python code into bytecode instructions. The native Python operations (like ```sum, len```) are all written as optimized code and thus do not need the same amount of translation and overhead as non-native Python code.\n",
    "\n",
    "If there exist a build-in function for the command you want to use (and you do not have very good reasons to do otherwise) use the build-in function, as:\n",
    "\n",
    "- Less typing and thinking means less errors in your code.\n",
    "- Native implementations should give you better performance.\n",
    "\n",
    "### `Arrays` in Python\n",
    "Python lists can contain different *types* of items, but if we know what type all objects in our collection are, it makes sense to explicitly state the type. In such case, the Python interpreter can take advantage of the type declaration, which results in faster computations.\n",
    "\n",
    "**`Arrays`** are part of the Python Standard Library and provide a collection that is very similar to lists, but specifies the type of contained objects (and thus restricts all contents to be of that type). We can import the array data structure from the array library with:"
   ]
  },
  {
   "cell_type": "code",
   "execution_count": null,
   "metadata": {},
   "outputs": [],
   "source": [
    "from array import array"
   ]
  },
  {
   "cell_type": "markdown",
   "metadata": {},
   "source": [
    "To create an array data structure need to specify the type that *all* items in the array will have (in this case I pick the type double, *'d'*), and as second argument the collection of elements that are contained in the array:"
   ]
  },
  {
   "cell_type": "code",
   "execution_count": null,
   "metadata": {},
   "outputs": [],
   "source": [
    "pythonArray = array('d', long_list)"
   ]
  },
  {
   "cell_type": "markdown",
   "metadata": {},
   "source": [
    "Notice that we cannot declare arrays with items of different types!"
   ]
  },
  {
   "cell_type": "code",
   "execution_count": null,
   "metadata": {},
   "outputs": [],
   "source": [
    "array('d', [1,\"this does not work\"])"
   ]
  },
  {
   "cell_type": "markdown",
   "metadata": {},
   "source": [
    "Let's see if adding an array instead of a list improves performance:"
   ]
  },
  {
   "cell_type": "code",
   "execution_count": null,
   "metadata": {},
   "outputs": [],
   "source": [
    "%%timeit\n",
    "sum(pythonArray)"
   ]
  },
  {
   "cell_type": "markdown",
   "metadata": {},
   "source": [
    "On the same laptop we didn't get any speed-up compared to the native sum operation! Why is that?\n",
    "The reason is that Python's native ``sum()`` does operate upon lists. The `Python` interpreter has to translate our array into a list to perform the operation and therefore we do not get any speedups (in fact we should be slightly slower).\n",
    "\n",
    "As you can see at the [array documentation](https://docs.python.org/3/library/array.html), the number of operations defined on the Python array implementation is very restricted - and all operations that *are implemented* (like ```reverse``` or ```count```) are already heavily optimized for `Python` lists.\n",
    "\n",
    "This was a bit underwhelming, but let's give it one last chance - in the form of `NumPy`'s implementation of arrays and the ***additional support for vectorized functions***."
   ]
  },
  {
   "cell_type": "code",
   "execution_count": null,
   "metadata": {},
   "outputs": [],
   "source": [
    "numpyArray = np.array(long_list) #we will discuss NumPy array creation in the next section\n",
    "np.sum(numpyArray) #notice that this is NumPys sum implementation"
   ]
  },
  {
   "cell_type": "code",
   "execution_count": null,
   "metadata": {},
   "outputs": [],
   "source": [
    "%%timeit\n",
    "np.sum(numpyArray)"
   ]
  },
  {
   "cell_type": "markdown",
   "metadata": {},
   "source": [
    "As you can see this is *way faster* than our fastest implementation, and this difference in speed will only increase with the size of our data (If you don't believe it, try a larger range for our long_list).\n",
    "\n",
    "***Why is NumPy so much faster than the Python array?*** The *NumPy ndarray object is of fixed size* and *all elements are the same datatype* as the Python array. In addition to the array data structure, *Numpy operations are performed as optimized code* on the array data structure.\n",
    "\n",
    "Changing your iterative (loopy) programs to operate on arrays and use vectorized functions in `NumPy` can drastically improve the performance, whilst also in a shorter amount code."
   ]
  },
  {
   "cell_type": "markdown",
   "metadata": {},
   "source": [
    "##  `Arrays` in Numpy\n",
    "A main Numpy object is a ***N-dimensional array*** [`ndarray`](https://docs.scipy.org/doc/numpy/reference/generated/numpy.ndarray.html), which serves as a container (grid of values) for large arrays of data of the same type. The objects can be used along with a set of provided universal functions [`ufuncs`](https://docs.scipy.org/doc/numpy/reference/ufuncs.html) to perform a variety of scientific computations efficiently.\n",
    "\n",
    "- The ***number of dimensions*** is the ***rank*** of the array; \n",
    "- The ***shape*** of an array is a tuple of integers giving the ***size of the array along each dimension***. \n",
    "\n",
    "**`N.B.`** This use of the word `rank` is not the same as the meaning in linear algebra.\n",
    "\n",
    "Let's start by having a look at how we can create different forms of arrays in NumPy. To start with, we can initialize numpy arrays from nested Python [lists](http://www.tutorialspoint.com/python/python_lists.htm), and access elements using square brackets:"
   ]
  },
  {
   "cell_type": "code",
   "execution_count": null,
   "metadata": {},
   "outputs": [],
   "source": [
    "a = np.array([1, 2, 3])  # Creates a rank 1 array (i.e. vector)\n",
    "a"
   ]
  },
  {
   "cell_type": "code",
   "execution_count": null,
   "metadata": {},
   "outputs": [],
   "source": [
    "charArray = np.array(['a', 'b', 'c'])\n",
    "charArray"
   ]
  },
  {
   "cell_type": "code",
   "execution_count": null,
   "metadata": {},
   "outputs": [],
   "source": [
    "floatArray = np.array([1, 2, 3.0])\n",
    "floatArray"
   ]
  },
  {
   "cell_type": "code",
   "execution_count": null,
   "metadata": {},
   "outputs": [],
   "source": [
    "boolArray = np.array([True, False])\n",
    "boolArray"
   ]
  },
  {
   "cell_type": "markdown",
   "metadata": {},
   "source": [
    "For Python arrays we had to declare the type of the contained elements - here we didn't do any of this, but NumPy has set the type by **inferring the optimal data type when you create an array**.\n",
    "\n",
    "We can access the data type of a NumPy array with:"
   ]
  },
  {
   "cell_type": "code",
   "execution_count": null,
   "metadata": {},
   "outputs": [],
   "source": [
    "boolArray.dtype  # Prints the type of object a (array)"
   ]
  },
  {
   "cell_type": "markdown",
   "metadata": {},
   "source": [
    "Notice that this tells you the **type of the contained data**!  If you ask for the type of object ```boolArray``` we instead get ```numpy.ndarray```."
   ]
  },
  {
   "cell_type": "code",
   "execution_count": null,
   "metadata": {},
   "outputs": [],
   "source": [
    "type(boolArray)  # Prints the type of object a (array)"
   ]
  },
  {
   "cell_type": "markdown",
   "metadata": {},
   "source": [
    "We can also include an optional argument to explicitly specify the data type, like so:"
   ]
  },
  {
   "cell_type": "code",
   "execution_count": null,
   "metadata": {},
   "outputs": [],
   "source": [
    "a = np.array([1,2,3], dtype='int8')"
   ]
  },
  {
   "cell_type": "markdown",
   "metadata": {},
   "source": [
    "One of the most basic property of an array we might be interested in is its *shape*. The NumPy function ``numpy.shape`` returns the shape of an array as a tuple of integers. Each number in the tuple denotes the length of the corresponding array dimension. Let's see an example:"
   ]
  },
  {
   "cell_type": "code",
   "execution_count": null,
   "metadata": {},
   "outputs": [],
   "source": [
    "a.shape  # Prints the number of elements for each dimension"
   ]
  },
  {
   "cell_type": "code",
   "execution_count": null,
   "metadata": {},
   "outputs": [],
   "source": [
    "a.ndim   # Prints the number of dimensions of object a (array)"
   ]
  },
  {
   "cell_type": "code",
   "execution_count": null,
   "metadata": {},
   "outputs": [],
   "source": [
    "A = np.array([1,2,3,4,5,6,7,8,9,10])\n",
    "A.shape"
   ]
  },
  {
   "cell_type": "code",
   "execution_count": null,
   "metadata": {},
   "outputs": [],
   "source": [
    "A.ndim"
   ]
  },
  {
   "cell_type": "markdown",
   "metadata": {},
   "source": [
    "The array A has length 10 in the first dimension (rows) and no other dimensions."
   ]
  },
  {
   "cell_type": "code",
   "execution_count": null,
   "metadata": {},
   "outputs": [],
   "source": [
    "B = np.array([[1,2,3],[4,5,6]])\n",
    "B.shape"
   ]
  },
  {
   "cell_type": "code",
   "execution_count": null,
   "metadata": {},
   "outputs": [],
   "source": [
    "B.ndim"
   ]
  },
  {
   "cell_type": "markdown",
   "metadata": {},
   "source": [
    "The array B has length 2 in the first dimension (rows) and length 3 in the second dimension (columns).\n",
    "\n",
    "If instead, we want to know the total number of elements in the array we use ```size```:"
   ]
  },
  {
   "cell_type": "code",
   "execution_count": null,
   "metadata": {},
   "outputs": [],
   "source": [
    "A.size"
   ]
  },
  {
   "cell_type": "code",
   "execution_count": null,
   "metadata": {},
   "outputs": [],
   "source": [
    "B.size"
   ]
  },
  {
   "cell_type": "markdown",
   "metadata": {},
   "source": [
    "<div class=\"alert alert-info\" role=\"alert\">\n",
    "<h1>Exercises</h1>\n",
    "\n",
    "<ol>\n",
    "\n",
    "<li>\n",
    "Assume you have a large database of user behavior on a video-streaming platform. You want to store different information about the movies in your database in an array. Since your database is very big, the data type in which you store this data will make a big difference in how much space you have to allocate for it on your server. Have a look at the table of different [NumPy types](https://docs.scipy.org/doc/numpy/user/basics.types.html) and think about which data type you would pick for the following data:\n",
    "\n",
    "<ul style=\"list-style-type: none;\">\n",
    "   <li><input type=\"checkbox\"> The number of videos watched by each user.</li>\n",
    "    <li><input type=\"checkbox\"> The average rating of a each movie (ratings from 0 to 10).</li>\n",
    "    <li><input type=\"checkbox\"> The size of each movie (in MB, in GB?).</li>\n",
    "    <li><input type=\"checkbox\"> If a user has watched a specific movie.</li>\n",
    "    <li><input type=\"checkbox\"> The title of the movie that the user has watched.</li>\n",
    "    <li><input type=\"checkbox\"> The first letter of the title.</li>\n",
    "</ul>\n",
    "\n",
    "</li>\n",
    "<li>\n",
    "Check what happens if you declare the following NumPy arrays and explain how NumPy handles these arrays (inspecting the resulting array and using the table on [NumPy types](https://docs.scipy.org/doc/numpy/user/basics.types.html).\n",
    "\n",
    "<ul style=\"list-style-type: none;\">\n",
    "   <li><input type=\"checkbox\"> numpy.array([-1,2,3],dtype='uint8')</li>\n",
    "   <li><input type=\"checkbox\"> numpy.array([50,80,250,256])</li>\n",
    "    <li><input type=\"checkbox\"> numpy.array([50,80,250,256],dtype='float64')</li>\n",
    "    <li><input type=\"checkbox\"> numpy.array([50,80,250,256],dtype='uint8')</li>\n",
    "</ul>\n",
    "</li>\n",
    "</ol>\n",
    "\n",
    "</div>"
   ]
  },
  {
   "cell_type": "code",
   "execution_count": null,
   "metadata": {},
   "outputs": [],
   "source": [
    "2**8"
   ]
  },
  {
   "cell_type": "code",
   "execution_count": null,
   "metadata": {},
   "outputs": [],
   "source": [
    "np.array([-1,2,3],dtype='uint8')"
   ]
  },
  {
   "cell_type": "code",
   "execution_count": null,
   "metadata": {},
   "outputs": [],
   "source": [
    "np.array([50,80,250,256]).dtype"
   ]
  },
  {
   "cell_type": "code",
   "execution_count": null,
   "metadata": {},
   "outputs": [],
   "source": [
    "np.array([50,80,250,256],dtype='float64')"
   ]
  },
  {
   "cell_type": "code",
   "execution_count": null,
   "metadata": {},
   "outputs": [],
   "source": [
    "np.array([50,80,250,256],dtype='uint8')"
   ]
  },
  {
   "cell_type": "markdown",
   "metadata": {},
   "source": [
    "We can create a N-dimensional array by passing a each row as a a sequence-like object (for example a list). If we want to create a 3x3 array:"
   ]
  },
  {
   "cell_type": "code",
   "execution_count": null,
   "metadata": {},
   "outputs": [],
   "source": [
    "b = np.array([[1,2,3],[4,5,6],[7,8,9]])\n",
    "b"
   ]
  },
  {
   "cell_type": "markdown",
   "metadata": {},
   "source": [
    "### Array `Creation`\n",
    "In addition to `numpy.array`, there are several other ways for creating these objects:"
   ]
  },
  {
   "cell_type": "markdown",
   "metadata": {},
   "source": [
    "1. **Using some pre-set matrix types** (generally, the first argument refers to the shape of the resulting array)."
   ]
  },
  {
   "cell_type": "code",
   "execution_count": null,
   "metadata": {},
   "outputs": [],
   "source": [
    "# Empty\n",
    "np.zeros((2, 2))"
   ]
  },
  {
   "cell_type": "code",
   "execution_count": null,
   "metadata": {},
   "outputs": [],
   "source": [
    "# Filled with ones\n",
    "np.ones((1, 2))"
   ]
  },
  {
   "cell_type": "code",
   "execution_count": null,
   "metadata": {},
   "outputs": [],
   "source": [
    "# Filled with N\n",
    "np.full((2, 2), 7)"
   ]
  },
  {
   "cell_type": "code",
   "execution_count": null,
   "metadata": {},
   "outputs": [],
   "source": [
    "# Identity matrix\n",
    "np.eye(5)"
   ]
  },
  {
   "cell_type": "code",
   "execution_count": null,
   "metadata": {},
   "outputs": [],
   "source": [
    "# Filled with random floats between 0 and 1\n",
    "np.random.random((2, 2))"
   ]
  },
  {
   "cell_type": "code",
   "execution_count": null,
   "metadata": {},
   "outputs": [],
   "source": [
    "# Filled with normally distributed random floats defined using mean and std\n",
    "mu = 2     # mean\n",
    "sigma = .2 # std\n",
    "np.random.normal(mu, sigma, (4,1)), np.random.normal(mu, sigma, 10)"
   ]
  },
  {
   "cell_type": "markdown",
   "metadata": {},
   "source": [
    "2. **From a list**"
   ]
  },
  {
   "cell_type": "code",
   "execution_count": null,
   "metadata": {},
   "outputs": [],
   "source": [
    "some_list = [1, 4, 6, 8]\n",
    "e = np.array(some_list)\n",
    "e"
   ]
  },
  {
   "cell_type": "code",
   "execution_count": null,
   "metadata": {},
   "outputs": [],
   "source": [
    "some_list = [[1, 4, 6, 8], [2, 2, 4, 4]]\n",
    "f = np.array(some_list, dtype=float)\n",
    "f"
   ]
  },
  {
   "cell_type": "markdown",
   "metadata": {},
   "source": [
    "3. **Appending an existing array**"
   ]
  },
  {
   "cell_type": "code",
   "execution_count": null,
   "metadata": {},
   "outputs": [],
   "source": [
    "g = np.array([])\n",
    "for ii in range(10):\n",
    "    g = np.append(g, ii)\n",
    "g"
   ]
  },
  {
   "cell_type": "markdown",
   "metadata": {},
   "source": [
    "Be careful with data types, as numpy will do some inference on your behalf...it may not be what you want/intended."
   ]
  },
  {
   "cell_type": "code",
   "execution_count": null,
   "metadata": {},
   "outputs": [],
   "source": [
    "np.append(g, 'hello')"
   ]
  },
  {
   "cell_type": "code",
   "execution_count": null,
   "metadata": {},
   "outputs": [],
   "source": [
    "e"
   ]
  },
  {
   "cell_type": "code",
   "execution_count": null,
   "metadata": {},
   "outputs": [],
   "source": [
    "e.dtype"
   ]
  },
  {
   "cell_type": "code",
   "execution_count": null,
   "metadata": {},
   "outputs": [],
   "source": [
    "np.append(e, 2.0)"
   ]
  },
  {
   "cell_type": "code",
   "execution_count": null,
   "metadata": {},
   "outputs": [],
   "source": [
    "np.append(e, 2.0).dtype"
   ]
  },
  {
   "cell_type": "markdown",
   "metadata": {},
   "source": [
    "<div class=\"alert alert-info\" role=\"alert\">\n",
    "<h1>Exercises</h1>\n",
    "<ol>\n",
    "<li>\n",
    "<ul style=\"list-style-type: none;\">\n",
    "   <li><input type=\"checkbox\"> Create a (3,3) array of ones.</li>\n",
    "    <li><input type=\"checkbox\"> Create a (7,2) array of zeros.</li>\n",
    "    <li><input type=\"checkbox\"> Why can't you create a (3,2) identity matrix?</li>\n",
    "    <li><input type=\"checkbox\"> Create an 1D-array of 25 numbers [0..25] (check numpy.arange).</li>\n",
    "    <li><input type=\"checkbox\"> Create an 1D-array of 25 evenly spaced numbers between 0,100 (check numpy.linspace).</li>\n",
    "    <li><input type=\"checkbox\"> What is the difference between arange and linspace?</li>\n",
    "    <li><input type=\"checkbox\"> What does numpy.logspace do?</li>\n",
    "    <li><input type=\"checkbox\"> Create a (0:5,0:5) meshgrid (numpy.mgrid).</li>\n",
    "    <li><input type=\"checkbox\"> Create a (5,5) array of all zeros apart from the diagonal, which is [0,1,2,3,4,5].</li>\n",
    "    <li><input type=\"checkbox\"> Create a (3,3) array of random values, uniformly distributed between [0,1] (numpy.random).</li>\n",
    "    \n",
    "</ul>\n",
    "</li>\n",
    "</ol>\n",
    "</div>"
   ]
  },
  {
   "cell_type": "code",
   "execution_count": null,
   "metadata": {},
   "outputs": [],
   "source": [
    "np.ones((3,3))"
   ]
  },
  {
   "cell_type": "code",
   "execution_count": null,
   "metadata": {},
   "outputs": [],
   "source": [
    "np.zeros((7,2))"
   ]
  },
  {
   "cell_type": "code",
   "execution_count": null,
   "metadata": {},
   "outputs": [],
   "source": [
    "# No such ID matrix\n",
    "np.eye((3))[:2]"
   ]
  },
  {
   "cell_type": "code",
   "execution_count": null,
   "metadata": {},
   "outputs": [],
   "source": [
    "np.arange(26)"
   ]
  },
  {
   "cell_type": "code",
   "execution_count": null,
   "metadata": {},
   "outputs": [],
   "source": [
    "np.linspace(1,25, num = 25)"
   ]
  },
  {
   "cell_type": "code",
   "execution_count": null,
   "metadata": {},
   "outputs": [],
   "source": [
    "#numpy.logspace(start, stop, num=50, endpoint=True, base=10.0, dtype=None, axis=0)[source]\n",
    "#Return numbers spaced evenly on a log scale.\n",
    "\n",
    "np.logspace(1, 25)"
   ]
  },
  {
   "cell_type": "code",
   "execution_count": null,
   "metadata": {},
   "outputs": [],
   "source": [
    "#Create a (0:5,0:5) meshgrid (np.mgrid).\n",
    "np.mgrid[0:5,0:5]"
   ]
  },
  {
   "cell_type": "code",
   "execution_count": null,
   "metadata": {},
   "outputs": [],
   "source": [
    "def create(N=100):\n",
    "    a = np.zeros((N, N))\n",
    "    np.fill_diagonal(a, #Your range object)"
   ]
  },
  {
   "cell_type": "code",
   "execution_count": null,
   "metadata": {},
   "outputs": [],
   "source": [
    "#Create a (100,100) array of all zeros apart from the diagonal, which is [0,1,...,100].\n",
    "a = np.zeros((6, 6))\n",
    "np.fill_diagonal(a, [0,1,2,3,4,5])\n",
    "a"
   ]
  },
  {
   "cell_type": "code",
   "execution_count": null,
   "metadata": {},
   "outputs": [],
   "source": []
  },
  {
   "cell_type": "markdown",
   "metadata": {},
   "source": [
    "### Array `Indexing & Slicing`"
   ]
  },
  {
   "cell_type": "code",
   "execution_count": null,
   "metadata": {},
   "outputs": [],
   "source": [
    "a = np.array([1,2,3,4,5,6,7,8,9,10])\n",
    "a"
   ]
  },
  {
   "cell_type": "code",
   "execution_count": null,
   "metadata": {},
   "outputs": [],
   "source": [
    "a[0]  # Select array elements by index (starts at 0)"
   ]
  },
  {
   "cell_type": "code",
   "execution_count": null,
   "metadata": {},
   "outputs": [],
   "source": [
    "a[0] = 5  # Change an element of the array\n",
    "a"
   ]
  },
  {
   "cell_type": "code",
   "execution_count": null,
   "metadata": {},
   "outputs": [],
   "source": [
    "try:\n",
    "    a[100]  # Will error\n",
    "except IndexError as e:\n",
    "    print('{}'.format(e))\n",
    "except:\n",
    "    print(\"Unexpected error:\", sys.exc_info()[0])\n",
    "    raise"
   ]
  },
  {
   "cell_type": "markdown",
   "metadata": {},
   "source": [
    "Slicing is the most common way to index arrays, and works similarly to Python list indexing, but there are also other options, such as integer and boolean array indexing. "
   ]
  },
  {
   "cell_type": "code",
   "execution_count": null,
   "metadata": {},
   "outputs": [],
   "source": [
    "a[1:3]"
   ]
  },
  {
   "cell_type": "code",
   "execution_count": null,
   "metadata": {},
   "outputs": [],
   "source": [
    "a[1:6:2]"
   ]
  },
  {
   "cell_type": "code",
   "execution_count": null,
   "metadata": {},
   "outputs": [],
   "source": [
    "a[1::2]"
   ]
  },
  {
   "cell_type": "markdown",
   "metadata": {},
   "source": [
    "Higher dimensional arrays consist of an array of one-dimensional arrays, i.e. providing a single index will return the n-th element in the first dimension (which is an array for non 1D-arrays)."
   ]
  },
  {
   "cell_type": "code",
   "execution_count": 3,
   "metadata": {},
   "outputs": [
    {
     "data": {
      "text/plain": [
       "array([[ 1,  2,  3,  4],\n",
       "       [ 5,  6,  7,  8],\n",
       "       [ 9, 10, 11, 12]])"
      ]
     },
     "execution_count": 3,
     "metadata": {},
     "output_type": "execute_result"
    }
   ],
   "source": [
    "a = np.array([[1,2,3,4], [5,6,7,8], [9,10,11,12]])\n",
    "a"
   ]
  },
  {
   "cell_type": "code",
   "execution_count": 4,
   "metadata": {},
   "outputs": [
    {
     "data": {
      "text/plain": [
       "array([1, 2, 3, 4])"
      ]
     },
     "execution_count": 4,
     "metadata": {},
     "output_type": "execute_result"
    }
   ],
   "source": [
    "a[0]"
   ]
  },
  {
   "cell_type": "code",
   "execution_count": 5,
   "metadata": {},
   "outputs": [
    {
     "data": {
      "text/plain": [
       "6"
      ]
     },
     "execution_count": 5,
     "metadata": {},
     "output_type": "execute_result"
    }
   ],
   "source": [
    "a[1][1]"
   ]
  },
  {
   "cell_type": "code",
   "execution_count": 6,
   "metadata": {},
   "outputs": [
    {
     "data": {
      "text/plain": [
       "6"
      ]
     },
     "execution_count": 6,
     "metadata": {},
     "output_type": "execute_result"
    }
   ],
   "source": [
    "a[1,1]"
   ]
  },
  {
   "cell_type": "markdown",
   "metadata": {},
   "source": [
    "<div class=\"alert alert-warning\" role=\"alert\">\n",
    "<h1>Warning</h1>\n",
    "\n",
    "Accessing the index directly with `Array[row, column]` is more efficient then the nested access, `Array[row][column]`. In the nested case the intermediate array `Array[row]` is created and only then accessed, whereas `Array[row, column]` does not create this intermediate result.\n",
    "\n",
    "</div>"
   ]
  },
  {
   "cell_type": "code",
   "execution_count": 7,
   "metadata": {},
   "outputs": [
    {
     "data": {
      "text/plain": [
       "array([1, 5, 9])"
      ]
     },
     "execution_count": 7,
     "metadata": {},
     "output_type": "execute_result"
    }
   ],
   "source": [
    "a[:,0]"
   ]
  },
  {
   "cell_type": "code",
   "execution_count": 8,
   "metadata": {},
   "outputs": [
    {
     "data": {
      "text/plain": [
       "array([1, 2, 3, 4])"
      ]
     },
     "execution_count": 8,
     "metadata": {},
     "output_type": "execute_result"
    }
   ],
   "source": [
    "a[:][0]"
   ]
  },
  {
   "cell_type": "code",
   "execution_count": 9,
   "metadata": {},
   "outputs": [
    {
     "data": {
      "text/plain": [
       "array([[ 1,  2,  3,  4],\n",
       "       [ 5,  6,  7,  8],\n",
       "       [ 9, 10, 11, 12]])"
      ]
     },
     "execution_count": 9,
     "metadata": {},
     "output_type": "execute_result"
    }
   ],
   "source": [
    "a"
   ]
  },
  {
   "cell_type": "code",
   "execution_count": 10,
   "metadata": {},
   "outputs": [
    {
     "data": {
      "text/plain": [
       "array([[2, 3],\n",
       "       [6, 7]])"
      ]
     },
     "execution_count": 10,
     "metadata": {},
     "output_type": "execute_result"
    }
   ],
   "source": [
    "b = a[:2, 1:3]\n",
    "b"
   ]
  },
  {
   "cell_type": "code",
   "execution_count": 11,
   "metadata": {},
   "outputs": [
    {
     "data": {
      "text/plain": [
       "array([[ 1,  2,  3,  4],\n",
       "       [ 5,  6,  7,  8],\n",
       "       [ 9, 10, 11, 12]])"
      ]
     },
     "execution_count": 11,
     "metadata": {},
     "output_type": "execute_result"
    }
   ],
   "source": [
    "a"
   ]
  },
  {
   "cell_type": "code",
   "execution_count": 12,
   "metadata": {},
   "outputs": [
    {
     "data": {
      "text/plain": [
       "(3, 4)"
      ]
     },
     "execution_count": 12,
     "metadata": {},
     "output_type": "execute_result"
    }
   ],
   "source": [
    "a.shape"
   ]
  },
  {
   "cell_type": "code",
   "execution_count": 13,
   "metadata": {},
   "outputs": [
    {
     "data": {
      "text/plain": [
       "(3, 4, 1)"
      ]
     },
     "execution_count": 13,
     "metadata": {},
     "output_type": "execute_result"
    }
   ],
   "source": [
    "a[:,:,np.newaxis].shape"
   ]
  },
  {
   "cell_type": "code",
   "execution_count": 14,
   "metadata": {},
   "outputs": [
    {
     "data": {
      "text/plain": [
       "array([[[ 1],\n",
       "        [ 2],\n",
       "        [ 3],\n",
       "        [ 4]],\n",
       "\n",
       "       [[ 5],\n",
       "        [ 6],\n",
       "        [ 7],\n",
       "        [ 8]],\n",
       "\n",
       "       [[ 9],\n",
       "        [10],\n",
       "        [11],\n",
       "        [12]]])"
      ]
     },
     "execution_count": 14,
     "metadata": {},
     "output_type": "execute_result"
    }
   ],
   "source": [
    "a[:,:,np.newaxis]"
   ]
  },
  {
   "cell_type": "markdown",
   "metadata": {},
   "source": [
    "`Warning` **slice of an array is a view into the same data, so modifying it will modify the original array**. E.g.:\n",
    "\n",
    "`b[0, 0]` is the same piece of data as `a[0, 1]`, but modifying `b` will modify `a`."
   ]
  },
  {
   "cell_type": "markdown",
   "metadata": {},
   "source": [
    "<div class=\"alert alert-warning\" role=\"alert\">\n",
    "<h1>Warning</h1>\n",
    "\n",
    "Slicing a lists creates a new object, but **slicing an array creates a reference to the original (sub-) array** (in NumPy called a [view](https://docs.scipy.org/doc/numpy/reference/generated/numpy.ndarray.view.html)).\n",
    "\n",
    "\n",
    "This might lead to some confusion, but we can use this to our advantage for modifying arrays efficiently. By selecting a view on our original data and passing it around we can modify the original data by modifying the view (this is beyond this introduction, but if you are curious have a look at the documentation for an [example](https://docs.scipy.org/doc/numpy/reference/generated/numpy.ndarray.view.html).\n",
    "</div>"
   ]
  },
  {
   "cell_type": "code",
   "execution_count": 15,
   "metadata": {},
   "outputs": [
    {
     "data": {
      "text/plain": [
       "array([[ 1,  2,  3,  4],\n",
       "       [ 5,  6,  7,  8],\n",
       "       [ 9, 10, 11, 12]])"
      ]
     },
     "execution_count": 15,
     "metadata": {},
     "output_type": "execute_result"
    }
   ],
   "source": [
    "a"
   ]
  },
  {
   "cell_type": "code",
   "execution_count": 16,
   "metadata": {},
   "outputs": [
    {
     "data": {
      "text/plain": [
       "array([[2, 3],\n",
       "       [6, 7]])"
      ]
     },
     "execution_count": 16,
     "metadata": {},
     "output_type": "execute_result"
    }
   ],
   "source": [
    "b"
   ]
  },
  {
   "cell_type": "code",
   "execution_count": 17,
   "metadata": {},
   "outputs": [
    {
     "data": {
      "text/plain": [
       "2"
      ]
     },
     "execution_count": 17,
     "metadata": {},
     "output_type": "execute_result"
    }
   ],
   "source": [
    "b[0, 0]"
   ]
  },
  {
   "cell_type": "code",
   "execution_count": 18,
   "metadata": {},
   "outputs": [
    {
     "data": {
      "text/plain": [
       "2"
      ]
     },
     "execution_count": 18,
     "metadata": {},
     "output_type": "execute_result"
    }
   ],
   "source": [
    "a[0, 1]"
   ]
  },
  {
   "cell_type": "code",
   "execution_count": 19,
   "metadata": {},
   "outputs": [
    {
     "data": {
      "text/plain": [
       "77"
      ]
     },
     "execution_count": 19,
     "metadata": {},
     "output_type": "execute_result"
    }
   ],
   "source": [
    "b[0, 0] = 77\n",
    "a[0, 1]"
   ]
  },
  {
   "cell_type": "code",
   "execution_count": 20,
   "metadata": {},
   "outputs": [
    {
     "data": {
      "text/plain": [
       "array([[ 1, 77,  3,  4],\n",
       "       [ 5,  6,  7,  8],\n",
       "       [ 9, 10, 11, 12]])"
      ]
     },
     "execution_count": 20,
     "metadata": {},
     "output_type": "execute_result"
    }
   ],
   "source": [
    "c = a.copy()\n",
    "c"
   ]
  },
  {
   "cell_type": "code",
   "execution_count": 21,
   "metadata": {},
   "outputs": [
    {
     "data": {
      "text/plain": [
       "1"
      ]
     },
     "execution_count": 21,
     "metadata": {},
     "output_type": "execute_result"
    }
   ],
   "source": [
    "c[0, 0] = 100\n",
    "a[0, 0]"
   ]
  },
  {
   "cell_type": "code",
   "execution_count": 22,
   "metadata": {},
   "outputs": [
    {
     "data": {
      "text/plain": [
       "array([[ 1, 77,  3,  4],\n",
       "       [ 5,  6,  7,  8],\n",
       "       [ 9, 10, 11, 12]])"
      ]
     },
     "execution_count": 22,
     "metadata": {},
     "output_type": "execute_result"
    }
   ],
   "source": [
    "a"
   ]
  },
  {
   "cell_type": "code",
   "execution_count": 23,
   "metadata": {},
   "outputs": [
    {
     "data": {
      "text/plain": [
       "array([[ 1,  3],\n",
       "       [ 5,  7],\n",
       "       [ 9, 11]])"
      ]
     },
     "execution_count": 23,
     "metadata": {},
     "output_type": "execute_result"
    }
   ],
   "source": [
    "a[:,[0,2]]"
   ]
  },
  {
   "cell_type": "code",
   "execution_count": 24,
   "metadata": {},
   "outputs": [
    {
     "data": {
      "text/plain": [
       "array([[False, False, False,  True],\n",
       "       [False,  True, False,  True],\n",
       "       [False,  True, False,  True]])"
      ]
     },
     "execution_count": 24,
     "metadata": {},
     "output_type": "execute_result"
    }
   ],
   "source": [
    "x = np.array(\n",
    "    [[False, False, False,  True],\n",
    "     [False,  True, False,  True],\n",
    "     [False,  True, False,  True]])\n",
    "x"
   ]
  },
  {
   "cell_type": "code",
   "execution_count": 25,
   "metadata": {},
   "outputs": [
    {
     "data": {
      "text/plain": [
       "((3, 4), (3, 4))"
      ]
     },
     "execution_count": 25,
     "metadata": {},
     "output_type": "execute_result"
    }
   ],
   "source": [
    "a.shape, x.shape"
   ]
  },
  {
   "cell_type": "code",
   "execution_count": 26,
   "metadata": {},
   "outputs": [
    {
     "data": {
      "text/plain": [
       "array([[ 1, 77,  3,  4],\n",
       "       [ 5,  6,  7,  8],\n",
       "       [ 9, 10, 11, 12]])"
      ]
     },
     "execution_count": 26,
     "metadata": {},
     "output_type": "execute_result"
    }
   ],
   "source": [
    "a"
   ]
  },
  {
   "cell_type": "code",
   "execution_count": 27,
   "metadata": {},
   "outputs": [
    {
     "data": {
      "text/plain": [
       "array([[ 1, 77,  3,  0],\n",
       "       [ 5,  0,  7,  0],\n",
       "       [ 9,  0, 11,  0]])"
      ]
     },
     "execution_count": 27,
     "metadata": {},
     "output_type": "execute_result"
    }
   ],
   "source": [
    "a[x] = 0\n",
    "a"
   ]
  },
  {
   "cell_type": "markdown",
   "metadata": {},
   "source": [
    "<div class=\"alert alert-info\" role=\"alert\">\n",
    "<h1>Exercises</h1>\n",
    "\n",
    "<ol>\n",
    "    \n",
    "Have a look at the documentation on [Basic Slicing and Indexing](https://docs.scipy.org/doc/numpy/reference/arrays.indexing.html) to find out what the following slices do on an array A:\n",
    "\n",
    "<ul style=\"list-style-type: none;\">\n",
    "   <li><input type=\"checkbox\">  A is 1D: A[-3:3:-1]</li>\n",
    "   <li><input type=\"checkbox\">  A is 1D: A[3:]</li>\n",
    "   <li><input type=\"checkbox\">  A is 2D: A[1:]</li>\n",
    "   <li><input type=\"checkbox\">  A is 1D: A[:]</li>\n",
    "   <li><input type=\"checkbox\">  A is 2D: A[:]</li>\n",
    "   <li><input type=\"checkbox\">  A is 1D: A[::2]</li>\n",
    "   <li><input type=\"checkbox\">  A is 2D: A[::2]</li>\n",
    "   <li><input type=\"checkbox\">  A is 2D: A[::2,::2]</li>\n",
    "    \n",
    "</ul>\n",
    "</ol>\n",
    "</div>"
   ]
  },
  {
   "cell_type": "markdown",
   "metadata": {},
   "source": [
    "### Boolean `Indexing`\n",
    "With boolean indexing we can select a subset of our array based on a logical condition. For example:"
   ]
  },
  {
   "cell_type": "code",
   "execution_count": 28,
   "metadata": {},
   "outputs": [
    {
     "data": {
      "text/plain": [
       "array([ 0,  1,  2,  3,  4,  5,  6,  7,  8,  9, 10, 11, 12, 13, 14, 15, 16,\n",
       "       17, 18, 19, 20, 21, 22, 23, 24, 25, 26, 27, 28, 29, 30, 31, 32, 33,\n",
       "       34, 35, 36, 37, 38, 39, 40, 41, 42, 43, 44, 45, 46, 47, 48, 49, 50,\n",
       "       51, 52, 53, 54])"
      ]
     },
     "execution_count": 28,
     "metadata": {},
     "output_type": "execute_result"
    }
   ],
   "source": [
    "np.arange(55)"
   ]
  },
  {
   "cell_type": "code",
   "execution_count": 29,
   "metadata": {},
   "outputs": [
    {
     "data": {
      "text/plain": [
       "array([False, False, False,  True,  True,  True,  True,  True,  True,\n",
       "        True,  True,  True,  True,  True,  True,  True,  True,  True,\n",
       "        True,  True,  True,  True,  True,  True,  True,  True,  True,\n",
       "        True,  True,  True,  True,  True,  True,  True,  True,  True,\n",
       "        True,  True,  True,  True,  True,  True,  True,  True,  True,\n",
       "        True,  True,  True,  True,  True,  True,  True,  True,  True,\n",
       "        True])"
      ]
     },
     "execution_count": 29,
     "metadata": {},
     "output_type": "execute_result"
    }
   ],
   "source": [
    "A = np.arange(55)\n",
    "A > 2"
   ]
  },
  {
   "cell_type": "markdown",
   "metadata": {},
   "source": [
    "As you can see NumPy applies the logical condition (greater than 2) to each element in the array. This works equally for multidimensional arrays:"
   ]
  },
  {
   "cell_type": "code",
   "execution_count": 30,
   "metadata": {},
   "outputs": [
    {
     "data": {
      "text/plain": [
       "array([[ 0,  1,  2,  3,  4,  5,  6,  7,  8,  9, 10, 11, 12, 13, 14, 15,\n",
       "        16, 17, 18, 19, 20, 21, 22, 23, 24],\n",
       "       [ 0,  1,  2,  3,  4,  5,  6,  7,  8,  9, 10, 11, 12, 13, 14, 15,\n",
       "        16, 17, 18, 19, 20, 21, 22, 23, 24]])"
      ]
     },
     "execution_count": 30,
     "metadata": {},
     "output_type": "execute_result"
    }
   ],
   "source": [
    "A = np.array([np.arange(25),np.arange(25)])\n",
    "A"
   ]
  },
  {
   "cell_type": "code",
   "execution_count": 31,
   "metadata": {},
   "outputs": [
    {
     "data": {
      "text/plain": [
       "array([[False, False, False,  True,  True,  True,  True,  True,  True,\n",
       "         True,  True,  True,  True,  True,  True,  True,  True,  True,\n",
       "         True,  True,  True,  True,  True,  True,  True],\n",
       "       [False, False, False,  True,  True,  True,  True,  True,  True,\n",
       "         True,  True,  True,  True,  True,  True,  True,  True,  True,\n",
       "         True,  True,  True,  True,  True,  True,  True]])"
      ]
     },
     "execution_count": 31,
     "metadata": {},
     "output_type": "execute_result"
    }
   ],
   "source": [
    "A > 2"
   ]
  },
  {
   "cell_type": "markdown",
   "metadata": {},
   "source": [
    "We can use the array of type boolean to index subsets of our array like so:"
   ]
  },
  {
   "cell_type": "code",
   "execution_count": 32,
   "metadata": {},
   "outputs": [
    {
     "data": {
      "text/plain": [
       "array([ 0,  1,  2,  3,  4,  5,  6,  7,  8,  9, 10, 11, 12, 13, 14, 15, 16,\n",
       "       17, 18, 19, 20, 21, 22, 23, 24, 25, 26, 27, 28, 29, 30, 31, 32, 33,\n",
       "       34, 35, 36, 37, 38, 39, 40, 41, 42, 43, 44, 45, 46, 47, 48, 49])"
      ]
     },
     "execution_count": 32,
     "metadata": {},
     "output_type": "execute_result"
    }
   ],
   "source": [
    "A = np.arange(50)\n",
    "A"
   ]
  },
  {
   "cell_type": "code",
   "execution_count": 33,
   "metadata": {},
   "outputs": [
    {
     "data": {
      "text/plain": [
       "array([False, False, False, False, False, False,  True,  True,  True,\n",
       "        True,  True,  True,  True,  True,  True,  True,  True,  True,\n",
       "        True,  True,  True,  True,  True,  True,  True,  True,  True,\n",
       "        True,  True,  True,  True,  True,  True,  True,  True,  True,\n",
       "        True,  True,  True,  True,  True,  True,  True,  True,  True,\n",
       "        True,  True,  True,  True,  True])"
      ]
     },
     "execution_count": 33,
     "metadata": {},
     "output_type": "execute_result"
    }
   ],
   "source": [
    "A>5"
   ]
  },
  {
   "cell_type": "code",
   "execution_count": 34,
   "metadata": {},
   "outputs": [
    {
     "data": {
      "text/plain": [
       "array([ 6,  7,  8,  9, 10, 11, 12, 13, 14, 15, 16, 17, 18, 19, 20, 21, 22,\n",
       "       23, 24, 25, 26, 27, 28, 29, 30, 31, 32, 33, 34, 35, 36, 37, 38, 39,\n",
       "       40, 41, 42, 43, 44, 45, 46, 47, 48, 49])"
      ]
     },
     "execution_count": 34,
     "metadata": {},
     "output_type": "execute_result"
    }
   ],
   "source": [
    "A[A>5]"
   ]
  },
  {
   "cell_type": "code",
   "execution_count": 35,
   "metadata": {},
   "outputs": [],
   "source": [
    "rule1 = A > 5\n",
    "rule2 = (A % 2 == 0)\n",
    "# ....."
   ]
  },
  {
   "cell_type": "code",
   "execution_count": 36,
   "metadata": {},
   "outputs": [
    {
     "data": {
      "text/plain": [
       "array([ 6,  8, 10, 12, 14, 16, 18, 20, 22, 24, 26, 28, 30, 32, 34, 36, 38,\n",
       "       40, 42, 44, 46, 48])"
      ]
     },
     "execution_count": 36,
     "metadata": {},
     "output_type": "execute_result"
    }
   ],
   "source": [
    "A[rule1 & rule2]"
   ]
  },
  {
   "cell_type": "code",
   "execution_count": 37,
   "metadata": {},
   "outputs": [
    {
     "data": {
      "text/plain": [
       "array([ 0,  2,  4,  6,  7,  8,  9, 10, 11, 12, 13, 14, 15, 16, 17, 18, 19,\n",
       "       20, 21, 22, 23, 24, 25, 26, 27, 28, 29, 30, 31, 32, 33, 34, 35, 36,\n",
       "       37, 38, 39, 40, 41, 42, 43, 44, 45, 46, 47, 48, 49])"
      ]
     },
     "execution_count": 37,
     "metadata": {},
     "output_type": "execute_result"
    }
   ],
   "source": [
    "A[rule1 | rule2]"
   ]
  },
  {
   "cell_type": "markdown",
   "metadata": {},
   "source": [
    "## Arrays `Computing`\n",
    "\n",
    "We have seen how we can create arrays in NumPy and how we can access individual elements, or larger element collections from NumPy arrays. To finish this lab, we will have a quick look at the possibilities that NumPy provides us to perform optimized computations on arrays. \n",
    "\n",
    "As the central data structure in NumPy is the array, the computations upon these n-dimensional arrays belong to the field of [Linear Algebra](https://en.wikipedia.org/wiki/Linear_algebra), and NumPy provides implementations for most common operations, e.g. matrix multiplication, decompositions, determinants, etc.."
   ]
  },
  {
   "cell_type": "markdown",
   "metadata": {},
   "source": [
    "### Scalars"
   ]
  },
  {
   "cell_type": "code",
   "execution_count": 38,
   "metadata": {},
   "outputs": [
    {
     "data": {
      "text/plain": [
       "array([1., 1., 1., 1.])"
      ]
     },
     "execution_count": 38,
     "metadata": {},
     "output_type": "execute_result"
    }
   ],
   "source": [
    "A = np.ones(4)\n",
    "A"
   ]
  },
  {
   "cell_type": "code",
   "execution_count": 39,
   "metadata": {},
   "outputs": [
    {
     "data": {
      "text/plain": [
       "array([1.5, 1.5, 1.5, 1.5])"
      ]
     },
     "execution_count": 39,
     "metadata": {},
     "output_type": "execute_result"
    }
   ],
   "source": [
    "A + 0.5"
   ]
  },
  {
   "cell_type": "code",
   "execution_count": 40,
   "metadata": {},
   "outputs": [
    {
     "data": {
      "text/plain": [
       "array([[0.7, 0.7],\n",
       "       [0.7, 0.7]])"
      ]
     },
     "execution_count": 40,
     "metadata": {},
     "output_type": "execute_result"
    }
   ],
   "source": [
    "B = np.ones([2,2])\n",
    "B - 0.3"
   ]
  },
  {
   "cell_type": "markdown",
   "metadata": {},
   "source": [
    "Equally, we can also subtract, divide, multiply  or exponentiate scalars:"
   ]
  },
  {
   "cell_type": "code",
   "execution_count": 41,
   "metadata": {},
   "outputs": [
    {
     "data": {
      "text/plain": [
       "array([0.999, 0.999, 0.999, 0.999])"
      ]
     },
     "execution_count": 41,
     "metadata": {},
     "output_type": "execute_result"
    }
   ],
   "source": [
    "A - 0.001 #or A - 1e-3 "
   ]
  },
  {
   "cell_type": "code",
   "execution_count": 42,
   "metadata": {},
   "outputs": [
    {
     "data": {
      "text/plain": [
       "array([0.33333333, 0.33333333, 0.33333333, 0.33333333])"
      ]
     },
     "execution_count": 42,
     "metadata": {},
     "output_type": "execute_result"
    }
   ],
   "source": [
    "A /3"
   ]
  },
  {
   "cell_type": "code",
   "execution_count": 43,
   "metadata": {},
   "outputs": [
    {
     "data": {
      "text/plain": [
       "array([2.5, 2.5, 2.5, 2.5])"
      ]
     },
     "execution_count": 43,
     "metadata": {},
     "output_type": "execute_result"
    }
   ],
   "source": [
    "2.5 * A"
   ]
  },
  {
   "cell_type": "code",
   "execution_count": 44,
   "metadata": {},
   "outputs": [
    {
     "data": {
      "text/plain": [
       "array([ 0,  1,  2,  3,  4,  5,  6,  7,  8,  9, 10, 11, 12, 13, 14])"
      ]
     },
     "execution_count": 44,
     "metadata": {},
     "output_type": "execute_result"
    }
   ],
   "source": [
    "C = np.arange(15)\n",
    "C"
   ]
  },
  {
   "cell_type": "code",
   "execution_count": 45,
   "metadata": {},
   "outputs": [
    {
     "data": {
      "text/plain": [
       "array([ 0,  3,  6,  9, 12, 15, 18, 21, 24, 27, 30, 33, 36, 39, 42])"
      ]
     },
     "execution_count": 45,
     "metadata": {},
     "output_type": "execute_result"
    }
   ],
   "source": [
    "C * 3"
   ]
  },
  {
   "cell_type": "code",
   "execution_count": 46,
   "metadata": {},
   "outputs": [
    {
     "data": {
      "text/plain": [
       "array([      1,       3,       9,      27,      81,     243,     729,\n",
       "          2187,    6561,   19683,   59049,  177147,  531441, 1594323,\n",
       "       4782969])"
      ]
     },
     "execution_count": 46,
     "metadata": {},
     "output_type": "execute_result"
    }
   ],
   "source": [
    "3 ** C"
   ]
  },
  {
   "cell_type": "code",
   "execution_count": 47,
   "metadata": {},
   "outputs": [
    {
     "data": {
      "text/plain": [
       "array([   0,    1,    8,   27,   64,  125,  216,  343,  512,  729, 1000,\n",
       "       1331, 1728, 2197, 2744])"
      ]
     },
     "execution_count": 47,
     "metadata": {},
     "output_type": "execute_result"
    }
   ],
   "source": [
    "C ** 3"
   ]
  },
  {
   "cell_type": "markdown",
   "metadata": {},
   "source": [
    "### Array `Math`\n",
    "Basic mathematical functions (arithmetic operations) operate **elementwise** on arrays, and are available both as operator overloads and as functions in the numpy module:"
   ]
  },
  {
   "cell_type": "code",
   "execution_count": 48,
   "metadata": {},
   "outputs": [
    {
     "data": {
      "text/plain": [
       "array([[1., 2.],\n",
       "       [3., 4.]])"
      ]
     },
     "execution_count": 48,
     "metadata": {},
     "output_type": "execute_result"
    }
   ],
   "source": [
    "x = np.array([[1, 2], [3, 4]], dtype=np.float64)\n",
    "x"
   ]
  },
  {
   "cell_type": "code",
   "execution_count": 49,
   "metadata": {},
   "outputs": [
    {
     "data": {
      "text/plain": [
       "array([[5., 6.],\n",
       "       [7., 8.]])"
      ]
     },
     "execution_count": 49,
     "metadata": {},
     "output_type": "execute_result"
    }
   ],
   "source": [
    "y = np.array([[5, 6], [7, 8]], dtype=np.float64)\n",
    "y"
   ]
  },
  {
   "cell_type": "markdown",
   "metadata": {},
   "source": [
    "#### Elementwise sum, equivalent expressions:"
   ]
  },
  {
   "cell_type": "code",
   "execution_count": 50,
   "metadata": {},
   "outputs": [
    {
     "data": {
      "text/plain": [
       "array([[ 6.,  8.],\n",
       "       [10., 12.]])"
      ]
     },
     "execution_count": 50,
     "metadata": {},
     "output_type": "execute_result"
    }
   ],
   "source": [
    "x + y"
   ]
  },
  {
   "cell_type": "code",
   "execution_count": 51,
   "metadata": {},
   "outputs": [
    {
     "data": {
      "text/plain": [
       "array([[ 6.,  8.],\n",
       "       [10., 12.]])"
      ]
     },
     "execution_count": 51,
     "metadata": {},
     "output_type": "execute_result"
    }
   ],
   "source": [
    "np.add(x, y)"
   ]
  },
  {
   "cell_type": "markdown",
   "metadata": {},
   "source": [
    "#### Elementwise difference, equivalent expressions:"
   ]
  },
  {
   "cell_type": "code",
   "execution_count": 52,
   "metadata": {},
   "outputs": [
    {
     "data": {
      "text/plain": [
       "array([[-4., -4.],\n",
       "       [-4., -4.]])"
      ]
     },
     "execution_count": 52,
     "metadata": {},
     "output_type": "execute_result"
    }
   ],
   "source": [
    "x - y"
   ]
  },
  {
   "cell_type": "code",
   "execution_count": 53,
   "metadata": {},
   "outputs": [
    {
     "data": {
      "text/plain": [
       "array([[-4., -4.],\n",
       "       [-4., -4.]])"
      ]
     },
     "execution_count": 53,
     "metadata": {},
     "output_type": "execute_result"
    }
   ],
   "source": [
    "np.subtract(x, y)"
   ]
  },
  {
   "cell_type": "markdown",
   "metadata": {},
   "source": [
    "#### Elementwise product, equivalent expressions:"
   ]
  },
  {
   "cell_type": "code",
   "execution_count": 54,
   "metadata": {},
   "outputs": [
    {
     "data": {
      "text/plain": [
       "array([[ 5., 12.],\n",
       "       [21., 32.]])"
      ]
     },
     "execution_count": 54,
     "metadata": {},
     "output_type": "execute_result"
    }
   ],
   "source": [
    "x * y"
   ]
  },
  {
   "cell_type": "code",
   "execution_count": 55,
   "metadata": {},
   "outputs": [
    {
     "data": {
      "text/plain": [
       "array([[ 5., 12.],\n",
       "       [21., 32.]])"
      ]
     },
     "execution_count": 55,
     "metadata": {},
     "output_type": "execute_result"
    }
   ],
   "source": [
    "np.multiply(x, y)"
   ]
  },
  {
   "cell_type": "markdown",
   "metadata": {},
   "source": [
    "#### Elementwise division, equivalent expressions:"
   ]
  },
  {
   "cell_type": "code",
   "execution_count": 56,
   "metadata": {},
   "outputs": [
    {
     "data": {
      "text/plain": [
       "array([[0.2       , 0.33333333],\n",
       "       [0.42857143, 0.5       ]])"
      ]
     },
     "execution_count": 56,
     "metadata": {},
     "output_type": "execute_result"
    }
   ],
   "source": [
    "x / y"
   ]
  },
  {
   "cell_type": "code",
   "execution_count": 57,
   "metadata": {},
   "outputs": [
    {
     "data": {
      "text/plain": [
       "array([[0.2       , 0.33333333],\n",
       "       [0.42857143, 0.5       ]])"
      ]
     },
     "execution_count": 57,
     "metadata": {},
     "output_type": "execute_result"
    }
   ],
   "source": [
    "np.divide(x, y)"
   ]
  },
  {
   "cell_type": "markdown",
   "metadata": {},
   "source": [
    "#### Elementwise square root"
   ]
  },
  {
   "cell_type": "code",
   "execution_count": 58,
   "metadata": {},
   "outputs": [
    {
     "data": {
      "text/plain": [
       "array([[1.        , 1.41421356],\n",
       "       [1.73205081, 2.        ]])"
      ]
     },
     "execution_count": 58,
     "metadata": {},
     "output_type": "execute_result"
    }
   ],
   "source": [
    "np.sqrt(x)"
   ]
  },
  {
   "cell_type": "code",
   "execution_count": 59,
   "metadata": {},
   "outputs": [
    {
     "data": {
      "text/plain": [
       "array([[1.        , 1.41421356],\n",
       "       [1.73205081, 2.        ]])"
      ]
     },
     "execution_count": 59,
     "metadata": {},
     "output_type": "execute_result"
    }
   ],
   "source": [
    "x ** (0.5)"
   ]
  },
  {
   "cell_type": "markdown",
   "metadata": {},
   "source": [
    "#### Dot product and matrix multiplicaiton"
   ]
  },
  {
   "cell_type": "markdown",
   "metadata": {},
   "source": [
    "**`N.B.`** `*` is elementwise multiplication, not matrix multiplication. We instead use the `np.dot` function or `.dot` method to compute the inner products of vectors, to multiply a vector by a matrix, and to multiply matrices. `dot` is available both as a function in the numpy module and as an instance method of array objects:"
   ]
  },
  {
   "cell_type": "code",
   "execution_count": 60,
   "metadata": {},
   "outputs": [],
   "source": [
    "x = np.array([[1, 2], [3, 4]])\n",
    "y = np.array([[5, 6], [7, 8]])\n",
    "v = np.array([9, 10])\n",
    "w = np.array([11, 12])"
   ]
  },
  {
   "cell_type": "markdown",
   "metadata": {},
   "source": [
    "##### Matrix vector product"
   ]
  },
  {
   "cell_type": "code",
   "execution_count": 61,
   "metadata": {},
   "outputs": [
    {
     "data": {
      "text/plain": [
       "array([29, 67])"
      ]
     },
     "execution_count": 61,
     "metadata": {},
     "output_type": "execute_result"
    }
   ],
   "source": [
    "x.dot(v)  # using x's method"
   ]
  },
  {
   "cell_type": "code",
   "execution_count": 62,
   "metadata": {},
   "outputs": [
    {
     "data": {
      "text/plain": [
       "array([29, 67])"
      ]
     },
     "execution_count": 62,
     "metadata": {},
     "output_type": "execute_result"
    }
   ],
   "source": [
    "np.dot(x, v)  # using the numpy function"
   ]
  },
  {
   "cell_type": "markdown",
   "metadata": {},
   "source": [
    "##### Matrix matrix product"
   ]
  },
  {
   "cell_type": "code",
   "execution_count": 63,
   "metadata": {},
   "outputs": [
    {
     "data": {
      "text/plain": [
       "array([[1, 2],\n",
       "       [3, 4]])"
      ]
     },
     "execution_count": 63,
     "metadata": {},
     "output_type": "execute_result"
    }
   ],
   "source": [
    "x"
   ]
  },
  {
   "cell_type": "code",
   "execution_count": 64,
   "metadata": {},
   "outputs": [
    {
     "data": {
      "text/plain": [
       "array([[5, 6],\n",
       "       [7, 8]])"
      ]
     },
     "execution_count": 64,
     "metadata": {},
     "output_type": "execute_result"
    }
   ],
   "source": [
    "y"
   ]
  },
  {
   "cell_type": "code",
   "execution_count": 65,
   "metadata": {},
   "outputs": [
    {
     "data": {
      "text/plain": [
       "array([[19, 22],\n",
       "       [43, 50]])"
      ]
     },
     "execution_count": 65,
     "metadata": {},
     "output_type": "execute_result"
    }
   ],
   "source": [
    "x.dot(y)  # using x's method"
   ]
  },
  {
   "cell_type": "code",
   "execution_count": 66,
   "metadata": {},
   "outputs": [
    {
     "data": {
      "text/plain": [
       "array([[19, 22],\n",
       "       [43, 50]])"
      ]
     },
     "execution_count": 66,
     "metadata": {},
     "output_type": "execute_result"
    }
   ],
   "source": [
    "np.dot(x, y)  # using the numpy function"
   ]
  },
  {
   "cell_type": "markdown",
   "metadata": {},
   "source": [
    "### `Mathematical Functions`"
   ]
  },
  {
   "cell_type": "markdown",
   "metadata": {},
   "source": [
    "Numpy provides many useful functions for performing computations on arrays; one of such is `sum`:"
   ]
  },
  {
   "cell_type": "code",
   "execution_count": 67,
   "metadata": {},
   "outputs": [
    {
     "data": {
      "text/plain": [
       "array([[1, 2],\n",
       "       [3, 4]])"
      ]
     },
     "execution_count": 67,
     "metadata": {},
     "output_type": "execute_result"
    }
   ],
   "source": [
    "x = np.array([[1, 2], [3, 4]])\n",
    "x"
   ]
  },
  {
   "cell_type": "code",
   "execution_count": 68,
   "metadata": {},
   "outputs": [
    {
     "data": {
      "text/plain": [
       "10"
      ]
     },
     "execution_count": 68,
     "metadata": {},
     "output_type": "execute_result"
    }
   ],
   "source": [
    "np.sum(x)  # Compute sum of all elements"
   ]
  },
  {
   "cell_type": "code",
   "execution_count": 69,
   "metadata": {},
   "outputs": [
    {
     "data": {
      "text/plain": [
       "array([4, 6])"
      ]
     },
     "execution_count": 69,
     "metadata": {},
     "output_type": "execute_result"
    }
   ],
   "source": [
    "np.sum(x, axis=0)  # Compute sum of each column - sum *over rows* i.e. dimension 0"
   ]
  },
  {
   "cell_type": "code",
   "execution_count": 70,
   "metadata": {},
   "outputs": [
    {
     "data": {
      "text/plain": [
       "array([3, 7])"
      ]
     },
     "execution_count": 70,
     "metadata": {},
     "output_type": "execute_result"
    }
   ],
   "source": [
    "np.sum(x, axis=1)  # Compute sum of each row - sum *over columns* i.e. dimension 1"
   ]
  },
  {
   "cell_type": "code",
   "execution_count": 71,
   "metadata": {},
   "outputs": [
    {
     "data": {
      "text/plain": [
       "array([[ 0.84147098,  0.90929743],\n",
       "       [ 0.14112001, -0.7568025 ]])"
      ]
     },
     "execution_count": 71,
     "metadata": {},
     "output_type": "execute_result"
    }
   ],
   "source": [
    "np.sin(x)"
   ]
  },
  {
   "cell_type": "markdown",
   "metadata": {},
   "source": [
    "### `Example` Standardization\n",
    "Recreate the data in such way that it has a 0 mean and 1 (unit) standard deviation."
   ]
  },
  {
   "cell_type": "code",
   "execution_count": 141,
   "metadata": {},
   "outputs": [
    {
     "data": {
      "text/plain": [
       "array([95.32, 39.24, 12.68, 50.12, 71.23, 50.03, 39.82, 55.57, 58.3 ,\n",
       "       70.3 , 38.7 , 41.99, 96.02, 25.59, 71.18, 62.84, 78.98, 23.57,\n",
       "       81.01, 61.49, 17.89, 97.66, 22.12, 65.49, 42.46, 85.5 , 16.24,\n",
       "       50.92, 24.87, 73.13, 68.07, 66.01, 80.02, 40.46, 45.02, 84.43,\n",
       "       80.65, 63.59, 73.62,  4.24, 26.6 , 66.24, 71.21, 28.75, 92.48,\n",
       "       89.64, 57.29, 51.95, 73.63, 32.03,  1.26, 67.79, 79.68, 66.85,\n",
       "       13.99, 41.44, 26.98, 40.67, 89.15, 33.14, 32.53, 45.75, 61.12,\n",
       "       71.13, 75.89, 62.31, 49.05, 74.33, 79.44, 44.17, 96.6 , 91.71,\n",
       "       97.61, 39.45, 57.81, 11.25, 46.6 , 36.19, 77.32, 85.23,  9.17,\n",
       "       60.54, 32.01, 32.52, 93.98, 64.41, 16.04, 82.4 , 64.06, 81.44,\n",
       "        1.01, 33.55, 42.59, 41.6 , 53.53,  3.46, 26.96, 29.13, 57.37,\n",
       "       33.55, 45.27, 22.58, 34.05, 22.09, 29.29, 10.78,  2.07, 79.69,\n",
       "       72.31, 48.34, 68.53, 78.93, 79.62, 12.86, 93.93, 62.09,  5.77,\n",
       "       45.79, 70.02, 67.05, 75.05, 57.7 , 91.56, 49.85, 79.63, 78.19,\n",
       "       92.34, 60.48, 41.7 , 99.32, 43.79, 49.45,  4.16, 74.  , 32.67,\n",
       "       68.68, 99.13, 50.2 , 15.49, 88.83, 77.01, 65.96,  4.58, 60.17,\n",
       "       62.59, 85.75, 84.  , 42.34, 21.25,  4.5 , 33.49, 67.94, 61.62,\n",
       "       40.29,  8.96, 42.42, 38.74, 52.73, 97.28, 53.79, 64.18,  8.36,\n",
       "       52.61, 37.24, 12.16,  6.92, 86.49, 49.21, 97.56, 74.11, 28.5 ,\n",
       "       37.21,  2.46, 71.61, 86.27, 25.05, 59.52, 48.48, 93.7 , 54.87,\n",
       "       57.24, 39.65, 84.12, 37.54,  8.36, 64.43, 70.66, 54.24, 22.03,\n",
       "       68.78, 38.15, 62.87, 85.11, 59.97, 11.49, 74.93, 56.92, 33.21,\n",
       "        6.18, 69.73, 82.85, 42.32, 26.85, 34.17,  6.89, 91.01, 18.2 ,\n",
       "       59.43, 82.95, 92.26, 90.32, 31.24, 14.3 ,  9.14, 78.82, 42.4 ,\n",
       "       87.49, 19.39, 52.88, 49.94, 33.91, 23.52, 45.78, 44.13, 77.3 ,\n",
       "       91.63, 66.72, 19.59, 31.7 , 90.3 , 82.35, 37.82, 84.42, 80.47,\n",
       "        2.74, 56.92, 65.34, 57.77, 30.68, 44.49, 71.29, 42.08, 97.6 ,\n",
       "       69.69, 28.77, 40.26,  7.5 ,  3.93, 70.38, 69.37, 35.21, 17.33,\n",
       "       42.15, 90.57, 95.58, 85.98, 45.16, 43.03, 14.84,  4.98,  3.09,\n",
       "       57.13, 87.53,  1.19,  6.11, 54.28, 19.29, 75.5 , 50.45, 20.06,\n",
       "       85.46, 68.01, 32.94, 89.74, 99.94, 16.33, 71.3 , 97.22,  0.48,\n",
       "       26.1 , 20.11, 55.21, 85.16, 84.08, 46.88, 51.53, 90.02,  1.82,\n",
       "       28.58, 85.58, 71.91, 86.97, 28.39,  3.7 , 22.72,  7.3 , 26.07,\n",
       "       24.51,  5.86, 95.39, 69.17, 13.39, 97.92, 50.61, 45.38, 99.61,\n",
       "       75.69, 94.4 , 61.72, 98.07, 79.92, 29.41, 91.72, 77.35, 22.43,\n",
       "       97.22, 35.6 , 92.93, 84.82, 92.  , 93.68, 82.17, 87.93, 51.07,\n",
       "       80.24, 90.32, 57.93, 90.56, 80.71, 81.86, 96.78, 94.82, 16.91,\n",
       "       78.91,  6.88, 90.17,  1.73, 37.09, 96.4 , 66.03, 88.7 , 61.04,\n",
       "       24.64, 86.33, 82.55, 79.55, 73.8 , 11.69, 93.74, 92.37, 44.22,\n",
       "       75.02, 96.89, 16.03,  8.22, 13.9 , 93.2 ,  4.61, 97.52, 47.85,\n",
       "       14.52, 51.94, 54.28, 68.61,  6.42, 61.6 , 66.06, 54.16,  8.58,\n",
       "       10.07, 76.38, 82.22, 93.02, 58.75, 61.17,  8.34, 15.21, 71.79,\n",
       "       94.52, 36.91, 33.78, 19.59, 35.05, 12.08, 38.  , 64.85, 14.96,\n",
       "       18.89,  3.88, 33.31, 24.72, 27.22, 54.76, 22.27, 55.74, 72.1 ,\n",
       "       10.95, 69.99, 15.62, 66.65, 57.65,  3.61, 70.46, 62.98, 48.86,\n",
       "       14.51, 94.16, 60.64, 42.36, 69.89, 51.47,  3.32, 81.26, 76.01,\n",
       "       49.28,  0.78, 27.37, 25.5 , 56.81, 59.44, 89.3 , 23.06, 75.95,\n",
       "       21.  , 10.94, 36.59, 89.48,  4.21, 23.48, 28.23, 82.41, 43.91,\n",
       "       70.98, 53.05, 26.21, 13.49, 38.27,  2.12, 55.72, 23.17, 63.74,\n",
       "       54.81, 26.7 , 38.27, 83.28,  4.54, 91.41,  4.81,  6.51, 66.08,\n",
       "       65.72, 24.07, 45.67, 46.4 ,  6.53,  5.82, 93.46, 45.8 , 10.  ,\n",
       "       59.24, 57.43, 77.62, 52.4 , 90.21,  5.15, 27.03, 75.96, 61.64,\n",
       "       97.4 , 43.75, 89.88, 34.26, 65.73, 78.23, 10.17, 78.45, 95.09,\n",
       "       62.48, 49.15, 86.2 , 48.3 , 46.53, 92.03, 18.52, 90.85, 31.83,\n",
       "       39.77, 13.77, 25.17, 58.14, 26.91, 15.  , 27.46, 48.46,  2.38,\n",
       "       59.84, 14.17, 62.53, 10.65, 70.17, 74.96, 59.49,  5.72, 80.02,\n",
       "       97.03, 36.76, 92.83, 77.62, 45.52, 21.36, 59.58, 84.83, 49.37,\n",
       "       62.96, 52.74, 21.2 , 29.88, 66.52, 13.18, 15.38,  6.18, 50.95,\n",
       "       20.44, 32.37, 93.84, 80.22, 52.22, 50.22, 52.14,  3.29, 16.03,\n",
       "       46.82, 81.99, 56.81, 55.54, 76.31, 68.32,  0.93, 43.74, 92.15,\n",
       "       72.45, 51.43,  2.37, 31.91, 55.47, 55.66, 55.57, 75.33, 79.46,\n",
       "       42.44, 30.1 , 91.59, 78.87, 72.93, 16.53, 46.42, 34.98, 91.52,\n",
       "       54.12, 10.4 , 22.4 , 99.25, 12.61, 50.36, 68.1 , 79.59, 41.78,\n",
       "       33.81, 31.81, 78.97,  4.29, 45.27, 55.19, 25.04, 94.9 , 12.09,\n",
       "       74.47,  0.58, 94.39, 72.92,  3.37, 57.03, 63.67, 67.07, 59.38,\n",
       "       45.71, 15.52, 17.14, 93.12, 35.03, 43.1 , 58.89, 82.86, 75.06,\n",
       "       18.65, 51.31, 56.19, 58.43, 20.03, 60.78, 36.34, 37.77, 93.52,\n",
       "       50.44, 87.8 , 97.14, 91.5 , 31.73,  5.39, 45.72, 57.57, 73.29,\n",
       "       82.73, 84.43, 67.36, 82.62, 89.09,  9.72,  7.04, 51.5 , 28.07,\n",
       "       93.71, 90.65, 40.11, 50.19, 73.13, 95.73, 77.36, 99.25, 20.48,\n",
       "       44.13, 20.27, 10.61, 86.43, 91.77, 53.58, 38.64, 46.24, 46.46,\n",
       "       60.74, 34.23, 45.79, 21.89, 22.02,  8.24, 78.01,  4.44, 82.72,\n",
       "       25.92, 86.79, 20.26, 20.77, 22.29, 73.97, 57.57, 43.34, 79.82,\n",
       "       91.01, 71.1 , 94.47, 54.71, 75.75, 55.85, 52.12, 81.28, 85.28,\n",
       "       85.52, 56.62, 95.48, 52.14, 30.77, 82.73, 32.  ,  6.69, 81.27,\n",
       "       99.06, 55.76, 47.96, 50.52, 82.44, 39.44, 75.56, 21.75, 38.62,\n",
       "       21.55,  5.1 , 61.54, 44.11, 23.55, 95.31, 26.1 , 80.37, 51.54,\n",
       "       55.56, 35.68, 94.42,  2.78, 78.52, 13.51, 53.9 , 42.33, 98.64,\n",
       "       27.17, 64.8 , 81.09, 84.7 , 84.93, 79.86, 18.06, 55.57, 43.61,\n",
       "        2.19, 79.69, 74.42, 33.55, 23.13, 31.79, 59.51, 72.02, 67.23,\n",
       "       13.37, 92.05, 13.07, 96.44, 85.24, 90.08, 89.06, 91.9 , 83.19,\n",
       "       37.17, 48.07, 30.79, 97.32, 44.94, 86.84, 60.15, 96.46, 13.45,\n",
       "       74.18, 75.24,  6.32, 67.59, 65.74, 36.68, 10.07, 10.16, 73.03,\n",
       "       33.4 ,  1.29, 13.29, 92.  , 32.29, 29.22, 69.49, 34.31, 84.17,\n",
       "       39.51, 83.73, 60.35, 13.52, 73.57, 12.74, 88.88, 47.13, 51.1 ,\n",
       "       96.35, 56.3 , 93.67, 74.64, 20.98, 61.74, 68.53, 40.3 , 34.63,\n",
       "       10.58, 36.59, 68.05, 63.77,  0.91, 49.64, 96.24, 65.91, 27.23,\n",
       "       21.78, 95.07,  5.18, 17.27, 12.48, 47.1 , 10.3 , 85.95, 79.07,\n",
       "       27.89, 76.58, 22.69, 49.92, 30.45,  7.73,  8.21, 83.63, 19.3 ,\n",
       "       93.3 , 99.05, 21.13, 96.39, 86.08,  2.6 , 15.4 , 83.76, 48.5 ,\n",
       "        7.2 , 59.76, 13.46, 98.82, 26.35, 40.84, 65.63, 88.5 , 82.75,\n",
       "       86.25,  6.7 , 41.4 , 63.11,  9.65, 96.3 , 62.66, 21.4 , 48.8 ,\n",
       "       51.13, 83.95, 52.45, 64.13, 85.73, 48.04, 79.79, 84.24, 54.19,\n",
       "       27.72, 93.04, 97.99, 94.56, 84.4 , 64.19, 12.72, 31.36, 39.  ,\n",
       "       96.11, 75.81,  4.93, 36.6 , 15.17, 51.41, 19.72,  3.55, 63.66,\n",
       "        7.33, 84.29, 28.06, 17.82, 13.69,  6.67, 55.43, 27.88, 90.65,\n",
       "       62.24,  2.8 , 93.02, 29.34, 70.22, 65.37, 53.6 , 77.75, 39.6 ,\n",
       "       75.5 , 78.49, 21.45, 56.74, 77.18, 68.82, 67.74, 61.93, 71.32,\n",
       "       18.95, 92.02, 60.43,  4.01, 70.98, 99.65, 89.52, 66.61,  4.31,\n",
       "       17.45, 11.67, 92.55, 97.41, 54.83, 49.34,  8.01, 91.5 , 48.15,\n",
       "       61.65, 65.76, 27.65, 17.2 , 81.28, 17.19, 84.47, 63.78, 78.6 ,\n",
       "        6.93, 60.12, 35.44,  8.36, 55.16, 84.84,  5.49, 21.38, 31.93,\n",
       "       80.38, 80.84, 27.97, 75.85, 54.59, 63.5 , 76.44,  7.39,  1.88,\n",
       "       98.91, 13.73, 90.34, 49.28, 91.11, 41.41, 85.12, 38.16, 33.77,\n",
       "       60.7 , 46.74, 98.33,  5.48, 73.63, 50.69, 17.15, 10.36, 44.26,\n",
       "       24.14, 87.51, 40.28, 29.54, 70.2 , 55.27, 45.17, 56.49, 79.53,\n",
       "       45.48, 86.66,  5.63, 40.04, 71.86, 28.62, 64.01, 91.69, 51.3 ,\n",
       "       16.68, 55.26, 65.66, 73.85,  5.66, 87.02, 50.55, 64.24, 78.26,\n",
       "       28.69, 55.97, 16.88, 99.61, 61.84, 37.4 , 19.27,  9.75, 89.38,\n",
       "        1.32, 87.7 , 31.98, 62.07, 36.56, 63.39, 71.54, 57.22, 71.56,\n",
       "        2.57, 47.96, 68.92, 62.93, 27.92, 18.56,  7.9 , 68.82, 33.27,\n",
       "       12.38])"
      ]
     },
     "execution_count": 141,
     "metadata": {},
     "output_type": "execute_result"
    }
   ],
   "source": [
    "data = (np.random.rand(1000)*100).round(2)\n",
    "data"
   ]
  },
  {
   "cell_type": "code",
   "execution_count": 142,
   "metadata": {},
   "outputs": [
    {
     "data": {
      "text/plain": [
       "(51.97408, 28.933755752642966)"
      ]
     },
     "execution_count": 142,
     "metadata": {},
     "output_type": "execute_result"
    }
   ],
   "source": [
    "data.mean(), data.std()"
   ]
  },
  {
   "cell_type": "code",
   "execution_count": 143,
   "metadata": {},
   "outputs": [
    {
     "data": {
      "text/plain": [
       "array([ 4.334592e+01, -1.273408e+01, -3.929408e+01, -1.854080e+00,\n",
       "        1.925592e+01, -1.944080e+00, -1.215408e+01,  3.595920e+00,\n",
       "        6.325920e+00,  1.832592e+01, -1.327408e+01, -9.984080e+00,\n",
       "        4.404592e+01, -2.638408e+01,  1.920592e+01,  1.086592e+01,\n",
       "        2.700592e+01, -2.840408e+01,  2.903592e+01,  9.515920e+00,\n",
       "       -3.408408e+01,  4.568592e+01, -2.985408e+01,  1.351592e+01,\n",
       "       -9.514080e+00,  3.352592e+01, -3.573408e+01, -1.054080e+00,\n",
       "       -2.710408e+01,  2.115592e+01,  1.609592e+01,  1.403592e+01,\n",
       "        2.804592e+01, -1.151408e+01, -6.954080e+00,  3.245592e+01,\n",
       "        2.867592e+01,  1.161592e+01,  2.164592e+01, -4.773408e+01,\n",
       "       -2.537408e+01,  1.426592e+01,  1.923592e+01, -2.322408e+01,\n",
       "        4.050592e+01,  3.766592e+01,  5.315920e+00, -2.408000e-02,\n",
       "        2.165592e+01, -1.994408e+01, -5.071408e+01,  1.581592e+01,\n",
       "        2.770592e+01,  1.487592e+01, -3.798408e+01, -1.053408e+01,\n",
       "       -2.499408e+01, -1.130408e+01,  3.717592e+01, -1.883408e+01,\n",
       "       -1.944408e+01, -6.224080e+00,  9.145920e+00,  1.915592e+01,\n",
       "        2.391592e+01,  1.033592e+01, -2.924080e+00,  2.235592e+01,\n",
       "        2.746592e+01, -7.804080e+00,  4.462592e+01,  3.973592e+01,\n",
       "        4.563592e+01, -1.252408e+01,  5.835920e+00, -4.072408e+01,\n",
       "       -5.374080e+00, -1.578408e+01,  2.534592e+01,  3.325592e+01,\n",
       "       -4.280408e+01,  8.565920e+00, -1.996408e+01, -1.945408e+01,\n",
       "        4.200592e+01,  1.243592e+01, -3.593408e+01,  3.042592e+01,\n",
       "        1.208592e+01,  2.946592e+01, -5.096408e+01, -1.842408e+01,\n",
       "       -9.384080e+00, -1.037408e+01,  1.555920e+00, -4.851408e+01,\n",
       "       -2.501408e+01, -2.284408e+01,  5.395920e+00, -1.842408e+01,\n",
       "       -6.704080e+00, -2.939408e+01, -1.792408e+01, -2.988408e+01,\n",
       "       -2.268408e+01, -4.119408e+01, -4.990408e+01,  2.771592e+01,\n",
       "        2.033592e+01, -3.634080e+00,  1.655592e+01,  2.695592e+01,\n",
       "        2.764592e+01, -3.911408e+01,  4.195592e+01,  1.011592e+01,\n",
       "       -4.620408e+01, -6.184080e+00,  1.804592e+01,  1.507592e+01,\n",
       "        2.307592e+01,  5.725920e+00,  3.958592e+01, -2.124080e+00,\n",
       "        2.765592e+01,  2.621592e+01,  4.036592e+01,  8.505920e+00,\n",
       "       -1.027408e+01,  4.734592e+01, -8.184080e+00, -2.524080e+00,\n",
       "       -4.781408e+01,  2.202592e+01, -1.930408e+01,  1.670592e+01,\n",
       "        4.715592e+01, -1.774080e+00, -3.648408e+01,  3.685592e+01,\n",
       "        2.503592e+01,  1.398592e+01, -4.739408e+01,  8.195920e+00,\n",
       "        1.061592e+01,  3.377592e+01,  3.202592e+01, -9.634080e+00,\n",
       "       -3.072408e+01, -4.747408e+01, -1.848408e+01,  1.596592e+01,\n",
       "        9.645920e+00, -1.168408e+01, -4.301408e+01, -9.554080e+00,\n",
       "       -1.323408e+01,  7.559200e-01,  4.530592e+01,  1.815920e+00,\n",
       "        1.220592e+01, -4.361408e+01,  6.359200e-01, -1.473408e+01,\n",
       "       -3.981408e+01, -4.505408e+01,  3.451592e+01, -2.764080e+00,\n",
       "        4.558592e+01,  2.213592e+01, -2.347408e+01, -1.476408e+01,\n",
       "       -4.951408e+01,  1.963592e+01,  3.429592e+01, -2.692408e+01,\n",
       "        7.545920e+00, -3.494080e+00,  4.172592e+01,  2.895920e+00,\n",
       "        5.265920e+00, -1.232408e+01,  3.214592e+01, -1.443408e+01,\n",
       "       -4.361408e+01,  1.245592e+01,  1.868592e+01,  2.265920e+00,\n",
       "       -2.994408e+01,  1.680592e+01, -1.382408e+01,  1.089592e+01,\n",
       "        3.313592e+01,  7.995920e+00, -4.048408e+01,  2.295592e+01,\n",
       "        4.945920e+00, -1.876408e+01, -4.579408e+01,  1.775592e+01,\n",
       "        3.087592e+01, -9.654080e+00, -2.512408e+01, -1.780408e+01,\n",
       "       -4.508408e+01,  3.903592e+01, -3.377408e+01,  7.455920e+00,\n",
       "        3.097592e+01,  4.028592e+01,  3.834592e+01, -2.073408e+01,\n",
       "       -3.767408e+01, -4.283408e+01,  2.684592e+01, -9.574080e+00,\n",
       "        3.551592e+01, -3.258408e+01,  9.059200e-01, -2.034080e+00,\n",
       "       -1.806408e+01, -2.845408e+01, -6.194080e+00, -7.844080e+00,\n",
       "        2.532592e+01,  3.965592e+01,  1.474592e+01, -3.238408e+01,\n",
       "       -2.027408e+01,  3.832592e+01,  3.037592e+01, -1.415408e+01,\n",
       "        3.244592e+01,  2.849592e+01, -4.923408e+01,  4.945920e+00,\n",
       "        1.336592e+01,  5.795920e+00, -2.129408e+01, -7.484080e+00,\n",
       "        1.931592e+01, -9.894080e+00,  4.562592e+01,  1.771592e+01,\n",
       "       -2.320408e+01, -1.171408e+01, -4.447408e+01, -4.804408e+01,\n",
       "        1.840592e+01,  1.739592e+01, -1.676408e+01, -3.464408e+01,\n",
       "       -9.824080e+00,  3.859592e+01,  4.360592e+01,  3.400592e+01,\n",
       "       -6.814080e+00, -8.944080e+00, -3.713408e+01, -4.699408e+01,\n",
       "       -4.888408e+01,  5.155920e+00,  3.555592e+01, -5.078408e+01,\n",
       "       -4.586408e+01,  2.305920e+00, -3.268408e+01,  2.352592e+01,\n",
       "       -1.524080e+00, -3.191408e+01,  3.348592e+01,  1.603592e+01,\n",
       "       -1.903408e+01,  3.776592e+01,  4.796592e+01, -3.564408e+01,\n",
       "        1.932592e+01,  4.524592e+01, -5.149408e+01, -2.587408e+01,\n",
       "       -3.186408e+01,  3.235920e+00,  3.318592e+01,  3.210592e+01,\n",
       "       -5.094080e+00, -4.440800e-01,  3.804592e+01, -5.015408e+01,\n",
       "       -2.339408e+01,  3.360592e+01,  1.993592e+01,  3.499592e+01,\n",
       "       -2.358408e+01, -4.827408e+01, -2.925408e+01, -4.467408e+01,\n",
       "       -2.590408e+01, -2.746408e+01, -4.611408e+01,  4.341592e+01,\n",
       "        1.719592e+01, -3.858408e+01,  4.594592e+01, -1.364080e+00,\n",
       "       -6.594080e+00,  4.763592e+01,  2.371592e+01,  4.242592e+01,\n",
       "        9.745920e+00,  4.609592e+01,  2.794592e+01, -2.256408e+01,\n",
       "        3.974592e+01,  2.537592e+01, -2.954408e+01,  4.524592e+01,\n",
       "       -1.637408e+01,  4.095592e+01,  3.284592e+01,  4.002592e+01,\n",
       "        4.170592e+01,  3.019592e+01,  3.595592e+01, -9.040800e-01,\n",
       "        2.826592e+01,  3.834592e+01,  5.955920e+00,  3.858592e+01,\n",
       "        2.873592e+01,  2.988592e+01,  4.480592e+01,  4.284592e+01,\n",
       "       -3.506408e+01,  2.693592e+01, -4.509408e+01,  3.819592e+01,\n",
       "       -5.024408e+01, -1.488408e+01,  4.442592e+01,  1.405592e+01,\n",
       "        3.672592e+01,  9.065920e+00, -2.733408e+01,  3.435592e+01,\n",
       "        3.057592e+01,  2.757592e+01,  2.182592e+01, -4.028408e+01,\n",
       "        4.176592e+01,  4.039592e+01, -7.754080e+00,  2.304592e+01,\n",
       "        4.491592e+01, -3.594408e+01, -4.375408e+01, -3.807408e+01,\n",
       "        4.122592e+01, -4.736408e+01,  4.554592e+01, -4.124080e+00,\n",
       "       -3.745408e+01, -3.408000e-02,  2.305920e+00,  1.663592e+01,\n",
       "       -4.555408e+01,  9.625920e+00,  1.408592e+01,  2.185920e+00,\n",
       "       -4.339408e+01, -4.190408e+01,  2.440592e+01,  3.024592e+01,\n",
       "        4.104592e+01,  6.775920e+00,  9.195920e+00, -4.363408e+01,\n",
       "       -3.676408e+01,  1.981592e+01,  4.254592e+01, -1.506408e+01,\n",
       "       -1.819408e+01, -3.238408e+01, -1.692408e+01, -3.989408e+01,\n",
       "       -1.397408e+01,  1.287592e+01, -3.701408e+01, -3.308408e+01,\n",
       "       -4.809408e+01, -1.866408e+01, -2.725408e+01, -2.475408e+01,\n",
       "        2.785920e+00, -2.970408e+01,  3.765920e+00,  2.012592e+01,\n",
       "       -4.102408e+01,  1.801592e+01, -3.635408e+01,  1.467592e+01,\n",
       "        5.675920e+00, -4.836408e+01,  1.848592e+01,  1.100592e+01,\n",
       "       -3.114080e+00, -3.746408e+01,  4.218592e+01,  8.665920e+00,\n",
       "       -9.614080e+00,  1.791592e+01, -5.040800e-01, -4.865408e+01,\n",
       "        2.928592e+01,  2.403592e+01, -2.694080e+00, -5.119408e+01,\n",
       "       -2.460408e+01, -2.647408e+01,  4.835920e+00,  7.465920e+00,\n",
       "        3.732592e+01, -2.891408e+01,  2.397592e+01, -3.097408e+01,\n",
       "       -4.103408e+01, -1.538408e+01,  3.750592e+01, -4.776408e+01,\n",
       "       -2.849408e+01, -2.374408e+01,  3.043592e+01, -8.064080e+00,\n",
       "        1.900592e+01,  1.075920e+00, -2.576408e+01, -3.848408e+01,\n",
       "       -1.370408e+01, -4.985408e+01,  3.745920e+00, -2.880408e+01,\n",
       "        1.176592e+01,  2.835920e+00, -2.527408e+01, -1.370408e+01,\n",
       "        3.130592e+01, -4.743408e+01,  3.943592e+01, -4.716408e+01,\n",
       "       -4.546408e+01,  1.410592e+01,  1.374592e+01, -2.790408e+01,\n",
       "       -6.304080e+00, -5.574080e+00, -4.544408e+01, -4.615408e+01,\n",
       "        4.148592e+01, -6.174080e+00, -4.197408e+01,  7.265920e+00,\n",
       "        5.455920e+00,  2.564592e+01,  4.259200e-01,  3.823592e+01,\n",
       "       -4.682408e+01, -2.494408e+01,  2.398592e+01,  9.665920e+00,\n",
       "        4.542592e+01, -8.224080e+00,  3.790592e+01, -1.771408e+01,\n",
       "        1.375592e+01,  2.625592e+01, -4.180408e+01,  2.647592e+01,\n",
       "        4.311592e+01,  1.050592e+01, -2.824080e+00,  3.422592e+01,\n",
       "       -3.674080e+00, -5.444080e+00,  4.005592e+01, -3.345408e+01,\n",
       "        3.887592e+01, -2.014408e+01, -1.220408e+01, -3.820408e+01,\n",
       "       -2.680408e+01,  6.165920e+00, -2.506408e+01, -3.697408e+01,\n",
       "       -2.451408e+01, -3.514080e+00, -4.959408e+01,  7.865920e+00,\n",
       "       -3.780408e+01,  1.055592e+01, -4.132408e+01,  1.819592e+01,\n",
       "        2.298592e+01,  7.515920e+00, -4.625408e+01,  2.804592e+01,\n",
       "        4.505592e+01, -1.521408e+01,  4.085592e+01,  2.564592e+01,\n",
       "       -6.454080e+00, -3.061408e+01,  7.605920e+00,  3.285592e+01,\n",
       "       -2.604080e+00,  1.098592e+01,  7.659200e-01, -3.077408e+01,\n",
       "       -2.209408e+01,  1.454592e+01, -3.879408e+01, -3.659408e+01,\n",
       "       -4.579408e+01, -1.024080e+00, -3.153408e+01, -1.960408e+01,\n",
       "        4.186592e+01,  2.824592e+01,  2.459200e-01, -1.754080e+00,\n",
       "        1.659200e-01, -4.868408e+01, -3.594408e+01, -5.154080e+00,\n",
       "        3.001592e+01,  4.835920e+00,  3.565920e+00,  2.433592e+01,\n",
       "        1.634592e+01, -5.104408e+01, -8.234080e+00,  4.017592e+01,\n",
       "        2.047592e+01, -5.440800e-01, -4.960408e+01, -2.006408e+01,\n",
       "        3.495920e+00,  3.685920e+00,  3.595920e+00,  2.335592e+01,\n",
       "        2.748592e+01, -9.534080e+00, -2.187408e+01,  3.961592e+01,\n",
       "        2.689592e+01,  2.095592e+01, -3.544408e+01, -5.554080e+00,\n",
       "       -1.699408e+01,  3.954592e+01,  2.145920e+00, -4.157408e+01,\n",
       "       -2.957408e+01,  4.727592e+01, -3.936408e+01, -1.614080e+00,\n",
       "        1.612592e+01,  2.761592e+01, -1.019408e+01, -1.816408e+01,\n",
       "       -2.016408e+01,  2.699592e+01, -4.768408e+01, -6.704080e+00,\n",
       "        3.215920e+00, -2.693408e+01,  4.292592e+01, -3.988408e+01,\n",
       "        2.249592e+01, -5.139408e+01,  4.241592e+01,  2.094592e+01,\n",
       "       -4.860408e+01,  5.055920e+00,  1.169592e+01,  1.509592e+01,\n",
       "        7.405920e+00, -6.264080e+00, -3.645408e+01, -3.483408e+01,\n",
       "        4.114592e+01, -1.694408e+01, -8.874080e+00,  6.915920e+00,\n",
       "        3.088592e+01,  2.308592e+01, -3.332408e+01, -6.640800e-01,\n",
       "        4.215920e+00,  6.455920e+00, -3.194408e+01,  8.805920e+00,\n",
       "       -1.563408e+01, -1.420408e+01,  4.154592e+01, -1.534080e+00,\n",
       "        3.582592e+01,  4.516592e+01,  3.952592e+01, -2.024408e+01,\n",
       "       -4.658408e+01, -6.254080e+00,  5.595920e+00,  2.131592e+01,\n",
       "        3.075592e+01,  3.245592e+01,  1.538592e+01,  3.064592e+01,\n",
       "        3.711592e+01, -4.225408e+01, -4.493408e+01, -4.740800e-01,\n",
       "       -2.390408e+01,  4.173592e+01,  3.867592e+01, -1.186408e+01,\n",
       "       -1.784080e+00,  2.115592e+01,  4.375592e+01,  2.538592e+01,\n",
       "        4.727592e+01, -3.149408e+01, -7.844080e+00, -3.170408e+01,\n",
       "       -4.136408e+01,  3.445592e+01,  3.979592e+01,  1.605920e+00,\n",
       "       -1.333408e+01, -5.734080e+00, -5.514080e+00,  8.765920e+00,\n",
       "       -1.774408e+01, -6.184080e+00, -3.008408e+01, -2.995408e+01,\n",
       "       -4.373408e+01,  2.603592e+01, -4.753408e+01,  3.074592e+01,\n",
       "       -2.605408e+01,  3.481592e+01, -3.171408e+01, -3.120408e+01,\n",
       "       -2.968408e+01,  2.199592e+01,  5.595920e+00, -8.634080e+00,\n",
       "        2.784592e+01,  3.903592e+01,  1.912592e+01,  4.249592e+01,\n",
       "        2.735920e+00,  2.377592e+01,  3.875920e+00,  1.459200e-01,\n",
       "        2.930592e+01,  3.330592e+01,  3.354592e+01,  4.645920e+00,\n",
       "        4.350592e+01,  1.659200e-01, -2.120408e+01,  3.075592e+01,\n",
       "       -1.997408e+01, -4.528408e+01,  2.929592e+01,  4.708592e+01,\n",
       "        3.785920e+00, -4.014080e+00, -1.454080e+00,  3.046592e+01,\n",
       "       -1.253408e+01,  2.358592e+01, -3.022408e+01, -1.335408e+01,\n",
       "       -3.042408e+01, -4.687408e+01,  9.565920e+00, -7.864080e+00,\n",
       "       -2.842408e+01,  4.333592e+01, -2.587408e+01,  2.839592e+01,\n",
       "       -4.340800e-01,  3.585920e+00, -1.629408e+01,  4.244592e+01,\n",
       "       -4.919408e+01,  2.654592e+01, -3.846408e+01,  1.925920e+00,\n",
       "       -9.644080e+00,  4.666592e+01, -2.480408e+01,  1.282592e+01,\n",
       "        2.911592e+01,  3.272592e+01,  3.295592e+01,  2.788592e+01,\n",
       "       -3.391408e+01,  3.595920e+00, -8.364080e+00, -4.978408e+01,\n",
       "        2.771592e+01,  2.244592e+01, -1.842408e+01, -2.884408e+01,\n",
       "       -2.018408e+01,  7.535920e+00,  2.004592e+01,  1.525592e+01,\n",
       "       -3.860408e+01,  4.007592e+01, -3.890408e+01,  4.446592e+01,\n",
       "        3.326592e+01,  3.810592e+01,  3.708592e+01,  3.992592e+01,\n",
       "        3.121592e+01, -1.480408e+01, -3.904080e+00, -2.118408e+01,\n",
       "        4.534592e+01, -7.034080e+00,  3.486592e+01,  8.175920e+00,\n",
       "        4.448592e+01, -3.852408e+01,  2.220592e+01,  2.326592e+01,\n",
       "       -4.565408e+01,  1.561592e+01,  1.376592e+01, -1.529408e+01,\n",
       "       -4.190408e+01, -4.181408e+01,  2.105592e+01, -1.857408e+01,\n",
       "       -5.068408e+01, -3.868408e+01,  4.002592e+01, -1.968408e+01,\n",
       "       -2.275408e+01,  1.751592e+01, -1.766408e+01,  3.219592e+01,\n",
       "       -1.246408e+01,  3.175592e+01,  8.375920e+00, -3.845408e+01,\n",
       "        2.159592e+01, -3.923408e+01,  3.690592e+01, -4.844080e+00,\n",
       "       -8.740800e-01,  4.437592e+01,  4.325920e+00,  4.169592e+01,\n",
       "        2.266592e+01, -3.099408e+01,  9.765920e+00,  1.655592e+01,\n",
       "       -1.167408e+01, -1.734408e+01, -4.139408e+01, -1.538408e+01,\n",
       "        1.607592e+01,  1.179592e+01, -5.106408e+01, -2.334080e+00,\n",
       "        4.426592e+01,  1.393592e+01, -2.474408e+01, -3.019408e+01,\n",
       "        4.309592e+01, -4.679408e+01, -3.470408e+01, -3.949408e+01,\n",
       "       -4.874080e+00, -4.167408e+01,  3.397592e+01,  2.709592e+01,\n",
       "       -2.408408e+01,  2.460592e+01, -2.928408e+01, -2.054080e+00,\n",
       "       -2.152408e+01, -4.424408e+01, -4.376408e+01,  3.165592e+01,\n",
       "       -3.267408e+01,  4.132592e+01,  4.707592e+01, -3.084408e+01,\n",
       "        4.441592e+01,  3.410592e+01, -4.937408e+01, -3.657408e+01,\n",
       "        3.178592e+01, -3.474080e+00, -4.477408e+01,  7.785920e+00,\n",
       "       -3.851408e+01,  4.684592e+01, -2.562408e+01, -1.113408e+01,\n",
       "        1.365592e+01,  3.652592e+01,  3.077592e+01,  3.427592e+01,\n",
       "       -4.527408e+01, -1.057408e+01,  1.113592e+01, -4.232408e+01,\n",
       "        4.432592e+01,  1.068592e+01, -3.057408e+01, -3.174080e+00,\n",
       "       -8.440800e-01,  3.197592e+01,  4.759200e-01,  1.215592e+01,\n",
       "        3.375592e+01, -3.934080e+00,  2.781592e+01,  3.226592e+01,\n",
       "        2.215920e+00, -2.425408e+01,  4.106592e+01,  4.601592e+01,\n",
       "        4.258592e+01,  3.242592e+01,  1.221592e+01, -3.925408e+01,\n",
       "       -2.061408e+01, -1.297408e+01,  4.413592e+01,  2.383592e+01,\n",
       "       -4.704408e+01, -1.537408e+01, -3.680408e+01, -5.640800e-01,\n",
       "       -3.225408e+01, -4.842408e+01,  1.168592e+01, -4.464408e+01,\n",
       "        3.231592e+01, -2.391408e+01, -3.415408e+01, -3.828408e+01,\n",
       "       -4.530408e+01,  3.455920e+00, -2.409408e+01,  3.867592e+01,\n",
       "        1.026592e+01, -4.917408e+01,  4.104592e+01, -2.263408e+01,\n",
       "        1.824592e+01,  1.339592e+01,  1.625920e+00,  2.577592e+01,\n",
       "       -1.237408e+01,  2.352592e+01,  2.651592e+01, -3.052408e+01,\n",
       "        4.765920e+00,  2.520592e+01,  1.684592e+01,  1.576592e+01,\n",
       "        9.955920e+00,  1.934592e+01, -3.302408e+01,  4.004592e+01,\n",
       "        8.455920e+00, -4.796408e+01,  1.900592e+01,  4.767592e+01,\n",
       "        3.754592e+01,  1.463592e+01, -4.766408e+01, -3.452408e+01,\n",
       "       -4.030408e+01,  4.057592e+01,  4.543592e+01,  2.855920e+00,\n",
       "       -2.634080e+00, -4.396408e+01,  3.952592e+01, -3.824080e+00,\n",
       "        9.675920e+00,  1.378592e+01, -2.432408e+01, -3.477408e+01,\n",
       "        2.930592e+01, -3.478408e+01,  3.249592e+01,  1.180592e+01,\n",
       "        2.662592e+01, -4.504408e+01,  8.145920e+00, -1.653408e+01,\n",
       "       -4.361408e+01,  3.185920e+00,  3.286592e+01, -4.648408e+01,\n",
       "       -3.059408e+01, -2.004408e+01,  2.840592e+01,  2.886592e+01,\n",
       "       -2.400408e+01,  2.387592e+01,  2.615920e+00,  1.152592e+01,\n",
       "        2.446592e+01, -4.458408e+01, -5.009408e+01,  4.693592e+01,\n",
       "       -3.824408e+01,  3.836592e+01, -2.694080e+00,  3.913592e+01,\n",
       "       -1.056408e+01,  3.314592e+01, -1.381408e+01, -1.820408e+01,\n",
       "        8.725920e+00, -5.234080e+00,  4.635592e+01, -4.649408e+01,\n",
       "        2.165592e+01, -1.284080e+00, -3.482408e+01, -4.161408e+01,\n",
       "       -7.714080e+00, -2.783408e+01,  3.553592e+01, -1.169408e+01,\n",
       "       -2.243408e+01,  1.822592e+01,  3.295920e+00, -6.804080e+00,\n",
       "        4.515920e+00,  2.755592e+01, -6.494080e+00,  3.468592e+01,\n",
       "       -4.634408e+01, -1.193408e+01,  1.988592e+01, -2.335408e+01,\n",
       "        1.203592e+01,  3.971592e+01, -6.740800e-01, -3.529408e+01,\n",
       "        3.285920e+00,  1.368592e+01,  2.187592e+01, -4.631408e+01,\n",
       "        3.504592e+01, -1.424080e+00,  1.226592e+01,  2.628592e+01,\n",
       "       -2.328408e+01,  3.995920e+00, -3.509408e+01,  4.763592e+01,\n",
       "        9.865920e+00, -1.457408e+01, -3.270408e+01, -4.222408e+01,\n",
       "        3.740592e+01, -5.065408e+01,  3.572592e+01, -1.999408e+01,\n",
       "        1.009592e+01, -1.541408e+01,  1.141592e+01,  1.956592e+01,\n",
       "        5.245920e+00,  1.958592e+01, -4.940408e+01, -4.014080e+00,\n",
       "        1.694592e+01,  1.095592e+01, -2.405408e+01, -3.341408e+01,\n",
       "       -4.407408e+01,  1.684592e+01, -1.870408e+01, -3.959408e+01])"
      ]
     },
     "execution_count": 143,
     "metadata": {},
     "output_type": "execute_result"
    }
   ],
   "source": [
    "# Subtract mean from all elements (gets distance from the mean)\n",
    "data = data-data.mean()\n",
    "data"
   ]
  },
  {
   "cell_type": "code",
   "execution_count": 145,
   "metadata": {},
   "outputs": [
    {
     "data": {
      "text/plain": [
       "array([ 1.49810900e+00, -4.40111547e-01, -1.35807050e+00, -6.40801704e-02,\n",
       "        6.65517473e-01, -6.71907241e-02, -4.20065757e-01,  1.24281135e-01,\n",
       "        2.18634596e-01,  6.33375085e-01, -4.58774869e-01, -3.45066852e-01,\n",
       "        1.52230220e+00, -9.11878853e-01,  6.63789387e-01,  3.75544748e-01,\n",
       "        9.33370705e-01, -9.81693502e-01,  1.00353097e+00,  3.28886443e-01,\n",
       "       -1.17800400e+00,  1.57898340e+00, -1.03180798e+00,  4.67133272e-01,\n",
       "       -3.28822849e-01,  1.15871304e+00, -1.23503082e+00, -3.64308045e-02,\n",
       "       -9.36763282e-01,  7.31184717e-01,  5.56302477e-01,  4.85105360e-01,\n",
       "        9.69314881e-01, -3.97946264e-01, -2.40344878e-01,  1.12173201e+00,\n",
       "        9.91088756e-01,  4.01466028e-01,  7.48119953e-01, -1.64977131e+00,\n",
       "       -8.76971528e-01,  4.93054553e-01,  6.64826238e-01, -8.02663857e-01,\n",
       "        1.39995375e+00,  1.30179851e+00,  1.83727272e-01, -8.32245914e-04,\n",
       "        7.48465570e-01, -6.89301457e-01, -1.75276519e+00,  5.46625199e-01,\n",
       "        9.57563900e-01,  5.14137194e-01, -1.31279466e+00, -3.64075791e-01,\n",
       "       -8.63838079e-01, -3.90688305e-01,  1.28486327e+00, -6.50937962e-01,\n",
       "       -6.72020603e-01, -2.15114832e-01,  3.16098611e-01,  6.62061302e-01,\n",
       "        8.26575029e-01,  3.57227043e-01, -1.01061197e-01,  7.72658765e-01,\n",
       "        9.49269090e-01, -2.69722329e-01,  1.54234799e+00,  1.37334124e+00,\n",
       "        1.57725531e+00, -4.32853588e-01,  2.01699359e-01, -1.40749374e+00,\n",
       "       -1.85737380e-01, -5.45524754e-01,  8.75998271e-01,  1.14938138e+00,\n",
       "       -1.47938209e+00,  2.96052821e-01, -6.89992691e-01, -6.72366220e-01,\n",
       "        1.45179632e+00,  4.29806628e-01, -1.24194316e+00,  1.05157174e+00,\n",
       "        4.17710031e-01,  1.01839251e+00, -1.76140562e+00, -6.36767662e-01,\n",
       "       -3.24329827e-01, -3.58545917e-01,  5.37752518e-02, -1.67672944e+00,\n",
       "       -8.64529314e-01, -7.89530409e-01,  1.86492208e-01, -6.36767662e-01,\n",
       "       -2.31704451e-01, -1.01590959e+00, -6.19486808e-01, -1.03284483e+00,\n",
       "       -7.84000535e-01, -1.42373774e+00, -1.72477021e+00,  9.57909517e-01,\n",
       "        7.02844117e-01, -1.25600010e-01,  5.72200863e-01,  9.31642619e-01,\n",
       "        9.55490198e-01, -1.35184939e+00,  1.45006823e+00,  3.49623467e-01,\n",
       "       -1.59689189e+00, -2.13732363e-01,  6.23697807e-01,  5.21049536e-01,\n",
       "        7.97543195e-01,  1.97897572e-01,  1.36815698e+00, -7.34118314e-02,\n",
       "        9.55835815e-01,  9.06066956e-01,  1.39511512e+00,  2.93979118e-01,\n",
       "       -3.55089747e-01,  1.63635583e+00, -2.82855778e-01, -8.72365144e-02,\n",
       "       -1.65253624e+00,  7.61253402e-01, -6.67181964e-01,  5.77385119e-01,\n",
       "        1.62978911e+00, -6.13152338e-02, -1.26095210e+00,  1.27380352e+00,\n",
       "        8.65284141e-01,  4.83377275e-01, -1.63802032e+00,  2.83264989e-01,\n",
       "        3.66904321e-01,  1.16735346e+00,  1.10687048e+00, -3.32970254e-01,\n",
       "       -1.06187666e+00, -1.64078526e+00, -6.38841364e-01,  5.51809455e-01,\n",
       "        3.33379465e-01, -4.03821754e-01, -1.48664005e+00, -3.30205317e-01,\n",
       "       -4.57392401e-01,  2.61258858e-02,  1.56584995e+00,  6.27612957e-02,\n",
       "        4.21857435e-01, -1.50737707e+00,  2.19784810e-02, -5.09234962e-01,\n",
       "       -1.37604258e+00, -1.55714593e+00,  1.19292913e+00, -9.55313242e-02,\n",
       "        1.57552723e+00,  7.65055190e-01, -8.11304284e-01, -5.10271813e-01,\n",
       "       -1.71129114e+00,  6.78650921e-01,  1.18532555e+00, -9.30542175e-01,\n",
       "        2.60799879e-01, -1.20761371e-01,  1.44211904e+00,  1.00087940e-01,\n",
       "        1.81999186e-01, -4.25941247e-01,  1.11101788e+00, -4.98866449e-01,\n",
       "       -1.50737707e+00,  4.30497862e-01,  6.45817299e-01,  7.83140640e-02,\n",
       "       -1.03491853e+00,  5.80841289e-01, -4.77783808e-01,  3.76581599e-01,\n",
       "        1.14523397e+00,  2.76352647e-01, -1.39919893e+00,  7.93395790e-01,\n",
       "        1.70939440e-01, -6.48518642e-01, -1.58272159e+00,  6.13674911e-01,\n",
       "        1.06712451e+00, -3.33661488e-01, -8.68331101e-01, -6.15339403e-01,\n",
       "       -1.55818278e+00,  1.34914804e+00, -1.16728987e+00,  2.57689325e-01,\n",
       "        1.07058068e+00,  1.39235018e+00,  1.32530047e+00, -7.16605206e-01,\n",
       "       -1.30208053e+00, -1.48041894e+00,  9.27840832e-01, -3.30896551e-01,\n",
       "        1.22749083e+00, -1.12616144e+00,  3.13101420e-02, -7.03012778e-02,\n",
       "       -6.24325447e-01, -9.83421587e-01, -2.14077981e-01, -2.71104798e-01,\n",
       "        8.75307036e-01,  1.37057630e+00,  5.09644172e-01, -1.11924910e+00,\n",
       "       -7.00706821e-01,  1.32460923e+00,  1.04984366e+00, -4.89189171e-01,\n",
       "        1.12138639e+00,  9.84867649e-01, -1.70161387e+00,  1.70939440e-01,\n",
       "        4.61949016e-01,  2.00316891e-01, -7.35959762e-01, -2.58662583e-01,\n",
       "        6.67591175e-01, -3.41956298e-01,  1.57690970e+00,  6.12292443e-01,\n",
       "       -8.01972623e-01, -4.04858605e-01, -1.53710014e+00, -1.66048543e+00,\n",
       "        6.36140021e-01,  6.01232697e-01, -5.79395228e-01, -1.19735856e+00,\n",
       "       -3.39536978e-01,  1.33394089e+00,  1.50709505e+00,  1.17530266e+00,\n",
       "       -2.35506239e-01, -3.09122676e-01, -1.28341721e+00, -1.62419564e+00,\n",
       "       -1.68951727e+00,  1.78197398e-01,  1.22887330e+00, -1.75518451e+00,\n",
       "       -1.58514091e+00,  7.96965323e-02, -1.12961761e+00,  8.13095963e-01,\n",
       "       -5.26748070e-02, -1.10300509e+00,  1.15733057e+00,  5.54228775e-01,\n",
       "       -6.57850303e-01,  1.30525468e+00,  1.65778409e+00, -1.23192026e+00,\n",
       "        6.67936792e-01,  1.56377625e+00, -1.77972333e+00, -8.94252382e-01,\n",
       "       -1.10127701e+00,  1.11838920e-01,  1.14696206e+00,  1.10963541e+00,\n",
       "       -1.76060102e-01, -1.53481630e-02,  1.31493195e+00, -1.73341064e+00,\n",
       "       -8.08539348e-01,  1.16147797e+00,  6.89019434e-01,  1.20951875e+00,\n",
       "       -8.15106072e-01, -1.66843463e+00, -1.01107095e+00, -1.54401248e+00,\n",
       "       -8.95289233e-01, -9.49205497e-01, -1.59378134e+00,  1.50052832e+00,\n",
       "        5.94320355e-01, -1.33353168e+00,  1.58796944e+00, -4.71449338e-02,\n",
       "       -2.27902663e-01,  1.64637873e+00,  8.19662688e-01,  1.46631223e+00,\n",
       "        3.36835635e-01,  1.59315370e+00,  9.65858710e-01, -7.79853130e-01,\n",
       "        1.37368686e+00,  8.77035122e-01, -1.02109385e+00,  1.56377625e+00,\n",
       "       -5.65916162e-01,  1.41550652e+00,  1.13521108e+00,  1.38336414e+00,\n",
       "        1.44142780e+00,  1.04362255e+00,  1.24269799e+00, -3.12465484e-02,\n",
       "        9.76918456e-01,  1.32530047e+00,  2.05846764e-01,  1.33359528e+00,\n",
       "        9.93162459e-01,  1.03290842e+00,  1.54856910e+00,  1.48082815e+00,\n",
       "       -1.21187447e+00,  9.30951385e-01, -1.55852840e+00,  1.32011621e+00,\n",
       "       -1.73652119e+00, -5.14419218e-01,  1.53543565e+00,  4.85796594e-01,\n",
       "        1.26931050e+00,  3.13333674e-01, -9.44712475e-01,  1.18739925e+00,\n",
       "        1.05675600e+00,  9.53070878e-01,  7.54341061e-01, -1.39228659e+00,\n",
       "        1.44350151e+00,  1.39615197e+00, -2.67994244e-01,  7.96506344e-01,\n",
       "        1.55237088e+00, -1.24228878e+00, -1.51221571e+00, -1.31590521e+00,\n",
       "        1.42483818e+00, -1.63698347e+00,  1.57414476e+00, -1.42535246e-01,\n",
       "       -1.29447695e+00, -1.17786299e-03,  7.96965323e-02,  5.74965799e-01,\n",
       "       -1.57442678e+00,  3.32688230e-01,  4.86833445e-01,  7.55491274e-02,\n",
       "       -1.49977350e+00, -1.44827655e+00,  8.43510266e-01,  1.04535064e+00,\n",
       "        1.41861708e+00,  2.34187364e-01,  3.17826696e-01, -1.50806831e+00,\n",
       "       -1.27062938e+00,  6.84872029e-01,  1.47045964e+00, -5.20640325e-01,\n",
       "       -6.28818469e-01, -1.11924910e+00, -5.84925101e-01, -1.37880752e+00,\n",
       "       -4.82968064e-01,  4.45013779e-01, -1.27926980e+00, -1.14344229e+00,\n",
       "       -1.66221352e+00, -6.45062472e-01, -9.41947538e-01, -8.55543270e-01,\n",
       "        9.62861519e-02, -1.02662372e+00,  1.30156625e-01,  6.95586158e-01,\n",
       "       -1.41786225e+00,  6.22660955e-01, -1.25645908e+00,  5.07224853e-01,\n",
       "        1.96169486e-01, -1.67154518e+00,  6.38904958e-01,  3.80383387e-01,\n",
       "       -1.07627922e-01, -1.29482257e+00,  1.45801742e+00,  2.99508991e-01,\n",
       "       -3.32279020e-01,  6.19204785e-01, -1.74218655e-02, -1.68156808e+00,\n",
       "        1.01217140e+00,  8.30722434e-01, -9.31120046e-02, -1.76935481e+00,\n",
       "       -8.50359014e-01, -9.14989406e-01,  1.67137652e-01,  2.58034942e-01,\n",
       "        1.29004753e+00, -9.99319972e-01,  8.28648731e-01, -1.07051709e+00,\n",
       "       -1.41820787e+00, -5.31700071e-01,  1.29626863e+00, -1.65080816e+00,\n",
       "       -9.84804055e-01, -8.20635945e-01,  1.05191736e+00, -2.78708373e-01,\n",
       "        6.56877046e-01,  3.71856322e-02, -8.90450594e-01, -1.33007551e+00,\n",
       "       -4.73636403e-01, -1.72304213e+00,  1.29465391e-01, -9.95518185e-01,\n",
       "        4.06650284e-01,  9.80142372e-02, -8.73515357e-01, -4.73636403e-01,\n",
       "        1.08198605e+00, -1.63940279e+00,  1.36297273e+00, -1.63007113e+00,\n",
       "       -1.57131623e+00,  4.87524679e-01,  4.75082465e-01, -9.64412648e-01,\n",
       "       -2.17879768e-01, -1.92649722e-01, -1.57062500e+00, -1.59516381e+00,\n",
       "        1.43382423e+00, -2.13386746e-01, -1.45069587e+00,  2.51122601e-01,\n",
       "        1.88565911e-01,  8.86366783e-01,  1.47205224e-02,  1.32149868e+00,\n",
       "       -1.61832015e+00, -8.62109994e-01,  8.28994349e-01,  3.34070699e-01,\n",
       "        1.56999735e+00, -2.84238247e-01,  1.31009332e+00, -6.12228850e-01,\n",
       "        4.75428082e-01,  9.07449424e-01, -1.44482038e+00,  9.15053000e-01,\n",
       "        1.49015981e+00,  3.63102533e-01, -9.76050266e-02,  1.18290623e+00,\n",
       "       -1.26982478e-01, -1.88156700e-01,  1.38440099e+00, -1.15623012e+00,\n",
       "        1.34361817e+00, -6.96213799e-01, -4.21793842e-01, -1.32039823e+00,\n",
       "       -9.26394770e-01,  2.13104723e-01, -8.66257399e-01, -1.27788733e+00,\n",
       "       -8.47248460e-01, -1.21452605e-01, -1.71405608e+00,  2.71859625e-01,\n",
       "       -1.30657355e+00,  3.64830618e-01, -1.42823076e+00,  6.28882063e-01,\n",
       "        7.94432641e-01,  2.59763028e-01, -1.59861998e+00,  9.69314881e-01,\n",
       "        1.55720952e+00, -5.25824581e-01,  1.41205035e+00,  8.86366783e-01,\n",
       "       -2.23064024e-01, -1.05807487e+00,  2.62873581e-01,  1.13555669e+00,\n",
       "       -9.00014510e-02,  3.79692152e-01,  2.64715029e-02, -1.06360475e+00,\n",
       "       -7.63609128e-01,  5.02731831e-01, -1.34078964e+00, -1.26475389e+00,\n",
       "       -1.58272159e+00, -3.53939533e-02, -1.08987165e+00, -6.77550477e-01,\n",
       "        1.44695768e+00,  9.76227222e-01,  8.49941508e-03, -6.06239997e-02,\n",
       "        5.73447849e-03, -1.68260493e+00, -1.24228878e+00, -1.78133805e-01,\n",
       "        1.03740144e+00,  1.67137652e-01,  1.23244284e-01,  8.41090946e-01,\n",
       "        5.64942904e-01, -1.76417056e+00, -2.84583864e-01,  1.38854839e+00,\n",
       "        7.07682756e-01, -1.88043338e-02, -1.71440170e+00, -6.93448862e-01,\n",
       "        1.20824964e-01,  1.27391689e-01,  1.24281135e-01,  8.07220473e-01,\n",
       "        9.49960324e-01, -3.29514083e-01, -7.56005552e-01,  1.36919384e+00,\n",
       "        9.29568917e-01,  7.24272375e-01, -1.22500792e+00, -1.91958488e-01,\n",
       "       -5.87344420e-01,  1.36677452e+00,  7.41666591e-02, -1.43687119e+00,\n",
       "       -1.02213070e+00,  1.63393651e+00, -1.36048981e+00, -5.57853607e-02,\n",
       "        5.57339328e-01,  9.54453346e-01, -3.52324810e-01, -6.27781618e-01,\n",
       "       -6.96905033e-01,  9.33025088e-01, -1.64804322e+00, -2.31704451e-01,\n",
       "        1.11147686e-01, -9.30887792e-01,  1.48359309e+00, -1.37846190e+00,\n",
       "        7.77497404e-01, -1.77626715e+00,  1.46596662e+00,  7.23926758e-01,\n",
       "       -1.67983999e+00,  1.74741228e-01,  4.04230965e-01,  5.21740770e-01,\n",
       "        2.55961240e-01, -2.16497300e-01, -1.25991525e+00, -1.20392528e+00,\n",
       "        1.42207325e+00, -5.85616335e-01, -3.06703356e-01,  2.39026003e-01,\n",
       "        1.06747013e+00,  7.97888812e-01, -1.15173710e+00, -2.29517386e-02,\n",
       "        1.45709393e-01,  2.23127618e-01, -1.10404195e+00,  3.04347630e-01,\n",
       "       -5.40340498e-01, -4.90917257e-01,  1.43589793e+00, -5.30204241e-02,\n",
       "        1.23820496e+00,  1.56101131e+00,  1.36608328e+00, -6.99669969e-01,\n",
       "       -1.61002534e+00, -2.16151683e-01,  1.93404550e-01,  7.36714590e-01,\n",
       "        1.06297711e+00,  1.12173201e+00,  5.31763665e-01,  1.05917532e+00,\n",
       "        1.28278957e+00, -1.46037315e+00, -1.55299852e+00, -1.63850142e-02,\n",
       "       -8.26165818e-01,  1.44246465e+00,  1.33670583e+00, -4.10042861e-01,\n",
       "       -6.16608509e-02,  7.31184717e-01,  1.51227930e+00,  8.77380739e-01,\n",
       "        1.63393651e+00, -1.08848918e+00, -2.71104798e-01, -1.09574714e+00,\n",
       "       -1.42961323e+00,  1.19085542e+00,  1.37541494e+00,  5.55033371e-02,\n",
       "       -4.60848571e-01, -1.98179595e-01, -1.90576019e-01,  3.02965162e-01,\n",
       "       -6.13265701e-01, -2.13732363e-01, -1.03975717e+00, -1.03526415e+00,\n",
       "       -1.51152448e+00,  8.99845849e-01, -1.64285896e+00,  1.06263149e+00,\n",
       "       -9.00473489e-01,  1.20329764e+00, -1.09609275e+00, -1.07846628e+00,\n",
       "       -1.02593249e+00,  7.60216551e-01,  1.93404550e-01, -2.98408547e-01,\n",
       "        9.62402539e-01,  1.34914804e+00,  6.61024451e-01,  1.46873155e+00,\n",
       "        9.45580665e-02,  8.21736390e-01,  1.33958413e-01,  5.04324434e-03,\n",
       "        1.01286263e+00,  1.15110946e+00,  1.15940427e+00,  1.60570928e-01,\n",
       "        1.50363888e+00,  5.73447849e-03, -7.32849208e-01,  1.06297711e+00,\n",
       "       -6.90338308e-01, -1.56509512e+00,  1.01251701e+00,  1.62736979e+00,\n",
       "        1.30847859e-01, -1.38733458e-01, -5.02554875e-02,  1.05295421e+00,\n",
       "       -4.33199205e-01,  8.15169666e-01, -1.04459581e+00, -4.61539805e-01,\n",
       "       -1.05150815e+00, -1.62004824e+00,  3.30614528e-01, -2.71796032e-01,\n",
       "       -9.82384736e-01,  1.49776339e+00, -8.94252382e-01,  9.81411478e-01,\n",
       "       -1.50025459e-02,  1.23935518e-01, -5.63151225e-01,  1.46700347e+00,\n",
       "       -1.70023140e+00,  9.17472319e-01, -1.32938428e+00,  6.65630835e-02,\n",
       "       -3.33315871e-01,  1.61285387e+00, -8.57271355e-01,  4.43285694e-01,\n",
       "        1.00629591e+00,  1.13106367e+00,  1.13901286e+00,  9.63785007e-01,\n",
       "       -1.17212851e+00,  1.24281135e-01, -2.89076886e-01, -1.72062281e+00,\n",
       "        9.57909517e-01,  7.75769319e-01, -6.36767662e-01, -9.96900653e-01,\n",
       "       -6.97596267e-01,  2.60454262e-01,  6.92821221e-01,  5.27270643e-01,\n",
       "       -1.33422292e+00,  1.38509222e+00, -1.34459143e+00,  1.53681812e+00,\n",
       "        1.14972699e+00,  1.31700566e+00,  1.28175272e+00,  1.37990796e+00,\n",
       "        1.07887549e+00, -5.11654281e-01, -1.34931671e-01, -7.32157974e-01,\n",
       "        1.56723242e+00, -2.43109815e-01,  1.20502572e+00,  2.82573755e-01,\n",
       "        1.53750935e+00, -1.33145798e+00,  7.67474509e-01,  8.04109919e-01,\n",
       "       -1.57788295e+00,  5.39712858e-01,  4.75773699e-01, -5.28589518e-01,\n",
       "       -1.44827655e+00, -1.44516600e+00,  7.27728546e-01, -6.41951918e-01,\n",
       "       -1.75172834e+00, -1.33698785e+00,  1.38336414e+00, -6.80315413e-01,\n",
       "       -7.86419855e-01,  6.05380102e-01, -6.10500764e-01,  1.11274597e+00,\n",
       "       -4.30779886e-01,  1.09753881e+00,  2.89486096e-01, -1.32903866e+00,\n",
       "        7.46391868e-01, -1.35599679e+00,  1.27553161e+00, -1.67419676e-01,\n",
       "       -3.02096972e-02,  1.53370756e+00,  1.49511181e-01,  1.44108219e+00,\n",
       "        7.83372895e-01, -1.07120832e+00,  3.37526869e-01,  5.72200863e-01,\n",
       "       -4.03476137e-01, -5.99441018e-01, -1.43065008e+00, -5.31700071e-01,\n",
       "        5.55611243e-01,  4.07687135e-01, -1.76486179e+00, -8.06697900e-02,\n",
       "        1.52990577e+00,  4.81649189e-01, -8.55197653e-01, -1.04355896e+00,\n",
       "        1.48946858e+00, -1.61728330e+00, -1.19943226e+00, -1.36498284e+00,\n",
       "       -1.68456527e-01, -1.44032736e+00,  1.17426581e+00,  9.36481258e-01,\n",
       "       -8.32386926e-01,  8.50422607e-01, -1.01210780e+00, -7.09925119e-02,\n",
       "       -7.43908955e-01, -1.52915095e+00, -1.51256133e+00,  1.09408264e+00,\n",
       "       -1.12927199e+00,  1.42829435e+00,  1.62702417e+00, -1.06602407e+00,\n",
       "        1.53509003e+00,  1.17875883e+00, -1.70645251e+00, -1.26406265e+00,\n",
       "        1.09857567e+00, -1.20070136e-01, -1.54746865e+00,  2.69094689e-01,\n",
       "       -1.33111236e+00,  1.61907498e+00, -8.85611955e-01, -3.84812815e-01,\n",
       "        4.71971911e-01,  1.26239816e+00,  1.06366834e+00,  1.18463432e+00,\n",
       "       -1.56474951e+00, -3.65458259e-01,  3.84876409e-01, -1.46279247e+00,\n",
       "        1.53197948e+00,  3.69323640e-01, -1.05669241e+00, -1.09701624e-01,\n",
       "       -2.91728460e-02,  1.10514239e+00,  1.64486078e-02,  4.20129350e-01,\n",
       "        1.16666223e+00, -1.35968522e-01,  9.61365688e-01,  1.11516529e+00,\n",
       "        7.65859786e-02, -8.38262416e-01,  1.41930831e+00,  1.59038876e+00,\n",
       "        1.47184211e+00,  1.12069516e+00,  4.22203053e-01, -1.35668803e+00,\n",
       "       -7.12457801e-01, -4.48406357e-01,  1.52541275e+00,  8.23810092e-01,\n",
       "       -1.62592373e+00, -5.31354454e-01, -1.27201184e+00, -1.94955679e-02,\n",
       "       -1.11475608e+00, -1.67361888e+00,  4.03885348e-01, -1.54297563e+00,\n",
       "        1.11689337e+00, -8.26511435e-01, -1.18042332e+00, -1.32316317e+00,\n",
       "       -1.56578636e+00,  1.19442496e-01, -8.32732543e-01,  1.33670583e+00,\n",
       "        3.54807723e-01, -1.69954016e+00,  1.41861708e+00, -7.82272450e-01,\n",
       "        6.30610148e-01,  4.62985867e-01,  5.61945713e-02,  8.90859805e-01,\n",
       "       -4.27669332e-01,  8.13095963e-01,  9.16435468e-01, -1.05496432e+00,\n",
       "        1.64718332e-01,  8.71159632e-01,  5.82223758e-01,  5.44897114e-01,\n",
       "        3.44093594e-01,  6.68628026e-01, -1.14136859e+00,  1.38405537e+00,\n",
       "        2.92251033e-01, -1.65772050e+00,  6.56877046e-01,  1.64776120e+00,\n",
       "        1.29765110e+00,  5.05842384e-01, -1.64735199e+00, -1.19321115e+00,\n",
       "       -1.39297782e+00,  1.40237307e+00,  1.57034297e+00,  9.87054714e-02,\n",
       "       -9.10383022e-02, -1.51947367e+00,  1.36608328e+00, -1.32166734e-01,\n",
       "        3.34416316e-01,  4.76464933e-01, -8.40681735e-01, -1.20185158e+00,\n",
       "        1.01286263e+00, -1.20219719e+00,  1.12311448e+00,  4.08032753e-01,\n",
       "        9.20237256e-01, -1.55680031e+00,  2.81536903e-01, -5.71446035e-01,\n",
       "       -1.50737707e+00,  1.10110835e-01,  1.13590231e+00, -1.60656917e+00,\n",
       "       -1.05738364e+00, -6.92757628e-01,  9.81757095e-01,  9.97655481e-01,\n",
       "       -8.29621989e-01,  8.25192561e-01,  9.04106616e-02,  3.98355474e-01,\n",
       "        8.45583968e-01, -1.54090193e+00, -1.73133693e+00,  1.62218553e+00,\n",
       "       -1.32178070e+00,  1.32599170e+00, -9.31120046e-02,  1.35260422e+00,\n",
       "       -3.65112642e-01,  1.14557959e+00, -4.77438191e-01, -6.29164086e-01,\n",
       "        3.01582694e-01, -1.80898741e-01,  1.60213974e+00, -1.60691479e+00,\n",
       "        7.48465570e-01, -4.43799972e-02, -1.20357966e+00, -1.43825366e+00,\n",
       "       -2.66611776e-01, -9.61993328e-01,  1.22818207e+00, -4.04167371e-01,\n",
       "       -7.75360109e-01,  6.29918914e-01,  1.13912623e-01, -2.35160622e-01,\n",
       "        1.56077906e-01,  9.52379644e-01, -2.24446493e-01,  1.19880462e+00,\n",
       "       -1.60173053e+00, -4.12462181e-01,  6.87291348e-01, -8.07156879e-01,\n",
       "        4.15981945e-01,  1.37265001e+00, -2.32973557e-02, -1.21982367e+00,\n",
       "        1.13567006e-01,  4.73008762e-01,  7.56069146e-01, -1.60069368e+00,\n",
       "        1.21124683e+00, -4.92186363e-02,  4.23931138e-01,  9.08486276e-01,\n",
       "       -8.04737560e-01,  1.38105818e-01, -1.21291132e+00,  1.64637873e+00,\n",
       "        3.40983040e-01, -5.03705088e-01, -1.13030884e+00, -1.45933630e+00,\n",
       "        1.29281246e+00, -1.75069149e+00,  1.23474879e+00, -6.91029542e-01,\n",
       "        3.48932233e-01, -5.32736923e-01,  3.94553687e-01,  6.76231602e-01,\n",
       "        1.81307952e-01,  6.76922836e-01, -1.70748936e+00, -1.38733458e-01,\n",
       "        5.85679928e-01,  3.78655301e-01, -8.31350074e-01, -1.15484766e+00,\n",
       "       -1.52327546e+00,  5.82223758e-01, -6.46444940e-01, -1.36843901e+00])"
      ]
     },
     "execution_count": 145,
     "metadata": {},
     "output_type": "execute_result"
    }
   ],
   "source": [
    "# Divide by the standard deviation\n",
    "data = data/data.std()\n",
    "data"
   ]
  },
  {
   "cell_type": "code",
   "execution_count": 146,
   "metadata": {},
   "outputs": [
    {
     "data": {
      "text/plain": [
       "(-2.3092638912203255e-17, 1.0)"
      ]
     },
     "execution_count": 146,
     "metadata": {},
     "output_type": "execute_result"
    }
   ],
   "source": [
    "data.mean(), data.std()"
   ]
  },
  {
   "cell_type": "markdown",
   "metadata": {},
   "source": [
    "For the full list of mathematical functions, check the [documentation](http://docs.scipy.org/doc/numpy/reference/routines.math.html)."
   ]
  },
  {
   "cell_type": "markdown",
   "metadata": {},
   "source": [
    "### Reshaping \n",
    "Apart from computing mathematical functions using arrays, we frequently need to **reshape** or otherwise manipulate data in arrays. The simplest example of this type of operation is **transposing** a matrix; to transpose a matrix, simply use the `T` attribute of an array object:"
   ]
  },
  {
   "cell_type": "code",
   "execution_count": 147,
   "metadata": {},
   "outputs": [
    {
     "data": {
      "text/plain": [
       "array([0, 1, 2, 3])"
      ]
     },
     "execution_count": 147,
     "metadata": {},
     "output_type": "execute_result"
    }
   ],
   "source": [
    "np.arange(4)"
   ]
  },
  {
   "cell_type": "code",
   "execution_count": 74,
   "metadata": {},
   "outputs": [
    {
     "data": {
      "text/plain": [
       "array([[0, 1],\n",
       "       [2, 3]])"
      ]
     },
     "execution_count": 74,
     "metadata": {},
     "output_type": "execute_result"
    }
   ],
   "source": [
    "x = np.arange(4).reshape((2, 2))\n",
    "x"
   ]
  },
  {
   "cell_type": "code",
   "execution_count": 75,
   "metadata": {},
   "outputs": [
    {
     "data": {
      "text/plain": [
       "array([[0, 2],\n",
       "       [1, 3]])"
      ]
     },
     "execution_count": 75,
     "metadata": {},
     "output_type": "execute_result"
    }
   ],
   "source": [
    "x.T"
   ]
  },
  {
   "cell_type": "code",
   "execution_count": 76,
   "metadata": {},
   "outputs": [
    {
     "data": {
      "text/plain": [
       "array([[0, 2],\n",
       "       [1, 3]])"
      ]
     },
     "execution_count": 76,
     "metadata": {},
     "output_type": "execute_result"
    }
   ],
   "source": [
    "np.transpose(x) # Equivalent expression"
   ]
  },
  {
   "cell_type": "code",
   "execution_count": 77,
   "metadata": {},
   "outputs": [
    {
     "data": {
      "text/plain": [
       "array([1, 2, 3])"
      ]
     },
     "execution_count": 77,
     "metadata": {},
     "output_type": "execute_result"
    }
   ],
   "source": [
    "# Note that taking the transpose of a rank 1 array (a vector) does nothing:\n",
    "v = np.array([1, 2, 3])\n",
    "v"
   ]
  },
  {
   "cell_type": "code",
   "execution_count": 78,
   "metadata": {},
   "outputs": [
    {
     "data": {
      "text/plain": [
       "array([1, 2, 3])"
      ]
     },
     "execution_count": 78,
     "metadata": {},
     "output_type": "execute_result"
    }
   ],
   "source": [
    "v.T"
   ]
  },
  {
   "cell_type": "code",
   "execution_count": 79,
   "metadata": {},
   "outputs": [
    {
     "data": {
      "text/plain": [
       "array([[0],\n",
       "       [1],\n",
       "       [2],\n",
       "       [3]])"
      ]
     },
     "execution_count": 79,
     "metadata": {},
     "output_type": "execute_result"
    }
   ],
   "source": [
    "x.reshape((4, 1))"
   ]
  },
  {
   "cell_type": "code",
   "execution_count": 80,
   "metadata": {},
   "outputs": [
    {
     "data": {
      "text/plain": [
       "array([0, 1, 2, 3])"
      ]
     },
     "execution_count": 80,
     "metadata": {},
     "output_type": "execute_result"
    }
   ],
   "source": [
    "x.reshape((4,))"
   ]
  },
  {
   "cell_type": "code",
   "execution_count": 81,
   "metadata": {},
   "outputs": [
    {
     "data": {
      "text/plain": [
       "array([[[ 0,  1,  2],\n",
       "        [ 3,  4,  5],\n",
       "        [ 6,  7,  8]],\n",
       "\n",
       "       [[ 9, 10, 11],\n",
       "        [12, 13, 14],\n",
       "        [15, 16, 17]],\n",
       "\n",
       "       [[18, 19, 20],\n",
       "        [21, 22, 23],\n",
       "        [24, 25, 26]]])"
      ]
     },
     "execution_count": 81,
     "metadata": {},
     "output_type": "execute_result"
    }
   ],
   "source": [
    "y = np.arange(27).reshape((3, 3, 3))\n",
    "y"
   ]
  },
  {
   "cell_type": "code",
   "execution_count": 82,
   "metadata": {},
   "outputs": [
    {
     "data": {
      "text/plain": [
       "(3, 3, 3)"
      ]
     },
     "execution_count": 82,
     "metadata": {},
     "output_type": "execute_result"
    }
   ],
   "source": [
    "y.shape"
   ]
  },
  {
   "cell_type": "code",
   "execution_count": 83,
   "metadata": {},
   "outputs": [
    {
     "data": {
      "text/plain": [
       "array([[ 0,  1,  2,  3,  4,  5,  6,  7,  8],\n",
       "       [ 9, 10, 11, 12, 13, 14, 15, 16, 17],\n",
       "       [18, 19, 20, 21, 22, 23, 24, 25, 26]])"
      ]
     },
     "execution_count": 83,
     "metadata": {},
     "output_type": "execute_result"
    }
   ],
   "source": [
    "y.reshape((3, -1))"
   ]
  },
  {
   "cell_type": "code",
   "execution_count": 84,
   "metadata": {},
   "outputs": [
    {
     "data": {
      "text/plain": [
       "(3, 9)"
      ]
     },
     "execution_count": 84,
     "metadata": {},
     "output_type": "execute_result"
    }
   ],
   "source": [
    "y.reshape((3, -1)).shape"
   ]
  },
  {
   "cell_type": "markdown",
   "metadata": {},
   "source": [
    "### Broadcasting"
   ]
  },
  {
   "cell_type": "markdown",
   "metadata": {},
   "source": [
    "Broadcasting is a powerful mechanism that allows numpy to work with arrays of different shapes when performing arithmetic operations. "
   ]
  },
  {
   "cell_type": "code",
   "execution_count": 85,
   "metadata": {},
   "outputs": [
    {
     "data": {
      "text/plain": [
       "array([[ 0,  1,  2],\n",
       "       [ 3,  4,  5],\n",
       "       [ 6,  7,  8],\n",
       "       [ 9, 10, 11]])"
      ]
     },
     "execution_count": 85,
     "metadata": {},
     "output_type": "execute_result"
    }
   ],
   "source": [
    "x = np.arange(12).reshape((4, 3))\n",
    "x"
   ]
  },
  {
   "cell_type": "code",
   "execution_count": 86,
   "metadata": {},
   "outputs": [
    {
     "data": {
      "text/plain": [
       "array([[ 2,  3,  4],\n",
       "       [ 5,  6,  7],\n",
       "       [ 8,  9, 10],\n",
       "       [11, 12, 13]])"
      ]
     },
     "execution_count": 86,
     "metadata": {},
     "output_type": "execute_result"
    }
   ],
   "source": [
    "x+2"
   ]
  },
  {
   "cell_type": "markdown",
   "metadata": {},
   "source": [
    "Broadcasting is especially useful when we have a smaller and a larger arrays, and want to use the smaller one multiple times to perform some operation on the larger. For example, suppose that we want to add a constant vector to each row of a matrix. "
   ]
  },
  {
   "cell_type": "code",
   "execution_count": 87,
   "metadata": {},
   "outputs": [
    {
     "data": {
      "text/plain": [
       "array([1, 0, 1])"
      ]
     },
     "execution_count": 87,
     "metadata": {},
     "output_type": "execute_result"
    }
   ],
   "source": [
    "v = np.array([1, 0, 1])\n",
    "v"
   ]
  },
  {
   "cell_type": "code",
   "execution_count": 88,
   "metadata": {},
   "outputs": [
    {
     "data": {
      "text/plain": [
       "array([[ 1,  1,  3],\n",
       "       [ 4,  4,  6],\n",
       "       [ 7,  7,  9],\n",
       "       [10, 10, 12]])"
      ]
     },
     "execution_count": 88,
     "metadata": {},
     "output_type": "execute_result"
    }
   ],
   "source": [
    "x + v  # Add v to each row of x using broadcasting"
   ]
  },
  {
   "cell_type": "markdown",
   "metadata": {},
   "source": [
    "`x + v` works even though `x` has shape `(4, 3)` and `v` has shape `(3,)` due to broadcasting; this line works as if v actually had shape `(4, 3)`, where each row was a copy of `v`, and the sum was performed elementwise.\n",
    "\n",
    "Broadcasting two arrays together follows these rules:\n",
    "\n",
    "* If the arrays do not have the same rank, prepend the shape of the lower rank array with 1s until both shapes have the same length.\n",
    "* The two arrays are said to be compatible in a dimension if they have the same size in the dimension, or if one of the arrays has size 1 in that dimension.\n",
    "* The arrays can be broadcast together if they are compatible in all dimensions.\n",
    "* After broadcasting, each array behaves as if it had shape equal to the elementwise maximum of shapes of the two input arrays.\n",
    "* In any dimension where one array had size 1 and the other array had size greater than 1, the first array behaves as if it were copied along that dimension."
   ]
  },
  {
   "cell_type": "markdown",
   "metadata": {},
   "source": [
    "So be careful with shapes..."
   ]
  },
  {
   "cell_type": "code",
   "execution_count": 89,
   "metadata": {},
   "outputs": [
    {
     "data": {
      "text/plain": [
       "array([[ 0,  3,  6,  9],\n",
       "       [ 1,  4,  7, 10],\n",
       "       [ 2,  5,  8, 11]])"
      ]
     },
     "execution_count": 89,
     "metadata": {},
     "output_type": "execute_result"
    }
   ],
   "source": [
    "y = x.T\n",
    "y"
   ]
  },
  {
   "cell_type": "code",
   "execution_count": 90,
   "metadata": {},
   "outputs": [
    {
     "name": "stdout",
     "output_type": "stream",
     "text": [
      "operands could not be broadcast together with shapes (3,4) (3,) \n"
     ]
    }
   ],
   "source": [
    "try:\n",
    "    y + v  # Add v to each column of y using broadcasting...?\n",
    "except ValueError as e:\n",
    "    print(e)\n",
    "except:\n",
    "    print(\"Unexpected error:\", sys.exc_info()[0])\n",
    "    raise"
   ]
  },
  {
   "cell_type": "markdown",
   "metadata": {},
   "source": [
    "And especially careful with vectors!"
   ]
  },
  {
   "cell_type": "code",
   "execution_count": 91,
   "metadata": {},
   "outputs": [
    {
     "name": "stdout",
     "output_type": "stream",
     "text": [
      "operands could not be broadcast together with shapes (3,4) (3,) \n"
     ]
    }
   ],
   "source": [
    "try:\n",
    "    y + v.T  # Add v to each column of y using broadcasting...?\n",
    "except ValueError as e:\n",
    "    print(e)\n",
    "except:\n",
    "    print(\"Unexpected error:\", sys.exc_info()[0])\n",
    "    raise"
   ]
  },
  {
   "cell_type": "code",
   "execution_count": 92,
   "metadata": {},
   "outputs": [
    {
     "data": {
      "text/plain": [
       "array([[ 1,  4,  7, 10],\n",
       "       [ 1,  4,  7, 10],\n",
       "       [ 3,  6,  9, 12]])"
      ]
     },
     "execution_count": 92,
     "metadata": {},
     "output_type": "execute_result"
    }
   ],
   "source": [
    "y + v.reshape((3, 1))  # Add v to each column of y using broadcasting!"
   ]
  },
  {
   "cell_type": "code",
   "execution_count": 93,
   "metadata": {},
   "outputs": [
    {
     "name": "stdout",
     "output_type": "stream",
     "text": [
      "x shape: (4, 3)\n",
      "v shape: (3,)\n",
      "y shape: (3, 4)\n"
     ]
    }
   ],
   "source": [
    "print('x shape:', x.shape)\n",
    "print('v shape:', v.shape)\n",
    "print('y shape:', y.shape)"
   ]
  },
  {
   "cell_type": "markdown",
   "metadata": {},
   "source": [
    "### `Moving Averages` NumPy\n",
    "Here's an example of moving average calculation with NumPy using the [`cumsum`](https://numpy.org/devdocs/reference/generated/numpy.cumsum.html) function. You may want to check the speed difference as compared to the methods that we designed previously using basic Python."
   ]
  },
  {
   "cell_type": "code",
   "execution_count": 184,
   "metadata": {
    "scrolled": true
   },
   "outputs": [
    {
     "data": {
      "text/plain": [
       "[0, 1, 2, 3, 4, 5, 6, 7, 8, 9]"
      ]
     },
     "execution_count": 184,
     "metadata": {},
     "output_type": "execute_result"
    }
   ],
   "source": [
    "import random\n",
    "a = list(range(10))\n",
    "a"
   ]
  },
  {
   "cell_type": "code",
   "execution_count": 185,
   "metadata": {},
   "outputs": [
    {
     "data": {
      "text/plain": [
       "array([ 0,  1,  3,  6, 10, 15, 21, 28, 36, 45])"
      ]
     },
     "execution_count": 185,
     "metadata": {},
     "output_type": "execute_result"
    }
   ],
   "source": [
    "np.cumsum(np.array(a))"
   ]
  },
  {
   "cell_type": "code",
   "execution_count": 186,
   "metadata": {},
   "outputs": [],
   "source": [
    "# Our previous moving average implementation using basic Python\n",
    "def moving_average(list_of_integers, N):\n",
    "    \n",
    "    result=[]\n",
    "    for idx, number in enumerate(list_of_integers):\n",
    "        \n",
    "        numbers = list_of_integers[:idx+1]\n",
    "        moving_numbers = numbers[-N:]\n",
    "        moving_mean = round(sum(moving_numbers)/(len(moving_numbers)), 4)\n",
    "        result.append(moving_mean)\n",
    "    \n",
    "    return result"
   ]
  },
  {
   "cell_type": "code",
   "execution_count": 187,
   "metadata": {},
   "outputs": [
    {
     "name": "stdout",
     "output_type": "stream",
     "text": [
      "8.69 µs ± 138 ns per loop (mean ± std. dev. of 7 runs, 100000 loops each)\n"
     ]
    }
   ],
   "source": [
    "%%timeit\n",
    "moving_average(a, 3)"
   ]
  },
  {
   "cell_type": "code",
   "execution_count": 188,
   "metadata": {},
   "outputs": [],
   "source": [
    "# Moving average using numpy and buil-in cumsum method\n",
    "def moving_average_np(a, n=3) :\n",
    "    ret = np.cumsum(a, dtype=float)\n",
    "    ret[n:] = ret[n:] - ret[:-n]\n",
    "    return ret[n - 1:] / n"
   ]
  },
  {
   "cell_type": "code",
   "execution_count": 189,
   "metadata": {},
   "outputs": [
    {
     "name": "stdout",
     "output_type": "stream",
     "text": [
      "12 µs ± 272 ns per loop (mean ± std. dev. of 7 runs, 100000 loops each)\n"
     ]
    }
   ],
   "source": [
    "%%timeit\n",
    "moving_average_np(a)"
   ]
  },
  {
   "cell_type": "markdown",
   "metadata": {},
   "source": [
    "This is slower than the original! Quite unexpected, but let's try doing the same with a larger amount of data (more operations to apply) to make sure this is the case all the time."
   ]
  },
  {
   "cell_type": "code",
   "execution_count": 196,
   "metadata": {},
   "outputs": [],
   "source": [
    "a = list(range(10000))"
   ]
  },
  {
   "cell_type": "code",
   "execution_count": 197,
   "metadata": {},
   "outputs": [
    {
     "name": "stdout",
     "output_type": "stream",
     "text": [
      "141 ms ± 1.88 ms per loop (mean ± std. dev. of 7 runs, 10 loops each)\n"
     ]
    }
   ],
   "source": [
    "%%timeit\n",
    "moving_average(a, 3)"
   ]
  },
  {
   "cell_type": "code",
   "execution_count": 198,
   "metadata": {},
   "outputs": [
    {
     "name": "stdout",
     "output_type": "stream",
     "text": [
      "711 µs ± 8.17 µs per loop (mean ± std. dev. of 7 runs, 1000 loops each)\n"
     ]
    }
   ],
   "source": [
    "%%timeit\n",
    "moving_average_np(a, 3)"
   ]
  },
  {
   "cell_type": "markdown",
   "metadata": {},
   "source": [
    "Well that's much better, `NumPy` version performs at tenfolds faster. And that's not everything, we have not converted our `a` into a `NumPy` array before performing the operation:"
   ]
  },
  {
   "cell_type": "code",
   "execution_count": 199,
   "metadata": {},
   "outputs": [],
   "source": [
    "a = np.array(a)"
   ]
  },
  {
   "cell_type": "code",
   "execution_count": 200,
   "metadata": {},
   "outputs": [
    {
     "name": "stdout",
     "output_type": "stream",
     "text": [
      "62.4 µs ± 1.34 µs per loop (mean ± std. dev. of 7 runs, 10000 loops each)\n"
     ]
    }
   ],
   "source": [
    "%%timeit\n",
    "moving_average_np(a, 3)"
   ]
  },
  {
   "cell_type": "markdown",
   "metadata": {},
   "source": [
    "And as a cherry on top, let's assume we have 50000 of aggregated customer order values ranging from 100 to 1000000 dollars cents (1 to 10000 dollars). What is more, let's say these numbers have deviate a lot throughout the time and that your team observed definite weekly trends within it. You decided to smoothen out the stats by taking a larger window for the moving averages (e.g., 7 days)."
   ]
  },
  {
   "cell_type": "code",
   "execution_count": 227,
   "metadata": {},
   "outputs": [],
   "source": [
    "a = random.sample(range(100, 1000000), 50000)"
   ]
  },
  {
   "cell_type": "code",
   "execution_count": 228,
   "metadata": {},
   "outputs": [
    {
     "name": "stdout",
     "output_type": "stream",
     "text": [
      "6.31 s ± 83 ms per loop (mean ± std. dev. of 7 runs, 1 loop each)\n"
     ]
    }
   ],
   "source": [
    "%%timeit\n",
    "moving_average(a, 7)"
   ]
  },
  {
   "cell_type": "code",
   "execution_count": 229,
   "metadata": {},
   "outputs": [
    {
     "ename": "UnboundLocalError",
     "evalue": "local variable 'a' referenced before assignment",
     "output_type": "error",
     "traceback": [
      "\u001b[0;31m---------------------------------------------------------------------------\u001b[0m",
      "\u001b[0;31mUnboundLocalError\u001b[0m                         Traceback (most recent call last)",
      "\u001b[0;32m<ipython-input-229-6dc313c27593>\u001b[0m in \u001b[0;36m<module>\u001b[0;34m\u001b[0m\n\u001b[0;32m----> 1\u001b[0;31m \u001b[0mget_ipython\u001b[0m\u001b[0;34m(\u001b[0m\u001b[0;34m)\u001b[0m\u001b[0;34m.\u001b[0m\u001b[0mrun_cell_magic\u001b[0m\u001b[0;34m(\u001b[0m\u001b[0;34m'timeit'\u001b[0m\u001b[0;34m,\u001b[0m \u001b[0;34m''\u001b[0m\u001b[0;34m,\u001b[0m \u001b[0;34m'a = np.array(a)\\nmoving_average_np(a, 7)\\n'\u001b[0m\u001b[0;34m)\u001b[0m\u001b[0;34m\u001b[0m\u001b[0;34m\u001b[0m\u001b[0m\n\u001b[0m",
      "\u001b[0;32m~/anaconda3/lib/python3.6/site-packages/IPython/core/interactiveshell.py\u001b[0m in \u001b[0;36mrun_cell_magic\u001b[0;34m(self, magic_name, line, cell)\u001b[0m\n\u001b[1;32m   2321\u001b[0m             \u001b[0mmagic_arg_s\u001b[0m \u001b[0;34m=\u001b[0m \u001b[0mself\u001b[0m\u001b[0;34m.\u001b[0m\u001b[0mvar_expand\u001b[0m\u001b[0;34m(\u001b[0m\u001b[0mline\u001b[0m\u001b[0;34m,\u001b[0m \u001b[0mstack_depth\u001b[0m\u001b[0;34m)\u001b[0m\u001b[0;34m\u001b[0m\u001b[0;34m\u001b[0m\u001b[0m\n\u001b[1;32m   2322\u001b[0m             \u001b[0;32mwith\u001b[0m \u001b[0mself\u001b[0m\u001b[0;34m.\u001b[0m\u001b[0mbuiltin_trap\u001b[0m\u001b[0;34m:\u001b[0m\u001b[0;34m\u001b[0m\u001b[0;34m\u001b[0m\u001b[0m\n\u001b[0;32m-> 2323\u001b[0;31m                 \u001b[0mresult\u001b[0m \u001b[0;34m=\u001b[0m \u001b[0mfn\u001b[0m\u001b[0;34m(\u001b[0m\u001b[0mmagic_arg_s\u001b[0m\u001b[0;34m,\u001b[0m \u001b[0mcell\u001b[0m\u001b[0;34m)\u001b[0m\u001b[0;34m\u001b[0m\u001b[0;34m\u001b[0m\u001b[0m\n\u001b[0m\u001b[1;32m   2324\u001b[0m             \u001b[0;32mreturn\u001b[0m \u001b[0mresult\u001b[0m\u001b[0;34m\u001b[0m\u001b[0;34m\u001b[0m\u001b[0m\n\u001b[1;32m   2325\u001b[0m \u001b[0;34m\u001b[0m\u001b[0m\n",
      "\u001b[0;32m<decorator-gen-61>\u001b[0m in \u001b[0;36mtimeit\u001b[0;34m(self, line, cell, local_ns)\u001b[0m\n",
      "\u001b[0;32m~/anaconda3/lib/python3.6/site-packages/IPython/core/magic.py\u001b[0m in \u001b[0;36m<lambda>\u001b[0;34m(f, *a, **k)\u001b[0m\n\u001b[1;32m    185\u001b[0m     \u001b[0;31m# but it's overkill for just that one bit of state.\u001b[0m\u001b[0;34m\u001b[0m\u001b[0;34m\u001b[0m\u001b[0;34m\u001b[0m\u001b[0m\n\u001b[1;32m    186\u001b[0m     \u001b[0;32mdef\u001b[0m \u001b[0mmagic_deco\u001b[0m\u001b[0;34m(\u001b[0m\u001b[0marg\u001b[0m\u001b[0;34m)\u001b[0m\u001b[0;34m:\u001b[0m\u001b[0;34m\u001b[0m\u001b[0;34m\u001b[0m\u001b[0m\n\u001b[0;32m--> 187\u001b[0;31m         \u001b[0mcall\u001b[0m \u001b[0;34m=\u001b[0m \u001b[0;32mlambda\u001b[0m \u001b[0mf\u001b[0m\u001b[0;34m,\u001b[0m \u001b[0;34m*\u001b[0m\u001b[0ma\u001b[0m\u001b[0;34m,\u001b[0m \u001b[0;34m**\u001b[0m\u001b[0mk\u001b[0m\u001b[0;34m:\u001b[0m \u001b[0mf\u001b[0m\u001b[0;34m(\u001b[0m\u001b[0;34m*\u001b[0m\u001b[0ma\u001b[0m\u001b[0;34m,\u001b[0m \u001b[0;34m**\u001b[0m\u001b[0mk\u001b[0m\u001b[0;34m)\u001b[0m\u001b[0;34m\u001b[0m\u001b[0;34m\u001b[0m\u001b[0m\n\u001b[0m\u001b[1;32m    188\u001b[0m \u001b[0;34m\u001b[0m\u001b[0m\n\u001b[1;32m    189\u001b[0m         \u001b[0;32mif\u001b[0m \u001b[0mcallable\u001b[0m\u001b[0;34m(\u001b[0m\u001b[0marg\u001b[0m\u001b[0;34m)\u001b[0m\u001b[0;34m:\u001b[0m\u001b[0;34m\u001b[0m\u001b[0;34m\u001b[0m\u001b[0m\n",
      "\u001b[0;32m~/anaconda3/lib/python3.6/site-packages/IPython/core/magics/execution.py\u001b[0m in \u001b[0;36mtimeit\u001b[0;34m(self, line, cell, local_ns)\u001b[0m\n\u001b[1;32m   1129\u001b[0m             \u001b[0;32mfor\u001b[0m \u001b[0mindex\u001b[0m \u001b[0;32min\u001b[0m \u001b[0mrange\u001b[0m\u001b[0;34m(\u001b[0m\u001b[0;36m0\u001b[0m\u001b[0;34m,\u001b[0m \u001b[0;36m10\u001b[0m\u001b[0;34m)\u001b[0m\u001b[0;34m:\u001b[0m\u001b[0;34m\u001b[0m\u001b[0;34m\u001b[0m\u001b[0m\n\u001b[1;32m   1130\u001b[0m                 \u001b[0mnumber\u001b[0m \u001b[0;34m=\u001b[0m \u001b[0;36m10\u001b[0m \u001b[0;34m**\u001b[0m \u001b[0mindex\u001b[0m\u001b[0;34m\u001b[0m\u001b[0;34m\u001b[0m\u001b[0m\n\u001b[0;32m-> 1131\u001b[0;31m                 \u001b[0mtime_number\u001b[0m \u001b[0;34m=\u001b[0m \u001b[0mtimer\u001b[0m\u001b[0;34m.\u001b[0m\u001b[0mtimeit\u001b[0m\u001b[0;34m(\u001b[0m\u001b[0mnumber\u001b[0m\u001b[0;34m)\u001b[0m\u001b[0;34m\u001b[0m\u001b[0;34m\u001b[0m\u001b[0m\n\u001b[0m\u001b[1;32m   1132\u001b[0m                 \u001b[0;32mif\u001b[0m \u001b[0mtime_number\u001b[0m \u001b[0;34m>=\u001b[0m \u001b[0;36m0.2\u001b[0m\u001b[0;34m:\u001b[0m\u001b[0;34m\u001b[0m\u001b[0;34m\u001b[0m\u001b[0m\n\u001b[1;32m   1133\u001b[0m                     \u001b[0;32mbreak\u001b[0m\u001b[0;34m\u001b[0m\u001b[0;34m\u001b[0m\u001b[0m\n",
      "\u001b[0;32m~/anaconda3/lib/python3.6/site-packages/IPython/core/magics/execution.py\u001b[0m in \u001b[0;36mtimeit\u001b[0;34m(self, number)\u001b[0m\n\u001b[1;32m    158\u001b[0m         \u001b[0mgc\u001b[0m\u001b[0;34m.\u001b[0m\u001b[0mdisable\u001b[0m\u001b[0;34m(\u001b[0m\u001b[0;34m)\u001b[0m\u001b[0;34m\u001b[0m\u001b[0;34m\u001b[0m\u001b[0m\n\u001b[1;32m    159\u001b[0m         \u001b[0;32mtry\u001b[0m\u001b[0;34m:\u001b[0m\u001b[0;34m\u001b[0m\u001b[0;34m\u001b[0m\u001b[0m\n\u001b[0;32m--> 160\u001b[0;31m             \u001b[0mtiming\u001b[0m \u001b[0;34m=\u001b[0m \u001b[0mself\u001b[0m\u001b[0;34m.\u001b[0m\u001b[0minner\u001b[0m\u001b[0;34m(\u001b[0m\u001b[0mit\u001b[0m\u001b[0;34m,\u001b[0m \u001b[0mself\u001b[0m\u001b[0;34m.\u001b[0m\u001b[0mtimer\u001b[0m\u001b[0;34m)\u001b[0m\u001b[0;34m\u001b[0m\u001b[0;34m\u001b[0m\u001b[0m\n\u001b[0m\u001b[1;32m    161\u001b[0m         \u001b[0;32mfinally\u001b[0m\u001b[0;34m:\u001b[0m\u001b[0;34m\u001b[0m\u001b[0;34m\u001b[0m\u001b[0m\n\u001b[1;32m    162\u001b[0m             \u001b[0;32mif\u001b[0m \u001b[0mgcold\u001b[0m\u001b[0;34m:\u001b[0m\u001b[0;34m\u001b[0m\u001b[0;34m\u001b[0m\u001b[0m\n",
      "\u001b[0;32m<magic-timeit>\u001b[0m in \u001b[0;36minner\u001b[0;34m(_it, _timer)\u001b[0m\n",
      "\u001b[0;31mUnboundLocalError\u001b[0m: local variable 'a' referenced before assignment"
     ]
    }
   ],
   "source": [
    "%%timeit\n",
    "a = np.array(a)\n",
    "moving_average_np(a, 7)"
   ]
  },
  {
   "cell_type": "code",
   "execution_count": null,
   "metadata": {},
   "outputs": [],
   "source": []
  },
  {
   "cell_type": "markdown",
   "metadata": {},
   "source": [
    "____________________\n",
    "# `Exercises`\n",
    "Complete the following short exercises to yet again test your understanding of simple Numpy functions and objects.\n",
    "\n",
    "Feel free to use the official [documentation](http://docs.scipy.org/doc/) should you need it, and don't worry if you need to google some of the solutions (after all, that's a big part of any programmer's work)."
   ]
  },
  {
   "cell_type": "markdown",
   "metadata": {},
   "source": [
    "#### ========== Question 1 ==========\n",
    "Print your numpy version and configuration."
   ]
  },
  {
   "cell_type": "code",
   "execution_count": null,
   "metadata": {},
   "outputs": [],
   "source": [
    "# Your code goes here\n",
    "print(np.__version__)\n",
    "np.show_config()"
   ]
  },
  {
   "cell_type": "markdown",
   "metadata": {},
   "source": [
    "#### ========== Question 2 ==========\n",
    "Create a zero vector of size 5."
   ]
  },
  {
   "cell_type": "code",
   "execution_count": 100,
   "metadata": {},
   "outputs": [
    {
     "data": {
      "text/plain": [
       "array([0., 0., 0., 0., 0.])"
      ]
     },
     "execution_count": 100,
     "metadata": {},
     "output_type": "execute_result"
    }
   ],
   "source": [
    "# Your code goes here\n",
    "np.zeros(5)"
   ]
  },
  {
   "cell_type": "markdown",
   "metadata": {},
   "source": [
    "#### ========== Question 3 ==========\n",
    "Create a zero vector of size 5 of type integer. Set the third element to 1."
   ]
  },
  {
   "cell_type": "code",
   "execution_count": 101,
   "metadata": {},
   "outputs": [
    {
     "data": {
      "text/plain": [
       "array([0, 0, 1, 0, 0])"
      ]
     },
     "execution_count": 101,
     "metadata": {},
     "output_type": "execute_result"
    }
   ],
   "source": [
    "# Your code goes here\n",
    "a = np.zeros(5, dtype=int)\n",
    "a[2] = 1\n",
    "a"
   ]
  },
  {
   "cell_type": "markdown",
   "metadata": {},
   "source": [
    "#### ========== Question 4 ==========\n",
    "Create a vector ranging from 0 to 9. "
   ]
  },
  {
   "cell_type": "code",
   "execution_count": 102,
   "metadata": {},
   "outputs": [
    {
     "data": {
      "text/plain": [
       "array([0, 1, 2, 3, 4, 5, 6, 7, 8, 9])"
      ]
     },
     "execution_count": 102,
     "metadata": {},
     "output_type": "execute_result"
    }
   ],
   "source": [
    "# Your code goes here\n",
    "np.arange(10)"
   ]
  },
  {
   "cell_type": "markdown",
   "metadata": {},
   "source": [
    "#### ========== Question 5 ==========\n",
    "Create a vector ranging from 10 to 29."
   ]
  },
  {
   "cell_type": "code",
   "execution_count": 103,
   "metadata": {},
   "outputs": [
    {
     "data": {
      "text/plain": [
       "array([10, 11, 12, 13, 14, 15, 16, 17, 18, 19, 20, 21, 22, 23, 24, 25, 26,\n",
       "       27, 28, 29])"
      ]
     },
     "execution_count": 103,
     "metadata": {},
     "output_type": "execute_result"
    }
   ],
   "source": [
    "# Your code goes here\n",
    "np.arange(10, 30)"
   ]
  },
  {
   "cell_type": "markdown",
   "metadata": {},
   "source": [
    "#### ========== Question 6 ==========\n",
    "Create a vector ranging from 0 to 9 and reverse it."
   ]
  },
  {
   "cell_type": "code",
   "execution_count": 104,
   "metadata": {},
   "outputs": [
    {
     "data": {
      "text/plain": [
       "array([9, 8, 7, 6, 5, 4, 3, 2, 1, 0])"
      ]
     },
     "execution_count": 104,
     "metadata": {},
     "output_type": "execute_result"
    }
   ],
   "source": [
    "# Your code goes here\n",
    "np.arange(0, 10)[::-1]"
   ]
  },
  {
   "cell_type": "markdown",
   "metadata": {},
   "source": [
    "#### ========== Question 7 ==========\n",
    "Create a 5 x 3 zero matrix."
   ]
  },
  {
   "cell_type": "code",
   "execution_count": 105,
   "metadata": {},
   "outputs": [
    {
     "data": {
      "text/plain": [
       "array([[0., 0., 0.],\n",
       "       [0., 0., 0.],\n",
       "       [0., 0., 0.],\n",
       "       [0., 0., 0.],\n",
       "       [0., 0., 0.]])"
      ]
     },
     "execution_count": 105,
     "metadata": {},
     "output_type": "execute_result"
    }
   ],
   "source": [
    "# Your code goes here\n",
    "np.zeros((5, 3))"
   ]
  },
  {
   "cell_type": "markdown",
   "metadata": {},
   "source": [
    "#### ========== Question 8 ==========\n",
    "Create this matrix...without copy pasting it ;)\n",
    "```\n",
    "array([[0, 3, 6],\n",
    "       [1, 4, 7],\n",
    "       [2, 5, 8]])\n",
    "```"
   ]
  },
  {
   "cell_type": "code",
   "execution_count": 106,
   "metadata": {},
   "outputs": [
    {
     "data": {
      "text/plain": [
       "array([[0, 3, 6],\n",
       "       [1, 4, 7],\n",
       "       [2, 5, 8]])"
      ]
     },
     "execution_count": 106,
     "metadata": {},
     "output_type": "execute_result"
    }
   ],
   "source": [
    "# Your code goes here\n",
    "a = np.arange(9).reshape(3,3)\n",
    "a.T"
   ]
  },
  {
   "cell_type": "markdown",
   "metadata": {},
   "source": [
    "#### ========== Question 9 ==========\n",
    "Create a 3 X 3 identity matrix."
   ]
  },
  {
   "cell_type": "code",
   "execution_count": 107,
   "metadata": {},
   "outputs": [
    {
     "data": {
      "text/plain": [
       "array([[1., 0., 0.],\n",
       "       [0., 1., 0.],\n",
       "       [0., 0., 1.]])"
      ]
     },
     "execution_count": 107,
     "metadata": {},
     "output_type": "execute_result"
    }
   ],
   "source": [
    "# Your code goes here\n",
    "np.eye(3)"
   ]
  },
  {
   "cell_type": "markdown",
   "metadata": {},
   "source": [
    "#### ========== Question 10 ==========\n",
    "Create a 2 X 2 X 2 array with random values (drawn from a normal distribution)."
   ]
  },
  {
   "cell_type": "code",
   "execution_count": 108,
   "metadata": {},
   "outputs": [
    {
     "data": {
      "text/plain": [
       "array([[[ 0.54135978, -0.96034829],\n",
       "        [ 1.40216585, -0.51139627]],\n",
       "\n",
       "       [[ 2.29801045, -0.23344737],\n",
       "        [-1.57633064, -1.56231475]]])"
      ]
     },
     "execution_count": 108,
     "metadata": {},
     "output_type": "execute_result"
    }
   ],
   "source": [
    "# Your code goes here\n",
    "np.random.randn(2, 2, 2)"
   ]
  },
  {
   "cell_type": "markdown",
   "metadata": {},
   "source": [
    "#### ========== Question 11a ==========\n",
    "Create a 5 x 4 array with random values and find the minimum and maximum values."
   ]
  },
  {
   "cell_type": "code",
   "execution_count": 109,
   "metadata": {},
   "outputs": [
    {
     "name": "stdout",
     "output_type": "stream",
     "text": [
      "[[ 0.41332998  0.17164767  0.7439867  -0.25007344]\n",
      " [-0.68904552 -0.81781829  1.6323549  -0.60266574]\n",
      " [-0.10519097  0.63381727  0.43157111  0.15112892]\n",
      " [ 0.52944019  0.99234884 -0.53288773  0.67670163]\n",
      " [ 0.90976072  0.21435408  0.03001567 -0.43312689]]\n",
      "Minimum:  -0.8178182948037126\n",
      "Maximum:  1.6323549022582324\n"
     ]
    }
   ],
   "source": [
    "# Your code goes here\n",
    "a = np.random.randn(5, 4)\n",
    "print(a)\n",
    "print(\"Minimum: \", np.min(a))\n",
    "print(\"Maximum: \", np.max(a))"
   ]
  },
  {
   "cell_type": "markdown",
   "metadata": {},
   "source": [
    "#### ========== Question 11b ==========\n",
    "Return the *index* (i.e. the location within the matrix) of the max or min values"
   ]
  },
  {
   "cell_type": "code",
   "execution_count": 110,
   "metadata": {},
   "outputs": [],
   "source": [
    "# Your code goes here\n",
    "idx = a.argmax()    # or...\n",
    "idx = np.argmax(a)  # ...are acceptable...but a[idx] would fail"
   ]
  },
  {
   "cell_type": "code",
   "execution_count": 111,
   "metadata": {},
   "outputs": [
    {
     "data": {
      "text/plain": [
       "(array([1]), array([2]))"
      ]
     },
     "execution_count": 111,
     "metadata": {},
     "output_type": "execute_result"
    }
   ],
   "source": [
    "np.where(a == a.max())  # is also fine"
   ]
  },
  {
   "cell_type": "markdown",
   "metadata": {},
   "source": [
    "#### ========== Question 12 ==========\n",
    "Find the mean value of the array in 11."
   ]
  },
  {
   "cell_type": "code",
   "execution_count": 112,
   "metadata": {},
   "outputs": [
    {
     "data": {
      "text/plain": [
       "0.20498245317661615"
      ]
     },
     "execution_count": 112,
     "metadata": {},
     "output_type": "execute_result"
    }
   ],
   "source": [
    "# Your code goes here\n",
    "np.mean(a)"
   ]
  },
  {
   "cell_type": "markdown",
   "metadata": {},
   "source": [
    "#### ========== Question 13 ==========\n",
    "Find the row means of the array in 11."
   ]
  },
  {
   "cell_type": "code",
   "execution_count": 113,
   "metadata": {},
   "outputs": [
    {
     "data": {
      "text/plain": [
       "array([ 0.26972273, -0.11929366,  0.27783158,  0.41640073,  0.18025089])"
      ]
     },
     "execution_count": 113,
     "metadata": {},
     "output_type": "execute_result"
    }
   ],
   "source": [
    "# Your code goes here\n",
    "np.mean(a, axis=1)"
   ]
  },
  {
   "cell_type": "markdown",
   "metadata": {},
   "source": [
    "#### ========== Question 14 ==========\n",
    "Find the column means of the array in 11."
   ]
  },
  {
   "cell_type": "code",
   "execution_count": 114,
   "metadata": {},
   "outputs": [
    {
     "data": {
      "text/plain": [
       "array([ 0.21165888,  0.23886991,  0.46100813, -0.09160711])"
      ]
     },
     "execution_count": 114,
     "metadata": {},
     "output_type": "execute_result"
    }
   ],
   "source": [
    "# Your code goes here\n",
    "np.mean(a, axis=0)"
   ]
  },
  {
   "cell_type": "markdown",
   "metadata": {},
   "source": [
    "#### ========== Question 15 ==========\n",
    "Create a list with elements 2.2, 3.5, 0, 4, 0. and convert into numpy array. Find the indices of non-zero elements."
   ]
  },
  {
   "cell_type": "code",
   "execution_count": 115,
   "metadata": {},
   "outputs": [
    {
     "data": {
      "text/plain": [
       "(array([0, 1, 3]),)"
      ]
     },
     "execution_count": 115,
     "metadata": {},
     "output_type": "execute_result"
    }
   ],
   "source": [
    "# Your code goes here\n",
    "a = [2.2, 3.5, 0, 4, 0.]\n",
    "a = np.asarray(a)  # or np.array(a)\n",
    "np.nonzero(a)"
   ]
  },
  {
   "cell_type": "markdown",
   "metadata": {},
   "source": [
    "#### ========== Question 16 ==========\n",
    "Crate two normally distributed random matrices of shape (5, 4) and (4, 2). Print their matrix product."
   ]
  },
  {
   "cell_type": "code",
   "execution_count": 116,
   "metadata": {},
   "outputs": [
    {
     "data": {
      "text/plain": [
       "array([[ 0.69909726,  0.7749913 ],\n",
       "       [-3.10822756, -1.84611092],\n",
       "       [ 0.97890069,  0.82635873],\n",
       "       [ 2.12451019,  1.77801163],\n",
       "       [ 0.12598412, -1.34357738]])"
      ]
     },
     "execution_count": 116,
     "metadata": {},
     "output_type": "execute_result"
    }
   ],
   "source": [
    "# Your code goes here\n",
    "a = np.random.randn(5, 4)\n",
    "b = np.random.randn(4, 2)\n",
    "np.dot(a,b)"
   ]
  },
  {
   "cell_type": "markdown",
   "metadata": {},
   "source": [
    "#### ========== Question 17 ==========\n",
    "Crate a random matrix of shape (5, 3) and a random vector of size 3. Use broadcasting to add the two arrays."
   ]
  },
  {
   "cell_type": "code",
   "execution_count": 117,
   "metadata": {},
   "outputs": [
    {
     "data": {
      "text/plain": [
       "array([[-3.45406079,  0.04060532,  0.10972098],\n",
       "       [-3.32253751,  1.35125513,  0.0786007 ],\n",
       "       [-1.95996924,  1.38198164,  0.05889254],\n",
       "       [-2.31669378,  1.80981971,  0.08496361],\n",
       "       [-3.61449738, -1.05922466, -0.7984033 ]])"
      ]
     },
     "execution_count": 117,
     "metadata": {},
     "output_type": "execute_result"
    }
   ],
   "source": [
    "# Your code goes here\n",
    "a = np.random.randn(5, 3)\n",
    "b = np.random.randn(3)\n",
    "a + b"
   ]
  },
  {
   "cell_type": "markdown",
   "metadata": {},
   "source": [
    "_________\n",
    "# Endnote & Additional References\n",
    "_____________\n",
    "This brief introduction has touched upon most of the important things that you ought to know about NumPy -  a fundamental tool for anyone interested in doing scientific computing in Python. \n",
    "\n",
    "However, it offers many more additional operations as optimized computations on multidimensional arrays, so should you want more info or practice, check out the complete [NumPy reference](https://docs.scipy.org/doc/numpy-1.13.0/reference/) as well as the following links:\n",
    "\n",
    "- [The SciPy NumPy tutorial](http://www.scipy-lectures.org/intro/numpy/index.html)\n",
    "- [100 Exercises with solutions in Numpy](http://www.labri.fr/perso/nrougier/teaching/numpy.100/)\n",
    "\n",
    "For a visual introduction to Linear Algebra:\n",
    "- [Essence of Linear Algebra](https://www.youtube.com/watch?v=kjBOesZCoqc)"
   ]
  },
  {
   "cell_type": "code",
   "execution_count": null,
   "metadata": {},
   "outputs": [],
   "source": []
  }
 ],
 "metadata": {
  "anaconda-cloud": {},
  "kernelspec": {
   "display_name": "Python 3",
   "language": "python",
   "name": "python3"
  },
  "language_info": {
   "codemirror_mode": {
    "name": "ipython",
    "version": 3
   },
   "file_extension": ".py",
   "mimetype": "text/x-python",
   "name": "python",
   "nbconvert_exporter": "python",
   "pygments_lexer": "ipython3",
   "version": "3.7.2"
  }
 },
 "nbformat": 4,
 "nbformat_minor": 1
}
